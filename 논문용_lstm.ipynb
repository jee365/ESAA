{
  "nbformat": 4,
  "nbformat_minor": 0,
  "metadata": {
    "colab": {
      "name": "논문용.ipynb",
      "provenance": [],
      "authorship_tag": "ABX9TyM7oXsb8IOlC+cWzYmvMWZu",
      "include_colab_link": true
    },
    "kernelspec": {
      "name": "python3",
      "display_name": "Python 3"
    },
    "language_info": {
      "name": "python"
    }
  },
  "cells": [
    {
      "cell_type": "markdown",
      "metadata": {
        "id": "view-in-github",
        "colab_type": "text"
      },
      "source": [
        "<a href=\"https://colab.research.google.com/github/jee365/ESAA/blob/main/%EB%85%BC%EB%AC%B8%EC%9A%A9_lstm.ipynb\" target=\"_parent\"><img src=\"https://colab.research.google.com/assets/colab-badge.svg\" alt=\"Open In Colab\"/></a>"
      ]
    },
    {
      "cell_type": "code",
      "execution_count": null,
      "metadata": {
        "colab": {
          "base_uri": "https://localhost:8080/"
        },
        "id": "JOCkalb_ZA9D",
        "outputId": "64b4817d-f5c6-4fd3-b89d-bf295d797699"
      },
      "outputs": [
        {
          "output_type": "stream",
          "name": "stdout",
          "text": [
            "Drive already mounted at /content/gdrive; to attempt to forcibly remount, call drive.mount(\"/content/gdrive\", force_remount=True).\n"
          ]
        }
      ],
      "source": [
        "from google.colab import drive\n",
        "drive.mount('/content/gdrive')"
      ]
    },
    {
      "cell_type": "code",
      "source": [
        "import numpy as np\n",
        "import pandas as pd\n",
        "\n",
        "mydata = pd.read_csv('/content/gdrive/MyDrive/Colab Notebooks/final cement.csv')"
      ],
      "metadata": {
        "id": "ziyp7uMoZRCJ"
      },
      "execution_count": null,
      "outputs": []
    },
    {
      "cell_type": "code",
      "source": [
        "mydata['date_dt'] = pd.to_datetime(mydata['Date'])\n",
        "mydata['year']=mydata['date_dt'].dt.year\n",
        "mydata['month']=mydata['date_dt'].dt.month\n",
        "mydata = mydata[:448]\n",
        "\n",
        "mydata"
      ],
      "metadata": {
        "colab": {
          "base_uri": "https://localhost:8080/",
          "height": 423
        },
        "id": "_mKTdREtZQ9r",
        "outputId": "a1a30baa-cf5c-4705-8188-4952e7125216"
      },
      "execution_count": null,
      "outputs": [
        {
          "output_type": "execute_result",
          "data": {
            "text/plain": [
              "           Date     시멘트     레미콘 시멘트 등락률 레미콘 등락률    date_dt    year  month\n",
              "0    1985-01-01   49.67   46.32       -       - 1985-01-01  1985.0    1.0\n",
              "1    1985-02-01   49.67   46.32   0.00%   0.00% 1985-02-01  1985.0    2.0\n",
              "2    1985-03-01   49.67   46.32   0.00%   0.00% 1985-03-01  1985.0    3.0\n",
              "3    1985-04-01   49.67   46.32   0.00%   0.00% 1985-04-01  1985.0    4.0\n",
              "4    1985-05-01   49.67   46.32   0.00%   0.00% 1985-05-01  1985.0    5.0\n",
              "..          ...     ...     ...     ...     ...        ...     ...    ...\n",
              "443  2021-12-01  110.52  104.22   0.27%   0.25% 2021-12-01  2021.0   12.0\n",
              "444  2022-01-01  110.52  104.78   0.00%   0.54% 2022-01-01  2022.0    1.0\n",
              "445  2022-02-01  114.28  104.22   3.40%  -0.53% 2022-02-01  2022.0    2.0\n",
              "446  2022-03-01  125.21  106.55   9.56%   2.24% 2022-03-01  2022.0    3.0\n",
              "447  2022-04-01  125.23  106.55   0.02%   0.00% 2022-04-01  2022.0    4.0\n",
              "\n",
              "[448 rows x 8 columns]"
            ],
            "text/html": [
              "\n",
              "  <div id=\"df-6424bea5-56e4-4111-85ea-4867ba30065a\">\n",
              "    <div class=\"colab-df-container\">\n",
              "      <div>\n",
              "<style scoped>\n",
              "    .dataframe tbody tr th:only-of-type {\n",
              "        vertical-align: middle;\n",
              "    }\n",
              "\n",
              "    .dataframe tbody tr th {\n",
              "        vertical-align: top;\n",
              "    }\n",
              "\n",
              "    .dataframe thead th {\n",
              "        text-align: right;\n",
              "    }\n",
              "</style>\n",
              "<table border=\"1\" class=\"dataframe\">\n",
              "  <thead>\n",
              "    <tr style=\"text-align: right;\">\n",
              "      <th></th>\n",
              "      <th>Date</th>\n",
              "      <th>시멘트</th>\n",
              "      <th>레미콘</th>\n",
              "      <th>시멘트 등락률</th>\n",
              "      <th>레미콘 등락률</th>\n",
              "      <th>date_dt</th>\n",
              "      <th>year</th>\n",
              "      <th>month</th>\n",
              "    </tr>\n",
              "  </thead>\n",
              "  <tbody>\n",
              "    <tr>\n",
              "      <th>0</th>\n",
              "      <td>1985-01-01</td>\n",
              "      <td>49.67</td>\n",
              "      <td>46.32</td>\n",
              "      <td>-</td>\n",
              "      <td>-</td>\n",
              "      <td>1985-01-01</td>\n",
              "      <td>1985.0</td>\n",
              "      <td>1.0</td>\n",
              "    </tr>\n",
              "    <tr>\n",
              "      <th>1</th>\n",
              "      <td>1985-02-01</td>\n",
              "      <td>49.67</td>\n",
              "      <td>46.32</td>\n",
              "      <td>0.00%</td>\n",
              "      <td>0.00%</td>\n",
              "      <td>1985-02-01</td>\n",
              "      <td>1985.0</td>\n",
              "      <td>2.0</td>\n",
              "    </tr>\n",
              "    <tr>\n",
              "      <th>2</th>\n",
              "      <td>1985-03-01</td>\n",
              "      <td>49.67</td>\n",
              "      <td>46.32</td>\n",
              "      <td>0.00%</td>\n",
              "      <td>0.00%</td>\n",
              "      <td>1985-03-01</td>\n",
              "      <td>1985.0</td>\n",
              "      <td>3.0</td>\n",
              "    </tr>\n",
              "    <tr>\n",
              "      <th>3</th>\n",
              "      <td>1985-04-01</td>\n",
              "      <td>49.67</td>\n",
              "      <td>46.32</td>\n",
              "      <td>0.00%</td>\n",
              "      <td>0.00%</td>\n",
              "      <td>1985-04-01</td>\n",
              "      <td>1985.0</td>\n",
              "      <td>4.0</td>\n",
              "    </tr>\n",
              "    <tr>\n",
              "      <th>4</th>\n",
              "      <td>1985-05-01</td>\n",
              "      <td>49.67</td>\n",
              "      <td>46.32</td>\n",
              "      <td>0.00%</td>\n",
              "      <td>0.00%</td>\n",
              "      <td>1985-05-01</td>\n",
              "      <td>1985.0</td>\n",
              "      <td>5.0</td>\n",
              "    </tr>\n",
              "    <tr>\n",
              "      <th>...</th>\n",
              "      <td>...</td>\n",
              "      <td>...</td>\n",
              "      <td>...</td>\n",
              "      <td>...</td>\n",
              "      <td>...</td>\n",
              "      <td>...</td>\n",
              "      <td>...</td>\n",
              "      <td>...</td>\n",
              "    </tr>\n",
              "    <tr>\n",
              "      <th>443</th>\n",
              "      <td>2021-12-01</td>\n",
              "      <td>110.52</td>\n",
              "      <td>104.22</td>\n",
              "      <td>0.27%</td>\n",
              "      <td>0.25%</td>\n",
              "      <td>2021-12-01</td>\n",
              "      <td>2021.0</td>\n",
              "      <td>12.0</td>\n",
              "    </tr>\n",
              "    <tr>\n",
              "      <th>444</th>\n",
              "      <td>2022-01-01</td>\n",
              "      <td>110.52</td>\n",
              "      <td>104.78</td>\n",
              "      <td>0.00%</td>\n",
              "      <td>0.54%</td>\n",
              "      <td>2022-01-01</td>\n",
              "      <td>2022.0</td>\n",
              "      <td>1.0</td>\n",
              "    </tr>\n",
              "    <tr>\n",
              "      <th>445</th>\n",
              "      <td>2022-02-01</td>\n",
              "      <td>114.28</td>\n",
              "      <td>104.22</td>\n",
              "      <td>3.40%</td>\n",
              "      <td>-0.53%</td>\n",
              "      <td>2022-02-01</td>\n",
              "      <td>2022.0</td>\n",
              "      <td>2.0</td>\n",
              "    </tr>\n",
              "    <tr>\n",
              "      <th>446</th>\n",
              "      <td>2022-03-01</td>\n",
              "      <td>125.21</td>\n",
              "      <td>106.55</td>\n",
              "      <td>9.56%</td>\n",
              "      <td>2.24%</td>\n",
              "      <td>2022-03-01</td>\n",
              "      <td>2022.0</td>\n",
              "      <td>3.0</td>\n",
              "    </tr>\n",
              "    <tr>\n",
              "      <th>447</th>\n",
              "      <td>2022-04-01</td>\n",
              "      <td>125.23</td>\n",
              "      <td>106.55</td>\n",
              "      <td>0.02%</td>\n",
              "      <td>0.00%</td>\n",
              "      <td>2022-04-01</td>\n",
              "      <td>2022.0</td>\n",
              "      <td>4.0</td>\n",
              "    </tr>\n",
              "  </tbody>\n",
              "</table>\n",
              "<p>448 rows × 8 columns</p>\n",
              "</div>\n",
              "      <button class=\"colab-df-convert\" onclick=\"convertToInteractive('df-6424bea5-56e4-4111-85ea-4867ba30065a')\"\n",
              "              title=\"Convert this dataframe to an interactive table.\"\n",
              "              style=\"display:none;\">\n",
              "        \n",
              "  <svg xmlns=\"http://www.w3.org/2000/svg\" height=\"24px\"viewBox=\"0 0 24 24\"\n",
              "       width=\"24px\">\n",
              "    <path d=\"M0 0h24v24H0V0z\" fill=\"none\"/>\n",
              "    <path d=\"M18.56 5.44l.94 2.06.94-2.06 2.06-.94-2.06-.94-.94-2.06-.94 2.06-2.06.94zm-11 1L8.5 8.5l.94-2.06 2.06-.94-2.06-.94L8.5 2.5l-.94 2.06-2.06.94zm10 10l.94 2.06.94-2.06 2.06-.94-2.06-.94-.94-2.06-.94 2.06-2.06.94z\"/><path d=\"M17.41 7.96l-1.37-1.37c-.4-.4-.92-.59-1.43-.59-.52 0-1.04.2-1.43.59L10.3 9.45l-7.72 7.72c-.78.78-.78 2.05 0 2.83L4 21.41c.39.39.9.59 1.41.59.51 0 1.02-.2 1.41-.59l7.78-7.78 2.81-2.81c.8-.78.8-2.07 0-2.86zM5.41 20L4 18.59l7.72-7.72 1.47 1.35L5.41 20z\"/>\n",
              "  </svg>\n",
              "      </button>\n",
              "      \n",
              "  <style>\n",
              "    .colab-df-container {\n",
              "      display:flex;\n",
              "      flex-wrap:wrap;\n",
              "      gap: 12px;\n",
              "    }\n",
              "\n",
              "    .colab-df-convert {\n",
              "      background-color: #E8F0FE;\n",
              "      border: none;\n",
              "      border-radius: 50%;\n",
              "      cursor: pointer;\n",
              "      display: none;\n",
              "      fill: #1967D2;\n",
              "      height: 32px;\n",
              "      padding: 0 0 0 0;\n",
              "      width: 32px;\n",
              "    }\n",
              "\n",
              "    .colab-df-convert:hover {\n",
              "      background-color: #E2EBFA;\n",
              "      box-shadow: 0px 1px 2px rgba(60, 64, 67, 0.3), 0px 1px 3px 1px rgba(60, 64, 67, 0.15);\n",
              "      fill: #174EA6;\n",
              "    }\n",
              "\n",
              "    [theme=dark] .colab-df-convert {\n",
              "      background-color: #3B4455;\n",
              "      fill: #D2E3FC;\n",
              "    }\n",
              "\n",
              "    [theme=dark] .colab-df-convert:hover {\n",
              "      background-color: #434B5C;\n",
              "      box-shadow: 0px 1px 3px 1px rgba(0, 0, 0, 0.15);\n",
              "      filter: drop-shadow(0px 1px 2px rgba(0, 0, 0, 0.3));\n",
              "      fill: #FFFFFF;\n",
              "    }\n",
              "  </style>\n",
              "\n",
              "      <script>\n",
              "        const buttonEl =\n",
              "          document.querySelector('#df-6424bea5-56e4-4111-85ea-4867ba30065a button.colab-df-convert');\n",
              "        buttonEl.style.display =\n",
              "          google.colab.kernel.accessAllowed ? 'block' : 'none';\n",
              "\n",
              "        async function convertToInteractive(key) {\n",
              "          const element = document.querySelector('#df-6424bea5-56e4-4111-85ea-4867ba30065a');\n",
              "          const dataTable =\n",
              "            await google.colab.kernel.invokeFunction('convertToInteractive',\n",
              "                                                     [key], {});\n",
              "          if (!dataTable) return;\n",
              "\n",
              "          const docLinkHtml = 'Like what you see? Visit the ' +\n",
              "            '<a target=\"_blank\" href=https://colab.research.google.com/notebooks/data_table.ipynb>data table notebook</a>'\n",
              "            + ' to learn more about interactive tables.';\n",
              "          element.innerHTML = '';\n",
              "          dataTable['output_type'] = 'display_data';\n",
              "          await google.colab.output.renderOutput(dataTable, element);\n",
              "          const docLink = document.createElement('div');\n",
              "          docLink.innerHTML = docLinkHtml;\n",
              "          element.appendChild(docLink);\n",
              "        }\n",
              "      </script>\n",
              "    </div>\n",
              "  </div>\n",
              "  "
            ]
          },
          "metadata": {},
          "execution_count": 223
        }
      ]
    },
    {
      "cell_type": "code",
      "source": [
        "import math\n",
        "import matplotlib.pyplot as plt\n",
        "import keras\n",
        "import pandas as pd\n",
        "import numpy as np\n",
        "from keras.models import Sequential\n",
        "from keras.layers import Dense\n",
        "from keras.layers import LSTM\n",
        "from keras.layers import Dropout\n",
        "from keras.layers import *\n",
        "from sklearn.preprocessing import MinMaxScaler\n",
        "from sklearn.metrics import mean_squared_error\n",
        "from sklearn.metrics import mean_absolute_error\n",
        "from sklearn.model_selection import train_test_split\n",
        "from keras.callbacks import EarlyStopping"
      ],
      "metadata": {
        "id": "KmTk1F5Tv4bV"
      },
      "execution_count": null,
      "outputs": []
    },
    {
      "cell_type": "code",
      "source": [
        "training_set = mydata.iloc[:348, 1:2]\n",
        "\n",
        "test_set = mydata.iloc[348:, 1:2]"
      ],
      "metadata": {
        "id": "Xkoy1ETtv4YO"
      },
      "execution_count": null,
      "outputs": []
    },
    {
      "cell_type": "code",
      "source": [
        "# Feature Scaling\n",
        "\n",
        "sc = MinMaxScaler(feature_range = (0, 1))\n",
        "\n",
        "training_set_scaled = sc.fit_transform(training_set)\n",
        "\n",
        "# Creating a data structure with 60 time-steps and 1 output\n",
        "\n",
        "X_train = []\n",
        "\n",
        "y_train = []\n",
        "\n",
        "for i in range(20, 348):\n",
        "\n",
        "   X_train.append(training_set_scaled[i-20:i, 0])\n",
        "\n",
        "   y_train.append(training_set_scaled[i, 0])\n",
        "\n",
        "X_train, y_train = np.array(X_train), np.array(y_train)\n",
        "\n",
        "X_train = np.reshape(X_train, (X_train.shape[0], X_train.shape[1], 1))\n",
        "\n"
      ],
      "metadata": {
        "id": "u4_XfjEAv4VU"
      },
      "execution_count": null,
      "outputs": []
    },
    {
      "cell_type": "code",
      "source": [
        "from tensorflow.keras import optimizers\n",
        "\n",
        "model = Sequential()\n",
        "\n",
        "#Adding the first LSTM layer and some Dropout regularisation\n",
        "\n",
        "model.add(LSTM(units = 20, return_sequences = True, input_shape = (X_train.shape[1], 1)))\n",
        "\n",
        "model.add(Dropout(0.2))\n",
        "\n",
        "# Adding a second LSTM layer and some Dropout regularisation\n",
        "\n",
        "model.add(LSTM(units = 20, return_sequences = True))\n",
        "\n",
        "model.add(Dropout(0.2))\n",
        "\n",
        "# Adding a third LSTM layer and some Dropout regularisation\n",
        "\n",
        "model.add(LSTM(units = 20, return_sequences = True))\n",
        "\n",
        "model.add(Dropout(0.2))\n",
        "\n",
        "# Adding a fourth LSTM layer and some Dropout regularisation\n",
        "\n",
        "model.add(LSTM(units = 20))\n",
        "\n",
        "model.add(Dropout(0.2))\n",
        "\n",
        "# Adding the output layer\n",
        "\n",
        "model.add(Dense(units = 1))\n",
        "\n",
        "# Compiling the RNN\n",
        "\n",
        "opt = optimizers.RMSprop(learning_rate=0.03)\n",
        "model.compile(optimizer = opt, loss = 'mean_squared_error')"
      ],
      "metadata": {
        "id": "QuTCBeIRv4Sv"
      },
      "execution_count": null,
      "outputs": []
    },
    {
      "cell_type": "code",
      "source": [
        "# Fitting the RNN to the Training set\n",
        "\n",
        "model.fit(X_train, y_train, epochs = 100, batch_size = 32)"
      ],
      "metadata": {
        "colab": {
          "base_uri": "https://localhost:8080/"
        },
        "id": "AMmkCjP3mTZ-",
        "outputId": "5c259b4a-1437-4056-b566-4bb99c5c078a"
      },
      "execution_count": null,
      "outputs": [
        {
          "output_type": "stream",
          "name": "stdout",
          "text": [
            "Epoch 1/100\n",
            "11/11 [==============================] - 7s 34ms/step - loss: 1.4670\n",
            "Epoch 2/100\n",
            "11/11 [==============================] - 0s 36ms/step - loss: 0.0869\n",
            "Epoch 3/100\n",
            "11/11 [==============================] - 0s 37ms/step - loss: 0.0760\n",
            "Epoch 4/100\n",
            "11/11 [==============================] - 0s 37ms/step - loss: 0.0840\n",
            "Epoch 5/100\n",
            "11/11 [==============================] - 0s 37ms/step - loss: 0.0509\n",
            "Epoch 6/100\n",
            "11/11 [==============================] - 0s 37ms/step - loss: 0.0516\n",
            "Epoch 7/100\n",
            "11/11 [==============================] - 0s 35ms/step - loss: 0.0244\n",
            "Epoch 8/100\n",
            "11/11 [==============================] - 0s 36ms/step - loss: 0.0304\n",
            "Epoch 9/100\n",
            "11/11 [==============================] - 0s 36ms/step - loss: 0.0256\n",
            "Epoch 10/100\n",
            "11/11 [==============================] - 0s 35ms/step - loss: 0.0660\n",
            "Epoch 11/100\n",
            "11/11 [==============================] - 0s 35ms/step - loss: 0.0418\n",
            "Epoch 12/100\n",
            "11/11 [==============================] - 0s 35ms/step - loss: 0.0280\n",
            "Epoch 13/100\n",
            "11/11 [==============================] - 0s 34ms/step - loss: 0.0527\n",
            "Epoch 14/100\n",
            "11/11 [==============================] - 0s 35ms/step - loss: 0.0372\n",
            "Epoch 15/100\n",
            "11/11 [==============================] - 0s 34ms/step - loss: 0.0260\n",
            "Epoch 16/100\n",
            "11/11 [==============================] - 0s 35ms/step - loss: 0.0233\n",
            "Epoch 17/100\n",
            "11/11 [==============================] - 0s 35ms/step - loss: 0.0275\n",
            "Epoch 18/100\n",
            "11/11 [==============================] - 0s 35ms/step - loss: 0.0211\n",
            "Epoch 19/100\n",
            "11/11 [==============================] - 0s 35ms/step - loss: 0.0314\n",
            "Epoch 20/100\n",
            "11/11 [==============================] - 0s 33ms/step - loss: 0.0201\n",
            "Epoch 21/100\n",
            "11/11 [==============================] - 0s 35ms/step - loss: 0.0242\n",
            "Epoch 22/100\n",
            "11/11 [==============================] - 0s 35ms/step - loss: 0.0270\n",
            "Epoch 23/100\n",
            "11/11 [==============================] - 0s 35ms/step - loss: 0.0260\n",
            "Epoch 24/100\n",
            "11/11 [==============================] - 0s 33ms/step - loss: 0.0272\n",
            "Epoch 25/100\n",
            "11/11 [==============================] - 0s 35ms/step - loss: 0.0200\n",
            "Epoch 26/100\n",
            "11/11 [==============================] - 0s 35ms/step - loss: 0.0228\n",
            "Epoch 27/100\n",
            "11/11 [==============================] - 0s 37ms/step - loss: 0.0204\n",
            "Epoch 28/100\n",
            "11/11 [==============================] - 0s 34ms/step - loss: 0.0220\n",
            "Epoch 29/100\n",
            "11/11 [==============================] - 0s 37ms/step - loss: 0.0264\n",
            "Epoch 30/100\n",
            "11/11 [==============================] - 0s 37ms/step - loss: 0.0297\n",
            "Epoch 31/100\n",
            "11/11 [==============================] - 0s 35ms/step - loss: 0.0294\n",
            "Epoch 32/100\n",
            "11/11 [==============================] - 0s 33ms/step - loss: 0.0302\n",
            "Epoch 33/100\n",
            "11/11 [==============================] - 0s 35ms/step - loss: 0.0248\n",
            "Epoch 34/100\n",
            "11/11 [==============================] - 0s 35ms/step - loss: 0.0202\n",
            "Epoch 35/100\n",
            "11/11 [==============================] - 0s 37ms/step - loss: 0.0193\n",
            "Epoch 36/100\n",
            "11/11 [==============================] - 0s 37ms/step - loss: 0.0263\n",
            "Epoch 37/100\n",
            "11/11 [==============================] - 0s 34ms/step - loss: 0.0196\n",
            "Epoch 38/100\n",
            "11/11 [==============================] - 0s 37ms/step - loss: 0.0278\n",
            "Epoch 39/100\n",
            "11/11 [==============================] - 0s 35ms/step - loss: 0.0374\n",
            "Epoch 40/100\n",
            "11/11 [==============================] - 0s 37ms/step - loss: 0.0171\n",
            "Epoch 41/100\n",
            "11/11 [==============================] - 0s 35ms/step - loss: 0.0163\n",
            "Epoch 42/100\n",
            "11/11 [==============================] - 0s 35ms/step - loss: 0.0197\n",
            "Epoch 43/100\n",
            "11/11 [==============================] - 0s 37ms/step - loss: 0.0203\n",
            "Epoch 44/100\n",
            "11/11 [==============================] - 0s 34ms/step - loss: 0.0131\n",
            "Epoch 45/100\n",
            "11/11 [==============================] - 0s 35ms/step - loss: 0.0189\n",
            "Epoch 46/100\n",
            "11/11 [==============================] - 0s 36ms/step - loss: 0.0208\n",
            "Epoch 47/100\n",
            "11/11 [==============================] - 0s 35ms/step - loss: 0.0203\n",
            "Epoch 48/100\n",
            "11/11 [==============================] - 0s 35ms/step - loss: 0.0149\n",
            "Epoch 49/100\n",
            "11/11 [==============================] - 0s 35ms/step - loss: 0.0334\n",
            "Epoch 50/100\n",
            "11/11 [==============================] - 0s 35ms/step - loss: 0.0227\n",
            "Epoch 51/100\n",
            "11/11 [==============================] - 0s 36ms/step - loss: 0.0231\n",
            "Epoch 52/100\n",
            "11/11 [==============================] - 0s 36ms/step - loss: 0.0203\n",
            "Epoch 53/100\n",
            "11/11 [==============================] - 0s 38ms/step - loss: 0.0234\n",
            "Epoch 54/100\n",
            "11/11 [==============================] - 0s 36ms/step - loss: 0.0197\n",
            "Epoch 55/100\n",
            "11/11 [==============================] - 0s 38ms/step - loss: 0.0226\n",
            "Epoch 56/100\n",
            "11/11 [==============================] - 0s 35ms/step - loss: 0.0191\n",
            "Epoch 57/100\n",
            "11/11 [==============================] - 0s 36ms/step - loss: 0.0215\n",
            "Epoch 58/100\n",
            "11/11 [==============================] - 0s 36ms/step - loss: 0.0209\n",
            "Epoch 59/100\n",
            "11/11 [==============================] - 0s 36ms/step - loss: 0.0171\n",
            "Epoch 60/100\n",
            "11/11 [==============================] - 0s 36ms/step - loss: 0.0210\n",
            "Epoch 61/100\n",
            "11/11 [==============================] - 0s 36ms/step - loss: 0.0675\n",
            "Epoch 62/100\n",
            "11/11 [==============================] - 0s 35ms/step - loss: 0.0220\n",
            "Epoch 63/100\n",
            "11/11 [==============================] - 0s 36ms/step - loss: 0.0210\n",
            "Epoch 64/100\n",
            "11/11 [==============================] - 0s 35ms/step - loss: 0.0154\n",
            "Epoch 65/100\n",
            "11/11 [==============================] - 0s 35ms/step - loss: 0.0196\n",
            "Epoch 66/100\n",
            "11/11 [==============================] - 0s 35ms/step - loss: 0.0249\n",
            "Epoch 67/100\n",
            "11/11 [==============================] - 0s 34ms/step - loss: 0.0133\n",
            "Epoch 68/100\n",
            "11/11 [==============================] - 0s 36ms/step - loss: 0.0130\n",
            "Epoch 69/100\n",
            "11/11 [==============================] - 0s 35ms/step - loss: 0.0160\n",
            "Epoch 70/100\n",
            "11/11 [==============================] - 0s 36ms/step - loss: 0.0152\n",
            "Epoch 71/100\n",
            "11/11 [==============================] - 0s 36ms/step - loss: 0.0106\n",
            "Epoch 72/100\n",
            "11/11 [==============================] - 0s 35ms/step - loss: 0.0106\n",
            "Epoch 73/100\n",
            "11/11 [==============================] - 0s 35ms/step - loss: 0.0242\n",
            "Epoch 74/100\n",
            "11/11 [==============================] - 0s 35ms/step - loss: 0.0109\n",
            "Epoch 75/100\n",
            "11/11 [==============================] - 0s 34ms/step - loss: 0.0147\n",
            "Epoch 76/100\n",
            "11/11 [==============================] - 0s 34ms/step - loss: 0.0153\n",
            "Epoch 77/100\n",
            "11/11 [==============================] - 0s 34ms/step - loss: 0.0140\n",
            "Epoch 78/100\n",
            "11/11 [==============================] - 0s 37ms/step - loss: 0.0097\n",
            "Epoch 79/100\n",
            "11/11 [==============================] - 0s 36ms/step - loss: 0.0115\n",
            "Epoch 80/100\n",
            "11/11 [==============================] - 0s 36ms/step - loss: 0.0104\n",
            "Epoch 81/100\n",
            "11/11 [==============================] - 0s 38ms/step - loss: 0.0112\n",
            "Epoch 82/100\n",
            "11/11 [==============================] - 0s 35ms/step - loss: 0.0087\n",
            "Epoch 83/100\n",
            "11/11 [==============================] - 0s 35ms/step - loss: 0.0144\n",
            "Epoch 84/100\n",
            "11/11 [==============================] - 0s 35ms/step - loss: 0.0128\n",
            "Epoch 85/100\n",
            "11/11 [==============================] - 0s 35ms/step - loss: 0.0118\n",
            "Epoch 86/100\n",
            "11/11 [==============================] - 0s 37ms/step - loss: 0.0132\n",
            "Epoch 87/100\n",
            "11/11 [==============================] - 0s 33ms/step - loss: 0.0088\n",
            "Epoch 88/100\n",
            "11/11 [==============================] - 0s 35ms/step - loss: 0.0092\n",
            "Epoch 89/100\n",
            "11/11 [==============================] - 0s 36ms/step - loss: 0.0103\n",
            "Epoch 90/100\n",
            "11/11 [==============================] - 0s 35ms/step - loss: 0.0082\n",
            "Epoch 91/100\n",
            "11/11 [==============================] - 0s 36ms/step - loss: 0.0099\n",
            "Epoch 92/100\n",
            "11/11 [==============================] - 0s 36ms/step - loss: 0.0094\n",
            "Epoch 93/100\n",
            "11/11 [==============================] - 0s 36ms/step - loss: 0.0086\n",
            "Epoch 94/100\n",
            "11/11 [==============================] - 0s 36ms/step - loss: 0.0107\n",
            "Epoch 95/100\n",
            "11/11 [==============================] - 0s 34ms/step - loss: 0.0096\n",
            "Epoch 96/100\n",
            "11/11 [==============================] - 0s 35ms/step - loss: 0.0083\n",
            "Epoch 97/100\n",
            "11/11 [==============================] - 0s 36ms/step - loss: 0.0103\n",
            "Epoch 98/100\n",
            "11/11 [==============================] - 0s 34ms/step - loss: 0.0082\n",
            "Epoch 99/100\n",
            "11/11 [==============================] - 0s 36ms/step - loss: 0.0079\n",
            "Epoch 100/100\n",
            "11/11 [==============================] - 0s 36ms/step - loss: 0.0082\n"
          ]
        },
        {
          "output_type": "execute_result",
          "data": {
            "text/plain": [
              "<keras.callbacks.History at 0x7f5d489e0b50>"
            ]
          },
          "metadata": {},
          "execution_count": 228
        }
      ]
    },
    {
      "cell_type": "code",
      "source": [
        "# Getting the predicted stock price of 2017\n",
        "\n",
        "dataset_train = mydata.iloc[:348, 1:2]\n",
        "\n",
        "dataset_test = mydata.iloc[348:, 1:2]\n",
        "\n",
        "dataset_total = pd.concat((dataset_train, dataset_test), axis = 0)\n",
        "\n",
        "inputs = dataset_total[len(dataset_total) - len(dataset_test) - 20:].values\n",
        "\n",
        "inputs = inputs.reshape(-1,1)\n",
        "\n",
        "inputs = sc.transform(inputs)\n",
        "\n",
        "X_test = []\n",
        "\n",
        "for i in range(20, 120):\n",
        "\n",
        "   X_test.append(inputs[i-20:i, 0])\n",
        "\n",
        "X_test = np.array(X_test)\n",
        "\n",
        "X_test = np.reshape(X_test, (X_test.shape[0], X_test.shape[1], 1))\n",
        "\n",
        "print(X_test.shape)\n"
      ],
      "metadata": {
        "colab": {
          "base_uri": "https://localhost:8080/"
        },
        "id": "dZ2hWWNOv4Pl",
        "outputId": "2dfe8b2d-75cb-4142-b889-4d5265ce8ebc"
      },
      "execution_count": null,
      "outputs": [
        {
          "output_type": "stream",
          "name": "stdout",
          "text": [
            "(100, 20, 1)\n"
          ]
        },
        {
          "output_type": "stream",
          "name": "stderr",
          "text": [
            "/usr/local/lib/python3.7/dist-packages/sklearn/base.py:451: UserWarning: X does not have valid feature names, but MinMaxScaler was fitted with feature names\n",
            "  \"X does not have valid feature names, but\"\n"
          ]
        }
      ]
    },
    {
      "cell_type": "code",
      "source": [
        "predicted_price = model.predict(X_test)\n",
        "\n",
        "predicted_price = sc.inverse_transform(predicted_price)"
      ],
      "metadata": {
        "id": "9kwgMp4Uv4Mo"
      },
      "execution_count": null,
      "outputs": []
    },
    {
      "cell_type": "code",
      "source": [
        "# Visualising the results\n",
        "plt.figure(figsize=(8,5))\n",
        "plt.plot(mydata.loc[348:, 'date_dt'],dataset_test.values, color = 'red', label = 'observed cement', linestyle = '--')\n",
        "\n",
        "plt.plot(mydata.loc[348:, 'date_dt'],predicted_price, color = 'blue', label = 'fitted cement')\n",
        "plt.xlabel('Date',fontsize=12)\n",
        "plt.ylabel('Cement Price',fontsize=12)\n",
        "\n",
        "plt.title('Cement Time-Series Prediction',fontsize=13)\n",
        "\n",
        "plt.legend(fontsize=12)\n",
        "plt.grid()\n",
        "plt.show()"
      ],
      "metadata": {
        "colab": {
          "base_uri": "https://localhost:8080/",
          "height": 353
        },
        "id": "05fp2xKJv4Jp",
        "outputId": "98d67cf0-ece8-4b0e-9751-12167db50140"
      },
      "execution_count": null,
      "outputs": [
        {
          "output_type": "display_data",
          "data": {
            "text/plain": [
              "<Figure size 576x360 with 1 Axes>"
            ],
            "image/png": "[encoded data removed]"
          },
          "metadata": {
            "needs_background": "light"
          }
        }
      ]
    },
    {
      "cell_type": "code",
      "source": [
        "from sklearn.metrics import mean_squared_error\n",
        "mse = mean_squared_error(dataset_test, model.predict(X_test))\n",
        "np.sqrt(mse)"
      ],
      "metadata": {
        "colab": {
          "base_uri": "https://localhost:8080/"
        },
        "id": "dmwDhE1Jv4Gy",
        "outputId": "6e8f280b-15c0-451d-a705-b4ed5a10b816"
      },
      "execution_count": null,
      "outputs": [
        {
          "output_type": "execute_result",
          "data": {
            "text/plain": [
              "99.95729797556987"
            ]
          },
          "metadata": {},
          "execution_count": 232
        }
      ]
    },
    {
      "cell_type": "code",
      "source": [
        ""
      ],
      "metadata": {
        "id": "otUs4fZgv4Dx"
      },
      "execution_count": null,
      "outputs": []
    },
    {
      "cell_type": "code",
      "source": [
        ""
      ],
      "metadata": {
        "id": "k_jM3EwGv4CM"
      },
      "execution_count": null,
      "outputs": []
    },
    {
      "cell_type": "code",
      "source": [
        "training_set = mydata.iloc[:348, 2:3]\n",
        "\n",
        "test_set = mydata.iloc[348:, 2:3]"
      ],
      "metadata": {
        "id": "C64qI5IGigQO"
      },
      "execution_count": null,
      "outputs": []
    },
    {
      "cell_type": "code",
      "source": [
        "# Feature Scaling\n",
        "\n",
        "sc = MinMaxScaler(feature_range = (0, 1))\n",
        "\n",
        "training_set_scaled = sc.fit_transform(training_set)\n",
        "\n",
        "# Creating a data structure with 60 time-steps and 1 output\n",
        "\n",
        "X_train = []\n",
        "\n",
        "y_train = []\n",
        "\n",
        "for i in range(20, 348):\n",
        "\n",
        "   X_train.append(training_set_scaled[i-20:i, 0])\n",
        "\n",
        "   y_train.append(training_set_scaled[i, 0])\n",
        "\n",
        "X_train, y_train = np.array(X_train), np.array(y_train)\n",
        "\n",
        "X_train = np.reshape(X_train, (X_train.shape[0], X_train.shape[1], 1))\n",
        "\n"
      ],
      "metadata": {
        "id": "AL4poPhKigQO"
      },
      "execution_count": null,
      "outputs": []
    },
    {
      "cell_type": "code",
      "source": [
        "from tensorflow.keras import optimizers\n",
        "\n",
        "model = Sequential()\n",
        "\n",
        "#Adding the first LSTM layer and some Dropout regularisation\n",
        "\n",
        "model.add(LSTM(units = 20, return_sequences = True, input_shape = (X_train.shape[1], 1)))\n",
        "\n",
        "model.add(Dropout(0.2))\n",
        "\n",
        "# Adding a second LSTM layer and some Dropout regularisation\n",
        "\n",
        "model.add(LSTM(units = 20, return_sequences = True))\n",
        "\n",
        "model.add(Dropout(0.2))\n",
        "\n",
        "# Adding a third LSTM layer and some Dropout regularisation\n",
        "\n",
        "model.add(LSTM(units = 20, return_sequences = True))\n",
        "\n",
        "model.add(Dropout(0.2))\n",
        "\n",
        "# Adding a fourth LSTM layer and some Dropout regularisation\n",
        "\n",
        "model.add(LSTM(units = 20))\n",
        "\n",
        "model.add(Dropout(0.2))\n",
        "\n",
        "# Adding the output layer\n",
        "\n",
        "model.add(Dense(units = 1))\n",
        "\n",
        "# Compiling the RNN\n",
        "opt = optimizers.RMSprop(learning_rate=0.03)\n",
        "model.compile(optimizer = opt, loss = 'mean_squared_error')\n",
        "\n"
      ],
      "metadata": {
        "id": "OD3YNHDIigQP"
      },
      "execution_count": null,
      "outputs": []
    },
    {
      "cell_type": "code",
      "source": [
        "# Fitting the RNN to the Training set\n",
        "\n",
        "model.fit(X_train, y_train, epochs = 100, batch_size = 32, validation_split=0.2)"
      ],
      "metadata": {
        "colab": {
          "base_uri": "https://localhost:8080/"
        },
        "id": "dohs_BH-jLTs",
        "outputId": "f84bf9f1-289b-45a2-b377-8448632959bd"
      },
      "execution_count": null,
      "outputs": [
        {
          "output_type": "stream",
          "name": "stdout",
          "text": [
            "Epoch 1/100\n",
            "9/9 [==============================] - 9s 241ms/step - loss: 1.8626 - val_loss: 0.0551\n",
            "Epoch 2/100\n",
            "9/9 [==============================] - 0s 43ms/step - loss: 0.0697 - val_loss: 0.1797\n",
            "Epoch 3/100\n",
            "9/9 [==============================] - 0s 40ms/step - loss: 0.0650 - val_loss: 0.2853\n",
            "Epoch 4/100\n",
            "9/9 [==============================] - 0s 40ms/step - loss: 0.0652 - val_loss: 0.5612\n",
            "Epoch 5/100\n",
            "9/9 [==============================] - 0s 40ms/step - loss: 0.0642 - val_loss: 0.2148\n",
            "Epoch 6/100\n",
            "9/9 [==============================] - 0s 40ms/step - loss: 0.0594 - val_loss: 0.2331\n",
            "Epoch 7/100\n",
            "9/9 [==============================] - 0s 39ms/step - loss: 0.0620 - val_loss: 0.3215\n",
            "Epoch 8/100\n",
            "9/9 [==============================] - 0s 41ms/step - loss: 0.0573 - val_loss: 0.2524\n",
            "Epoch 9/100\n",
            "9/9 [==============================] - 0s 39ms/step - loss: 0.0581 - val_loss: 0.0708\n",
            "Epoch 10/100\n",
            "9/9 [==============================] - 0s 38ms/step - loss: 0.0651 - val_loss: 0.1271\n",
            "Epoch 11/100\n",
            "9/9 [==============================] - 0s 41ms/step - loss: 0.0663 - val_loss: 0.3988\n",
            "Epoch 12/100\n",
            "9/9 [==============================] - 0s 41ms/step - loss: 0.0587 - val_loss: 0.1886\n",
            "Epoch 13/100\n",
            "9/9 [==============================] - 0s 39ms/step - loss: 0.0582 - val_loss: 0.2667\n",
            "Epoch 14/100\n",
            "9/9 [==============================] - 0s 41ms/step - loss: 0.0543 - val_loss: 0.0449\n",
            "Epoch 15/100\n",
            "9/9 [==============================] - 0s 40ms/step - loss: 0.0658 - val_loss: 0.2678\n",
            "Epoch 16/100\n",
            "9/9 [==============================] - 0s 41ms/step - loss: 0.0534 - val_loss: 0.2837\n",
            "Epoch 17/100\n",
            "9/9 [==============================] - 0s 40ms/step - loss: 0.0547 - val_loss: 0.2445\n",
            "Epoch 18/100\n",
            "9/9 [==============================] - 0s 39ms/step - loss: 0.0542 - val_loss: 0.0806\n",
            "Epoch 19/100\n",
            "9/9 [==============================] - 0s 42ms/step - loss: 0.0592 - val_loss: 0.2666\n",
            "Epoch 20/100\n",
            "9/9 [==============================] - 0s 41ms/step - loss: 0.0544 - val_loss: 0.2246\n",
            "Epoch 21/100\n",
            "9/9 [==============================] - 0s 41ms/step - loss: 0.0539 - val_loss: 0.2698\n",
            "Epoch 22/100\n",
            "9/9 [==============================] - 0s 41ms/step - loss: 0.0516 - val_loss: 0.1032\n",
            "Epoch 23/100\n",
            "9/9 [==============================] - 0s 41ms/step - loss: 0.0530 - val_loss: 0.2348\n",
            "Epoch 24/100\n",
            "9/9 [==============================] - 0s 41ms/step - loss: 0.0526 - val_loss: 0.2704\n",
            "Epoch 25/100\n",
            "9/9 [==============================] - 0s 42ms/step - loss: 0.0553 - val_loss: 0.2021\n",
            "Epoch 26/100\n",
            "9/9 [==============================] - 0s 39ms/step - loss: 0.0522 - val_loss: 0.2940\n",
            "Epoch 27/100\n",
            "9/9 [==============================] - 0s 40ms/step - loss: 0.0531 - val_loss: 0.3046\n",
            "Epoch 28/100\n",
            "9/9 [==============================] - 0s 40ms/step - loss: 0.0540 - val_loss: 0.2434\n",
            "Epoch 29/100\n",
            "9/9 [==============================] - 0s 41ms/step - loss: 0.0790 - val_loss: 0.1079\n",
            "Epoch 30/100\n",
            "9/9 [==============================] - 0s 45ms/step - loss: 0.0407 - val_loss: 0.0992\n",
            "Epoch 31/100\n",
            "9/9 [==============================] - 0s 41ms/step - loss: 0.0262 - val_loss: 0.0476\n",
            "Epoch 32/100\n",
            "9/9 [==============================] - 0s 40ms/step - loss: 0.0263 - val_loss: 0.0833\n",
            "Epoch 33/100\n",
            "9/9 [==============================] - 0s 41ms/step - loss: 0.0249 - val_loss: 0.1019\n",
            "Epoch 34/100\n",
            "9/9 [==============================] - 0s 40ms/step - loss: 0.0143 - val_loss: 0.0417\n",
            "Epoch 35/100\n",
            "9/9 [==============================] - 0s 40ms/step - loss: 0.0144 - val_loss: 0.0393\n",
            "Epoch 36/100\n",
            "9/9 [==============================] - 0s 42ms/step - loss: 0.0322 - val_loss: 0.0972\n",
            "Epoch 37/100\n",
            "9/9 [==============================] - 0s 41ms/step - loss: 0.0137 - val_loss: 0.0647\n",
            "Epoch 38/100\n",
            "9/9 [==============================] - 0s 41ms/step - loss: 0.0194 - val_loss: 0.0843\n",
            "Epoch 39/100\n",
            "9/9 [==============================] - 0s 41ms/step - loss: 0.0111 - val_loss: 0.1947\n",
            "Epoch 40/100\n",
            "9/9 [==============================] - 0s 41ms/step - loss: 0.0128 - val_loss: 0.0197\n",
            "Epoch 41/100\n",
            "9/9 [==============================] - 0s 41ms/step - loss: 0.0154 - val_loss: 0.0661\n",
            "Epoch 42/100\n",
            "9/9 [==============================] - 0s 39ms/step - loss: 0.0105 - val_loss: 0.0885\n",
            "Epoch 43/100\n",
            "9/9 [==============================] - 0s 39ms/step - loss: 0.0102 - val_loss: 0.0756\n",
            "Epoch 44/100\n",
            "9/9 [==============================] - 0s 42ms/step - loss: 0.0121 - val_loss: 0.0133\n",
            "Epoch 45/100\n",
            "9/9 [==============================] - 0s 41ms/step - loss: 0.0211 - val_loss: 0.0399\n",
            "Epoch 46/100\n",
            "9/9 [==============================] - 0s 41ms/step - loss: 0.0095 - val_loss: 0.1469\n",
            "Epoch 47/100\n",
            "9/9 [==============================] - 0s 42ms/step - loss: 0.0162 - val_loss: 0.0644\n",
            "Epoch 48/100\n",
            "9/9 [==============================] - 0s 40ms/step - loss: 0.0060 - val_loss: 0.0165\n",
            "Epoch 49/100\n",
            "9/9 [==============================] - 0s 40ms/step - loss: 0.0190 - val_loss: 0.0661\n",
            "Epoch 50/100\n",
            "9/9 [==============================] - 0s 40ms/step - loss: 0.0059 - val_loss: 0.1016\n",
            "Epoch 51/100\n",
            "9/9 [==============================] - 0s 40ms/step - loss: 0.0079 - val_loss: 0.0739\n",
            "Epoch 52/100\n",
            "9/9 [==============================] - 0s 43ms/step - loss: 0.0092 - val_loss: 0.1219\n",
            "Epoch 53/100\n",
            "9/9 [==============================] - 0s 41ms/step - loss: 0.0122 - val_loss: 0.0566\n",
            "Epoch 54/100\n",
            "9/9 [==============================] - 0s 41ms/step - loss: 0.0082 - val_loss: 0.1293\n",
            "Epoch 55/100\n",
            "9/9 [==============================] - 0s 41ms/step - loss: 0.0145 - val_loss: 0.0753\n",
            "Epoch 56/100\n",
            "9/9 [==============================] - 0s 40ms/step - loss: 0.0090 - val_loss: 0.0358\n",
            "Epoch 57/100\n",
            "9/9 [==============================] - 0s 40ms/step - loss: 0.0076 - val_loss: 0.0533\n",
            "Epoch 58/100\n",
            "9/9 [==============================] - 0s 45ms/step - loss: 0.0071 - val_loss: 0.0433\n",
            "Epoch 59/100\n",
            "9/9 [==============================] - 0s 41ms/step - loss: 0.0108 - val_loss: 0.0645\n",
            "Epoch 60/100\n",
            "9/9 [==============================] - 0s 40ms/step - loss: 0.0066 - val_loss: 0.0635\n",
            "Epoch 61/100\n",
            "9/9 [==============================] - 0s 40ms/step - loss: 0.0068 - val_loss: 0.0600\n",
            "Epoch 62/100\n",
            "9/9 [==============================] - 0s 41ms/step - loss: 0.0097 - val_loss: 0.0409\n",
            "Epoch 63/100\n",
            "9/9 [==============================] - 0s 40ms/step - loss: 0.0089 - val_loss: 0.0778\n",
            "Epoch 64/100\n",
            "9/9 [==============================] - 0s 43ms/step - loss: 0.0071 - val_loss: 0.0399\n",
            "Epoch 65/100\n",
            "9/9 [==============================] - 0s 41ms/step - loss: 0.0087 - val_loss: 0.0514\n",
            "Epoch 66/100\n",
            "9/9 [==============================] - 0s 42ms/step - loss: 0.0076 - val_loss: 0.0180\n",
            "Epoch 67/100\n",
            "9/9 [==============================] - 0s 41ms/step - loss: 0.0052 - val_loss: 0.0300\n",
            "Epoch 68/100\n",
            "9/9 [==============================] - 0s 41ms/step - loss: 0.0104 - val_loss: 0.0639\n",
            "Epoch 69/100\n",
            "9/9 [==============================] - 0s 42ms/step - loss: 0.0073 - val_loss: 0.0136\n",
            "Epoch 70/100\n",
            "9/9 [==============================] - 0s 40ms/step - loss: 0.0082 - val_loss: 0.0319\n",
            "Epoch 71/100\n",
            "9/9 [==============================] - 0s 41ms/step - loss: 0.0075 - val_loss: 0.0504\n",
            "Epoch 72/100\n",
            "9/9 [==============================] - 0s 41ms/step - loss: 0.0068 - val_loss: 0.0824\n",
            "Epoch 73/100\n",
            "9/9 [==============================] - 0s 40ms/step - loss: 0.0052 - val_loss: 0.0191\n",
            "Epoch 74/100\n",
            "9/9 [==============================] - 0s 40ms/step - loss: 0.0053 - val_loss: 0.0389\n",
            "Epoch 75/100\n",
            "9/9 [==============================] - 0s 42ms/step - loss: 0.0074 - val_loss: 0.0305\n",
            "Epoch 76/100\n",
            "9/9 [==============================] - 0s 41ms/step - loss: 0.0050 - val_loss: 0.0288\n",
            "Epoch 77/100\n",
            "9/9 [==============================] - 0s 41ms/step - loss: 0.0083 - val_loss: 0.0501\n",
            "Epoch 78/100\n",
            "9/9 [==============================] - 0s 42ms/step - loss: 0.0053 - val_loss: 0.0221\n",
            "Epoch 79/100\n",
            "9/9 [==============================] - 0s 43ms/step - loss: 0.0047 - val_loss: 0.1292\n",
            "Epoch 80/100\n",
            "9/9 [==============================] - 0s 42ms/step - loss: 0.0065 - val_loss: 0.0190\n",
            "Epoch 81/100\n",
            "9/9 [==============================] - 0s 40ms/step - loss: 0.0076 - val_loss: 0.0495\n",
            "Epoch 82/100\n",
            "9/9 [==============================] - 0s 41ms/step - loss: 0.0094 - val_loss: 0.0227\n",
            "Epoch 83/100\n",
            "9/9 [==============================] - 0s 43ms/step - loss: 0.0056 - val_loss: 0.0783\n",
            "Epoch 84/100\n",
            "9/9 [==============================] - 0s 42ms/step - loss: 0.0060 - val_loss: 0.0143\n",
            "Epoch 85/100\n",
            "9/9 [==============================] - 0s 42ms/step - loss: 0.0087 - val_loss: 0.0234\n",
            "Epoch 86/100\n",
            "9/9 [==============================] - 0s 41ms/step - loss: 0.0028 - val_loss: 0.0237\n",
            "Epoch 87/100\n",
            "9/9 [==============================] - 0s 43ms/step - loss: 0.0060 - val_loss: 0.0577\n",
            "Epoch 88/100\n",
            "9/9 [==============================] - 0s 42ms/step - loss: 0.0063 - val_loss: 0.0422\n",
            "Epoch 89/100\n",
            "9/9 [==============================] - 0s 41ms/step - loss: 0.0032 - val_loss: 0.0286\n",
            "Epoch 90/100\n",
            "9/9 [==============================] - 0s 42ms/step - loss: 0.0049 - val_loss: 0.0136\n",
            "Epoch 91/100\n",
            "9/9 [==============================] - 0s 42ms/step - loss: 0.0066 - val_loss: 0.0274\n",
            "Epoch 92/100\n",
            "9/9 [==============================] - 0s 41ms/step - loss: 0.0109 - val_loss: 0.0464\n",
            "Epoch 93/100\n",
            "9/9 [==============================] - 0s 41ms/step - loss: 0.0055 - val_loss: 0.0423\n",
            "Epoch 94/100\n",
            "9/9 [==============================] - 0s 42ms/step - loss: 0.0055 - val_loss: 0.0465\n",
            "Epoch 95/100\n",
            "9/9 [==============================] - 0s 41ms/step - loss: 0.0043 - val_loss: 0.0360\n",
            "Epoch 96/100\n",
            "9/9 [==============================] - 0s 40ms/step - loss: 0.0045 - val_loss: 0.0134\n",
            "Epoch 97/100\n",
            "9/9 [==============================] - 0s 41ms/step - loss: 0.0061 - val_loss: 0.0240\n",
            "Epoch 98/100\n",
            "9/9 [==============================] - 0s 41ms/step - loss: 0.0056 - val_loss: 0.0382\n",
            "Epoch 99/100\n",
            "9/9 [==============================] - 0s 40ms/step - loss: 0.0024 - val_loss: 0.0154\n",
            "Epoch 100/100\n",
            "9/9 [==============================] - 0s 39ms/step - loss: 0.0073 - val_loss: 0.0275\n"
          ]
        },
        {
          "output_type": "execute_result",
          "data": {
            "text/plain": [
              "<keras.callbacks.History at 0x7f5d4618c8d0>"
            ]
          },
          "metadata": {},
          "execution_count": 236
        }
      ]
    },
    {
      "cell_type": "code",
      "source": [
        "# Getting the predicted stock price of 2017\n",
        "\n",
        "dataset_train = mydata.iloc[:348, 2:3]\n",
        "\n",
        "dataset_test = mydata.iloc[348:, 2:3]\n",
        "\n",
        "dataset_total = pd.concat((dataset_train, dataset_test), axis = 0)\n",
        "\n",
        "inputs = dataset_total[len(dataset_total) - len(dataset_test) - 20:].values\n",
        "\n",
        "inputs = inputs.reshape(-1,1)\n",
        "\n",
        "inputs = sc.transform(inputs)\n",
        "\n",
        "X_test = []\n",
        "\n",
        "for i in range(20, 120):\n",
        "\n",
        "   X_test.append(inputs[i-20:i, 0])\n",
        "\n",
        "X_test = np.array(X_test)\n",
        "\n",
        "X_test = np.reshape(X_test, (X_test.shape[0], X_test.shape[1], 1))\n",
        "\n",
        "print(X_test.shape)\n"
      ],
      "metadata": {
        "colab": {
          "base_uri": "https://localhost:8080/"
        },
        "outputId": "ed9e2ffa-144a-4a49-b46e-5d25ae06b8c9",
        "id": "ikvudtoKigQP"
      },
      "execution_count": null,
      "outputs": [
        {
          "output_type": "stream",
          "name": "stdout",
          "text": [
            "(100, 20, 1)\n"
          ]
        },
        {
          "output_type": "stream",
          "name": "stderr",
          "text": [
            "/usr/local/lib/python3.7/dist-packages/sklearn/base.py:451: UserWarning: X does not have valid feature names, but MinMaxScaler was fitted with feature names\n",
            "  \"X does not have valid feature names, but\"\n"
          ]
        }
      ]
    },
    {
      "cell_type": "code",
      "source": [
        "predicted_price = model.predict(X_test)\n",
        "\n",
        "predicted_price = sc.inverse_transform(predicted_price)"
      ],
      "metadata": {
        "id": "TAgxrkQHigQP"
      },
      "execution_count": null,
      "outputs": []
    },
    {
      "cell_type": "code",
      "source": [
        "# Visualising the results\n",
        "plt.figure(figsize=(8,5))\n",
        "plt.plot(mydata.loc[348:, 'date_dt'],dataset_test.values, color = 'red', label = 'observed cement', linestyle = '--')\n",
        "\n",
        "plt.plot(mydata.loc[348:, 'date_dt'],predicted_price, color = 'blue', label = 'fitted cement')\n",
        "plt.xlabel('Date', fontsize=12)\n",
        "plt.ylabel('RMC Price', fontsize=12)\n",
        "\n",
        "plt.title('RMC Time-Series Prediction', fontsize=13)\n",
        "\n",
        "plt.legend(fontsize=12)\n",
        "plt.grid()\n",
        "plt.show()"
      ],
      "metadata": {
        "colab": {
          "base_uri": "https://localhost:8080/",
          "height": 353
        },
        "outputId": "f3bc08ec-15f6-4cc9-8d01-bcae30b95c9c",
        "id": "AR0PYBRuigQQ"
      },
      "execution_count": null,
      "outputs": [
        {
          "output_type": "display_data",
          "data": {
            "text/plain": [
              "<Figure size 576x360 with 1 Axes>"
            ],
            "image/png": "[encoded data removed]"
          },
          "metadata": {
            "needs_background": "light"
          }
        }
      ]
    },
    {
      "cell_type": "code",
      "source": [
        "from sklearn.metrics import mean_squared_error\n",
        "mse = mean_squared_error(dataset_test, model.predict(X_test))\n",
        "np.sqrt(mse)"
      ],
      "metadata": {
        "colab": {
          "base_uri": "https://localhost:8080/"
        },
        "outputId": "1694b988-246e-493b-f3f4-5e0141bd1837",
        "id": "ammP7DvwigQQ"
      },
      "execution_count": null,
      "outputs": [
        {
          "output_type": "execute_result",
          "data": {
            "text/plain": [
              "100.57237630911916"
            ]
          },
          "metadata": {},
          "execution_count": 240
        }
      ]
    },
    {
      "cell_type": "code",
      "source": [
        "model.summary()"
      ],
      "metadata": {
        "id": "xO1UQo8sv387",
        "colab": {
          "base_uri": "https://localhost:8080/"
        },
        "outputId": "42980e9c-d8d8-47f2-b233-a0a9eb214c6f"
      },
      "execution_count": null,
      "outputs": [
        {
          "output_type": "stream",
          "name": "stdout",
          "text": [
            "Model: \"sequential_27\"\n",
            "_________________________________________________________________\n",
            " Layer (type)                Output Shape              Param #   \n",
            "=================================================================\n",
            " lstm_108 (LSTM)             (None, 20, 20)            1760      \n",
            "                                                                 \n",
            " dropout_108 (Dropout)       (None, 20, 20)            0         \n",
            "                                                                 \n",
            " lstm_109 (LSTM)             (None, 20, 20)            3280      \n",
            "                                                                 \n",
            " dropout_109 (Dropout)       (None, 20, 20)            0         \n",
            "                                                                 \n",
            " lstm_110 (LSTM)             (None, 20, 20)            3280      \n",
            "                                                                 \n",
            " dropout_110 (Dropout)       (None, 20, 20)            0         \n",
            "                                                                 \n",
            " lstm_111 (LSTM)             (None, 20)                3280      \n",
            "                                                                 \n",
            " dropout_111 (Dropout)       (None, 20)                0         \n",
            "                                                                 \n",
            " dense_27 (Dense)            (None, 1)                 21        \n",
            "                                                                 \n",
            "=================================================================\n",
            "Total params: 11,621\n",
            "Trainable params: 11,621\n",
            "Non-trainable params: 0\n",
            "_________________________________________________________________\n"
          ]
        }
      ]
    }
  ]
}