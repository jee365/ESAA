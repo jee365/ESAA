{
  "nbformat": 4,
  "nbformat_minor": 0,
  "metadata": {
    "colab": {
      "name": "0516 발표 fastai.ipynb",
      "provenance": [],
      "collapsed_sections": [],
      "authorship_tag": "ABX9TyNe71dd9WxBtKY46yJqgF+2",
      "include_colab_link": true
    },
    "kernelspec": {
      "name": "python3",
      "display_name": "Python 3"
    },
    "language_info": {
      "name": "python"
    }
  },
  "cells": [
    {
      "cell_type": "markdown",
      "metadata": {
        "id": "view-in-github",
        "colab_type": "text"
      },
      "source": [
        "<a href=\"https://colab.research.google.com/github/jee365/ESAA/blob/main/0516_%EB%B0%9C%ED%91%9C_fastai.ipynb\" target=\"_parent\"><img src=\"https://colab.research.google.com/assets/colab-badge.svg\" alt=\"Open In Colab\"/></a>"
      ]
    },
    {
      "cell_type": "markdown",
      "source": [
        "### **fast.ai 패키지**\n",
        "- pytorch 기반\n",
        "- 목표: 딥러닝 모델을 만드는 코드를 스킬 없이 빠르게 학습시켜 사용할 수 있도록 하는 것\n",
        "- 복잡한 구현 없이 딥러닝 모델을 생성할 수 있음\n",
        "- 모델 아키텍처의 선택, 전처리, 확대, 테스트, 교육 및 유효성 검사 등 중요한 데이터 선택을 캡슐화한 클래스\n"
      ],
      "metadata": {
        "id": "rIjXBHEn8WVm"
      }
    },
    {
      "cell_type": "markdown",
      "source": [
        "![image.png](data:image/png;base64,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)"
      ],
      "metadata": {
        "id": "xpDYDG_QDyGp"
      }
    },
    {
      "cell_type": "markdown",
      "source": [
        "fast.ai 0.7 버전을 사용하기 위해 python 2.7을 설치해봤지만, python 2.7을 지원하는 anaconda 파일 배포가 중지되어 더 이상 jupyter notebook이 실행되지 않음"
      ],
      "metadata": {
        "id": "k5qpyHzsD1DA"
      }
    },
    {
      "cell_type": "code",
      "execution_count": null,
      "metadata": {
        "colab": {
          "base_uri": "https://localhost:8080/"
        },
        "id": "mUWUYbRbwa5d",
        "outputId": "57080f22-236a-4821-d38c-fd8642875b52"
      },
      "outputs": [
        {
          "output_type": "stream",
          "name": "stdout",
          "text": [
            "Mounted at /content/gdrive\n"
          ]
        }
      ],
      "source": [
        "from google.colab import drive\n",
        "drive.mount('/content/gdrive')"
      ]
    },
    {
      "cell_type": "markdown",
      "source": [
        "코랩의 경우도 버전 문제가 해결되지 않음"
      ],
      "metadata": {
        "id": "Der-rwUpGHso"
      }
    },
    {
      "cell_type": "code",
      "source": [
        "!pip install -Uqq fastbook\n",
        "import fastbook\n",
        "fastbook.setup_book()"
      ],
      "metadata": {
        "colab": {
          "base_uri": "https://localhost:8080/"
        },
        "id": "CXKG0mGjD0Yu",
        "outputId": "7c472eda-085b-4337-80ed-89f740fd5e34"
      },
      "execution_count": null,
      "outputs": [
        {
          "output_type": "stream",
          "name": "stdout",
          "text": [
            "\u001b[K     |████████████████████████████████| 719 kB 7.5 MB/s \n",
            "\u001b[K     |████████████████████████████████| 1.2 MB 51.5 MB/s \n",
            "\u001b[K     |████████████████████████████████| 342 kB 52.5 MB/s \n",
            "\u001b[K     |████████████████████████████████| 4.2 MB 41.2 MB/s \n",
            "\u001b[K     |████████████████████████████████| 197 kB 61.3 MB/s \n",
            "\u001b[K     |████████████████████████████████| 59 kB 8.1 MB/s \n",
            "\u001b[K     |████████████████████████████████| 84 kB 3.9 MB/s \n",
            "\u001b[K     |████████████████████████████████| 136 kB 58.7 MB/s \n",
            "\u001b[K     |████████████████████████████████| 212 kB 47.8 MB/s \n",
            "\u001b[K     |████████████████████████████████| 1.1 MB 50.4 MB/s \n",
            "\u001b[K     |████████████████████████████████| 127 kB 72.7 MB/s \n",
            "\u001b[K     |████████████████████████████████| 144 kB 66.6 MB/s \n",
            "\u001b[K     |████████████████████████████████| 271 kB 58.4 MB/s \n",
            "\u001b[K     |████████████████████████████████| 94 kB 4.2 MB/s \n",
            "\u001b[K     |████████████████████████████████| 6.6 MB 46.8 MB/s \n",
            "\u001b[K     |████████████████████████████████| 596 kB 59.2 MB/s \n",
            "\u001b[31mERROR: pip's dependency resolver does not currently take into account all the packages that are installed. This behaviour is the source of the following dependency conflicts.\n",
            "datascience 0.10.6 requires folium==0.2.1, but you have folium 0.8.3 which is incompatible.\u001b[0m\n",
            "\u001b[?25h"
          ]
        }
      ]
    },
    {
      "cell_type": "code",
      "source": [
        "from fastbook import *"
      ],
      "metadata": {
        "id": "Lz5QI7xp7jDe"
      },
      "execution_count": null,
      "outputs": []
    },
    {
      "cell_type": "markdown",
      "source": [
        "fast.ai의 기능을 실행하기 위해 다양한 함수들을 불러왔지만 자세한 설명은 생략"
      ],
      "metadata": {
        "id": "1Rsast7oGwFB"
      }
    },
    {
      "cell_type": "code",
      "execution_count": null,
      "metadata": {
        "id": "h9NuXbKwfdRv"
      },
      "outputs": [],
      "source": [
        "from torch.utils.data import Dataset\n",
        "import os\n",
        "\n",
        "class CollabFilterDataset(Dataset):\n",
        "    def __init__(self, path, user_col, item_col, ratings):\n",
        "        self.ratings,self.path = ratings.values.astype(np.float32),path\n",
        "        self.n = len(ratings)\n",
        "        (self.users,self.user2idx,self.user_col,self.n_users) = self.proc_col(user_col)\n",
        "        (self.items,self.item2idx,self.item_col,self.n_items) = self.proc_col(item_col)\n",
        "        self.min_score,self.max_score = min(ratings),max(ratings)\n",
        "        self.cols = [self.user_col,self.item_col,self.ratings]\n",
        "\n",
        "    @classmethod\n",
        "    def from_data_frame(cls, path, df, user_name, item_name, rating_name):\n",
        "        return cls(path, df[user_name], df[item_name], df[rating_name])\n",
        "\n",
        "    @classmethod\n",
        "    def from_csv(cls, path, csv, user_name, item_name, rating_name):\n",
        "        df = pd.read_csv(os.path.join(path,csv))\n",
        "        return cls.from_data_frame(path, df, user_name, item_name, rating_name)\n",
        "\n",
        "    def proc_col(self,col):\n",
        "        uniq = col.unique()\n",
        "        name2idx = {o:i for i,o in enumerate(uniq)}\n",
        "        return (uniq, name2idx, np.array([name2idx[x] for x in col]), len(uniq))\n",
        "\n",
        "    def __len__(self): return self.n\n",
        "    def __getitem__(self, idx): return [o[idx] for o in self.cols]\n",
        "\n",
        "    def get_data(self, val_idxs, bs):\n",
        "        val, trn = zip(*split_by_idx(val_idxs, *self.cols))\n",
        "        return ColumnarModelData(self.path, PassthruDataset(*trn), PassthruDataset(*val), bs)\n",
        "\n",
        "    def get_model(self, n_factors):\n",
        "        model = EmbeddingDotBias(n_factors, self.n_users, self.n_items, self.min_score, self.max_score)\n",
        "        return CollabFilterModel((model))\n",
        "\n",
        "    def get_learner(self, n_factors, val_idxs, bs, **kwargs):\n",
        "        return CollabFilterLearner(self.get_data(val_idxs, bs), self.get_model(n_factors), **kwargs)"
      ]
    },
    {
      "cell_type": "code",
      "source": [
        "class BasicModel():\n",
        "    def __init__(self,model,name='unnamed'): self.model,self.name = model,name \n",
        "    def get_layer_groups(self, do_fc=False): return children(self.model)"
      ],
      "metadata": {
        "id": "JGInx2eWlDwS"
      },
      "execution_count": null,
      "outputs": []
    },
    {
      "cell_type": "code",
      "execution_count": null,
      "metadata": {
        "id": "c3ylI_EifdI6"
      },
      "outputs": [],
      "source": [
        "import torch.nn as nn\n",
        "\n",
        "\n",
        "def get_emb(ni,nf):\n",
        "    e = nn.Embedding(ni, nf)\n",
        "    e.weight.data.uniform_(-0.05,0.05)\n",
        "    return e\n",
        "\n",
        "class EmbeddingDotBias(nn.Module):\n",
        "    def __init__(self, n_factors, n_users, n_items, min_score, max_score):\n",
        "        super().__init__()\n",
        "        self.min_score,self.max_score = min_score,max_score\n",
        "        (self.u, self.i, self.ub, self.ib) = [get_emb(*o) for o in [\n",
        "            (n_users, n_factors), (n_items, n_factors), (n_users,1), (n_items,1)\n",
        "        ]]\n",
        "\n",
        "    def forward(self, users, items):\n",
        "        um = self.u(users)* self.i(items)\n",
        "        res = um.sum(1) + self.ub(users).squeeze() + self.ib(items).squeeze()\n",
        "        return F.sigmoid(res) * (self.max_score-self.min_score) + self.min_score\n",
        "\n",
        "class CollabFilterLearner(Learner):\n",
        "    def __init__(self, data, models, opt_fn, **kwargs):\n",
        "        super().__init__(data, models,opt_fn, **kwargs)\n",
        "        self.crit = F.mse_loss\n",
        "\n",
        "class CollabFilterModel(BasicModel):\n",
        "    def get_layer_groups(self): return self.model"
      ]
    },
    {
      "cell_type": "code",
      "source": [
        "class ModelData():\n",
        "    \"\"\"Encapsulates DataLoaders and Datasets for training, validation, test. Base class for fastai *Data classes.\"\"\"\n",
        "    def __init__(self, path, trn_dl, val_dl, test_dl=None):\n",
        "        self.path,self.trn_dl,self.val_dl,self.test_dl = path,trn_dl,val_dl,test_dl\n",
        "\n",
        "    @classmethod\n",
        "    def from_dls(cls, path,trn_dl,val_dl,test_dl=None):\n",
        "        #trn_dl,val_dl = DataLoader(trn_dl),DataLoader(val_dl)\n",
        "        #if test_dl: test_dl = DataLoader(test_dl)\n",
        "        return cls(path, trn_dl, val_dl, test_dl)\n",
        "\n",
        "    @property\n",
        "    def is_reg(self): return self.trn_ds.is_reg\n",
        "    @property\n",
        "    def is_multi(self): return self.trn_ds.is_multi\n",
        "    @property\n",
        "    def trn_ds(self): return self.trn_dl.dataset\n",
        "    @property\n",
        "    def val_ds(self): return self.val_dl.dataset\n",
        "    @property\n",
        "    def test_ds(self): return self.test_dl.dataset\n",
        "    @property\n",
        "    def trn_y(self): return self.trn_ds.y\n",
        "    @property\n",
        "    def val_y(self): return self.val_ds.y\n"
      ],
      "metadata": {
        "id": "PjCzR45nlOfg"
      },
      "execution_count": null,
      "outputs": []
    },
    {
      "cell_type": "code",
      "source": [
        "class PassthruDataset(Dataset):\n",
        "    def __init__(self,*args):\n",
        "        *xs,y=args\n",
        "        self.xs,self.y = xs,y\n",
        "\n",
        "    def __len__(self): return len(self.y)\n",
        "    def __getitem__(self, idx): return [o[idx] for o in self.xs] + [self.y[idx]]\n",
        "\n",
        "    @classmethod\n",
        "    def from_data_frame(self, df, cols_x, col_y):\n",
        "        cols = [df[o] for o in cols_x+[col_y]]\n",
        "        return self(*cols)"
      ],
      "metadata": {
        "id": "odz9xpSHlfau"
      },
      "execution_count": null,
      "outputs": []
    },
    {
      "cell_type": "code",
      "source": [
        "class ColumnarDataset(Dataset):\n",
        "    def __init__(self, cats, conts, y):\n",
        "        n = len(cats[0]) if cats else len(conts[0])\n",
        "        self.cats = np.stack(cats, 1).astype(np.int64) if cats else np.zeros((n,1))\n",
        "        self.conts = np.stack(conts, 1).astype(np.float32) if conts else np.zeros((n,1))\n",
        "        self.y = np.zeros((n,1)) if y is None else y[:,None]\n",
        "\n",
        "    def __len__(self): return len(self.y)\n",
        "\n",
        "    def __getitem__(self, idx):\n",
        "        return [self.cats[idx], self.conts[idx], self.y[idx]]\n",
        "\n",
        "    @classmethod\n",
        "    def from_data_frames(cls, df_cat, df_cont, y=None):\n",
        "        cat_cols = [c.values for n,c in df_cat.items()]\n",
        "        cont_cols = [c.values for n,c in df_cont.items()]\n",
        "        return cls(cat_cols, cont_cols, y)\n",
        "\n",
        "    @classmethod\n",
        "    def from_data_frame(cls, df, cat_flds, y=None):\n",
        "        return cls.from_data_frames(df[cat_flds], df.drop(cat_flds, axis=1), y)"
      ],
      "metadata": {
        "id": "NMEqfAIPlhsR"
      },
      "execution_count": null,
      "outputs": []
    },
    {
      "cell_type": "code",
      "source": [
        "class ColumnarModelData(ModelData):\n",
        "    def __init__(self, path, trn_ds, val_ds, bs, test_ds=None, shuffle=True):\n",
        "        test_dl = DataLoader(test_ds, bs, shuffle=False, num_workers=1) if test_ds is not None else None\n",
        "        super().__init__(path, DataLoader(trn_ds, bs, shuffle=shuffle, num_workers=1),\n",
        "            DataLoader(val_ds, bs*2, shuffle=False, num_workers=1), test_dl)\n",
        "\n",
        "    @classmethod\n",
        "    def from_arrays(cls, path, val_idxs, xs, y, bs=64, test_xs=None, shuffle=True):\n",
        "        ((val_xs, trn_xs), (val_y, trn_y)) = split_by_idx(val_idxs, xs, y)\n",
        "        test_ds = PassthruDataset(*(test_xs.T), [0] * len(test_xs)) if test_xs is not None else None\n",
        "        return cls(path, PassthruDataset(*(trn_xs.T), trn_y), PassthruDataset(*(val_xs.T), val_y),\n",
        "                   bs=bs, shuffle=shuffle, test_ds=test_ds)\n",
        "\n",
        "    @classmethod\n",
        "    def from_data_frames(cls, path, trn_df, val_df, trn_y, val_y, cat_flds, bs, test_df=None):\n",
        "        test_ds = ColumnarDataset.from_data_frame(test_df, cat_flds) if test_df is not None else None\n",
        "        return cls(path, ColumnarDataset.from_data_frame(trn_df, cat_flds, trn_y),\n",
        "                    ColumnarDataset.from_data_frame(val_df, cat_flds, val_y), bs, test_ds=test_ds)\n",
        "\n",
        "    @classmethod\n",
        "    def from_data_frame(cls, path, val_idxs, df, y, cat_flds, bs, test_df=None):\n",
        "        ((val_df, trn_df), (val_y, trn_y)) = split_by_idx(val_idxs, df, y)\n",
        "        return cls.from_data_frames(path, trn_df, val_df, trn_y, val_y, cat_flds, bs, test_df=test_df)\n",
        "\n",
        "    def get_learner(self, emb_szs, n_cont, emb_drop, out_sz, szs, drops,\n",
        "                    y_range=None, use_bn=False, **kwargs):\n",
        "        model = MixedInputModel(emb_szs, n_cont, emb_drop, out_sz, szs, drops, y_range, use_bn)\n",
        "        return StructuredLearner(self, StructuredModel(to_gpu(model)), opt_fn=optim.Adam, **kwargs)\n",
        "\n"
      ],
      "metadata": {
        "id": "L3swDzoEkoHG"
      },
      "execution_count": null,
      "outputs": []
    },
    {
      "cell_type": "code",
      "execution_count": null,
      "metadata": {
        "id": "c1TwLsWBxagA"
      },
      "outputs": [],
      "source": [
        "from torch import nn\n",
        "class EmbeddingNet(nn.Module):\n",
        "    def __init__(self, n_users, n_movies, nh=10, p1=0.05, p2=0.5):\n",
        "        super().__init__()\n",
        "        (self.u, self.m) = [get_emb(*o) for o in [\n",
        "            (n_users, n_factors), (n_movies, n_factors)]]\n",
        "        self.lin1 = nn.Linear(n_factors*2, nh)\n",
        "        self.lin2 = nn.Linear(nh, 1)\n",
        "        self.drop1 = nn.Dropout(p1)\n",
        "        self.drop2 = nn.Dropout(p2)\n",
        "        \n",
        "    def forward(self, cats, conts):\n",
        "        users,movies = cats[:,0],cats[:,1]\n",
        "        x = self.drop1(torch.cat([self.u(users),self.m(movies)], dim=1))\n",
        "        x = self.drop2(F.relu(self.lin1(x)))\n",
        "        return F.sigmoid(self.lin2(x)) * (max_rating-min_rating+1) + min_rating-0.5"
      ]
    },
    {
      "cell_type": "code",
      "execution_count": null,
      "metadata": {
        "id": "S1XghjKmaSq3"
      },
      "outputs": [],
      "source": [
        "import numpy as np\n",
        "from torch import nn\n",
        "import torch.optim as optim"
      ]
    },
    {
      "cell_type": "markdown",
      "source": [
        "**get_cv_idxs**(n, cv_idx=0, val_pct=0.2, seed=42): validation set의 인덱스를 가져오는 역할\n",
        "\n",
        "- n: 전체 데이터 수\n",
        "- cv_idx: 시작 인덱스\n",
        "- val_pct: validation set 비율"
      ],
      "metadata": {
        "id": "lOpzi9BAHNBc"
      }
    },
    {
      "cell_type": "code",
      "execution_count": null,
      "metadata": {
        "id": "3TYCksybU1zT"
      },
      "outputs": [],
      "source": [
        "def get_cv_idxs(n, cv_idx=0, val_pct=0.2, seed=42):\n",
        "\n",
        "    np.random.seed(seed)\n",
        "    n_val = int(val_pct*n)\n",
        "    idx_start = cv_idx*n_val\n",
        "    idxs = np.random.permutation(n)\n",
        "    return idxs[idx_start:idx_start+n_val]"
      ]
    },
    {
      "cell_type": "code",
      "source": [
        "def split_by_idx(idxs, *a):\n",
        "    mask = np.zeros(len(a[0]),dtype=bool)\n",
        "    mask[np.array(idxs)] = True\n",
        "    return [(o[mask],o[~mask]) for o in a]"
      ],
      "metadata": {
        "id": "L3HOlx02jdZv"
      },
      "execution_count": null,
      "outputs": []
    },
    {
      "cell_type": "markdown",
      "source": [
        "####**1. Shalllow Learning**\n",
        "\n",
        "![image.png](data:image/png;base64,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)\n",
        "\n",
        "머신러닝은 컴퓨터 시스템이 스스로 데이터로부터 학습할 수 있게 하는 인공지능의 한 분야 -> **딥러닝** 포함\n",
        "\n",
        "- 선형 회귀\n",
        "- 로지스틱 회귀\n",
        "- 나이브 베이즈 분류\n",
        "- SVM(Support Vector Machine)\n",
        "- 의사결정 나무\n",
        "- 인공신경망(딥러닝)\n",
        "\n",
        "이 중 인공신경망을 제외한 선형 회귀, 로지스틱 회귀 등의 알고리즘은 모두 **Shallow Learning**에 포함"
      ],
      "metadata": {
        "id": "oO3DtetIMzQ7"
      }
    },
    {
      "cell_type": "markdown",
      "source": [
        "- **wd**: 가중치 감소로 함수의 복잡도를 조정\n",
        "- **n_factors**: embedding matrix의 차수\n",
        "- **CollabFilterDataset**: 데이터 로드 모듈\n",
        "- **get_learner**: 모델을 초기화하는 역할(첫번째 모델)\n",
        "- optimizer는 Adam으로 설정\n",
        "- learn.fit으로 모델 fitting(learning rate: 1e-2, epochs: 2) -> nueral net에 **2개의 embedding layer를 추가**\n",
        "- cycle length와 2 cycle multiple로 learning rate 조절"
      ],
      "metadata": {
        "id": "8TmFz0G7OLg4"
      }
    },
    {
      "cell_type": "code",
      "source": [
        "import pandas as pd\n",
        "\n",
        "path = '/content/gdrive/MyDrive/Colab Notebooks'\n",
        "ratings = pd.read_csv('/content/gdrive/MyDrive/Colab Notebooks/ratings_small.csv')\n",
        "\n",
        "val_indx = get_cv_idxs(len(ratings))\n",
        "wd = 2e-4\n",
        "n_factors = 50\n",
        "\n",
        "#data loader\n",
        "cf = CollabFilterDataset.from_csv(path, 'ratings_small.csv','userId', 'movieId', 'rating')\n",
        "\n",
        "#learner initializes model object\n",
        "learn = cf.get_learner(n_factors, val_indx, bs=64, opt_fn=optim.Adam)\n",
        "\n",
        "# fitting model with 1e-2 learning rate, 2 epochs\n",
        "learn.fit(1e-2,2, wds = wd, cycle_len=1, cycle_mult=2)"
      ],
      "metadata": {
        "id": "49hi1yiA7i6w"
      },
      "execution_count": null,
      "outputs": []
    },
    {
      "cell_type": "markdown",
      "source": [
        "####2. **Deep Learning**\n",
        "\n",
        "shallow learning에 linear, nonlinear layers를 추가하여 deep neural net model 생성"
      ],
      "metadata": {
        "id": "YASW2b19QWaW"
      }
    },
    {
      "cell_type": "markdown",
      "source": [
        "**Step 1>**\n",
        "**ColumnarModelData.from_data_frame**을 사용하여 데이터셋을 로드"
      ],
      "metadata": {
        "id": "mPM5q0Q5Qvrn"
      }
    },
    {
      "cell_type": "code",
      "source": [
        "x = ratings.drop(['rating'],axis=1)\n",
        "y = ratings['rating'].astype(np.float32)\n",
        "data = ColumnarModelData.from_data_frame(path, val_indx, x, y, ['userId', 'movieId'], 64)"
      ],
      "metadata": {
        "id": "II2DNn2X7i1c"
      },
      "execution_count": null,
      "outputs": []
    },
    {
      "cell_type": "markdown",
      "source": [
        "x는 'userid', 'movieid', 'timestamp'에 대한 정보를 갖고 있고 y는 'rating' 항목만을 가진 numpy 배열 형태"
      ],
      "metadata": {
        "id": "vIIDHG79RDkx"
      }
    },
    {
      "cell_type": "markdown",
      "source": [
        "**Step 2**> custom neural net을 정의\n",
        "\n",
        "초기화 함수 __init__()와 input 값을 넣는 forward() 필수\n",
        "\n",
        "- **dropout layer**: 주어진 확률 파라미터 값에 따라 각 뉴런의 activation을 감소시킴. overfitting을 줄이기 위해 랜덤으로 특정 뉴런의 activation이 파라미터 업데이트에 참여하지 못하도록 함.\n",
        "\n",
        "- **embedding layer**: unique 사용자들과 unique 영화들에 해당하는 embedding을 위해 lookup table 생성. back-propagation의 과정에서 값을 업데이트.\n",
        "\n",
        "- **linear**: bias를 추가하여 선형 행렬 곱을 하는 레이어\n",
        "\n",
        "- **relu**: relu function(f(x) = max(0,x)) 를 이용하여 non linearity를 추가하는 레이어\n",
        "\n",
        "- **sigmoid**: training data로부터 계산한 최소값과 최대값 사이의 평가값들을 0부터 1 사이의 값으로 제한"
      ],
      "metadata": {
        "id": "bdyGIL_fYOZ0"
      }
    },
    {
      "cell_type": "markdown",
      "source": [
        "- nh: hidden linear layer의 차수\n",
        "- p1 / p2: 1번째 / 2번째 dropout\n",
        "- torch.cat으로 2개의 은닉층을 연결"
      ],
      "metadata": {
        "id": "hELoQv6panN6"
      }
    },
    {
      "cell_type": "code",
      "source": [
        "# nh = dimension of hidden linear layer\n",
        "# p1 = dropout1\n",
        "# p2 = dropout2\n",
        "\n",
        "class EmbeddingNet(nn.Module):\n",
        "    def __init__(self, n_users, _n_movies, nh = 10, p1 = 0.05, p2= 0.5):\n",
        "        super().__init__()\n",
        "        (self.u, self.m, self.ub, self.mb) = [get_emb(*o) for o in [\n",
        "            (n_users, n_factors), (n_movies, n_factors),\n",
        "            (n_users,1), (n_movies,1)\n",
        "        ]]\n",
        "        \n",
        "        self.lin1 = nn.Linear(n_factors*2, nh)  # bias is True by default\n",
        "        self.lin2 = nn.Linear(nh, 1)\n",
        "        self.drop1 = nn.Dropout(p = p1)\n",
        "        self.drop2 = nn.Dropout(p = p2)\n",
        "    \n",
        "    def forward(self, cats, conts): # forward pass i.e.  dot product of vector from movie embedding matrix\n",
        "                                    # and vector from user embeddings matrix\n",
        "        \n",
        "        # torch.cat : concatenates both embedding matrix to make more columns, same rows i.e. n_factors*2, n : rows\n",
        "        # u(users) is doing lookup for indexed mentioned in users\n",
        "        # users has indexes to lookup in embedding matrix. \n",
        "        \n",
        "        users,movies = cats[:,0],cats[:,1]\n",
        "        u2,m2 = self.u(users) , self.m(movies)\n",
        "       \n",
        "        x = self.drop1(torch.cat([u2,m2], 1)) # drop initialized weights\n",
        "        x = self.drop2(F.relu(self.lin1(x))) # drop 1st linear + nonlinear wt\n",
        "        r = F.sigmoid(self.lin2(x)) * (max_rating - min_rating) + min_rating               \n",
        "        return r"
      ],
      "metadata": {
        "id": "8pif3lZzRYb2"
      },
      "execution_count": null,
      "outputs": []
    },
    {
      "cell_type": "markdown",
      "source": [
        "**step3**> 정의한 함수에 값을 대입\n",
        "\n",
        "- EmbeddingNet을 이용해 model 생성(# of users와 # of movies 대입)\n",
        "- optimizer의 learning rate는 1e-3, 가중치 감소는 1e-5로 설정\n",
        "- model fitting 후 learning rate annealing\n",
        "\n",
        "**learning rate annealing**: 초기 learning rate를 상대적으로 크게 설정하여 Local minimum에 보다 더 빠르게 다가갈 수 있게 만들어주고 이후 learning rate을 줄여가며 local minimum에 보다 정확하게 수렴할 수 있게 만들어줌\n",
        "\n"
      ],
      "metadata": {
        "id": "RRlGNCu6Yuqy"
      }
    },
    {
      "cell_type": "code",
      "source": [
        "# n_users: count unique users (671), n_movies: count unique movies (9066)\n",
        "model = EmbeddingNet(n_users, n_movies)\n",
        "\n",
        "# model.parameters() for back-propagation of weights \n",
        "# lr = 1e-3, weight decay = 1e-5 and using adam optimizer \n",
        "opt = optim.Adam(model.parameters(), 1e-3, weight_decay=1e-5)\n",
        "\n",
        "# fitting model,\n",
        "fit(model, data, 3, opt, F.mse_loss)\n",
        "\n",
        "# learning rate annealing\n",
        "set_lrs(opt, 1e-3)\n",
        "fit(model, data, 3, opt, F.mse_loss)"
      ],
      "metadata": {
        "id": "D-L9-VjtRZBz"
      },
      "execution_count": null,
      "outputs": []
    },
    {
      "cell_type": "markdown",
      "source": [
        "딥러닝 모델에서의 MSE loss\n",
        "\n",
        "![image.png](data:image/png;base64,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)"
      ],
      "metadata": {
        "id": "5s3I5nfSdXkS"
      }
    },
    {
      "cell_type": "markdown",
      "source": [
        "모델의 **mse 행렬**을 구하면 다음과 같음\n",
        "\n",
        "![image.png](data:image/png;base64,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)"
      ],
      "metadata": {
        "id": "5sivp6b4ZAtC"
      }
    }
  ]
}