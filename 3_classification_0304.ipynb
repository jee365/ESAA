{
  "nbformat": 4,
  "nbformat_minor": 0,
  "metadata": {
    "colab": {
      "name": "3.classification_0304.ipynb",
      "provenance": [],
      "collapsed_sections": [],
      "authorship_tag": "ABX9TyP68rz1msz0u66CIX8JH1Nd",
      "include_colab_link": true
    },
    "kernelspec": {
      "name": "python3",
      "display_name": "Python 3"
    },
    "language_info": {
      "name": "python"
    }
  },
  "cells": [
    {
      "cell_type": "markdown",
      "metadata": {
        "id": "view-in-github",
        "colab_type": "text"
      },
      "source": [
        "<a href=\"https://colab.research.google.com/github/jee365/ESAA/blob/main/3_classification_0304.ipynb\" target=\"_parent\"><img src=\"https://colab.research.google.com/assets/colab-badge.svg\" alt=\"Open In Colab\"/></a>"
      ]
    },
    {
      "cell_type": "markdown",
      "source": [
        "##3.1 MNIST\n",
        "\n",
        "DESCR 키: 데이터셋을 설명\n",
        "\n",
        "data 키: 샘플이 하나의 행, 특성이 하나의 열로 구성된 배열\n",
        "\n",
        "target 키: 레이블 배열"
      ],
      "metadata": {
        "id": "6LKOyHaw11Yr"
      }
    },
    {
      "cell_type": "code",
      "source": [
        "from sklearn.datasets import fetch_openml\n",
        "mnist = fetch_openml('mnist_784',version=1)\n",
        "mnist.keys()"
      ],
      "metadata": {
        "id": "icvNPV5W104m",
        "colab": {
          "base_uri": "https://localhost:8080/"
        },
        "outputId": "bfdd631d-1b4a-4211-c4ac-4f70ca750939"
      },
      "execution_count": 2,
      "outputs": [
        {
          "output_type": "execute_result",
          "data": {
            "text/plain": [
              "dict_keys(['data', 'target', 'frame', 'categories', 'feature_names', 'target_names', 'DESCR', 'details', 'url'])"
            ]
          },
          "metadata": {},
          "execution_count": 2
        }
      ]
    },
    {
      "cell_type": "code",
      "source": [
        "X,y= mnist['data'],mnist['target']\n",
        "X.shape"
      ],
      "metadata": {
        "id": "osSZrNvO100_",
        "colab": {
          "base_uri": "https://localhost:8080/"
        },
        "outputId": "94f248cb-7f73-4eed-b47d-18652d86b848"
      },
      "execution_count": 3,
      "outputs": [
        {
          "output_type": "execute_result",
          "data": {
            "text/plain": [
              "(70000, 784)"
            ]
          },
          "metadata": {},
          "execution_count": 3
        }
      ]
    },
    {
      "cell_type": "code",
      "source": [
        "y.shape"
      ],
      "metadata": {
        "id": "egA77Un810yC",
        "colab": {
          "base_uri": "https://localhost:8080/"
        },
        "outputId": "a330ca43-36dc-48d4-a550-2c88101fc02c"
      },
      "execution_count": 4,
      "outputs": [
        {
          "output_type": "execute_result",
          "data": {
            "text/plain": [
              "(70000,)"
            ]
          },
          "metadata": {},
          "execution_count": 4
        }
      ]
    },
    {
      "cell_type": "code",
      "source": [
        "#데이터셋 이미지 하나 확인\n",
        "\n",
        "import numpy as np\n",
        "X, y = mnist['data'], mnist['target']\n",
        "y = y.astype(np.int8) "
      ],
      "metadata": {
        "id": "1Jl08TX3-98A"
      },
      "execution_count": 12,
      "outputs": []
    },
    {
      "cell_type": "code",
      "source": [
        "import matplotlib as mpl\n",
        "import matplotlib.pyplot as plt\n",
        "\n",
        "some_digit = X.to_numpy()[0]\n",
        "some_digit_image = some_digit.reshape(28,28)\n",
        "\n",
        "plt.imshow(some_digit_image, cmap='binary')\n",
        "plt.axis('off')\n",
        "plt.show()"
      ],
      "metadata": {
        "id": "IaPfacPL10vV",
        "colab": {
          "base_uri": "https://localhost:8080/",
          "height": 247
        },
        "outputId": "4c785c27-d477-4686-f9f5-db6a1b648938"
      },
      "execution_count": 14,
      "outputs": [
        {
          "output_type": "display_data",
          "data": {
            "text/plain": [
              "<Figure size 432x288 with 1 Axes>"
            ],
            "image/png": "[encoded data removed]"
          },
          "metadata": {
            "needs_background": "light"
          }
        }
      ]
    },
    {
      "cell_type": "code",
      "source": [
        "y[0]"
      ],
      "metadata": {
        "id": "XmBtLMBG10tW",
        "colab": {
          "base_uri": "https://localhost:8080/"
        },
        "outputId": "4195534b-afcc-4107-e1fe-95d1a026c1f2"
      },
      "execution_count": 15,
      "outputs": [
        {
          "output_type": "execute_result",
          "data": {
            "text/plain": [
              "5"
            ]
          },
          "metadata": {},
          "execution_count": 15
        }
      ]
    },
    {
      "cell_type": "code",
      "source": [
        "#train 데이터셋과 test 데이터셋은 이미 분류되어 있음\n",
        "\n",
        "X_train, X_test, y_train, y_test = X[:60000],X[60000:],y[:60000],y[60000:]"
      ],
      "metadata": {
        "id": "auLNzLGq_mNp"
      },
      "execution_count": 16,
      "outputs": []
    },
    {
      "cell_type": "markdown",
      "source": [
        "##3.2 이진 분류기 훈련\n",
        "\n",
        "ex) 숫자 5만 식별: '5', '5 아님'\n"
      ],
      "metadata": {
        "id": "WoEZ9kqrAZVc"
      }
    },
    {
      "cell_type": "code",
      "source": [
        "y_train_5 = (y_train == 5) #5는 True, 다른 숫자 False\n",
        "y_test_5 = (y_test == 5)"
      ],
      "metadata": {
        "id": "NUlQjLt-10qp"
      },
      "execution_count": 17,
      "outputs": []
    },
    {
      "cell_type": "markdown",
      "source": [
        "**확률적 경사 하강법 분류기(SGD)**: SGDClassifier 클래스를 사용해 매우 큰 데이터셋을 효율적으로 처리"
      ],
      "metadata": {
        "id": "x0licu2SA7tz"
      }
    },
    {
      "cell_type": "code",
      "source": [
        "from sklearn.linear_model import SGDClassifier\n",
        "\n",
        "sgd_clf = SGDClassifier(random_state=42)\n",
        "sgd_clf.fit(X_train, y_train_5)"
      ],
      "metadata": {
        "id": "I77orVK110nf",
        "colab": {
          "base_uri": "https://localhost:8080/"
        },
        "outputId": "36fdbaee-75a2-4d4e-dc86-0745b05deb6f"
      },
      "execution_count": 18,
      "outputs": [
        {
          "output_type": "execute_result",
          "data": {
            "text/plain": [
              "SGDClassifier(random_state=42)"
            ]
          },
          "metadata": {},
          "execution_count": 18
        }
      ]
    },
    {
      "cell_type": "code",
      "source": [
        "sgd_clf.predict([some_digit]) #5를 나타낸다고 추측(True)"
      ],
      "metadata": {
        "id": "xn4SqtPG10k4",
        "colab": {
          "base_uri": "https://localhost:8080/"
        },
        "outputId": "6ecb4736-dae0-419e-f14f-8c560c9895f9"
      },
      "execution_count": 19,
      "outputs": [
        {
          "output_type": "stream",
          "name": "stderr",
          "text": [
            "/usr/local/lib/python3.7/dist-packages/sklearn/base.py:451: UserWarning: X does not have valid feature names, but SGDClassifier was fitted with feature names\n",
            "  \"X does not have valid feature names, but\"\n"
          ]
        },
        {
          "output_type": "execute_result",
          "data": {
            "text/plain": [
              "array([ True])"
            ]
          },
          "metadata": {},
          "execution_count": 19
        }
      ]
    },
    {
      "cell_type": "markdown",
      "source": [
        "##3.3 성능 측정\n",
        "\n",
        "###3.3.1 교차 검증을 사용한 정확도 측정\n",
        "\n",
        "(StratifiedKFold는 클래스별 비율이 유지되도록 폴드를 만들기 위해 계층적 샘플링을 수행, \n",
        "\n",
        "cross_val_score()와 거의 같은 작업을 수행하고 동일한 결과를 출력)"
      ],
      "metadata": {
        "id": "k5PtlLAfBq_g"
      }
    },
    {
      "cell_type": "code",
      "source": [
        "#cross_val_score() 함수로 폴드가 3개인 k-겹 교차 검증을 사용해 SGDClassifier 모델을 평가\n",
        "\n",
        "from sklearn.model_selection import cross_val_score\n",
        "cross_val_score(sgd_clf, X_train, y_train_5, cv=3, scoring='accuracy') #모든 검증 폴드의 정확도가 95% 이상"
      ],
      "metadata": {
        "colab": {
          "base_uri": "https://localhost:8080/"
        },
        "id": "u-TusBokBqd5",
        "outputId": "35716933-3e51-495b-d91c-1d0c05a2bcd3"
      },
      "execution_count": 20,
      "outputs": [
        {
          "output_type": "execute_result",
          "data": {
            "text/plain": [
              "array([0.95035, 0.96035, 0.9604 ])"
            ]
          },
          "metadata": {},
          "execution_count": 20
        }
      ]
    },
    {
      "cell_type": "code",
      "source": [
        "#더미 분류기 생성하여 비교\n",
        "\n",
        "from sklearn.base import BaseEstimator\n",
        "\n",
        "class Never5Classifier(BaseEstimator):\n",
        "  def fit(self, X, y = None):\n",
        "    return self\n",
        "  def predict(self,X):\n",
        "    return np.zeros((len(X),1),dtype=bool)"
      ],
      "metadata": {
        "id": "gECTe2NABqby"
      },
      "execution_count": 21,
      "outputs": []
    },
    {
      "cell_type": "code",
      "source": [
        "never_5_clf = Never5Classifier()\n",
        "cross_val_score(never_5_clf, X_train, y_train_5, cv=3, scoring='accuracy') #모든 검증 폴드의 정확도가 90% 이상"
      ],
      "metadata": {
        "colab": {
          "base_uri": "https://localhost:8080/"
        },
        "id": "0GAxVTk5BqXo",
        "outputId": "3bf87faa-6805-4553-ba5f-05dc48cc1693"
      },
      "execution_count": 23,
      "outputs": [
        {
          "output_type": "execute_result",
          "data": {
            "text/plain": [
              "array([0.91125, 0.90855, 0.90915])"
            ]
          },
          "metadata": {},
          "execution_count": 23
        }
      ]
    },
    {
      "cell_type": "markdown",
      "source": [
        "불균형한 데이터셋을 다룰 때 정확도를 분류기의 성능 측정 지표로 선호하지 않음"
      ],
      "metadata": {
        "id": "BSb0CeR8D6dD"
      }
    },
    {
      "cell_type": "markdown",
      "source": [
        "###3.3.2 오차 행렬\n",
        "\n",
        "클래스 A의 샘플이 클래스 B로 분류된 횟수를 세는 것\n",
        "\n"
      ],
      "metadata": {
        "id": "wOV1hGV-EDa7"
      }
    },
    {
      "cell_type": "code",
      "source": [
        "#실제 타깃과 비교할 수 있는 예측값 생성\n",
        "\n",
        "from sklearn.model_selection import cross_val_predict\n",
        "y_train_pred = cross_val_predict(sgd_clf, X_train, y_train_5, cv=3)"
      ],
      "metadata": {
        "id": "jacFs1ksBqU0"
      },
      "execution_count": 24,
      "outputs": []
    },
    {
      "cell_type": "markdown",
      "source": [
        "cross_val_predict() 함수처럼 k-겹 교차 검증을 수행하지만 평가 점수를 반환하지 않고 각 테스트 폴드에서 얻은 예측을 반환"
      ],
      "metadata": {
        "id": "tow7MAbFFaNj"
      }
    },
    {
      "cell_type": "code",
      "source": [
        "#오차행렬 생성\n",
        "\n",
        "from sklearn.metrics import confusion_matrix\n",
        "confusion_matrix(y_train_5, y_train_pred)"
      ],
      "metadata": {
        "colab": {
          "base_uri": "https://localhost:8080/"
        },
        "id": "Gr4L21k4BqR2",
        "outputId": "8017a7a2-3128-4235-fca4-b334d9677faa"
      },
      "execution_count": 25,
      "outputs": [
        {
          "output_type": "execute_result",
          "data": {
            "text/plain": [
              "array([[53892,   687],\n",
              "       [ 1891,  3530]])"
            ]
          },
          "metadata": {},
          "execution_count": 25
        }
      ]
    },
    {
      "cell_type": "markdown",
      "source": [
        "오차행렬에서 행: 실제 클래스 / 열: 예측한 클래스\n",
        "\n",
        "첫번째 행: 음성 클래스(5 아님) / 두번째 행: 양성 클래스(5)\n",
        "\n",
        "[음성  위양성\n",
        "\n",
        "위음성  양성]\n"
      ],
      "metadata": {
        "id": "Z60-Y5HgJ1dY"
      }
    },
    {
      "cell_type": "code",
      "source": [
        "y_train_perfect_predictions = y_train_5\n",
        "confusion_matrix(y_train_5, y_train_perfect_predictions)"
      ],
      "metadata": {
        "colab": {
          "base_uri": "https://localhost:8080/"
        },
        "id": "0s-ilo97J1Ol",
        "outputId": "97694403-2d9c-46d4-ae76-119269e4abc4"
      },
      "execution_count": 26,
      "outputs": [
        {
          "output_type": "execute_result",
          "data": {
            "text/plain": [
              "array([[54579,     0],\n",
              "       [    0,  5421]])"
            ]
          },
          "metadata": {},
          "execution_count": 26
        }
      ]
    },
    {
      "cell_type": "markdown",
      "source": [
        "**정밀도**(precision): 양성 예측의 정확도\n",
        "\n",
        "**재현율**(recall): 분류기가 예측한 양성 샘플의 비율(민감도)"
      ],
      "metadata": {
        "id": "Zb7Jj9l8L0iR"
      }
    },
    {
      "cell_type": "markdown",
      "source": [
        "![image.png](data:image/png;base64,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)\n"
      ],
      "metadata": {
        "id": "WNS-SSdFLCpA"
      }
    },
    {
      "cell_type": "markdown",
      "source": [
        "TP: 진짜 양성의 수 / FP: 거짓 양성의 수"
      ],
      "metadata": {
        "id": "BmpeHGJLLSck"
      }
    },
    {
      "cell_type": "markdown",
      "source": [
        "![image.png](data:image/png;base64,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)"
      ],
      "metadata": {
        "id": "BkOM1frALblV"
      }
    },
    {
      "cell_type": "markdown",
      "source": [
        "FN: 거짓 음성의 수"
      ],
      "metadata": {
        "id": "R4vcoCfVLkpg"
      }
    },
    {
      "cell_type": "markdown",
      "source": [
        "![image.png](data:image/png;base64,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)"
      ],
      "metadata": {
        "id": "JYfukdeLLxwN"
      }
    },
    {
      "cell_type": "markdown",
      "source": [
        "###3.3.3 정밀도와 재현율"
      ],
      "metadata": {
        "id": "0oJkhmWSMbjn"
      }
    },
    {
      "cell_type": "code",
      "source": [
        "from sklearn.metrics import precision_score, recall_score\n",
        "precision_score(y_train_5, y_train_pred) #정밀도"
      ],
      "metadata": {
        "colab": {
          "base_uri": "https://localhost:8080/"
        },
        "id": "KmW-GWyPLCB-",
        "outputId": "c0dc541b-9cee-49ec-9702-46f99b56828e"
      },
      "execution_count": 27,
      "outputs": [
        {
          "output_type": "execute_result",
          "data": {
            "text/plain": [
              "0.8370879772350012"
            ]
          },
          "metadata": {},
          "execution_count": 27
        }
      ]
    },
    {
      "cell_type": "code",
      "source": [
        "recall_score(y_train_5, y_train_pred) #재현율"
      ],
      "metadata": {
        "id": "DXXGRBrS10i0",
        "colab": {
          "base_uri": "https://localhost:8080/"
        },
        "outputId": "8ae8b486-206d-418b-ac9d-9e7e161c500c"
      },
      "execution_count": 28,
      "outputs": [
        {
          "output_type": "execute_result",
          "data": {
            "text/plain": [
              "0.6511713705958311"
            ]
          },
          "metadata": {},
          "execution_count": 28
        }
      ]
    },
    {
      "cell_type": "markdown",
      "source": [
        "**F1 점수**: 정밀도와 재현율의 조화 평균, 두 분류기를 비교할 때 유용\n",
        "\n",
        "![image.png](data:image/png;base64,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)"
      ],
      "metadata": {
        "id": "xPB75zM2NEPE"
      }
    },
    {
      "cell_type": "code",
      "source": [
        "from sklearn.metrics import f1_score\n",
        "f1_score(y_train_5, y_train_pred) #정밀도와 재현율이 비슷할 시 높게 측정"
      ],
      "metadata": {
        "colab": {
          "base_uri": "https://localhost:8080/"
        },
        "id": "iVY2WI9jNDw_",
        "outputId": "4ae09239-66f1-4190-d2e4-7efc886765c2"
      },
      "execution_count": 29,
      "outputs": [
        {
          "output_type": "execute_result",
          "data": {
            "text/plain": [
              "0.7325171197343846"
            ]
          },
          "metadata": {},
          "execution_count": 29
        }
      ]
    },
    {
      "cell_type": "markdown",
      "source": [
        "###3.3.4 정밀도/재현율 트레이드오프\n",
        "\n",
        "**정밀도/재현율 트레이드오프**: 정밀도를 올리면 재현율이 줄고 재현율을 올리면 정밀도가 줄어듬\n",
        "\n",
        "(in SGDClassifier) 결정 함수를 사용하여 각 샘플의 점수를 계산\n",
        "\n",
        "- 점수가 임계값보다 크면 샘플을 양성 클래스에 할당, 그렇지 않으면 음성 클래스에 할당\n",
        "\n"
      ],
      "metadata": {
        "id": "V4Hsrx-DNiQS"
      }
    },
    {
      "cell_type": "code",
      "source": [
        "y_scores = sgd_clf.decision_function([some_digit]) #임계값을 직정 지정할 수는 없고 점수 확인만 가능\n",
        "y_scores"
      ],
      "metadata": {
        "colab": {
          "base_uri": "https://localhost:8080/"
        },
        "id": "RauZGpTHNiCA",
        "outputId": "dd497b0a-8e01-4111-8e71-e3a281270f0c"
      },
      "execution_count": 30,
      "outputs": [
        {
          "output_type": "stream",
          "name": "stderr",
          "text": [
            "/usr/local/lib/python3.7/dist-packages/sklearn/base.py:451: UserWarning: X does not have valid feature names, but SGDClassifier was fitted with feature names\n",
            "  \"X does not have valid feature names, but\"\n"
          ]
        },
        {
          "output_type": "execute_result",
          "data": {
            "text/plain": [
              "array([2164.22030239])"
            ]
          },
          "metadata": {},
          "execution_count": 30
        }
      ]
    },
    {
      "cell_type": "code",
      "source": [
        "threshold = 0 #임계값이 0이므로 predict()와 같은 결과를 반환\n",
        "y_some_digit_pred = (y_scores > threshold)\n",
        "y_some_digit_pred"
      ],
      "metadata": {
        "id": "9ll58vKD10gw",
        "colab": {
          "base_uri": "https://localhost:8080/"
        },
        "outputId": "ba8e9c26-cfb5-4fbd-8dfe-32cad9d4eee5"
      },
      "execution_count": 32,
      "outputs": [
        {
          "output_type": "execute_result",
          "data": {
            "text/plain": [
              "array([ True])"
            ]
          },
          "metadata": {},
          "execution_count": 32
        }
      ]
    },
    {
      "cell_type": "code",
      "source": [
        "threshold = 8000 #임계값을 높이면 재현율이 줄어든다\n",
        "y_some_digit_pred = (y_scores > threshold)\n",
        "y_some_digit_pred\n"
      ],
      "metadata": {
        "id": "819ZFXuS10ef",
        "colab": {
          "base_uri": "https://localhost:8080/"
        },
        "outputId": "a775e799-faf5-4693-a254-cf45a4e23323"
      },
      "execution_count": 33,
      "outputs": [
        {
          "output_type": "execute_result",
          "data": {
            "text/plain": [
              "array([False])"
            ]
          },
          "metadata": {},
          "execution_count": 33
        }
      ]
    },
    {
      "cell_type": "code",
      "source": [
        "#적절한 임계값 구하기 위해서는 모든 샘플의 점수를 구해야 함\n",
        "y_scores = cross_val_predict(sgd_clf, X_train, y_train_5, cv=3, method='decision_function')"
      ],
      "metadata": {
        "id": "497zA-Iv10be"
      },
      "execution_count": 34,
      "outputs": []
    },
    {
      "cell_type": "code",
      "source": [
        "from sklearn.metrics import precision_recall_curve\n",
        "\n",
        "precisions, recalls, thresholds = precision_recall_curve(y_train_5, y_scores)"
      ],
      "metadata": {
        "id": "bds-HW8IP4PV"
      },
      "execution_count": 37,
      "outputs": []
    },
    {
      "cell_type": "code",
      "source": [
        "#임계값 함수로 정밀도와 재현율 그리기\n",
        "def plot_precision_recall_vs_threshold(precisions, recalls, thresholds):\n",
        "    plt.plot(thresholds, precisions[:-1], 'b--', label='precision')\n",
        "    plt.plot(thresholds, recalls[:-1], 'g-', label='recall')\n",
        "    plt.legend()\n",
        "\n",
        "plot_precision_recall_vs_threshold(precisions, recalls, thresholds)\n",
        "plt.show() #임계값을 올리더라도 정밀도가 가끔 낮아질 때가 있음"
      ],
      "metadata": {
        "id": "Jq77Yw5Z10Xa",
        "colab": {
          "base_uri": "https://localhost:8080/",
          "height": 264
        },
        "outputId": "7fec8a32-6f15-406c-9534-99db1a5ab88c"
      },
      "execution_count": 38,
      "outputs": [
        {
          "output_type": "display_data",
          "data": {
            "text/plain": [
              "<Figure size 432x288 with 1 Axes>"
            ],
            "image/png": "[encoded data removed]"
          },
          "metadata": {
            "needs_background": "light"
          }
        }
      ]
    },
    {
      "cell_type": "code",
      "source": [
        "#정밀도 90% 달성을 목표로\n",
        "threshold_90_precision = thresholds[np.argmax(precisions >= 0.90)]"
      ],
      "metadata": {
        "id": "qevYogIu10Ut"
      },
      "execution_count": 39,
      "outputs": []
    },
    {
      "cell_type": "code",
      "execution_count": 40,
      "metadata": {
        "id": "RObuJSdx1qVU"
      },
      "outputs": [],
      "source": [
        "y_train_pred_90 = (y_scores >= threshold_90_precision)"
      ]
    },
    {
      "cell_type": "code",
      "source": [
        "precision_score(y_train_5, y_train_pred_90)"
      ],
      "metadata": {
        "colab": {
          "base_uri": "https://localhost:8080/"
        },
        "id": "CVmhiDu0Q3NL",
        "outputId": "5a2a3ad4-ed15-43fa-e3e0-8eb7f108b6dc"
      },
      "execution_count": 43,
      "outputs": [
        {
          "output_type": "execute_result",
          "data": {
            "text/plain": [
              "0.9000345901072293"
            ]
          },
          "metadata": {},
          "execution_count": 43
        }
      ]
    },
    {
      "cell_type": "code",
      "source": [
        "recall_score(y_train_5, y_train_pred_90)\n",
        "#재현율이 너무 낮음...."
      ],
      "metadata": {
        "colab": {
          "base_uri": "https://localhost:8080/"
        },
        "id": "zs2EGrfkQ3Ki",
        "outputId": "4bcda0f0-8eca-46a2-fb64-d169510067d2"
      },
      "execution_count": 44,
      "outputs": [
        {
          "output_type": "execute_result",
          "data": {
            "text/plain": [
              "0.4799852425751706"
            ]
          },
          "metadata": {},
          "execution_count": 44
        }
      ]
    },
    {
      "cell_type": "markdown",
      "source": [
        "###3.3.5 ROC 곡선\n",
        "\n",
        "**ROC 곡선**: 위양성 비율(FPR), 진짜 양성 비율(TPR, 재현율)의 곡선\n",
        "\n",
        "위양성 비율(FPR) = 1 - 진짜 음성 비율(TNR, 특이도)\n",
        "\n",
        "따라서 ROC 곡선은 재현율에 대한 1-(특이도) 그래프"
      ],
      "metadata": {
        "id": "QazvJWLXSHgQ"
      }
    },
    {
      "cell_type": "code",
      "source": [
        "from sklearn.metrics import roc_curve\n",
        "\n",
        "fpr, tpr, thresholds = roc_curve(y_train_5, y_scores)"
      ],
      "metadata": {
        "id": "GXldHsY2Q3Gg"
      },
      "execution_count": 46,
      "outputs": []
    },
    {
      "cell_type": "code",
      "source": [
        "def plot_roc_curve(fpr, tpr, label = None):\n",
        "  plt.plot(fpr, tpr, linewidth=2, label=label)\n",
        "  plt.plot([0, 1], [0, 1], 'k--')\n",
        "  plt.xlabel('False Positive Rate')\n",
        "  plt.ylabel('True Positive Rate')\n",
        "\n",
        "plot_roc_curve(fpr,tpr)\n",
        "plt.show()\n",
        "\n",
        "#점선은 완전한 랜덤 분류기의 ROC 곡선, 좋은 분류기일수록 이 점선에서 최대한 멀리 떨어져 있어야 함"
      ],
      "metadata": {
        "colab": {
          "base_uri": "https://localhost:8080/",
          "height": 278
        },
        "id": "FrygHzi6Q3EQ",
        "outputId": "3dd7a71c-fa1c-46b4-a9fc-e1129e0848ce"
      },
      "execution_count": 48,
      "outputs": [
        {
          "output_type": "display_data",
          "data": {
            "text/plain": [
              "<Figure size 432x288 with 1 Axes>"
            ],
            "image/png": "[encoded data removed]"
          },
          "metadata": {
            "needs_background": "light"
          }
        }
      ]
    },
    {
      "cell_type": "markdown",
      "source": [
        "**곡선 아래의 면적(AUC)**를 측정하여 분류기들을 비교\n",
        "\n",
        "완벽한 분류기의 ROC의 AUC: 1 / 완전한 랜덤 분류기: 0.5"
      ],
      "metadata": {
        "id": "fdSg7UsTUXjf"
      }
    },
    {
      "cell_type": "code",
      "source": [
        "from sklearn.metrics import roc_auc_score\n",
        "roc_auc_score(y_train_5, y_scores)"
      ],
      "metadata": {
        "colab": {
          "base_uri": "https://localhost:8080/"
        },
        "id": "-UD_3XxhUXJJ",
        "outputId": "c142970d-2e60-45d0-ccb4-fac368c1ae94"
      },
      "execution_count": 49,
      "outputs": [
        {
          "output_type": "execute_result",
          "data": {
            "text/plain": [
              "0.9604938554008616"
            ]
          },
          "metadata": {},
          "execution_count": 49
        }
      ]
    },
    {
      "cell_type": "markdown",
      "source": [
        "(in RandomForestClassifier) SGDClassifier의 ROC 곡선과 ROC AUC 점수를 비교\n",
        "\n",
        "decision_function() 없고 predict_proba()는 가능"
      ],
      "metadata": {
        "id": "M0FHn48WVOhc"
      }
    },
    {
      "cell_type": "code",
      "source": [
        "from sklearn.ensemble import RandomForestClassifier\n",
        "\n",
        "forest_clf = RandomForestClassifier(random_state=42)\n",
        "y_probas_forest = cross_val_predict(forest_clf, X_train, y_train_5, cv=3, method='predict_proba')"
      ],
      "metadata": {
        "id": "0mMHAMFtQ3Bg"
      },
      "execution_count": 50,
      "outputs": []
    },
    {
      "cell_type": "code",
      "source": [
        "y_scores_forest = y_probas_forest[:,1] #양성 클래스에 대한 확률을 점수로 사용\n",
        "fpr_forest, tpr_forest, thresholds_forest = roc_curve(y_train_5, y_scores_forest)"
      ],
      "metadata": {
        "id": "VoANqDAqQ2_B"
      },
      "execution_count": 52,
      "outputs": []
    },
    {
      "cell_type": "code",
      "source": [
        "plt.plot(fpr, tpr, 'b:', label='SGD')\n",
        "plot_roc_curve(fpr_forest, tpr_forest, 'Random Forest')\n",
        "plt.legend(loc='lower right')\n",
        "plt.show()"
      ],
      "metadata": {
        "colab": {
          "base_uri": "https://localhost:8080/",
          "height": 278
        },
        "id": "1o3pQ0NqQ28-",
        "outputId": "1ed38741-28a5-4aac-866f-3e9d5b569fd2"
      },
      "execution_count": 54,
      "outputs": [
        {
          "output_type": "display_data",
          "data": {
            "text/plain": [
              "<Figure size 432x288 with 1 Axes>"
            ],
            "image/png": "[encoded data removed]"
          },
          "metadata": {
            "needs_background": "light"
          }
        }
      ]
    },
    {
      "cell_type": "markdown",
      "source": [
        "랜덤 포레스트 분류기가 SGD 분류기보다 훨씬 좋음!"
      ],
      "metadata": {
        "id": "P4wsM5vUXCzf"
      }
    },
    {
      "cell_type": "code",
      "source": [
        "roc_auc_score(y_train_5, y_scores_forest)"
      ],
      "metadata": {
        "colab": {
          "base_uri": "https://localhost:8080/"
        },
        "id": "oQGKOaAOQ251",
        "outputId": "ae201549-ed2f-4369-ab04-bb3125d01772"
      },
      "execution_count": 55,
      "outputs": [
        {
          "output_type": "execute_result",
          "data": {
            "text/plain": [
              "0.9983436731328145"
            ]
          },
          "metadata": {},
          "execution_count": 55
        }
      ]
    },
    {
      "cell_type": "markdown",
      "source": [
        "###3.4 다중 분류\n",
        "\n",
        "다중 분류기: 두 개 이상의 클래스를 구별\n",
        "\n",
        "**OvR(OvA)**: 특정 숫자 하나만 구분하는 숫자별 이진 분류기 10개를 훈련, 이미지 분류 시 결정점수가 가장 높은 것을 클래스로 선택\n",
        "\n",
        "**OvO**: 0과 1 구별, 0과 2 구별, 1과 2 구별 등 각 숫자의 조합마다 이진 분류기를 훈련, 클래스가 N개라면 분류기는 N*(N-1)/2개 필요, N*(N-1)/2개의 분류기를 통과해 가장 많이 양성으로 분류된 클래스를 선택\n",
        "\n",
        "대부분 OvR 선호\n"
      ],
      "metadata": {
        "id": "vMStm9mWXZdZ"
      }
    },
    {
      "cell_type": "code",
      "source": [
        "#사이킷런이 알고리즘에 따라 자동으로 OvR 또는 OvO를 실행\n",
        "from sklearn.svm import SVC\n",
        "svm_clf = SVC()\n",
        "svm_clf.fit(X_train, y_train) #y_train_5가 아닌 y_train을 사용\n",
        "svm_clf.predict([some_digit]) #OvO 이용"
      ],
      "metadata": {
        "colab": {
          "base_uri": "https://localhost:8080/"
        },
        "id": "SiUtAVZVXIyx",
        "outputId": "623b6bec-f049-42ba-9df1-20e30c4cfd50"
      },
      "execution_count": 56,
      "outputs": [
        {
          "output_type": "stream",
          "name": "stderr",
          "text": [
            "/usr/local/lib/python3.7/dist-packages/sklearn/base.py:451: UserWarning: X does not have valid feature names, but SVC was fitted with feature names\n",
            "  \"X does not have valid feature names, but\"\n"
          ]
        },
        {
          "output_type": "execute_result",
          "data": {
            "text/plain": [
              "array([5], dtype=int8)"
            ]
          },
          "metadata": {},
          "execution_count": 56
        }
      ]
    },
    {
      "cell_type": "code",
      "source": [
        "some_digit_scores = svm_clf.decision_function([some_digit])\n",
        "some_digit_scores #5가 가장 높은 점수"
      ],
      "metadata": {
        "colab": {
          "base_uri": "https://localhost:8080/"
        },
        "id": "IX7CzQWtXIwT",
        "outputId": "8b38ca7a-c5eb-4ea7-ee02-3ccecd2c3dcd"
      },
      "execution_count": 58,
      "outputs": [
        {
          "output_type": "stream",
          "name": "stderr",
          "text": [
            "/usr/local/lib/python3.7/dist-packages/sklearn/base.py:451: UserWarning: X does not have valid feature names, but SVC was fitted with feature names\n",
            "  \"X does not have valid feature names, but\"\n"
          ]
        },
        {
          "output_type": "execute_result",
          "data": {
            "text/plain": [
              "array([[ 1.72501977,  2.72809088,  7.2510018 ,  8.3076379 , -0.31087254,\n",
              "         9.3132482 ,  1.70975103,  2.76765202,  6.23049537,  4.84771048]])"
            ]
          },
          "metadata": {},
          "execution_count": 58
        }
      ]
    },
    {
      "cell_type": "code",
      "source": [
        "np.argmax(some_digit_scores)"
      ],
      "metadata": {
        "colab": {
          "base_uri": "https://localhost:8080/"
        },
        "id": "rHh_pu_aXItb",
        "outputId": "ce08c705-982d-4895-dc36-b10494ec967f"
      },
      "execution_count": 59,
      "outputs": [
        {
          "output_type": "execute_result",
          "data": {
            "text/plain": [
              "5"
            ]
          },
          "metadata": {},
          "execution_count": 59
        }
      ]
    },
    {
      "cell_type": "code",
      "source": [
        "svm_clf.classes_"
      ],
      "metadata": {
        "colab": {
          "base_uri": "https://localhost:8080/"
        },
        "id": "trzVA-9gXIrA",
        "outputId": "2c566a6a-74cc-4409-89c5-0ae0e6161d49"
      },
      "execution_count": 60,
      "outputs": [
        {
          "output_type": "execute_result",
          "data": {
            "text/plain": [
              "array([0, 1, 2, 3, 4, 5, 6, 7, 8, 9], dtype=int8)"
            ]
          },
          "metadata": {},
          "execution_count": 60
        }
      ]
    },
    {
      "cell_type": "code",
      "source": [
        "svm_clf.classes_[5]"
      ],
      "metadata": {
        "colab": {
          "base_uri": "https://localhost:8080/"
        },
        "id": "LjxtvlejXIoW",
        "outputId": "d56488c4-2b60-4ba3-9a5d-74a718267141"
      },
      "execution_count": 61,
      "outputs": [
        {
          "output_type": "execute_result",
          "data": {
            "text/plain": [
              "5"
            ]
          },
          "metadata": {},
          "execution_count": 61
        }
      ]
    },
    {
      "cell_type": "code",
      "source": [
        "#OvO나 OvR을 선택해서 사용하려면 OneVsOneClassifier나 OneVsRestClassfier 사용\n",
        "from sklearn.multiclass import OneVsRestClassifier\n",
        "ovr_clf = OneVsRestClassifier(SVC())\n",
        "ovr_clf.fit(X_train, y_train)\n",
        "ovr_clf.predict([some_digit])"
      ],
      "metadata": {
        "colab": {
          "base_uri": "https://localhost:8080/"
        },
        "id": "Vd0Xc-qYXIlz",
        "outputId": "6f26fe26-dc9f-40d9-ce03-1ca499442605"
      },
      "execution_count": 57,
      "outputs": [
        {
          "output_type": "stream",
          "name": "stderr",
          "text": [
            "/usr/local/lib/python3.7/dist-packages/sklearn/base.py:451: UserWarning: X does not have valid feature names, but SVC was fitted with feature names\n",
            "  \"X does not have valid feature names, but\"\n",
            "/usr/local/lib/python3.7/dist-packages/sklearn/base.py:451: UserWarning: X does not have valid feature names, but SVC was fitted with feature names\n",
            "  \"X does not have valid feature names, but\"\n",
            "/usr/local/lib/python3.7/dist-packages/sklearn/base.py:451: UserWarning: X does not have valid feature names, but SVC was fitted with feature names\n",
            "  \"X does not have valid feature names, but\"\n",
            "/usr/local/lib/python3.7/dist-packages/sklearn/base.py:451: UserWarning: X does not have valid feature names, but SVC was fitted with feature names\n",
            "  \"X does not have valid feature names, but\"\n",
            "/usr/local/lib/python3.7/dist-packages/sklearn/base.py:451: UserWarning: X does not have valid feature names, but SVC was fitted with feature names\n",
            "  \"X does not have valid feature names, but\"\n",
            "/usr/local/lib/python3.7/dist-packages/sklearn/base.py:451: UserWarning: X does not have valid feature names, but SVC was fitted with feature names\n",
            "  \"X does not have valid feature names, but\"\n",
            "/usr/local/lib/python3.7/dist-packages/sklearn/base.py:451: UserWarning: X does not have valid feature names, but SVC was fitted with feature names\n",
            "  \"X does not have valid feature names, but\"\n",
            "/usr/local/lib/python3.7/dist-packages/sklearn/base.py:451: UserWarning: X does not have valid feature names, but SVC was fitted with feature names\n",
            "  \"X does not have valid feature names, but\"\n",
            "/usr/local/lib/python3.7/dist-packages/sklearn/base.py:451: UserWarning: X does not have valid feature names, but SVC was fitted with feature names\n",
            "  \"X does not have valid feature names, but\"\n",
            "/usr/local/lib/python3.7/dist-packages/sklearn/base.py:451: UserWarning: X does not have valid feature names, but SVC was fitted with feature names\n",
            "  \"X does not have valid feature names, but\"\n"
          ]
        },
        {
          "output_type": "execute_result",
          "data": {
            "text/plain": [
              "array([5], dtype=int8)"
            ]
          },
          "metadata": {},
          "execution_count": 57
        }
      ]
    },
    {
      "cell_type": "code",
      "source": [
        "len(ovr_clf.estimators_)"
      ],
      "metadata": {
        "colab": {
          "base_uri": "https://localhost:8080/"
        },
        "id": "wUEQxnaQXIiM",
        "outputId": "48717d00-ae46-480b-9e0d-6550db901911"
      },
      "execution_count": 62,
      "outputs": [
        {
          "output_type": "execute_result",
          "data": {
            "text/plain": [
              "10"
            ]
          },
          "metadata": {},
          "execution_count": 62
        }
      ]
    },
    {
      "cell_type": "code",
      "source": [
        "#SGDClassifier 훈련\n",
        "sgd_clf.fit(X_train, y_train)\n",
        "sgd_clf.predict([some_digit])"
      ],
      "metadata": {
        "colab": {
          "base_uri": "https://localhost:8080/"
        },
        "id": "583Xn9KzXIgF",
        "outputId": "41966ab3-3697-4e26-b043-2b3ce0fb7f12"
      },
      "execution_count": 64,
      "outputs": [
        {
          "output_type": "stream",
          "name": "stderr",
          "text": [
            "/usr/local/lib/python3.7/dist-packages/sklearn/base.py:451: UserWarning: X does not have valid feature names, but SGDClassifier was fitted with feature names\n",
            "  \"X does not have valid feature names, but\"\n"
          ]
        },
        {
          "output_type": "execute_result",
          "data": {
            "text/plain": [
              "array([3], dtype=int8)"
            ]
          },
          "metadata": {},
          "execution_count": 64
        }
      ]
    },
    {
      "cell_type": "code",
      "source": [
        "#SGD 분류기는 다중 클래스로 분류가 가능\n",
        "sgd_clf.decision_function([some_digit])"
      ],
      "metadata": {
        "colab": {
          "base_uri": "https://localhost:8080/"
        },
        "id": "LD2Y2_H_XIeL",
        "outputId": "bd7530c6-486d-4b13-dbbc-fa965dc5a72f"
      },
      "execution_count": 65,
      "outputs": [
        {
          "output_type": "stream",
          "name": "stderr",
          "text": [
            "/usr/local/lib/python3.7/dist-packages/sklearn/base.py:451: UserWarning: X does not have valid feature names, but SGDClassifier was fitted with feature names\n",
            "  \"X does not have valid feature names, but\"\n"
          ]
        },
        {
          "output_type": "execute_result",
          "data": {
            "text/plain": [
              "array([[-31893.03095419, -34419.69069632,  -9530.63950739,\n",
              "          1823.73154031, -22320.14822878,  -1385.80478895,\n",
              "        -26188.91070951, -16147.51323997,  -4604.35491274,\n",
              "        -12050.767298  ]])"
            ]
          },
          "metadata": {},
          "execution_count": 65
        }
      ]
    },
    {
      "cell_type": "code",
      "source": [
        "#교차검증\n",
        "cross_val_score(sgd_clf, X_train, y_train, cv=3, scoring='accuracy')"
      ],
      "metadata": {
        "colab": {
          "base_uri": "https://localhost:8080/"
        },
        "id": "4pVzijr-XIbd",
        "outputId": "485fcb1d-6cea-47a5-f349-f6f2da03903a"
      },
      "execution_count": 66,
      "outputs": [
        {
          "output_type": "execute_result",
          "data": {
            "text/plain": [
              "array([0.87365, 0.85835, 0.8689 ])"
            ]
          },
          "metadata": {},
          "execution_count": 66
        }
      ]
    },
    {
      "cell_type": "code",
      "source": [
        "#데이터 전처리(입력의 스케일 조정)으로 정확도 향상\n",
        "from sklearn.preprocessing import StandardScaler\n",
        "scaler = StandardScaler()\n",
        "X_train_scaled = scaler.fit_transform(X_train.astype(np.float64))\n",
        "cross_val_score(sgd_clf, X_train_scaled, y_train, cv=3, scoring='accuracy')"
      ],
      "metadata": {
        "colab": {
          "base_uri": "https://localhost:8080/"
        },
        "id": "RjhePSrqXIYU",
        "outputId": "f10f5854-fdd4-40c9-b43d-b6562d2177e7"
      },
      "execution_count": 68,
      "outputs": [
        {
          "output_type": "execute_result",
          "data": {
            "text/plain": [
              "array([0.8983, 0.891 , 0.9018])"
            ]
          },
          "metadata": {},
          "execution_count": 68
        }
      ]
    },
    {
      "cell_type": "markdown",
      "source": [
        "##3.5 에러 분석"
      ],
      "metadata": {
        "id": "FzfitmuIjKMV"
      }
    },
    {
      "cell_type": "code",
      "source": [
        "#가능성이 높은 모델을 하나 찾았다고 가정하고 모델 성능을 향상\n",
        "y_train_pred = cross_val_predict(sgd_clf, X_train_scaled, y_train, cv=3)\n",
        "conf_mx = confusion_matrix(y_train, y_train_pred)\n",
        "conf_mx"
      ],
      "metadata": {
        "id": "XPbmu2Y7XIUi"
      },
      "execution_count": null,
      "outputs": []
    },
    {
      "cell_type": "code",
      "source": [
        "#오차행렬을 이미지로 표현\n",
        "plt.matshow(conf_mx, cmao=plt.cm.gray)\n",
        "plt.show()"
      ],
      "metadata": {
        "id": "ZaDDLJNKXIRF"
      },
      "execution_count": null,
      "outputs": []
    },
    {
      "cell_type": "markdown",
      "source": [
        "숫자 5가 다 숫자보다 어두움\n",
        "\n",
        "-> 데이터 셋에 숫자 5의 이미지가 적거나 분류기가 숫자 5를 다른 숫자만큼 잘 분류하지 못함"
      ],
      "metadata": {
        "id": "4l6oNXW-kCf7"
      }
    },
    {
      "cell_type": "code",
      "source": [
        "row_sums = conf_mx.sum(axis=1, keepdims=True)\n",
        "norm_conf_mx = conf_mx / row_sums"
      ],
      "metadata": {
        "id": "ph1CtWrZQ228"
      },
      "execution_count": null,
      "outputs": []
    },
    {
      "cell_type": "code",
      "source": [
        "#주대각선만 0으로 채워서 그래프를 그림\n",
        "np.fill_diagonal(norm_conf_mx, 0)\n",
        "plt.matshow(norm_conf_mx, cmap=plt.cm.gray)\n",
        "plt.show()\n",
        "#분류기가 만든 에러를 확실히 볼 수 있음"
      ],
      "metadata": {
        "id": "sblrktv8kP1G"
      },
      "execution_count": null,
      "outputs": []
    },
    {
      "cell_type": "code",
      "source": [
        "cl_a, cl_b = 3, 5\n",
        "X_aa = X_train[(y_train == cl_a) & (y_train_pred == cl_a)]\n",
        "X_ab = X_train[(y_train == cl_a) & (y_train_pred == cl_b)]\n",
        "X_ba = X_train[(y_train == cl_b) & (y_train_pred == cl_a)]\n",
        "X_bb = X_train[(y_train == cl_b) & (y_train_pred == cl_b)]\n",
        "\n",
        "plt.figure(figsize=(8,8))\n",
        "plt.subplot(221); plot_digits(X_aa[:25], images_per_row=5)\n",
        "plt.subplot(222); plot_digits(X_ab[:25], images_per_row=5)\n",
        "plt.subplot(223); plot_digits(X_ba[:25], images_per_row=5)\n",
        "plt.subplot(224); plot_digits(X_bb[:25], images_per_row=5)\n",
        "plt.show()"
      ],
      "metadata": {
        "id": "2kkKQvQ1kPxO"
      },
      "execution_count": null,
      "outputs": []
    },
    {
      "cell_type": "markdown",
      "source": [
        "분류기는 이미지의 위치나 회전 방향에 민감함\n",
        "\n",
        "-> 이미지를 중앙에 위치시키고 회전되어 있지 않도록 전처리하여 에러 감소"
      ],
      "metadata": {
        "id": "vC4kKDlYlYSY"
      }
    },
    {
      "cell_type": "markdown",
      "source": [
        "##3.6 다중 레이블 분류\n",
        "\n",
        "**다중 레이블 분류**: 여러 개의 이진 꼬리표를 출력하는 분류 시스템"
      ],
      "metadata": {
        "id": "2kv22yhQlljr"
      }
    },
    {
      "cell_type": "code",
      "source": [
        "from sklearn.neighbors import KNeighborClassifier\n",
        "\n",
        "y_train_large = (y_train >= 7) #7, 8, 9인지?\n",
        "y_train_odd = (y_train%2 == 1) #홀수인지?\n",
        "y_multilabel = np.c_[y_train_large, y_train_odd]\n",
        "\n",
        "knn_clf = KNeighborsClassifier()\n",
        "knn_clf.fit(X_train, y_multilabel)"
      ],
      "metadata": {
        "id": "sGvcA-YgkPsR"
      },
      "execution_count": null,
      "outputs": []
    },
    {
      "cell_type": "code",
      "source": [
        "#예측을 생성\n",
        "knn_clf.predict([some_digit])"
      ],
      "metadata": {
        "id": "r4s0PkgakPpK"
      },
      "execution_count": null,
      "outputs": []
    },
    {
      "cell_type": "code",
      "source": [
        "#각 레이블의 F1 score를 구하고 평균 점수를 계산\n",
        "y_train_knn_pred = cross_val_predict(knn_clf, X_train, y_multilabel, cv=3)\n",
        "f1_score(y_multilabel, y_train_knn_pred, average='marco')"
      ],
      "metadata": {
        "id": "m7FIeFz3kPmL"
      },
      "execution_count": null,
      "outputs": []
    },
    {
      "cell_type": "markdown",
      "source": [
        "##3.7 다중 출력 분류\n",
        "\n",
        "**다중 출력 다중 클래스 분류**: 다중 레이블 분류에서 한 레이블이 다중 클래스가 될 수 있도록 일반화한 것\n",
        "\n",
        "이미지에서 잡음을 제거하는 시스템 생성\n",
        "- 각 레이블은 값을 여러개 가지기 때문에 다중 출력 분류 시스템!"
      ],
      "metadata": {
        "id": "g_9p8ka2nV8V"
      }
    },
    {
      "cell_type": "code",
      "source": [
        "#픽셀 강도에 잡음을 추가\n",
        "noise = np.random.randint(0,100, (len(X_train), 784))\n",
        "X_train_mod = X_train + noise\n",
        "noise = np.random.randint(0,100, (len(X_test), 784))\n",
        "X_test_mod = X_test + noise\n",
        "y_train_mod = X_train\n",
        "y_test_mod = X_test"
      ],
      "metadata": {
        "id": "RLSxsfY0kPja"
      },
      "execution_count": null,
      "outputs": []
    },
    {
      "cell_type": "code",
      "source": [
        "knn_clf.fit(X_train_mod, y_train_mod)\n",
        "clean_digit = knn_clf.predict([X_test_mod[some_index]])\n",
        "plot_digit(clean_digit) #타깃과 비슷"
      ],
      "metadata": {
        "id": "fDd7i8fEkPgm"
      },
      "execution_count": null,
      "outputs": []
    }
  ]
}