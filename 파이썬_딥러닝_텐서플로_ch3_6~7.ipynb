{
  "nbformat": 4,
  "nbformat_minor": 0,
  "metadata": {
    "colab": {
      "name": "파이썬 딥러닝 텐서플로 ch3. 6~7.ipynb",
      "provenance": [],
      "authorship_tag": "ABX9TyN2vRZogE/svpjIYGLB6VeB",
      "include_colab_link": true
    },
    "kernelspec": {
      "name": "python3",
      "display_name": "Python 3"
    },
    "language_info": {
      "name": "python"
    }
  },
  "cells": [
    {
      "cell_type": "markdown",
      "metadata": {
        "id": "view-in-github",
        "colab_type": "text"
      },
      "source": [
        "<a href=\"https://colab.research.google.com/github/jee365/ESAA/blob/main/%ED%8C%8C%EC%9D%B4%EC%8D%AC_%EB%94%A5%EB%9F%AC%EB%8B%9D_%ED%85%90%EC%84%9C%ED%94%8C%EB%A1%9C_ch3_6~7.ipynb\" target=\"_parent\"><img src=\"https://colab.research.google.com/assets/colab-badge.svg\" alt=\"Open In Colab\"/></a>"
      ]
    },
    {
      "cell_type": "markdown",
      "source": [
        "# 03. 케라스(Keras)\n",
        "\n",
        "### 06. 모델 저장 및 불러오기\n",
        "\n",
        "#### 6-1 모델을 파일로 저장"
      ],
      "metadata": {
        "id": "h--_KJb-eysH"
      }
    },
    {
      "cell_type": "code",
      "source": [
        "import tensorflow as tf\n",
        "model = tf.keras.Sequential([\n",
        "                             tf.keras.layers.Flatten(input_shape=(28,28)),\n",
        "                             tf.keras.layers.Dense(256, activation='relu'),\n",
        "                             tf.keras.layers.Dense(64, activation='relu'),\n",
        "                             tf.keras.layers.Dense(32, activation='relu'),\n",
        "                             #노드 = 10개(클래스 개수와 동일)\n",
        "                             tf.keras.layers.Dense(10, activation='softmax')\n",
        "])"
      ],
      "metadata": {
        "id": "RpmyOi8kf7xZ"
      },
      "execution_count": 4,
      "outputs": []
    },
    {
      "cell_type": "code",
      "source": [
        "model.compile(optimizer='adam',\n",
        "              loss = 'sparse_categorical_crossentropy',\n",
        "              metrics = ['accuracy'])"
      ],
      "metadata": {
        "id": "Q6bj-oaOgOU9"
      },
      "execution_count": 5,
      "outputs": []
    },
    {
      "cell_type": "code",
      "source": [
        "mnist = tf.keras.datasets.mnist\n",
        "(x_train, y_train), (x_test, y_test) = mnist.load_data()\n",
        "\n",
        "x_train = x_train / x_train.max()\n",
        "x_test = x_test / x_test.max()"
      ],
      "metadata": {
        "id": "zlI1YmMth0ni"
      },
      "execution_count": 6,
      "outputs": []
    },
    {
      "cell_type": "code",
      "source": [
        "model.fit(x_train, y_train,\n",
        "          #검증 셋 지정(투플 형태)\n",
        "          validation_data = (x_test, y_test),\n",
        "          epochs=10,\n",
        "          )"
      ],
      "metadata": {
        "colab": {
          "base_uri": "https://localhost:8080/"
        },
        "id": "N_VLIM-xh0iv",
        "outputId": "9e306db3-e95b-4ed7-b940-2cdc4a557e0e"
      },
      "execution_count": 7,
      "outputs": [
        {
          "output_type": "stream",
          "name": "stdout",
          "text": [
            "Epoch 1/10\n",
            "1875/1875 [==============================] - 10s 5ms/step - loss: 0.2280 - accuracy: 0.9315 - val_loss: 0.1185 - val_accuracy: 0.9657\n",
            "Epoch 2/10\n",
            "1875/1875 [==============================] - 8s 4ms/step - loss: 0.0946 - accuracy: 0.9713 - val_loss: 0.0959 - val_accuracy: 0.9694\n",
            "Epoch 3/10\n",
            "1875/1875 [==============================] - 8s 4ms/step - loss: 0.0669 - accuracy: 0.9796 - val_loss: 0.0801 - val_accuracy: 0.9749\n",
            "Epoch 4/10\n",
            "1875/1875 [==============================] - 9s 5ms/step - loss: 0.0493 - accuracy: 0.9840 - val_loss: 0.0831 - val_accuracy: 0.9767\n",
            "Epoch 5/10\n",
            "1875/1875 [==============================] - 8s 4ms/step - loss: 0.0415 - accuracy: 0.9857 - val_loss: 0.0936 - val_accuracy: 0.9739\n",
            "Epoch 6/10\n",
            "1875/1875 [==============================] - 8s 4ms/step - loss: 0.0326 - accuracy: 0.9892 - val_loss: 0.0706 - val_accuracy: 0.9805\n",
            "Epoch 7/10\n",
            "1875/1875 [==============================] - 8s 4ms/step - loss: 0.0291 - accuracy: 0.9907 - val_loss: 0.0821 - val_accuracy: 0.9778\n",
            "Epoch 8/10\n",
            "1875/1875 [==============================] - 8s 4ms/step - loss: 0.0235 - accuracy: 0.9923 - val_loss: 0.0861 - val_accuracy: 0.9791\n",
            "Epoch 9/10\n",
            "1875/1875 [==============================] - 8s 4ms/step - loss: 0.0205 - accuracy: 0.9936 - val_loss: 0.1275 - val_accuracy: 0.9745\n",
            "Epoch 10/10\n",
            "1875/1875 [==============================] - 8s 4ms/step - loss: 0.0201 - accuracy: 0.9932 - val_loss: 0.0896 - val_accuracy: 0.9783\n"
          ]
        },
        {
          "output_type": "execute_result",
          "data": {
            "text/plain": [
              "<keras.callbacks.History at 0x7fe553df3e50>"
            ]
          },
          "metadata": {},
          "execution_count": 7
        }
      ]
    },
    {
      "cell_type": "code",
      "execution_count": 8,
      "metadata": {
        "id": "LpfNL3kAa7v0"
      },
      "outputs": [],
      "source": [
        "#모델을 h5 포맷으로 저장\n",
        "model.save('h5-model.h5')"
      ]
    },
    {
      "cell_type": "markdown",
      "source": [
        "### 6-2 저장된 모델 복원"
      ],
      "metadata": {
        "id": "xCao5G1QgSRA"
      }
    },
    {
      "cell_type": "code",
      "source": [
        "#모델 복원\n",
        "h5_model = tf.keras.models.load_model('h5-model.h5')\n",
        "h5_model.summary()"
      ],
      "metadata": {
        "colab": {
          "base_uri": "https://localhost:8080/"
        },
        "id": "k1L1FT_re-L9",
        "outputId": "e8968512-0ea4-4233-cb2c-64835aa4fdea"
      },
      "execution_count": 9,
      "outputs": [
        {
          "output_type": "stream",
          "name": "stdout",
          "text": [
            "Model: \"sequential\"\n",
            "_________________________________________________________________\n",
            " Layer (type)                Output Shape              Param #   \n",
            "=================================================================\n",
            " flatten_1 (Flatten)         (None, 784)               0         \n",
            "                                                                 \n",
            " dense_3 (Dense)             (None, 256)               200960    \n",
            "                                                                 \n",
            " dense_4 (Dense)             (None, 64)                16448     \n",
            "                                                                 \n",
            " dense_5 (Dense)             (None, 32)                2080      \n",
            "                                                                 \n",
            " dense_6 (Dense)             (None, 10)                330       \n",
            "                                                                 \n",
            "=================================================================\n",
            "Total params: 219,818\n",
            "Trainable params: 219,818\n",
            "Non-trainable params: 0\n",
            "_________________________________________________________________\n"
          ]
        }
      ]
    },
    {
      "cell_type": "code",
      "source": [
        "#모델 검증\n",
        "loss, acc = h5_model.evaluate(x_test, y_test, verbose=0)\n",
        "print(f'h5 model] loss: {loss:.5f}, acc:{acc:.5f}')"
      ],
      "metadata": {
        "colab": {
          "base_uri": "https://localhost:8080/"
        },
        "id": "NxqEYTLIe-0Z",
        "outputId": "4fc93b36-dd0c-4583-d6d6-bda670fae58d"
      },
      "execution_count": 10,
      "outputs": [
        {
          "output_type": "stream",
          "name": "stdout",
          "text": [
            "h5 model] loss: 0.08960, acc:0.97830\n"
          ]
        }
      ]
    },
    {
      "cell_type": "code",
      "source": [
        "#모델을 SavedModel 포맷으로 저장\n",
        "model.save('saved-model')"
      ],
      "metadata": {
        "colab": {
          "base_uri": "https://localhost:8080/"
        },
        "id": "5gD5gpa-e-x8",
        "outputId": "8511719f-7a29-44c8-92c9-334ed7cd95ad"
      },
      "execution_count": 11,
      "outputs": [
        {
          "output_type": "stream",
          "name": "stdout",
          "text": [
            "INFO:tensorflow:Assets written to: saved-model/assets\n"
          ]
        }
      ]
    },
    {
      "cell_type": "code",
      "source": [
        "#모델 복원\n",
        "saved_model = tf.keras.models.load_model('saved-model')\n",
        "saved_model.summary()"
      ],
      "metadata": {
        "colab": {
          "base_uri": "https://localhost:8080/"
        },
        "id": "D12mnY5ae-vX",
        "outputId": "1e0f0d22-f4f5-4c84-a0f2-f3b10b41a745"
      },
      "execution_count": 12,
      "outputs": [
        {
          "output_type": "stream",
          "name": "stdout",
          "text": [
            "Model: \"sequential\"\n",
            "_________________________________________________________________\n",
            " Layer (type)                Output Shape              Param #   \n",
            "=================================================================\n",
            " flatten_1 (Flatten)         (None, 784)               0         \n",
            "                                                                 \n",
            " dense_3 (Dense)             (None, 256)               200960    \n",
            "                                                                 \n",
            " dense_4 (Dense)             (None, 64)                16448     \n",
            "                                                                 \n",
            " dense_5 (Dense)             (None, 32)                2080      \n",
            "                                                                 \n",
            " dense_6 (Dense)             (None, 10)                330       \n",
            "                                                                 \n",
            "=================================================================\n",
            "Total params: 219,818\n",
            "Trainable params: 219,818\n",
            "Non-trainable params: 0\n",
            "_________________________________________________________________\n"
          ]
        }
      ]
    },
    {
      "cell_type": "code",
      "source": [
        "#모델 검증(HDF5)\n",
        "loss, acc = h5_model.evaluate(x_test, y_test, verbose=0)\n",
        "print(f'h5 model] loss: {loss:.5f}, acc:{acc:.5f}')\n",
        "\n",
        "#모델 검증(SavedModel)\n",
        "loss, acc = saved_model.evaluate(x_test, y_test, verbose=0)\n",
        "print(f'saved model] loss: {loss:.5f}, acc:{acc:.5f}')"
      ],
      "metadata": {
        "colab": {
          "base_uri": "https://localhost:8080/"
        },
        "id": "lN4oEx_Ue-s1",
        "outputId": "db33ba8b-0469-451f-ea86-4a76b75e42a9"
      },
      "execution_count": 13,
      "outputs": [
        {
          "output_type": "stream",
          "name": "stdout",
          "text": [
            "h5 model] loss: 0.08960, acc:0.97830\n",
            "saved model] loss: 0.08960, acc:0.97830\n"
          ]
        }
      ]
    },
    {
      "cell_type": "markdown",
      "source": [
        "## 07. 복잡한 모델 생성\n",
        "\n",
        "### 7-1 함수형 API(Functional API)\n",
        "\n",
        "<Functional API 구조>\n",
        "\n",
        "![image.png](data:image/png;base64,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)"
      ],
      "metadata": {
        "id": "iO2LxqFui6zU"
      }
    },
    {
      "cell_type": "code",
      "source": [
        "mnist = tf.keras.datasets.mnist\n",
        "(x_train, y_train), (x_test, y_test) = mnist.load_data()\n",
        "\n",
        "x_train = x_train / x_train.max()\n",
        "x_test = x_test / x_test.max()"
      ],
      "metadata": {
        "id": "mKQxaKD6e-qD"
      },
      "execution_count": 14,
      "outputs": []
    },
    {
      "cell_type": "code",
      "source": [
        "#모델의 레이어를 체인 구조로 연결 Input 레이어 정의\n",
        "input_layer = tf.keras.Input(shape=(28,28), name='InputLayer')\n",
        "\n",
        "#모델의 레이어를 체인 구조로 연결\n",
        "x1 = tf.keras.layers.Flatten(name='Flatten')(input_layer)\n",
        "x2 = tf.keras.layers.Dense(256, activation='relu', name='Dense1')(x1)\n",
        "x3 = tf.keras.layers.Dense(64, activation='relu', name='Dense2')(x2)\n",
        "x4 = tf.keras.layers.Dense(10, activation='softmax', name='OutputLayer')(x3)\n"
      ],
      "metadata": {
        "id": "bOoVo2rze-nd"
      },
      "execution_count": 15,
      "outputs": []
    },
    {
      "cell_type": "code",
      "source": [
        "#모델 생성\n",
        "func_model = tf.keras.Model(inputs=input_layer, outputs=x4, name='FunctionalModel')\n",
        "\n",
        "#모델 요약\n",
        "func_model.summary()"
      ],
      "metadata": {
        "colab": {
          "base_uri": "https://localhost:8080/"
        },
        "id": "G-6mvwrse-k9",
        "outputId": "69b935e3-6fc7-40a5-cf26-dde3fdc04295"
      },
      "execution_count": 16,
      "outputs": [
        {
          "output_type": "stream",
          "name": "stdout",
          "text": [
            "Model: \"FunctionalModel\"\n",
            "_________________________________________________________________\n",
            " Layer (type)                Output Shape              Param #   \n",
            "=================================================================\n",
            " InputLayer (InputLayer)     [(None, 28, 28)]          0         \n",
            "                                                                 \n",
            " Flatten (Flatten)           (None, 784)               0         \n",
            "                                                                 \n",
            " Dense1 (Dense)              (None, 256)               200960    \n",
            "                                                                 \n",
            " Dense2 (Dense)              (None, 64)                16448     \n",
            "                                                                 \n",
            " OutputLayer (Dense)         (None, 10)                650       \n",
            "                                                                 \n",
            "=================================================================\n",
            "Total params: 218,058\n",
            "Trainable params: 218,058\n",
            "Non-trainable params: 0\n",
            "_________________________________________________________________\n"
          ]
        }
      ]
    },
    {
      "cell_type": "code",
      "source": [
        "from tensorflow.keras.utils import plot_model\n",
        "#구조도 시각화\n",
        "plot_model(func_model, show_shapes=True, show_layer_names=True, to_file='model.png')"
      ],
      "metadata": {
        "colab": {
          "base_uri": "https://localhost:8080/",
          "height": 533
        },
        "id": "v5-E0153e-iT",
        "outputId": "0393949f-69fe-41df-bd0b-e60a9fc3f01b"
      },
      "execution_count": 17,
      "outputs": [
        {
          "output_type": "execute_result",
          "data": {
            "text/plain": [
              "<IPython.core.display.Image object>"
            ],
            "image/png": "[encoded data removed]"
          },
          "metadata": {},
          "execution_count": 17
        }
      ]
    },
    {
      "cell_type": "code",
      "source": [
        "#컴파일\n",
        "func_model.compile(optimizer='adam', loss='sparse_categorical_crossentropy', metrics=['accuracy'])\n",
        "\n",
        "#훈련\n",
        "func_model.fit(x_train, y_train, epochs=3)"
      ],
      "metadata": {
        "colab": {
          "base_uri": "https://localhost:8080/"
        },
        "id": "TyiKci4ce-fl",
        "outputId": "12497bc5-1ee2-41ab-d11b-ad4f63bb0206"
      },
      "execution_count": 18,
      "outputs": [
        {
          "output_type": "stream",
          "name": "stdout",
          "text": [
            "Epoch 1/3\n",
            "1875/1875 [==============================] - 8s 4ms/step - loss: 0.2118 - accuracy: 0.9379\n",
            "Epoch 2/3\n",
            "1875/1875 [==============================] - 7s 4ms/step - loss: 0.0871 - accuracy: 0.9725\n",
            "Epoch 3/3\n",
            "1875/1875 [==============================] - 7s 4ms/step - loss: 0.0588 - accuracy: 0.9809\n"
          ]
        },
        {
          "output_type": "execute_result",
          "data": {
            "text/plain": [
              "<keras.callbacks.History at 0x7fe553808f10>"
            ]
          },
          "metadata": {},
          "execution_count": 18
        }
      ]
    },
    {
      "cell_type": "code",
      "source": [
        "#검증\n",
        "loss, acc = func_model.evaluate(x_test, y_test, verbose=0)\n",
        "print(f'Functional model] loss: {loss:.5f}, acc:{acc:.5f}')"
      ],
      "metadata": {
        "colab": {
          "base_uri": "https://localhost:8080/"
        },
        "id": "0yRKhbubmR8Z",
        "outputId": "442ef2d7-b2d9-4274-8e94-654ab20bc464"
      },
      "execution_count": 19,
      "outputs": [
        {
          "output_type": "stream",
          "name": "stdout",
          "text": [
            "Functional model] loss: 0.07662, acc:0.97600\n"
          ]
        }
      ]
    },
    {
      "cell_type": "markdown",
      "source": [
        "### 7-2 모델 서브클래싱\n",
        "\n",
        "텐서플로에서 제공하는 Model 클래스를 직접 상속받아 사용자가 서브클래스로 딥러닝 모델을 만들 수 있다.\n",
        "\n",
        "![image.png](data:image/png;base64,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)"
      ],
      "metadata": {
        "id": "4ur5XFoEmfVI"
      }
    },
    {
      "cell_type": "code",
      "source": [
        "class MyModel(tf.keras.Model):\n",
        "    \n",
        "    def __init__(self):\n",
        "        super(MyModel, self).__init__()\n",
        "        # 초기값 설정\n",
        "        self.flatten = tf.keras.layers.Flatten()\n",
        "        self.dense1 = tf.keras.layers.Dense(256, activation='relu')\n",
        "        self.dense2 = tf.keras.layers.Dense(64, activation='relu')\n",
        "        self.dense3 = tf.keras.layers.Dense(10, activation='softmax')\n",
        "        \n",
        "    # class overiding\n",
        "    # 학습용 함수 정의\n",
        "    # x는 input\n",
        "    def call(self, x):\n",
        "        x = self.flatten(x)\n",
        "        x = self.dense1(x)\n",
        "        x = self.dense2(x)\n",
        "        x = self.dense3(x)\n",
        "        return x\n"
      ],
      "metadata": {
        "id": "712hVfc0mR5z"
      },
      "execution_count": 25,
      "outputs": []
    },
    {
      "cell_type": "code",
      "source": [
        "# 모델 생성\n",
        "mymodel = MyModel()\n",
        "\n",
        "# 모델의 이름 설정\n",
        "mymodel._name = 'subclass_model'\n",
        "\n",
        "# 모델 input 정의\n",
        "mymodel(tf.keras.layers.Input(shape=(28, 28)))\n",
        "\n",
        "# 모델 요약\n",
        "mymodel.summary()"
      ],
      "metadata": {
        "colab": {
          "base_uri": "https://localhost:8080/"
        },
        "id": "WE9ITy6NmR3N",
        "outputId": "927ef593-5685-46f3-9d44-d1e6a9b6fbcf"
      },
      "execution_count": 26,
      "outputs": [
        {
          "output_type": "stream",
          "name": "stdout",
          "text": [
            "Model: \"subclass_model\"\n",
            "_________________________________________________________________\n",
            " Layer (type)                Output Shape              Param #   \n",
            "=================================================================\n",
            " flatten_5 (Flatten)         multiple                  0         \n",
            "                                                                 \n",
            " dense_16 (Dense)            multiple                  200960    \n",
            "                                                                 \n",
            " dense_17 (Dense)            multiple                  16448     \n",
            "                                                                 \n",
            " dense_18 (Dense)            multiple                  650       \n",
            "                                                                 \n",
            "=================================================================\n",
            "Total params: 218,058\n",
            "Trainable params: 218,058\n",
            "Non-trainable params: 0\n",
            "_________________________________________________________________\n"
          ]
        }
      ]
    },
    {
      "cell_type": "code",
      "source": [
        "#컴파일\n",
        "mymodel.compile(optimizer='adam', loss='sparse_categorical_crossentropy', metrics=['accuracy'])\n",
        "\n",
        "#훈련\n",
        "mymodel.fit(x_train, y_train, epochs=3)\n",
        "\n",
        "#검증\n",
        "loss, acc = mymodel.evaluate(x_test, y_test, verbose=0)\n",
        "print(f'Subclassing model] loss: {loss:.5f}, acc:{acc:.5f}')"
      ],
      "metadata": {
        "colab": {
          "base_uri": "https://localhost:8080/"
        },
        "id": "Hkr1L1OLmR07",
        "outputId": "d3670cc9-c80c-4541-c19c-67e282965126"
      },
      "execution_count": 27,
      "outputs": [
        {
          "output_type": "stream",
          "name": "stdout",
          "text": [
            "Epoch 1/3\n",
            "1875/1875 [==============================] - 8s 4ms/step - loss: 0.2085 - accuracy: 0.9381\n",
            "Epoch 2/3\n",
            "1875/1875 [==============================] - 7s 4ms/step - loss: 0.0867 - accuracy: 0.9731\n",
            "Epoch 3/3\n",
            "1875/1875 [==============================] - 7s 4ms/step - loss: 0.0587 - accuracy: 0.9821\n",
            "Subclassing model] loss: 0.08397, acc:0.97500\n"
          ]
        }
      ]
    },
    {
      "cell_type": "markdown",
      "source": [
        "## 7-3 서브클래싱 모델 파라미터를 활용한 생성"
      ],
      "metadata": {
        "id": "y_F6eAxmFI7n"
      }
    },
    {
      "cell_type": "code",
      "source": [
        "class MyModel(tf.keras.Model):\n",
        "    \n",
        "    #생성자 파라미터 추가\n",
        "    def __init__(self, units, num_classes):\n",
        "        super(MyModel, self).__init__()\n",
        "        # 초기값 설정\n",
        "        self.flatten = tf.keras.layers.Flatten()\n",
        "        self.dense1 = tf.keras.layers.Dense(units, activation='relu')\n",
        "        self.dense2 = tf.keras.layers.Dense(units/4, activation='relu')\n",
        "        self.dense3 = tf.keras.layers.Dense(num_classes, activation='softmax')\n",
        "        \n",
        "    # class overiding\n",
        "    # 훈련용 함수 정의\n",
        "    # x는 input\n",
        "    def call(self, x):\n",
        "        x = self.flatten(x)\n",
        "        x = self.dense1(x)\n",
        "        x = self.dense2(x)\n",
        "        x = self.dense3(x)\n",
        "        return x"
      ],
      "metadata": {
        "id": "Trcl_EUkmRw0"
      },
      "execution_count": 28,
      "outputs": []
    },
    {
      "cell_type": "code",
      "source": [
        "# 모델 생성\n",
        "mymodel = MyModel(256,10)\n",
        "\n",
        "# 모델 input 정의\n",
        "mymodel(tf.keras.layers.Input(shape=(28, 28)))\n",
        "\n",
        "# 모델 요약\n",
        "mymodel.summary()"
      ],
      "metadata": {
        "colab": {
          "base_uri": "https://localhost:8080/"
        },
        "id": "_Zxa2weJFmvk",
        "outputId": "59767f45-66bc-48e7-dc73-a4c826d5111d"
      },
      "execution_count": 29,
      "outputs": [
        {
          "output_type": "stream",
          "name": "stdout",
          "text": [
            "Model: \"my_model_5\"\n",
            "_________________________________________________________________\n",
            " Layer (type)                Output Shape              Param #   \n",
            "=================================================================\n",
            " flatten_6 (Flatten)         multiple                  0         \n",
            "                                                                 \n",
            " dense_19 (Dense)            multiple                  200960    \n",
            "                                                                 \n",
            " dense_20 (Dense)            multiple                  16448     \n",
            "                                                                 \n",
            " dense_21 (Dense)            multiple                  650       \n",
            "                                                                 \n",
            "=================================================================\n",
            "Total params: 218,058\n",
            "Trainable params: 218,058\n",
            "Non-trainable params: 0\n",
            "_________________________________________________________________\n"
          ]
        }
      ]
    },
    {
      "cell_type": "code",
      "source": [
        "#컴파일\n",
        "mymodel.compile(optimizer='adam', loss='sparse_categorical_crossentropy', metrics=['accuracy'])\n",
        "\n",
        "#훈련\n",
        "mymodel.fit(x_train, y_train, epochs=3)\n",
        "\n",
        "#검증\n",
        "loss, acc = mymodel.evaluate(x_test, y_test, verbose=0)\n",
        "print(f'Subclassing model w.parameters] loss: {loss:.5f}, acc:{acc:.5f}')"
      ],
      "metadata": {
        "colab": {
          "base_uri": "https://localhost:8080/"
        },
        "id": "RuMP340bFmsc",
        "outputId": "b64b661e-d96a-4b09-bf3c-f671e7e2e1ed"
      },
      "execution_count": 30,
      "outputs": [
        {
          "output_type": "stream",
          "name": "stdout",
          "text": [
            "Epoch 1/3\n",
            "1875/1875 [==============================] - 8s 4ms/step - loss: 0.2191 - accuracy: 0.9360\n",
            "Epoch 2/3\n",
            "1875/1875 [==============================] - 8s 4ms/step - loss: 0.0883 - accuracy: 0.9720\n",
            "Epoch 3/3\n",
            "1875/1875 [==============================] - 8s 4ms/step - loss: 0.0615 - accuracy: 0.9798\n",
            "Subclassing model w.parameters] loss: 0.07137, acc:0.97720\n"
          ]
        }
      ]
    }
  ]
}