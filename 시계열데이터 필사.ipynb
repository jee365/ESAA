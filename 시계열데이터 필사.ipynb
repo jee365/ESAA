{
 "cells": [
  {
   "cell_type": "code",
   "execution_count": 1,
   "id": "9197d569",
   "metadata": {},
   "outputs": [],
   "source": [
    "from datetime import datetime"
   ]
  },
  {
   "cell_type": "code",
   "execution_count": 2,
   "id": "91594b12",
   "metadata": {},
   "outputs": [
    {
     "name": "stdout",
     "output_type": "stream",
     "text": [
      "2021-10-04 15:41:38.747292\n"
     ]
    }
   ],
   "source": [
    "now1=datetime.now()\n",
    "print(now1)"
   ]
  },
  {
   "cell_type": "code",
   "execution_count": 3,
   "id": "ea493665",
   "metadata": {},
   "outputs": [
    {
     "name": "stdout",
     "output_type": "stream",
     "text": [
      "2021-10-04 15:43:02.522020\n"
     ]
    }
   ],
   "source": [
    "now2=datetime.today()\n",
    "print(now2)"
   ]
  },
  {
   "cell_type": "code",
   "execution_count": 4,
   "id": "2c6fea65",
   "metadata": {},
   "outputs": [
    {
     "name": "stdout",
     "output_type": "stream",
     "text": [
      "2021-10-04 15:45:23.934126\n",
      "1970-01-01 00:00:00\n",
      "1970-12-12 13:24:34\n"
     ]
    }
   ],
   "source": [
    "t1=datetime.now()\n",
    "t2=datetime(1970,1,1)\n",
    "t3=datetime(1970,12,12,13,24,34)\n",
    "\n",
    "print(t1)\n",
    "print(t2)\n",
    "print(t3)"
   ]
  },
  {
   "cell_type": "code",
   "execution_count": 6,
   "id": "65b7320f",
   "metadata": {},
   "outputs": [
    {
     "name": "stdout",
     "output_type": "stream",
     "text": [
      "18904 days, 15:45:23.934126\n",
      "<class 'datetime.timedelta'>\n"
     ]
    }
   ],
   "source": [
    "diff1=t1-t2\n",
    "\n",
    "print(diff1)\n",
    "print(type(diff1))"
   ]
  },
  {
   "cell_type": "code",
   "execution_count": 7,
   "id": "4d28003c",
   "metadata": {},
   "outputs": [
    {
     "name": "stdout",
     "output_type": "stream",
     "text": [
      "-18905 days, 8:14:36.065874\n",
      "<class 'datetime.timedelta'>\n"
     ]
    }
   ],
   "source": [
    "diff2=t2-t1\n",
    "\n",
    "print(diff2)\n",
    "print(type(diff2))"
   ]
  },
  {
   "cell_type": "code",
   "execution_count": 13,
   "id": "ffccc156",
   "metadata": {},
   "outputs": [],
   "source": [
    "import pandas as pd"
   ]
  },
  {
   "cell_type": "code",
   "execution_count": 14,
   "id": "3f0b8df6",
   "metadata": {},
   "outputs": [],
   "source": [
    "pd.core.common.is_list_like=pd.api.types.is_list_like\n",
    "import pandas_datareader as pdr"
   ]
  },
  {
   "cell_type": "code",
   "execution_count": 16,
   "id": "d61e9d0d",
   "metadata": {},
   "outputs": [],
   "source": [
    "tesla=pdr.get_data_quandl('TSLA',api_key='EzJCpLJAYsbdx_Jf9DFy')"
   ]
  },
  {
   "cell_type": "code",
   "execution_count": 17,
   "id": "af334c28",
   "metadata": {},
   "outputs": [],
   "source": [
    "tesla.to_csv('tesla_stock_quandl.csv')"
   ]
  },
  {
   "cell_type": "code",
   "execution_count": 18,
   "id": "0b42096f",
   "metadata": {},
   "outputs": [
    {
     "name": "stdout",
     "output_type": "stream",
     "text": [
      "              Open    High     Low   Close      Volume  ExDividend  \\\n",
      "Date                                                                 \n",
      "2018-03-27  304.00  304.27  277.18  279.18  13696168.0         0.0   \n",
      "2018-03-26  307.34  307.59  291.36  304.18   8324639.0         0.0   \n",
      "2018-03-23  311.25  311.61  300.45  301.54   6600538.0         0.0   \n",
      "2018-03-22  313.89  318.82  308.18  309.10   4914307.0         0.0   \n",
      "2018-03-21  310.25  322.44  310.19  316.53   5927881.0         0.0   \n",
      "\n",
      "            SplitRatio  AdjOpen  AdjHigh  AdjLow  AdjClose   AdjVolume  \n",
      "Date                                                                    \n",
      "2018-03-27         1.0   304.00   304.27  277.18    279.18  13696168.0  \n",
      "2018-03-26         1.0   307.34   307.59  291.36    304.18   8324639.0  \n",
      "2018-03-23         1.0   311.25   311.61  300.45    301.54   6600538.0  \n",
      "2018-03-22         1.0   313.89   318.82  308.18    309.10   4914307.0  \n",
      "2018-03-21         1.0   310.25   322.44  310.19    316.53   5927881.0  \n"
     ]
    }
   ],
   "source": [
    "print(tesla.head())"
   ]
  },
  {
   "cell_type": "code",
   "execution_count": 22,
   "id": "d581f543",
   "metadata": {},
   "outputs": [
    {
     "name": "stdout",
     "output_type": "stream",
     "text": [
      "<class 'pandas.core.frame.DataFrame'>\n",
      "RangeIndex: 370 entries, 0 to 369\n",
      "Data columns (total 13 columns):\n",
      " #   Column      Non-Null Count  Dtype         \n",
      "---  ------      --------------  -----         \n",
      " 0   Date        370 non-null    datetime64[ns]\n",
      " 1   Open        370 non-null    float64       \n",
      " 2   High        370 non-null    float64       \n",
      " 3   Low         370 non-null    float64       \n",
      " 4   Close       370 non-null    float64       \n",
      " 5   Volume      370 non-null    float64       \n",
      " 6   ExDividend  370 non-null    float64       \n",
      " 7   SplitRatio  370 non-null    float64       \n",
      " 8   AdjOpen     370 non-null    float64       \n",
      " 9   AdjHigh     370 non-null    float64       \n",
      " 10  AdjLow      370 non-null    float64       \n",
      " 11  AdjClose    370 non-null    float64       \n",
      " 12  AdjVolume   370 non-null    float64       \n",
      "dtypes: datetime64[ns](1), float64(12)\n",
      "memory usage: 37.7 KB\n",
      "None\n"
     ]
    }
   ],
   "source": [
    "tesla=pd.read_csv('tesla_stock_quandl.csv',parse_dates=[0])\n",
    "print(tesla.info())"
   ]
  },
  {
   "cell_type": "code",
   "execution_count": 28,
   "id": "353234b8",
   "metadata": {},
   "outputs": [
    {
     "name": "stdout",
     "output_type": "stream",
     "text": [
      "          Date    Open      High     Low   Close      Volume  ExDividend  \\\n",
      "351 2016-10-31  202.49  202.4900  195.81  197.73   4692273.0         0.0   \n",
      "352 2016-10-28  204.00  205.3200  199.83  199.97   4280141.0         0.0   \n",
      "353 2016-10-27  211.34  213.7000  201.65  204.01  13093744.0         0.0   \n",
      "354 2016-10-26  201.00  203.1900  200.10  202.24   5632841.0         0.0   \n",
      "355 2016-10-25  202.90  204.6900  201.20  202.34   2445014.0         0.0   \n",
      "356 2016-10-24  201.00  203.9452  200.25  202.76   2751562.0         0.0   \n",
      "357 2016-10-21  198.60  201.5700  197.41  200.09   2943402.0         0.0   \n",
      "358 2016-10-20  202.12  203.0000  197.05  199.10   5072877.0         0.0   \n",
      "359 2016-10-19  199.74  206.6600  198.06  203.56   6991183.0         0.0   \n",
      "360 2016-10-18  195.99  199.4700  193.26  199.10   5680475.0         0.0   \n",
      "361 2016-10-17  197.05  198.3900  192.00  193.96   4554080.0         0.0   \n",
      "362 2016-10-14  200.66  201.4300  196.30  196.51   4269850.0         0.0   \n",
      "363 2016-10-13  200.50  200.8950  197.05  200.24   2495413.0         0.0   \n",
      "364 2016-10-12  200.95  203.8800  200.42  201.51   1970689.0         0.0   \n",
      "365 2016-10-11  201.85  202.2000  198.31  200.10   2328422.0         0.0   \n",
      "366 2016-10-10  201.35  204.1400  199.66  200.95   3316297.0         0.0   \n",
      "367 2016-10-07  201.00  201.3200  195.80  196.61   3493018.0         0.0   \n",
      "368 2016-10-06  202.46  204.2099  200.21  201.00   4703402.0         0.0   \n",
      "369 2016-10-05  212.24  213.1500  208.12  208.46   1877534.0         0.0   \n",
      "\n",
      "     SplitRatio  AdjOpen   AdjHigh  AdjLow  AdjClose   AdjVolume  \n",
      "351         1.0   202.49  202.4900  195.81    197.73   4692273.0  \n",
      "352         1.0   204.00  205.3200  199.83    199.97   4280141.0  \n",
      "353         1.0   211.34  213.7000  201.65    204.01  13093744.0  \n",
      "354         1.0   201.00  203.1900  200.10    202.24   5632841.0  \n",
      "355         1.0   202.90  204.6900  201.20    202.34   2445014.0  \n",
      "356         1.0   201.00  203.9452  200.25    202.76   2751562.0  \n",
      "357         1.0   198.60  201.5700  197.41    200.09   2943402.0  \n",
      "358         1.0   202.12  203.0000  197.05    199.10   5072877.0  \n",
      "359         1.0   199.74  206.6600  198.06    203.56   6991183.0  \n",
      "360         1.0   195.99  199.4700  193.26    199.10   5680475.0  \n",
      "361         1.0   197.05  198.3900  192.00    193.96   4554080.0  \n",
      "362         1.0   200.66  201.4300  196.30    196.51   4269850.0  \n",
      "363         1.0   200.50  200.8950  197.05    200.24   2495413.0  \n",
      "364         1.0   200.95  203.8800  200.42    201.51   1970689.0  \n",
      "365         1.0   201.85  202.2000  198.31    200.10   2328422.0  \n",
      "366         1.0   201.35  204.1400  199.66    200.95   3316297.0  \n",
      "367         1.0   201.00  201.3200  195.80    196.61   3493018.0  \n",
      "368         1.0   202.46  204.2099  200.21    201.00   4703402.0  \n",
      "369         1.0   212.24  213.1500  208.12    208.46   1877534.0  \n"
     ]
    }
   ],
   "source": [
    "print(tesla.loc[(tesla.Date.dt.year==2016) & (tesla.Date.dt.month==10)])"
   ]
  },
  {
   "cell_type": "code",
   "execution_count": 29,
   "id": "0d77da62",
   "metadata": {},
   "outputs": [
    {
     "name": "stdout",
     "output_type": "stream",
     "text": [
      "DatetimeIndex(['2018-03-27', '2018-03-26', '2018-03-23', '2018-03-22',\n",
      "               '2018-03-21', '2018-03-20', '2018-03-19', '2018-03-16',\n",
      "               '2018-03-15', '2018-03-14',\n",
      "               ...\n",
      "               '2016-10-18', '2016-10-17', '2016-10-14', '2016-10-13',\n",
      "               '2016-10-12', '2016-10-11', '2016-10-10', '2016-10-07',\n",
      "               '2016-10-06', '2016-10-05'],\n",
      "              dtype='datetime64[ns]', name='Date', length=370, freq=None)\n"
     ]
    }
   ],
   "source": [
    "tesla.index= tesla['Date']\n",
    "print(tesla.index)"
   ]
  },
  {
   "cell_type": "code",
   "execution_count": 31,
   "id": "8474c2e4",
   "metadata": {},
   "outputs": [
    {
     "name": "stdout",
     "output_type": "stream",
     "text": [
      "                 Date    Open      High     Low   Close\n",
      "Date                                                   \n",
      "2017-12-29 2017-12-29  316.18  316.4100  310.00  311.35\n",
      "2017-12-28 2017-12-28  311.75  315.8200  309.54  315.36\n",
      "2017-12-27 2017-12-27  316.00  317.6800  310.75  311.64\n",
      "2017-12-26 2017-12-26  323.83  323.9400  316.58  317.29\n",
      "2017-12-22 2017-12-22  329.51  330.9214  324.82  325.20\n"
     ]
    },
    {
     "name": "stderr",
     "output_type": "stream",
     "text": [
      "<ipython-input-31-5bb2f589d986>:1: FutureWarning: Indexing a DataFrame with a datetimelike index using a single string to slice the rows, like `frame[string]`, is deprecated and will be removed in a future version. Use `frame.loc[string]` instead.\n",
      "  print(tesla['2017'].iloc[:5,:5])\n"
     ]
    }
   ],
   "source": [
    "print(tesla['2017'].iloc[:5,:5])"
   ]
  },
  {
   "cell_type": "code",
   "execution_count": 32,
   "id": "fe32d0a3",
   "metadata": {},
   "outputs": [
    {
     "name": "stdout",
     "output_type": "stream",
     "text": [
      "                 Date     Open      High       Low   Close\n",
      "Date                                                      \n",
      "2017-06-30 2017-06-30  363.710  366.7674  359.6187  361.61\n",
      "2017-06-29 2017-06-29  370.610  371.0000  354.1000  360.75\n",
      "2017-06-28 2017-06-28  366.680  371.7400  362.5200  371.24\n",
      "2017-06-27 2017-06-27  376.400  376.4000  362.0200  362.37\n",
      "2017-06-26 2017-06-26  386.690  386.9500  373.1000  377.49\n",
      "2017-06-23 2017-06-23  382.450  386.9900  379.3450  383.45\n",
      "2017-06-22 2017-06-22  377.990  385.0000  373.5700  382.61\n",
      "2017-06-21 2017-06-21  374.350  376.9900  368.0200  376.40\n",
      "2017-06-20 2017-06-20  376.670  378.8800  369.7300  372.24\n",
      "2017-06-19 2017-06-19  375.000  376.7000  367.8000  369.80\n",
      "2017-06-16 2017-06-16  377.975  378.0100  370.1000  371.40\n",
      "2017-06-15 2017-06-15  372.500  375.4600  366.4900  375.34\n",
      "2017-06-14 2017-06-14  381.085  384.2500  376.3100  380.66\n",
      "2017-06-13 2017-06-13  367.620  376.0000  366.6100  375.95\n",
      "2017-06-12 2017-06-12  357.990  364.5000  350.6200  359.01\n",
      "2017-06-09 2017-06-09  374.420  376.8700  354.8000  357.32\n",
      "2017-06-08 2017-06-08  363.750  371.9000  360.2200  370.00\n",
      "2017-06-07 2017-06-07  356.340  360.5000  355.1400  359.65\n",
      "2017-06-06 2017-06-06  344.700  359.4929  339.9700  352.85\n",
      "2017-06-05 2017-06-05  338.500  348.4400  334.2100  347.32\n",
      "2017-06-02 2017-06-02  339.770  342.8800  335.9300  339.85\n",
      "2017-06-01 2017-06-01  344.000  344.8800  337.2900  340.37\n"
     ]
    },
    {
     "name": "stderr",
     "output_type": "stream",
     "text": [
      "<ipython-input-32-e774c7cedfe2>:1: FutureWarning: Indexing a DataFrame with a datetimelike index using a single string to slice the rows, like `frame[string]`, is deprecated and will be removed in a future version. Use `frame.loc[string]` instead.\n",
      "  print(tesla['2017-06'].iloc[:,:5])\n"
     ]
    }
   ],
   "source": [
    "print(tesla['2017-06'].iloc[:,:5])"
   ]
  },
  {
   "cell_type": "code",
   "execution_count": 34,
   "id": "01e6a95c",
   "metadata": {},
   "outputs": [
    {
     "name": "stdout",
     "output_type": "stream",
     "text": [
      "                 Date    Open    High     Low   Close      Volume  ExDividend  \\\n",
      "Date                                                                            \n",
      "2018-03-27 2018-03-27  304.00  304.27  277.18  279.18  13696168.0         0.0   \n",
      "2018-03-26 2018-03-26  307.34  307.59  291.36  304.18   8324639.0         0.0   \n",
      "2018-03-23 2018-03-23  311.25  311.61  300.45  301.54   6600538.0         0.0   \n",
      "2018-03-22 2018-03-22  313.89  318.82  308.18  309.10   4914307.0         0.0   \n",
      "2018-03-21 2018-03-21  310.25  322.44  310.19  316.53   5927881.0         0.0   \n",
      "\n",
      "            SplitRatio  AdjOpen  AdjHigh  AdjLow  AdjClose   AdjVolume  \\\n",
      "Date                                                                     \n",
      "2018-03-27         1.0   304.00   304.27  277.18    279.18  13696168.0   \n",
      "2018-03-26         1.0   307.34   307.59  291.36    304.18   8324639.0   \n",
      "2018-03-23         1.0   311.25   311.61  300.45    301.54   6600538.0   \n",
      "2018-03-22         1.0   313.89   318.82  308.18    309.10   4914307.0   \n",
      "2018-03-21         1.0   310.25   322.44  310.19    316.53   5927881.0   \n",
      "\n",
      "           ref_date  \n",
      "Date                 \n",
      "2018-03-27 538 days  \n",
      "2018-03-26 537 days  \n",
      "2018-03-23 534 days  \n",
      "2018-03-22 533 days  \n",
      "2018-03-21 532 days  \n"
     ]
    }
   ],
   "source": [
    "tesla['ref_date']=tesla['Date']-tesla['Date'].min()\n",
    "print(tesla.head())"
   ]
  },
  {
   "cell_type": "code",
   "execution_count": 36,
   "id": "654d80fe",
   "metadata": {},
   "outputs": [
    {
     "name": "stdout",
     "output_type": "stream",
     "text": [
      "               Date    Open    High     Low   Close\n",
      "ref_date                                           \n",
      "538 days 2018-03-27  304.00  304.27  277.18  279.18\n",
      "537 days 2018-03-26  307.34  307.59  291.36  304.18\n",
      "534 days 2018-03-23  311.25  311.61  300.45  301.54\n",
      "533 days 2018-03-22  313.89  318.82  308.18  309.10\n",
      "532 days 2018-03-21  310.25  322.44  310.19  316.53\n"
     ]
    }
   ],
   "source": [
    "tesla.index=tesla['ref_date']\n",
    "print(tesla.iloc[:5,:5])"
   ]
  },
  {
   "cell_type": "code",
   "execution_count": 37,
   "id": "4ba0c4ed",
   "metadata": {},
   "outputs": [
    {
     "name": "stdout",
     "output_type": "stream",
     "text": [
      "               Date    Open      High     Low   Close\n",
      "ref_date                                             \n",
      "5 days   2016-10-10  201.35  204.1400  199.66  200.95\n",
      "2 days   2016-10-07  201.00  201.3200  195.80  196.61\n",
      "1 days   2016-10-06  202.46  204.2099  200.21  201.00\n",
      "0 days   2016-10-05  212.24  213.1500  208.12  208.46\n"
     ]
    }
   ],
   "source": [
    "print(tesla['5 days':].iloc[:5,:5])"
   ]
  },
  {
   "cell_type": "code",
   "execution_count": 38,
   "id": "e9664140",
   "metadata": {},
   "outputs": [
    {
     "name": "stdout",
     "output_type": "stream",
     "text": [
      "        Date  Day  Cases_Guinea  Cases_Liberia  Cases_SierraLeone\n",
      "0 2015-01-05  289        2776.0            NaN            10030.0\n",
      "1 2015-01-04  288        2775.0            NaN             9780.0\n",
      "2 2015-01-03  287        2769.0         8166.0             9722.0\n",
      "3 2015-01-02  286           NaN         8157.0                NaN\n",
      "4 2014-12-31  284        2730.0         8115.0             9633.0\n"
     ]
    }
   ],
   "source": [
    "ebola= pd.read_csv('country_timeseries.csv',parse_dates=[0])\n",
    "print(ebola.iloc[:5,:5])"
   ]
  },
  {
   "cell_type": "code",
   "execution_count": 39,
   "id": "e0dc41af",
   "metadata": {},
   "outputs": [
    {
     "name": "stdout",
     "output_type": "stream",
     "text": [
      "          Date  Day  Cases_Guinea  Cases_Liberia  Cases_SierraLeone\n",
      "117 2014-03-27    5         103.0            8.0                6.0\n",
      "118 2014-03-26    4          86.0            NaN                NaN\n",
      "119 2014-03-25    3          86.0            NaN                NaN\n",
      "120 2014-03-24    2          86.0            NaN                NaN\n",
      "121 2014-03-22    0          49.0            NaN                NaN\n"
     ]
    }
   ],
   "source": [
    "print(ebola.iloc[-5:,:5])"
   ]
  },
  {
   "cell_type": "code",
   "execution_count": 40,
   "id": "2b20b06b",
   "metadata": {},
   "outputs": [
    {
     "name": "stdout",
     "output_type": "stream",
     "text": [
      "DatetimeIndex(['2014-12-31', '2015-01-01', '2015-01-02', '2015-01-03',\n",
      "               '2015-01-04', '2015-01-05'],\n",
      "              dtype='datetime64[ns]', freq='D')\n"
     ]
    }
   ],
   "source": [
    "head_range=pd.date_range(start='2014-12-31',end='2015-01-05')\n",
    "print(head_range)"
   ]
  },
  {
   "cell_type": "code",
   "execution_count": 41,
   "id": "a432f9e7",
   "metadata": {},
   "outputs": [
    {
     "name": "stdout",
     "output_type": "stream",
     "text": [
      "                 Date  Day  Cases_Guinea  Cases_Liberia  Cases_SierraLeone\n",
      "Date                                                                      \n",
      "2015-01-05 2015-01-05  289        2776.0            NaN            10030.0\n",
      "2015-01-04 2015-01-04  288        2775.0            NaN             9780.0\n",
      "2015-01-03 2015-01-03  287        2769.0         8166.0             9722.0\n",
      "2015-01-02 2015-01-02  286           NaN         8157.0                NaN\n",
      "2014-12-31 2014-12-31  284        2730.0         8115.0             9633.0\n"
     ]
    }
   ],
   "source": [
    "ebola_5=ebola.head()\n",
    "ebola_5.index=ebola_5['Date']\n",
    "ebola_5.reindex(head_range)\n",
    "print(ebola_5.iloc[:5,:5])"
   ]
  }
 ],
 "metadata": {
  "kernelspec": {
   "display_name": "Python 3",
   "language": "python",
   "name": "python3"
  },
  "language_info": {
   "codemirror_mode": {
    "name": "ipython",
    "version": 3
   },
   "file_extension": ".py",
   "mimetype": "text/x-python",
   "name": "python",
   "nbconvert_exporter": "python",
   "pygments_lexer": "ipython3",
   "version": "3.8.8"
  }
 },
 "nbformat": 4,
 "nbformat_minor": 5
}
