{
  "nbformat": 4,
  "nbformat_minor": 0,
  "metadata": {
    "colab": {
      "name": "0314 연습문제.ipynb",
      "provenance": [],
      "authorship_tag": "ABX9TyNjN8fHTxFiXQ9mpsikHHx5",
      "include_colab_link": true
    },
    "kernelspec": {
      "name": "python3",
      "display_name": "Python 3"
    },
    "language_info": {
      "name": "python"
    }
  },
  "cells": [
    {
      "cell_type": "markdown",
      "metadata": {
        "id": "view-in-github",
        "colab_type": "text"
      },
      "source": [
        "<a href=\"https://colab.research.google.com/github/jee365/ESAA/blob/main/0314_%EC%97%B0%EC%8A%B5%EB%AC%B8%EC%A0%9C.ipynb\" target=\"_parent\"><img src=\"https://colab.research.google.com/assets/colab-badge.svg\" alt=\"Open In Colab\"/></a>"
      ]
    },
    {
      "cell_type": "markdown",
      "source": [
        "##연습문제1"
      ],
      "metadata": {
        "id": "XpvZzJvIy6QO"
      }
    },
    {
      "cell_type": "code",
      "execution_count": 33,
      "metadata": {
        "id": "mdVnO4covzcE"
      },
      "outputs": [],
      "source": [
        "from sklearn.datasets import fetch_openml\n",
        "mnist = fetch_openml('mnist_784',version=1,as_frame=False)"
      ]
    },
    {
      "cell_type": "code",
      "source": [
        "X,y= mnist['data'],mnist['target']"
      ],
      "metadata": {
        "id": "dqpDllGyzRbz"
      },
      "execution_count": 39,
      "outputs": []
    },
    {
      "cell_type": "code",
      "source": [
        "import numpy as np\n",
        "X, y = mnist['data'], mnist['target']\n",
        "y = y.astype(np.int8) "
      ],
      "metadata": {
        "id": "iOwKd-ixzU8O"
      },
      "execution_count": 40,
      "outputs": []
    },
    {
      "cell_type": "code",
      "source": [
        "X_train, X_test, y_train, y_test = X[:60000],X[60000:],y[:60000],y[60000:]"
      ],
      "metadata": {
        "id": "UjPaS8Z0zcvg"
      },
      "execution_count": 41,
      "outputs": []
    },
    {
      "cell_type": "code",
      "source": [
        "from sklearn.neighbors import KNeighborsClassifier\n",
        "knn_clf = KNeighborsClassifier()\n",
        "knn_clf.fit(X_train, y_train)"
      ],
      "metadata": {
        "colab": {
          "base_uri": "https://localhost:8080/"
        },
        "id": "gDFBnreaz33e",
        "outputId": "304e6cd2-db6e-4745-9a3b-e4976ec61dba"
      },
      "execution_count": 42,
      "outputs": [
        {
          "output_type": "execute_result",
          "data": {
            "text/plain": [
              "KNeighborsClassifier()"
            ]
          },
          "metadata": {},
          "execution_count": 42
        }
      ]
    },
    {
      "cell_type": "code",
      "source": [
        "from sklearn.metrics import accuracy_score\n",
        "y_pred = knn_clf.predict(X_test)\n",
        "accuracy_score(y_test, y_pred)"
      ],
      "metadata": {
        "colab": {
          "base_uri": "https://localhost:8080/"
        },
        "id": "PzvcL8Sx0sz8",
        "outputId": "f8f9d44d-ed09-4fac-fbe7-9cebe4bc2d9c"
      },
      "execution_count": 49,
      "outputs": [
        {
          "output_type": "execute_result",
          "data": {
            "text/plain": [
              "0.9688"
            ]
          },
          "metadata": {},
          "execution_count": 49
        }
      ]
    },
    {
      "cell_type": "code",
      "source": [
        "from sklearn.model_selection import GridSearchCV\n",
        "\n",
        "parameters = {'weights':['distance','uniform'],'n_neighbors':[3,4,5]}\n",
        "\n",
        "gridCV = GridSearchCV(knn_clf, param_grid = parameters, cv=3)\n",
        "gridCV.fit(X_train, y_train)"
      ],
      "metadata": {
        "colab": {
          "base_uri": "https://localhost:8080/"
        },
        "id": "d8bEmgAD1JzD",
        "outputId": "57aaa1fc-ae9a-4c87-c55d-ccba954e1385"
      },
      "execution_count": 10,
      "outputs": [
        {
          "output_type": "execute_result",
          "data": {
            "text/plain": [
              "GridSearchCV(cv=3, estimator=KNeighborsClassifier(),\n",
              "             param_grid={'n_neighbors': [3, 4, 5],\n",
              "                         'weights': ['distance', 'uniform']})"
            ]
          },
          "metadata": {},
          "execution_count": 10
        }
      ]
    },
    {
      "cell_type": "code",
      "source": [
        "import pandas as pd\n",
        "scores_df = pd.DataFrame(gridCV.cv_results_)\n",
        "scores_df"
      ],
      "metadata": {
        "colab": {
          "base_uri": "https://localhost:8080/",
          "height": 510
        },
        "id": "9QBmyHow1Jvp",
        "outputId": "1006ef78-838e-410e-c379-395f617a8058"
      },
      "execution_count": 11,
      "outputs": [
        {
          "output_type": "execute_result",
          "data": {
            "text/plain": [
              "   mean_fit_time  std_fit_time  mean_score_time  std_score_time  \\\n",
              "0       0.306412      0.216660        48.252986        4.531461   \n",
              "1       0.155131      0.001259        44.223040        0.251989   \n",
              "2       0.152399      0.000621        50.747067        2.802405   \n",
              "3       0.151994      0.002881        49.144001        0.360514   \n",
              "4       0.161007      0.004606        52.504822        1.524385   \n",
              "5       0.157975      0.004546        50.384605        0.885218   \n",
              "\n",
              "  param_n_neighbors param_weights                                     params  \\\n",
              "0                 3      distance  {'n_neighbors': 3, 'weights': 'distance'}   \n",
              "1                 3       uniform   {'n_neighbors': 3, 'weights': 'uniform'}   \n",
              "2                 4      distance  {'n_neighbors': 4, 'weights': 'distance'}   \n",
              "3                 4       uniform   {'n_neighbors': 4, 'weights': 'uniform'}   \n",
              "4                 5      distance  {'n_neighbors': 5, 'weights': 'distance'}   \n",
              "5                 5       uniform   {'n_neighbors': 5, 'weights': 'uniform'}   \n",
              "\n",
              "   split0_test_score  split1_test_score  split2_test_score  mean_test_score  \\\n",
              "0            0.97040            0.96890            0.96870         0.969333   \n",
              "1            0.96900            0.96805            0.96750         0.968183   \n",
              "2            0.97090            0.96980            0.97035         0.970350   \n",
              "3            0.96625            0.96640            0.96725         0.966633   \n",
              "4            0.96880            0.96795            0.96905         0.968600   \n",
              "5            0.96760            0.96710            0.96755         0.967417   \n",
              "\n",
              "   std_test_score  rank_test_score  \n",
              "0        0.000759                2  \n",
              "1        0.000620                4  \n",
              "2        0.000449                1  \n",
              "3        0.000440                6  \n",
              "4        0.000471                3  \n",
              "5        0.000225                5  "
            ],
            "text/html": [
              "\n",
              "  <div id=\"df-75c2a9b5-fffa-44eb-be19-f31f0e7d004c\">\n",
              "    <div class=\"colab-df-container\">\n",
              "      <div>\n",
              "<style scoped>\n",
              "    .dataframe tbody tr th:only-of-type {\n",
              "        vertical-align: middle;\n",
              "    }\n",
              "\n",
              "    .dataframe tbody tr th {\n",
              "        vertical-align: top;\n",
              "    }\n",
              "\n",
              "    .dataframe thead th {\n",
              "        text-align: right;\n",
              "    }\n",
              "</style>\n",
              "<table border=\"1\" class=\"dataframe\">\n",
              "  <thead>\n",
              "    <tr style=\"text-align: right;\">\n",
              "      <th></th>\n",
              "      <th>mean_fit_time</th>\n",
              "      <th>std_fit_time</th>\n",
              "      <th>mean_score_time</th>\n",
              "      <th>std_score_time</th>\n",
              "      <th>param_n_neighbors</th>\n",
              "      <th>param_weights</th>\n",
              "      <th>params</th>\n",
              "      <th>split0_test_score</th>\n",
              "      <th>split1_test_score</th>\n",
              "      <th>split2_test_score</th>\n",
              "      <th>mean_test_score</th>\n",
              "      <th>std_test_score</th>\n",
              "      <th>rank_test_score</th>\n",
              "    </tr>\n",
              "  </thead>\n",
              "  <tbody>\n",
              "    <tr>\n",
              "      <th>0</th>\n",
              "      <td>0.306412</td>\n",
              "      <td>0.216660</td>\n",
              "      <td>48.252986</td>\n",
              "      <td>4.531461</td>\n",
              "      <td>3</td>\n",
              "      <td>distance</td>\n",
              "      <td>{'n_neighbors': 3, 'weights': 'distance'}</td>\n",
              "      <td>0.97040</td>\n",
              "      <td>0.96890</td>\n",
              "      <td>0.96870</td>\n",
              "      <td>0.969333</td>\n",
              "      <td>0.000759</td>\n",
              "      <td>2</td>\n",
              "    </tr>\n",
              "    <tr>\n",
              "      <th>1</th>\n",
              "      <td>0.155131</td>\n",
              "      <td>0.001259</td>\n",
              "      <td>44.223040</td>\n",
              "      <td>0.251989</td>\n",
              "      <td>3</td>\n",
              "      <td>uniform</td>\n",
              "      <td>{'n_neighbors': 3, 'weights': 'uniform'}</td>\n",
              "      <td>0.96900</td>\n",
              "      <td>0.96805</td>\n",
              "      <td>0.96750</td>\n",
              "      <td>0.968183</td>\n",
              "      <td>0.000620</td>\n",
              "      <td>4</td>\n",
              "    </tr>\n",
              "    <tr>\n",
              "      <th>2</th>\n",
              "      <td>0.152399</td>\n",
              "      <td>0.000621</td>\n",
              "      <td>50.747067</td>\n",
              "      <td>2.802405</td>\n",
              "      <td>4</td>\n",
              "      <td>distance</td>\n",
              "      <td>{'n_neighbors': 4, 'weights': 'distance'}</td>\n",
              "      <td>0.97090</td>\n",
              "      <td>0.96980</td>\n",
              "      <td>0.97035</td>\n",
              "      <td>0.970350</td>\n",
              "      <td>0.000449</td>\n",
              "      <td>1</td>\n",
              "    </tr>\n",
              "    <tr>\n",
              "      <th>3</th>\n",
              "      <td>0.151994</td>\n",
              "      <td>0.002881</td>\n",
              "      <td>49.144001</td>\n",
              "      <td>0.360514</td>\n",
              "      <td>4</td>\n",
              "      <td>uniform</td>\n",
              "      <td>{'n_neighbors': 4, 'weights': 'uniform'}</td>\n",
              "      <td>0.96625</td>\n",
              "      <td>0.96640</td>\n",
              "      <td>0.96725</td>\n",
              "      <td>0.966633</td>\n",
              "      <td>0.000440</td>\n",
              "      <td>6</td>\n",
              "    </tr>\n",
              "    <tr>\n",
              "      <th>4</th>\n",
              "      <td>0.161007</td>\n",
              "      <td>0.004606</td>\n",
              "      <td>52.504822</td>\n",
              "      <td>1.524385</td>\n",
              "      <td>5</td>\n",
              "      <td>distance</td>\n",
              "      <td>{'n_neighbors': 5, 'weights': 'distance'}</td>\n",
              "      <td>0.96880</td>\n",
              "      <td>0.96795</td>\n",
              "      <td>0.96905</td>\n",
              "      <td>0.968600</td>\n",
              "      <td>0.000471</td>\n",
              "      <td>3</td>\n",
              "    </tr>\n",
              "    <tr>\n",
              "      <th>5</th>\n",
              "      <td>0.157975</td>\n",
              "      <td>0.004546</td>\n",
              "      <td>50.384605</td>\n",
              "      <td>0.885218</td>\n",
              "      <td>5</td>\n",
              "      <td>uniform</td>\n",
              "      <td>{'n_neighbors': 5, 'weights': 'uniform'}</td>\n",
              "      <td>0.96760</td>\n",
              "      <td>0.96710</td>\n",
              "      <td>0.96755</td>\n",
              "      <td>0.967417</td>\n",
              "      <td>0.000225</td>\n",
              "      <td>5</td>\n",
              "    </tr>\n",
              "  </tbody>\n",
              "</table>\n",
              "</div>\n",
              "      <button class=\"colab-df-convert\" onclick=\"convertToInteractive('df-75c2a9b5-fffa-44eb-be19-f31f0e7d004c')\"\n",
              "              title=\"Convert this dataframe to an interactive table.\"\n",
              "              style=\"display:none;\">\n",
              "        \n",
              "  <svg xmlns=\"http://www.w3.org/2000/svg\" height=\"24px\"viewBox=\"0 0 24 24\"\n",
              "       width=\"24px\">\n",
              "    <path d=\"M0 0h24v24H0V0z\" fill=\"none\"/>\n",
              "    <path d=\"M18.56 5.44l.94 2.06.94-2.06 2.06-.94-2.06-.94-.94-2.06-.94 2.06-2.06.94zm-11 1L8.5 8.5l.94-2.06 2.06-.94-2.06-.94L8.5 2.5l-.94 2.06-2.06.94zm10 10l.94 2.06.94-2.06 2.06-.94-2.06-.94-.94-2.06-.94 2.06-2.06.94z\"/><path d=\"M17.41 7.96l-1.37-1.37c-.4-.4-.92-.59-1.43-.59-.52 0-1.04.2-1.43.59L10.3 9.45l-7.72 7.72c-.78.78-.78 2.05 0 2.83L4 21.41c.39.39.9.59 1.41.59.51 0 1.02-.2 1.41-.59l7.78-7.78 2.81-2.81c.8-.78.8-2.07 0-2.86zM5.41 20L4 18.59l7.72-7.72 1.47 1.35L5.41 20z\"/>\n",
              "  </svg>\n",
              "      </button>\n",
              "      \n",
              "  <style>\n",
              "    .colab-df-container {\n",
              "      display:flex;\n",
              "      flex-wrap:wrap;\n",
              "      gap: 12px;\n",
              "    }\n",
              "\n",
              "    .colab-df-convert {\n",
              "      background-color: #E8F0FE;\n",
              "      border: none;\n",
              "      border-radius: 50%;\n",
              "      cursor: pointer;\n",
              "      display: none;\n",
              "      fill: #1967D2;\n",
              "      height: 32px;\n",
              "      padding: 0 0 0 0;\n",
              "      width: 32px;\n",
              "    }\n",
              "\n",
              "    .colab-df-convert:hover {\n",
              "      background-color: #E2EBFA;\n",
              "      box-shadow: 0px 1px 2px rgba(60, 64, 67, 0.3), 0px 1px 3px 1px rgba(60, 64, 67, 0.15);\n",
              "      fill: #174EA6;\n",
              "    }\n",
              "\n",
              "    [theme=dark] .colab-df-convert {\n",
              "      background-color: #3B4455;\n",
              "      fill: #D2E3FC;\n",
              "    }\n",
              "\n",
              "    [theme=dark] .colab-df-convert:hover {\n",
              "      background-color: #434B5C;\n",
              "      box-shadow: 0px 1px 3px 1px rgba(0, 0, 0, 0.15);\n",
              "      filter: drop-shadow(0px 1px 2px rgba(0, 0, 0, 0.3));\n",
              "      fill: #FFFFFF;\n",
              "    }\n",
              "  </style>\n",
              "\n",
              "      <script>\n",
              "        const buttonEl =\n",
              "          document.querySelector('#df-75c2a9b5-fffa-44eb-be19-f31f0e7d004c button.colab-df-convert');\n",
              "        buttonEl.style.display =\n",
              "          google.colab.kernel.accessAllowed ? 'block' : 'none';\n",
              "\n",
              "        async function convertToInteractive(key) {\n",
              "          const element = document.querySelector('#df-75c2a9b5-fffa-44eb-be19-f31f0e7d004c');\n",
              "          const dataTable =\n",
              "            await google.colab.kernel.invokeFunction('convertToInteractive',\n",
              "                                                     [key], {});\n",
              "          if (!dataTable) return;\n",
              "\n",
              "          const docLinkHtml = 'Like what you see? Visit the ' +\n",
              "            '<a target=\"_blank\" href=https://colab.research.google.com/notebooks/data_table.ipynb>data table notebook</a>'\n",
              "            + ' to learn more about interactive tables.';\n",
              "          element.innerHTML = '';\n",
              "          dataTable['output_type'] = 'display_data';\n",
              "          await google.colab.output.renderOutput(dataTable, element);\n",
              "          const docLink = document.createElement('div');\n",
              "          docLink.innerHTML = docLinkHtml;\n",
              "          element.appendChild(docLink);\n",
              "        }\n",
              "      </script>\n",
              "    </div>\n",
              "  </div>\n",
              "  "
            ]
          },
          "metadata": {},
          "execution_count": 11
        }
      ]
    },
    {
      "cell_type": "code",
      "source": [
        "gridCV.best_params_"
      ],
      "metadata": {
        "colab": {
          "base_uri": "https://localhost:8080/"
        },
        "id": "AvK8w6WQ1Jrk",
        "outputId": "d0691814-396c-4bb4-8814-8e513264e29c"
      },
      "execution_count": 12,
      "outputs": [
        {
          "output_type": "execute_result",
          "data": {
            "text/plain": [
              "{'n_neighbors': 4, 'weights': 'distance'}"
            ]
          },
          "metadata": {},
          "execution_count": 12
        }
      ]
    },
    {
      "cell_type": "markdown",
      "source": [
        "##연습문제2"
      ],
      "metadata": {
        "id": "yt1mmMIY5v4M"
      }
    },
    {
      "cell_type": "code",
      "source": [
        "from scipy.ndimage.interpolation import shift\n",
        "\n",
        "def shift_image(image, dx, dy):\n",
        "    img = image.reshape( (28, 28) )\n",
        "    shifted_img = shift(img, [dy, dx], cval=0, mode=\"constant\")\n",
        "    return shifted_img.reshape([-1])\n"
      ],
      "metadata": {
        "id": "sfcQU7ca1JhZ"
      },
      "execution_count": 44,
      "outputs": []
    },
    {
      "cell_type": "code",
      "source": [
        "X_train_aug = [image for image in X_train]\n",
        "y_train_aug = [label for label in y_train]\n",
        "\n",
        "for dx, dy in ((1, 0), (-1, 0), (0, 1), (0, -1)):\n",
        "    for image, label in zip(X_train, y_train):\n",
        "        X_train_aug.append(shift_image(image, dx, dy))\n",
        "        y_train_aug.append(label)\n",
        "\n",
        "\n"
      ],
      "metadata": {
        "id": "pAbXE_pQ1JdV"
      },
      "execution_count": 45,
      "outputs": []
    },
    {
      "cell_type": "code",
      "source": [
        "X_train_aug = np.array(X_train_aug)\n",
        "y_train_aug = np.array(y_train_aug)"
      ],
      "metadata": {
        "id": "r7cm5O75-J5a"
      },
      "execution_count": 46,
      "outputs": []
    },
    {
      "cell_type": "code",
      "source": [
        "knn_clf2 = KNeighborsClassifier()\n",
        "knn_clf2.fit(X_train_aug, y_train_aug)\n",
        "\n",
        "y_pred2 = gridCV.predict(X_test)\n",
        "accuracy_score(y_test, y_pred2)"
      ],
      "metadata": {
        "colab": {
          "base_uri": "https://localhost:8080/"
        },
        "id": "d0BwguI69EP1",
        "outputId": "55ae94bf-9451-4ccd-a2c0-15ae4f76a789"
      },
      "execution_count": 48,
      "outputs": [
        {
          "output_type": "stream",
          "name": "stderr",
          "text": [
            "/usr/local/lib/python3.7/dist-packages/sklearn/base.py:451: UserWarning: X does not have valid feature names, but KNeighborsClassifier was fitted with feature names\n",
            "  \"X does not have valid feature names, but\"\n"
          ]
        },
        {
          "output_type": "execute_result",
          "data": {
            "text/plain": [
              "0.9714"
            ]
          },
          "metadata": {},
          "execution_count": 48
        }
      ]
    }
  ]
}