{
  "nbformat": 4,
  "nbformat_minor": 0,
  "metadata": {
    "colab": {
      "name": "ch8. 텍스트 분석 06~09.ipynb",
      "provenance": [],
      "authorship_tag": "ABX9TyOjbNXZMdZ2kyenOVX9mYSM",
      "include_colab_link": true
    },
    "kernelspec": {
      "name": "python3",
      "display_name": "Python 3"
    },
    "language_info": {
      "name": "python"
    }
  },
  "cells": [
    {
      "cell_type": "markdown",
      "metadata": {
        "id": "view-in-github",
        "colab_type": "text"
      },
      "source": [
        "<a href=\"https://colab.research.google.com/github/jee365/ESAA/blob/main/ch8_%ED%85%8D%EC%8A%A4%ED%8A%B8_%EB%B6%84%EC%84%9D_06~09.ipynb\" target=\"_parent\"><img src=\"https://colab.research.google.com/assets/colab-badge.svg\" alt=\"Open In Colab\"/></a>"
      ]
    },
    {
      "cell_type": "markdown",
      "source": [
        "# ch8. 텍스트 분석\n",
        "\n",
        "### 06. 토픽 모델링(Topic Modeling) - 20 뉴스그룹\n",
        "\n",
        "#### **토픽 모델링**: 문서 집합에 숨어있는 주제를 찾아내는 것\n",
        "\n",
        "- 숨겨진 주제를 효과적으로 표현할 수 있는 중심 단어를 함축적으로 추출\n",
        "- Latent Semantic Analysis / Latent Dirichlet Allocation(차원 축소 LDA 아님!)\n",
        "\n"
      ],
      "metadata": {
        "id": "puizRr8B5K6O"
      }
    },
    {
      "cell_type": "code",
      "execution_count": 4,
      "metadata": {
        "colab": {
          "base_uri": "https://localhost:8080/"
        },
        "id": "2vwJN25O3Ggj",
        "outputId": "53b82dff-7fa8-4775-90f8-30b1dcdfae85"
      },
      "outputs": [
        {
          "output_type": "stream",
          "name": "stdout",
          "text": [
            "CountVectorizer Shape: (7862, 1000)\n"
          ]
        }
      ],
      "source": [
        "from sklearn.datasets import fetch_20newsgroups\n",
        "from sklearn.feature_extraction.text import CountVectorizer\n",
        "from sklearn.decomposition import LatentDirichletAllocation\n",
        "\n",
        "#모토사이클, 야구, 그래픽스, 윈도우즈, 중동, 기독교, 전자공학, 의학 8개 주제를 추출\n",
        "cats = ['rec.motorcycles', 'rec.sport.baseball', 'comp.graphics', 'comp.windows.x',\n",
        "        'talk.politics.mideast', 'soc.religion.christian', 'sci.electronics', 'sci.med' ]\n",
        "\n",
        "#위에서 cats 변수로 기재된 카테고리만 추출. fetch_20newsgroups( )의 categories에 cats 입력\n",
        "news_df = fetch_20newsgroups(subset='all', remove=('headers', 'footers','quotes'), categories=cats, random_state=0)\n",
        "\n",
        "#LDA는 Count 기반의 벡터화만 적용합니다\n",
        "count_vect = CountVectorizer(max_df=0.95, max_features =1000, min_df=2, stop_words='english', ngram_range=(1,2))\n",
        "\n",
        "feat_vect = count_vect.fit_transform(news_df.data)\n",
        "print('CountVectorizer Shape:', feat_vect.shape)"
      ]
    },
    {
      "cell_type": "code",
      "source": [
        "lda = LatentDirichletAllocation(n_components=8, random_state=0)\n",
        "lda.fit(feat_vect)"
      ],
      "metadata": {
        "colab": {
          "base_uri": "https://localhost:8080/"
        },
        "id": "imujrDDrOrMR",
        "outputId": "3f5fbef4-9e2c-47af-fd80-db2c7e0780ae"
      },
      "execution_count": 5,
      "outputs": [
        {
          "output_type": "execute_result",
          "data": {
            "text/plain": [
              "LatentDirichletAllocation(n_components=8, random_state=0)"
            ]
          },
          "metadata": {},
          "execution_count": 5
        }
      ]
    },
    {
      "cell_type": "code",
      "source": [
        "print(lda.components_.shape)\n",
        "lda.components_"
      ],
      "metadata": {
        "colab": {
          "base_uri": "https://localhost:8080/"
        },
        "id": "uwIYiCgkOrJZ",
        "outputId": "27d15025-a9be-439c-d355-f0a6bb185526"
      },
      "execution_count": 6,
      "outputs": [
        {
          "output_type": "stream",
          "name": "stdout",
          "text": [
            "(8, 1000)\n"
          ]
        },
        {
          "output_type": "execute_result",
          "data": {
            "text/plain": [
              "array([[3.60992018e+01, 1.35626798e+02, 2.15751867e+01, ...,\n",
              "        3.02911688e+01, 8.66830093e+01, 6.79285199e+01],\n",
              "       [1.25199920e-01, 1.44401815e+01, 1.25045596e-01, ...,\n",
              "        1.81506995e+02, 1.25097844e-01, 9.39593286e+01],\n",
              "       [3.34762663e+02, 1.25176265e-01, 1.46743299e+02, ...,\n",
              "        1.25105772e-01, 3.63689741e+01, 1.25025218e-01],\n",
              "       ...,\n",
              "       [3.60204965e+01, 2.08640688e+01, 4.29606813e+00, ...,\n",
              "        1.45056650e+01, 8.33854413e+00, 1.55690009e+01],\n",
              "       [1.25128711e-01, 1.25247756e-01, 1.25005143e-01, ...,\n",
              "        9.17278769e+01, 1.25177668e-01, 3.74575887e+01],\n",
              "       [5.49258690e+01, 4.47009532e+00, 9.88524814e+00, ...,\n",
              "        4.87048440e+01, 1.25034678e-01, 1.25074632e-01]])"
            ]
          },
          "metadata": {},
          "execution_count": 6
        }
      ]
    },
    {
      "cell_type": "code",
      "source": [
        "def display_topics(model, feature_names, no_top_words):\n",
        "  for topic_index, topic in enumerate(model.components_):\n",
        "    print('Topic #', topic_index)\n",
        "\n",
        "    #components_array 에서 가장 값이 큰 순으로 정렬했을 때, 그 값의 array 인덱스를 반환\n",
        "    topic_word_indexes = topic.argsort()[::-1]\n",
        "    top_indexes = topic_word_indexes[:no_top_words]\n",
        "\n",
        "    #top_indexes대상인 인덱스별로 feature_names에 해당하는 word feature 추출 후 .join으로 concat\n",
        "    feature_concat = ' '.join([feature_names[i] for i in top_indexes])\n",
        "    print(feature_concat)\n",
        "\n",
        "#CountVectorizer 객체 내의 전체 word의 명칭을 get_features_names()를 통해 추출\n",
        "feature_names = count_vect.get_feature_names()\n",
        "\n",
        "#토픽별  가장 연관도 높은 word를 15개만 추출\n",
        "display_topics(lda, feature_names, 15)"
      ],
      "metadata": {
        "colab": {
          "base_uri": "https://localhost:8080/"
        },
        "id": "nIQTbJsROrG0",
        "outputId": "4f8b55be-efa2-4e0c-adeb-38cd59322327"
      },
      "execution_count": 7,
      "outputs": [
        {
          "output_type": "stream",
          "name": "stdout",
          "text": [
            "Topic # 0\n",
            "year 10 game medical health team 12 20 disease cancer 1993 games years patients good\n",
            "Topic # 1\n",
            "don just like know people said think time ve didn right going say ll way\n",
            "Topic # 2\n",
            "image file jpeg program gif images output format files color entry 00 use bit 03\n",
            "Topic # 3\n",
            "like know don think use does just good time book read information people used post\n",
            "Topic # 4\n",
            "armenian israel armenians jews turkish people israeli jewish government war dos dos turkey arab armenia 000\n",
            "Topic # 5\n",
            "edu com available graphics ftp data pub motif mail widget software mit information version sun\n",
            "Topic # 6\n",
            "god people jesus church believe christ does christian say think christians bible faith sin life\n",
            "Topic # 7\n",
            "use dos thanks windows using window does display help like problem server need know run\n"
          ]
        },
        {
          "output_type": "stream",
          "name": "stderr",
          "text": [
            "/usr/local/lib/python3.7/dist-packages/sklearn/utils/deprecation.py:87: FutureWarning: Function get_feature_names is deprecated; get_feature_names is deprecated in 1.0 and will be removed in 1.2. Please use get_feature_names_out instead.\n",
            "  warnings.warn(msg, category=FutureWarning)\n"
          ]
        }
      ]
    },
    {
      "cell_type": "markdown",
      "source": [
        "### 08. 문서 유사도\n",
        "\n",
        "#### 문서유사도 측정 방법 - 코사인 유사도\n",
        "\n",
        "코사인 유사도는 벡터와 벡터 간의 유사도를 비교할 때 벡터의 크기보다는 벡터의 상호 방향성이 얼마나 유사한지에 기반함\n"
      ],
      "metadata": {
        "id": "tNnnZTKxQbvH"
      }
    },
    {
      "cell_type": "markdown",
      "source": [
        "#### 두 벡터 사잇각\n",
        "\n",
        "![image.png](data:image/png;base64,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)"
      ],
      "metadata": {
        "id": "m1jMn5yiQ0I3"
      }
    },
    {
      "cell_type": "markdown",
      "source": [
        "A * B = ||A||||B||cos𝚹\n",
        "\n",
        "![image.png](data:image/png;base64,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)"
      ],
      "metadata": {
        "id": "p5I6BV_lQ-az"
      }
    },
    {
      "cell_type": "markdown",
      "source": [
        "코사인 유사도를 자주 사용하는 이유\n",
        "- 문서를 피처 벡터화 변환하면 차원이 매우 많은 희소 행렬이 되기 쉬움 -> 정확도 떨어짐\n",
        "- 문서가 매우 긴 경우 단어의 빈도수도 많아지기에 빈도수만 기반해서는 공정한 비교 불가능"
      ],
      "metadata": {
        "id": "EK4Ch6UdRUIp"
      }
    },
    {
      "cell_type": "code",
      "source": [
        "import numpy as np\n",
        "\n",
        "def cos_similarity(v1, v2):\n",
        "  dot_product = np.dot(v1,v2)\n",
        "  l2_norm = (np.sqrt(sum(np.square(v1)))*np.sqrt(sum(np.square(v2))))\n",
        "  similarity = dot_product / l2_norm\n",
        "\n",
        "  return similarity"
      ],
      "metadata": {
        "id": "C9134AIjOrEd"
      },
      "execution_count": 8,
      "outputs": []
    },
    {
      "cell_type": "code",
      "source": [
        "from sklearn.feature_extraction.text import TfidfVectorizer\n",
        "\n",
        "doc_list = ['if you take the blue pill, the story ends',\n",
        "            'if you take the red pill, you stay in Wonderland',\n",
        "            'if you take the red pill, I show you how deep the rabbit hole goes']\n",
        "\n",
        "tfidf_vect_simple = TfidfVectorizer()\n",
        "feature_vect_simple = tfidf_vect_simple.fit_transform(doc_list)\n",
        "print(feature_vect_simple.shape) #희소 행렬 반환"
      ],
      "metadata": {
        "colab": {
          "base_uri": "https://localhost:8080/"
        },
        "id": "r_aQs68-OrCQ",
        "outputId": "ecfc9a9b-0558-4362-c82d-c8891857e00f"
      },
      "execution_count": 9,
      "outputs": [
        {
          "output_type": "stream",
          "name": "stdout",
          "text": [
            "(3, 18)\n"
          ]
        }
      ]
    },
    {
      "cell_type": "markdown",
      "source": [
        "cos_similarity() 함수로 두 개 문서의 유사도 측정"
      ],
      "metadata": {
        "id": "52IA-u9sTHOn"
      }
    },
    {
      "cell_type": "code",
      "source": [
        "#TFidfVectorizer로 transfomr()한 결과는 희소 행렬이므로 밀집 행렬로 변환\n",
        "feature_vect_dense = feature_vect_simple.todense()\n",
        "\n",
        "#첫번째 문장과 두번째 문장의 피처 벡터 추출\n",
        "vect1 = np.array(feature_vect_dense[0]).reshape(-1,)\n",
        "vect2 = np.array(feature_vect_dense[1]).reshape(-1,)\n",
        "\n",
        "#첫번째 문장과 두번째 문장의 피처 벡터로 두개 문장의 코사인 유사도 추출\n",
        "similarity_sample = cos_similarity(vect1, vect2)\n",
        "print('문장1, 문장 2 Cosine 유사도: {}'.format(similarity_sample))"
      ],
      "metadata": {
        "colab": {
          "base_uri": "https://localhost:8080/"
        },
        "id": "DbjS7N-HOq_L",
        "outputId": "22ef639b-e69a-4774-a154-ba7bdc97b6c1"
      },
      "execution_count": 10,
      "outputs": [
        {
          "output_type": "stream",
          "name": "stdout",
          "text": [
            "문장1, 문장 2 Cosine 유사도: 0.40207758214950134\n"
          ]
        }
      ]
    },
    {
      "cell_type": "code",
      "source": [
        "vect1 = np.array(feature_vect_dense[0]).reshape(-1,)\n",
        "vect3 = np.array(feature_vect_dense[2]).reshape(-1,)\n",
        "similarity_sample = cos_similarity(vect1, vect3)\n",
        "print('문장1, 문장 3 Cosine 유사도: {}'.format(similarity_sample))"
      ],
      "metadata": {
        "colab": {
          "base_uri": "https://localhost:8080/"
        },
        "id": "SoFeSLTLOq9J",
        "outputId": "fa64d269-d738-4996-a265-7205c11d7ac6"
      },
      "execution_count": 11,
      "outputs": [
        {
          "output_type": "stream",
          "name": "stdout",
          "text": [
            "문장1, 문장 3 Cosine 유사도: 0.4042504477594862\n"
          ]
        }
      ]
    },
    {
      "cell_type": "code",
      "source": [
        "vect2 = np.array(feature_vect_dense[1]).reshape(-1,)\n",
        "vect3 = np.array(feature_vect_dense[2]).reshape(-1,)\n",
        "similarity_sample = cos_similarity(vect2, vect3)\n",
        "print('문장2, 문장 3 Cosine 유사도: {}'.format(similarity_sample))"
      ],
      "metadata": {
        "colab": {
          "base_uri": "https://localhost:8080/"
        },
        "id": "Ch3h7L-NOq58",
        "outputId": "19d44ba2-51fb-4917-b623-ba75bc9f7ef6"
      },
      "execution_count": 12,
      "outputs": [
        {
          "output_type": "stream",
          "name": "stdout",
          "text": [
            "문장2, 문장 3 Cosine 유사도: 0.45647296026166395\n"
          ]
        }
      ]
    },
    {
      "cell_type": "code",
      "source": [
        "from sklearn.metrics.pairwise import cosine_similarity\n",
        "\n",
        "similarity_simple_pair = cosine_similarity(feature_vect_simple[0], feature_vect_simple)\n",
        "print(similarity_simple_pair)"
      ],
      "metadata": {
        "colab": {
          "base_uri": "https://localhost:8080/"
        },
        "id": "TpXN780MOq3o",
        "outputId": "6d35eca9-5aa5-4347-a8a9-eb89f74af18d"
      },
      "execution_count": 13,
      "outputs": [
        {
          "output_type": "stream",
          "name": "stdout",
          "text": [
            "[[1.         0.40207758 0.40425045]]\n"
          ]
        }
      ]
    },
    {
      "cell_type": "code",
      "source": [
        "#pair로 코사인 유사도 값 제공\n",
        "similarity_simple_pair = cosine_similarity(feature_vect_simple, feature_vect_simple)\n",
        "print(similarity_simple_pair)\n",
        "print('shape:', similarity_simple_pair.shape)\n"
      ],
      "metadata": {
        "colab": {
          "base_uri": "https://localhost:8080/"
        },
        "id": "k-blDEgQOq1X",
        "outputId": "feb0d1ca-e1ef-4cfb-eb63-371b115d66c9"
      },
      "execution_count": 14,
      "outputs": [
        {
          "output_type": "stream",
          "name": "stdout",
          "text": [
            "[[1.         0.40207758 0.40425045]\n",
            " [0.40207758 1.         0.45647296]\n",
            " [0.40425045 0.45647296 1.        ]]\n",
            "shape: (3, 3)\n"
          ]
        }
      ]
    },
    {
      "cell_type": "markdown",
      "source": [
        "#### Opinion Review 데이터 세트를 이용한 문서 유사도 측정"
      ],
      "metadata": {
        "id": "myGFTQBEXc5G"
      }
    },
    {
      "cell_type": "code",
      "source": [
        "from google.colab import drive\n",
        "drive.mount('/content/gdrive')"
      ],
      "metadata": {
        "colab": {
          "base_uri": "https://localhost:8080/"
        },
        "id": "j9Oa53XwZKp3",
        "outputId": "6d463ea0-a2ea-4a73-a0d9-2005273c3897"
      },
      "execution_count": 15,
      "outputs": [
        {
          "output_type": "stream",
          "name": "stdout",
          "text": [
            "Drive already mounted at /content/gdrive; to attempt to forcibly remount, call drive.mount(\"/content/gdrive\", force_remount=True).\n"
          ]
        }
      ]
    },
    {
      "cell_type": "code",
      "source": [
        "from nltk.stem import WordNetLemmatizer\n",
        "import nltk\n",
        "import string\n",
        "\n",
        "def LemTokens(tokens):\n",
        "    lemmer = nltk.stem.WordNetLemmatizer()\n",
        "    return [lemmer.lemmatize(token) for token in tokens]\n",
        "\n",
        "def LemNormalize(text):\n",
        "    remove_punct_dict = dict((ord(punct), None) for punct in string.punctuation)\n",
        "    return LemTokens(nltk.word_tokenize(text.lower().translate(remove_punct_dict)))"
      ],
      "metadata": {
        "id": "j6c8BFI4umtu"
      },
      "execution_count": 16,
      "outputs": []
    },
    {
      "cell_type": "code",
      "source": [
        "import pandas as pd\n",
        "import glob, os\n",
        "from sklearn.feature_extraction.text import TfidfVectorizer\n",
        "from sklearn.cluster import KMeans\n",
        "\n",
        "path = r'/content/gdrive/MyDrive/OpinosisDataset1.0/OpinosisDataset1.0/topics'\n",
        "all_files = glob.glob(os.path.join(path, \"*.data\"))\n",
        "filename_list = []\n",
        "opinion_text = []\n",
        "\n",
        "for file_ in all_files:\n",
        "  df = pd.read_table(file_, index_col=None, header=0, encoding='latin1')\n",
        "  filename_ = file_.split('\\\\')[-1]\n",
        "  filename = filename_.split('.')[0]\n",
        "  filename_list.append(filename)\n",
        "  opinion_text.append(df.to_string())\n",
        "\n",
        "document_df= pd.DataFrame({'filename':filename_list, 'opinion_text':opinion_text})\n",
        "\n"
      ],
      "metadata": {
        "id": "FGKWwXZLOqzD"
      },
      "execution_count": 17,
      "outputs": []
    },
    {
      "cell_type": "code",
      "source": [
        "import nltk\n",
        "nltk.download('all')"
      ],
      "metadata": {
        "colab": {
          "base_uri": "https://localhost:8080/"
        },
        "id": "naOHDjbG41Es",
        "outputId": "8878cfa3-892b-4872-c7a3-26a47685f697"
      },
      "execution_count": 18,
      "outputs": [
        {
          "output_type": "stream",
          "name": "stdout",
          "text": [
            "[nltk_data] Downloading collection 'all'\n",
            "[nltk_data]    | \n",
            "[nltk_data]    | Downloading package abc to /root/nltk_data...\n",
            "[nltk_data]    |   Package abc is already up-to-date!\n",
            "[nltk_data]    | Downloading package alpino to /root/nltk_data...\n",
            "[nltk_data]    |   Package alpino is already up-to-date!\n",
            "[nltk_data]    | Downloading package averaged_perceptron_tagger to\n",
            "[nltk_data]    |     /root/nltk_data...\n",
            "[nltk_data]    |   Package averaged_perceptron_tagger is already up-\n",
            "[nltk_data]    |       to-date!\n",
            "[nltk_data]    | Downloading package averaged_perceptron_tagger_ru to\n",
            "[nltk_data]    |     /root/nltk_data...\n",
            "[nltk_data]    |   Package averaged_perceptron_tagger_ru is already\n",
            "[nltk_data]    |       up-to-date!\n",
            "[nltk_data]    | Downloading package basque_grammars to\n",
            "[nltk_data]    |     /root/nltk_data...\n",
            "[nltk_data]    |   Package basque_grammars is already up-to-date!\n",
            "[nltk_data]    | Downloading package biocreative_ppi to\n",
            "[nltk_data]    |     /root/nltk_data...\n",
            "[nltk_data]    |   Package biocreative_ppi is already up-to-date!\n",
            "[nltk_data]    | Downloading package bllip_wsj_no_aux to\n",
            "[nltk_data]    |     /root/nltk_data...\n",
            "[nltk_data]    |   Package bllip_wsj_no_aux is already up-to-date!\n",
            "[nltk_data]    | Downloading package book_grammars to\n",
            "[nltk_data]    |     /root/nltk_data...\n",
            "[nltk_data]    |   Package book_grammars is already up-to-date!\n",
            "[nltk_data]    | Downloading package brown to /root/nltk_data...\n",
            "[nltk_data]    |   Package brown is already up-to-date!\n",
            "[nltk_data]    | Downloading package brown_tei to /root/nltk_data...\n",
            "[nltk_data]    |   Package brown_tei is already up-to-date!\n",
            "[nltk_data]    | Downloading package cess_cat to /root/nltk_data...\n",
            "[nltk_data]    |   Package cess_cat is already up-to-date!\n",
            "[nltk_data]    | Downloading package cess_esp to /root/nltk_data...\n",
            "[nltk_data]    |   Package cess_esp is already up-to-date!\n",
            "[nltk_data]    | Downloading package chat80 to /root/nltk_data...\n",
            "[nltk_data]    |   Package chat80 is already up-to-date!\n",
            "[nltk_data]    | Downloading package city_database to\n",
            "[nltk_data]    |     /root/nltk_data...\n",
            "[nltk_data]    |   Package city_database is already up-to-date!\n",
            "[nltk_data]    | Downloading package cmudict to /root/nltk_data...\n",
            "[nltk_data]    |   Package cmudict is already up-to-date!\n",
            "[nltk_data]    | Downloading package comparative_sentences to\n",
            "[nltk_data]    |     /root/nltk_data...\n",
            "[nltk_data]    |   Package comparative_sentences is already up-to-\n",
            "[nltk_data]    |       date!\n",
            "[nltk_data]    | Downloading package comtrans to /root/nltk_data...\n",
            "[nltk_data]    |   Package comtrans is already up-to-date!\n",
            "[nltk_data]    | Downloading package conll2000 to /root/nltk_data...\n",
            "[nltk_data]    |   Package conll2000 is already up-to-date!\n",
            "[nltk_data]    | Downloading package conll2002 to /root/nltk_data...\n",
            "[nltk_data]    |   Package conll2002 is already up-to-date!\n",
            "[nltk_data]    | Downloading package conll2007 to /root/nltk_data...\n",
            "[nltk_data]    |   Package conll2007 is already up-to-date!\n",
            "[nltk_data]    | Downloading package crubadan to /root/nltk_data...\n",
            "[nltk_data]    |   Package crubadan is already up-to-date!\n",
            "[nltk_data]    | Downloading package dependency_treebank to\n",
            "[nltk_data]    |     /root/nltk_data...\n",
            "[nltk_data]    |   Package dependency_treebank is already up-to-date!\n",
            "[nltk_data]    | Downloading package dolch to /root/nltk_data...\n",
            "[nltk_data]    |   Package dolch is already up-to-date!\n",
            "[nltk_data]    | Downloading package europarl_raw to\n",
            "[nltk_data]    |     /root/nltk_data...\n",
            "[nltk_data]    |   Package europarl_raw is already up-to-date!\n",
            "[nltk_data]    | Downloading package extended_omw to\n",
            "[nltk_data]    |     /root/nltk_data...\n",
            "[nltk_data]    |   Package extended_omw is already up-to-date!\n",
            "[nltk_data]    | Downloading package floresta to /root/nltk_data...\n",
            "[nltk_data]    |   Package floresta is already up-to-date!\n",
            "[nltk_data]    | Downloading package framenet_v15 to\n",
            "[nltk_data]    |     /root/nltk_data...\n",
            "[nltk_data]    |   Package framenet_v15 is already up-to-date!\n",
            "[nltk_data]    | Downloading package framenet_v17 to\n",
            "[nltk_data]    |     /root/nltk_data...\n",
            "[nltk_data]    |   Package framenet_v17 is already up-to-date!\n",
            "[nltk_data]    | Downloading package gazetteers to /root/nltk_data...\n",
            "[nltk_data]    |   Package gazetteers is already up-to-date!\n",
            "[nltk_data]    | Downloading package genesis to /root/nltk_data...\n",
            "[nltk_data]    |   Package genesis is already up-to-date!\n",
            "[nltk_data]    | Downloading package gutenberg to /root/nltk_data...\n",
            "[nltk_data]    |   Package gutenberg is already up-to-date!\n",
            "[nltk_data]    | Downloading package ieer to /root/nltk_data...\n",
            "[nltk_data]    |   Package ieer is already up-to-date!\n",
            "[nltk_data]    | Downloading package inaugural to /root/nltk_data...\n",
            "[nltk_data]    |   Package inaugural is already up-to-date!\n",
            "[nltk_data]    | Downloading package indian to /root/nltk_data...\n",
            "[nltk_data]    |   Package indian is already up-to-date!\n",
            "[nltk_data]    | Downloading package jeita to /root/nltk_data...\n",
            "[nltk_data]    |   Package jeita is already up-to-date!\n",
            "[nltk_data]    | Downloading package kimmo to /root/nltk_data...\n",
            "[nltk_data]    |   Package kimmo is already up-to-date!\n",
            "[nltk_data]    | Downloading package knbc to /root/nltk_data...\n",
            "[nltk_data]    |   Package knbc is already up-to-date!\n",
            "[nltk_data]    | Downloading package large_grammars to\n",
            "[nltk_data]    |     /root/nltk_data...\n",
            "[nltk_data]    |   Package large_grammars is already up-to-date!\n",
            "[nltk_data]    | Downloading package lin_thesaurus to\n",
            "[nltk_data]    |     /root/nltk_data...\n",
            "[nltk_data]    |   Package lin_thesaurus is already up-to-date!\n",
            "[nltk_data]    | Downloading package mac_morpho to /root/nltk_data...\n",
            "[nltk_data]    |   Package mac_morpho is already up-to-date!\n",
            "[nltk_data]    | Downloading package machado to /root/nltk_data...\n",
            "[nltk_data]    |   Package machado is already up-to-date!\n",
            "[nltk_data]    | Downloading package masc_tagged to /root/nltk_data...\n",
            "[nltk_data]    |   Package masc_tagged is already up-to-date!\n",
            "[nltk_data]    | Downloading package maxent_ne_chunker to\n",
            "[nltk_data]    |     /root/nltk_data...\n",
            "[nltk_data]    |   Package maxent_ne_chunker is already up-to-date!\n",
            "[nltk_data]    | Downloading package maxent_treebank_pos_tagger to\n",
            "[nltk_data]    |     /root/nltk_data...\n",
            "[nltk_data]    |   Package maxent_treebank_pos_tagger is already up-\n",
            "[nltk_data]    |       to-date!\n",
            "[nltk_data]    | Downloading package moses_sample to\n",
            "[nltk_data]    |     /root/nltk_data...\n",
            "[nltk_data]    |   Package moses_sample is already up-to-date!\n",
            "[nltk_data]    | Downloading package movie_reviews to\n",
            "[nltk_data]    |     /root/nltk_data...\n",
            "[nltk_data]    |   Package movie_reviews is already up-to-date!\n",
            "[nltk_data]    | Downloading package mte_teip5 to /root/nltk_data...\n",
            "[nltk_data]    |   Package mte_teip5 is already up-to-date!\n",
            "[nltk_data]    | Downloading package mwa_ppdb to /root/nltk_data...\n",
            "[nltk_data]    |   Package mwa_ppdb is already up-to-date!\n",
            "[nltk_data]    | Downloading package names to /root/nltk_data...\n",
            "[nltk_data]    |   Package names is already up-to-date!\n",
            "[nltk_data]    | Downloading package nombank.1.0 to /root/nltk_data...\n",
            "[nltk_data]    |   Package nombank.1.0 is already up-to-date!\n",
            "[nltk_data]    | Downloading package nonbreaking_prefixes to\n",
            "[nltk_data]    |     /root/nltk_data...\n",
            "[nltk_data]    |   Package nonbreaking_prefixes is already up-to-date!\n",
            "[nltk_data]    | Downloading package nps_chat to /root/nltk_data...\n",
            "[nltk_data]    |   Package nps_chat is already up-to-date!\n",
            "[nltk_data]    | Downloading package omw to /root/nltk_data...\n",
            "[nltk_data]    |   Package omw is already up-to-date!\n",
            "[nltk_data]    | Downloading package omw-1.4 to /root/nltk_data...\n",
            "[nltk_data]    |   Package omw-1.4 is already up-to-date!\n",
            "[nltk_data]    | Downloading package opinion_lexicon to\n",
            "[nltk_data]    |     /root/nltk_data...\n",
            "[nltk_data]    |   Package opinion_lexicon is already up-to-date!\n",
            "[nltk_data]    | Downloading package panlex_swadesh to\n",
            "[nltk_data]    |     /root/nltk_data...\n",
            "[nltk_data]    |   Package panlex_swadesh is already up-to-date!\n",
            "[nltk_data]    | Downloading package paradigms to /root/nltk_data...\n",
            "[nltk_data]    |   Package paradigms is already up-to-date!\n",
            "[nltk_data]    | Downloading package pe08 to /root/nltk_data...\n",
            "[nltk_data]    |   Package pe08 is already up-to-date!\n",
            "[nltk_data]    | Downloading package perluniprops to\n",
            "[nltk_data]    |     /root/nltk_data...\n",
            "[nltk_data]    |   Package perluniprops is already up-to-date!\n",
            "[nltk_data]    | Downloading package pil to /root/nltk_data...\n",
            "[nltk_data]    |   Package pil is already up-to-date!\n",
            "[nltk_data]    | Downloading package pl196x to /root/nltk_data...\n",
            "[nltk_data]    |   Package pl196x is already up-to-date!\n",
            "[nltk_data]    | Downloading package porter_test to /root/nltk_data...\n",
            "[nltk_data]    |   Package porter_test is already up-to-date!\n",
            "[nltk_data]    | Downloading package ppattach to /root/nltk_data...\n",
            "[nltk_data]    |   Package ppattach is already up-to-date!\n",
            "[nltk_data]    | Downloading package problem_reports to\n",
            "[nltk_data]    |     /root/nltk_data...\n",
            "[nltk_data]    |   Package problem_reports is already up-to-date!\n",
            "[nltk_data]    | Downloading package product_reviews_1 to\n",
            "[nltk_data]    |     /root/nltk_data...\n",
            "[nltk_data]    |   Package product_reviews_1 is already up-to-date!\n",
            "[nltk_data]    | Downloading package product_reviews_2 to\n",
            "[nltk_data]    |     /root/nltk_data...\n",
            "[nltk_data]    |   Package product_reviews_2 is already up-to-date!\n",
            "[nltk_data]    | Downloading package propbank to /root/nltk_data...\n",
            "[nltk_data]    |   Package propbank is already up-to-date!\n",
            "[nltk_data]    | Downloading package pros_cons to /root/nltk_data...\n",
            "[nltk_data]    |   Package pros_cons is already up-to-date!\n",
            "[nltk_data]    | Downloading package ptb to /root/nltk_data...\n",
            "[nltk_data]    |   Package ptb is already up-to-date!\n",
            "[nltk_data]    | Downloading package punkt to /root/nltk_data...\n",
            "[nltk_data]    |   Package punkt is already up-to-date!\n",
            "[nltk_data]    | Downloading package qc to /root/nltk_data...\n",
            "[nltk_data]    |   Package qc is already up-to-date!\n",
            "[nltk_data]    | Downloading package reuters to /root/nltk_data...\n",
            "[nltk_data]    |   Package reuters is already up-to-date!\n",
            "[nltk_data]    | Downloading package rslp to /root/nltk_data...\n",
            "[nltk_data]    |   Package rslp is already up-to-date!\n",
            "[nltk_data]    | Downloading package rte to /root/nltk_data...\n",
            "[nltk_data]    |   Package rte is already up-to-date!\n",
            "[nltk_data]    | Downloading package sample_grammars to\n",
            "[nltk_data]    |     /root/nltk_data...\n",
            "[nltk_data]    |   Package sample_grammars is already up-to-date!\n",
            "[nltk_data]    | Downloading package semcor to /root/nltk_data...\n",
            "[nltk_data]    |   Package semcor is already up-to-date!\n",
            "[nltk_data]    | Downloading package senseval to /root/nltk_data...\n",
            "[nltk_data]    |   Package senseval is already up-to-date!\n",
            "[nltk_data]    | Downloading package sentence_polarity to\n",
            "[nltk_data]    |     /root/nltk_data...\n",
            "[nltk_data]    |   Package sentence_polarity is already up-to-date!\n",
            "[nltk_data]    | Downloading package sentiwordnet to\n",
            "[nltk_data]    |     /root/nltk_data...\n",
            "[nltk_data]    |   Package sentiwordnet is already up-to-date!\n",
            "[nltk_data]    | Downloading package shakespeare to /root/nltk_data...\n",
            "[nltk_data]    |   Package shakespeare is already up-to-date!\n",
            "[nltk_data]    | Downloading package sinica_treebank to\n",
            "[nltk_data]    |     /root/nltk_data...\n",
            "[nltk_data]    |   Package sinica_treebank is already up-to-date!\n",
            "[nltk_data]    | Downloading package smultron to /root/nltk_data...\n",
            "[nltk_data]    |   Package smultron is already up-to-date!\n",
            "[nltk_data]    | Downloading package snowball_data to\n",
            "[nltk_data]    |     /root/nltk_data...\n",
            "[nltk_data]    |   Package snowball_data is already up-to-date!\n",
            "[nltk_data]    | Downloading package spanish_grammars to\n",
            "[nltk_data]    |     /root/nltk_data...\n",
            "[nltk_data]    |   Package spanish_grammars is already up-to-date!\n",
            "[nltk_data]    | Downloading package state_union to /root/nltk_data...\n",
            "[nltk_data]    |   Package state_union is already up-to-date!\n",
            "[nltk_data]    | Downloading package stopwords to /root/nltk_data...\n",
            "[nltk_data]    |   Package stopwords is already up-to-date!\n",
            "[nltk_data]    | Downloading package subjectivity to\n",
            "[nltk_data]    |     /root/nltk_data...\n",
            "[nltk_data]    |   Package subjectivity is already up-to-date!\n",
            "[nltk_data]    | Downloading package swadesh to /root/nltk_data...\n",
            "[nltk_data]    |   Package swadesh is already up-to-date!\n",
            "[nltk_data]    | Downloading package switchboard to /root/nltk_data...\n",
            "[nltk_data]    |   Package switchboard is already up-to-date!\n",
            "[nltk_data]    | Downloading package tagsets to /root/nltk_data...\n",
            "[nltk_data]    |   Package tagsets is already up-to-date!\n",
            "[nltk_data]    | Downloading package timit to /root/nltk_data...\n",
            "[nltk_data]    |   Package timit is already up-to-date!\n",
            "[nltk_data]    | Downloading package toolbox to /root/nltk_data...\n",
            "[nltk_data]    |   Package toolbox is already up-to-date!\n",
            "[nltk_data]    | Downloading package treebank to /root/nltk_data...\n",
            "[nltk_data]    |   Package treebank is already up-to-date!\n",
            "[nltk_data]    | Downloading package twitter_samples to\n",
            "[nltk_data]    |     /root/nltk_data...\n",
            "[nltk_data]    |   Package twitter_samples is already up-to-date!\n",
            "[nltk_data]    | Downloading package udhr to /root/nltk_data...\n",
            "[nltk_data]    |   Package udhr is already up-to-date!\n",
            "[nltk_data]    | Downloading package udhr2 to /root/nltk_data...\n",
            "[nltk_data]    |   Package udhr2 is already up-to-date!\n",
            "[nltk_data]    | Downloading package unicode_samples to\n",
            "[nltk_data]    |     /root/nltk_data...\n",
            "[nltk_data]    |   Package unicode_samples is already up-to-date!\n",
            "[nltk_data]    | Downloading package universal_tagset to\n",
            "[nltk_data]    |     /root/nltk_data...\n",
            "[nltk_data]    |   Package universal_tagset is already up-to-date!\n",
            "[nltk_data]    | Downloading package universal_treebanks_v20 to\n",
            "[nltk_data]    |     /root/nltk_data...\n",
            "[nltk_data]    |   Package universal_treebanks_v20 is already up-to-\n",
            "[nltk_data]    |       date!\n",
            "[nltk_data]    | Downloading package vader_lexicon to\n",
            "[nltk_data]    |     /root/nltk_data...\n",
            "[nltk_data]    |   Package vader_lexicon is already up-to-date!\n",
            "[nltk_data]    | Downloading package verbnet to /root/nltk_data...\n",
            "[nltk_data]    |   Package verbnet is already up-to-date!\n",
            "[nltk_data]    | Downloading package verbnet3 to /root/nltk_data...\n",
            "[nltk_data]    |   Package verbnet3 is already up-to-date!\n",
            "[nltk_data]    | Downloading package webtext to /root/nltk_data...\n",
            "[nltk_data]    |   Package webtext is already up-to-date!\n",
            "[nltk_data]    | Downloading package wmt15_eval to /root/nltk_data...\n",
            "[nltk_data]    |   Package wmt15_eval is already up-to-date!\n",
            "[nltk_data]    | Downloading package word2vec_sample to\n",
            "[nltk_data]    |     /root/nltk_data...\n",
            "[nltk_data]    |   Package word2vec_sample is already up-to-date!\n",
            "[nltk_data]    | Downloading package wordnet to /root/nltk_data...\n",
            "[nltk_data]    |   Package wordnet is already up-to-date!\n",
            "[nltk_data]    | Downloading package wordnet2021 to /root/nltk_data...\n",
            "[nltk_data]    |   Package wordnet2021 is already up-to-date!\n",
            "[nltk_data]    | Downloading package wordnet31 to /root/nltk_data...\n",
            "[nltk_data]    |   Package wordnet31 is already up-to-date!\n",
            "[nltk_data]    | Downloading package wordnet_ic to /root/nltk_data...\n",
            "[nltk_data]    |   Package wordnet_ic is already up-to-date!\n",
            "[nltk_data]    | Downloading package words to /root/nltk_data...\n",
            "[nltk_data]    |   Package words is already up-to-date!\n",
            "[nltk_data]    | Downloading package ycoe to /root/nltk_data...\n",
            "[nltk_data]    |   Package ycoe is already up-to-date!\n",
            "[nltk_data]    | \n",
            "[nltk_data]  Done downloading collection all\n"
          ]
        },
        {
          "output_type": "execute_result",
          "data": {
            "text/plain": [
              "True"
            ]
          },
          "metadata": {},
          "execution_count": 18
        }
      ]
    },
    {
      "cell_type": "code",
      "source": [
        "tfidf_vect = TfidfVectorizer(tokenizer=LemNormalize, stop_words='english',\n",
        "                             ngram_range=(1,2), min_df=0.05, max_df=0.85)\n",
        "feature_vect = tfidf_vect.fit_transform(document_df['opinion_text'])\n",
        "km_cluster = KMeans(n_clusters=3, max_iter=10000, random_state=0)\n",
        "km_cluster.fit(feature_vect)\n",
        "cluster_label = km_cluster.labels_\n",
        "cluster_centers = km_cluster.cluster_centers_\n",
        "document_df['cluster_label'] = cluster_label"
      ],
      "metadata": {
        "colab": {
          "base_uri": "https://localhost:8080/"
        },
        "id": "qZ-HgDjJyYGJ",
        "outputId": "516f5311-9606-4969-9cfb-5c51d1ab6295"
      },
      "execution_count": 19,
      "outputs": [
        {
          "output_type": "stream",
          "name": "stderr",
          "text": [
            "/usr/local/lib/python3.7/dist-packages/sklearn/feature_extraction/text.py:401: UserWarning: Your stop_words may be inconsistent with your preprocessing. Tokenizing the stop words generated tokens ['ha', 'le', 'u', 'wa'] not in stop_words.\n",
            "  % sorted(inconsistent)\n"
          ]
        }
      ]
    },
    {
      "cell_type": "code",
      "source": [
        "from sklearn.metrics.pairwise import cosine_similarity\n",
        "\n",
        "#cluster_label=1인 데이터는 호텔로 군집화된 데이터임. DataFrame에서 해당 인덱스를 추출\n",
        "hotel_indexes = document_df[document_df['cluster_label']==1].index\n",
        "print('호텔로 군집화 된 문서들의 DataFrame Index:',hotel_indexes)\n",
        "\n",
        "#호텔로 군집화된 데이터 중 첫번째 문서를 추출해 파일명 표시\n",
        "comparison_docname = document_df.iloc[hotel_indexes[0]]['filename']\n",
        "print('####비교 기준 문서명', comparison_docname,' 와 타 문서 유사도 ####')\n",
        "\n",
        "'''document_df에서 추출한 Index 객체를 feature_vect로 입력해 호텔 군집화된 feature_vect 추출\n",
        "이를 이용해 호텔로 군집화된 문서 중 첫번째 문서와 다른 문서간의 코사인 유사도 측정.'''\n",
        "similarity_pair = cosine_similarity(feature_vect[hotel_indexes[0]], feature_vect[hotel_indexes])\n",
        "print(similarity_pair)"
      ],
      "metadata": {
        "colab": {
          "base_uri": "https://localhost:8080/"
        },
        "id": "LDmJ4889Xck6",
        "outputId": "5a237bd7-2144-4ba7-d625-e15578a5bd8b"
      },
      "execution_count": 20,
      "outputs": [
        {
          "output_type": "stream",
          "name": "stdout",
          "text": [
            "호텔로 군집화 된 문서들의 DataFrame Index: Int64Index([18, 20, 22, 24, 26, 28, 29, 31, 35, 38, 39, 40, 42, 43, 45, 49], dtype='int64')\n",
            "####비교 기준 문서명 /content/gdrive/MyDrive/OpinosisDataset1  와 타 문서 유사도 ####\n",
            "[[1.         0.06562183 0.09159724 0.84955849 0.149938   0.16942437\n",
            "  0.3220525  0.15026112 0.33799317 0.05759594 0.31797403 0.08548443\n",
            "  0.0866001  0.06396252 0.05221059 0.15182557]]\n"
          ]
        }
      ]
    },
    {
      "cell_type": "code",
      "source": [
        "#visualization\n",
        "import seaborn as sns\n",
        "import numpy as np\n",
        "import matplotlib.pyplot as plt\n",
        "%matplotlib inline\n",
        "\n",
        "#첫번째 문서와 타 문서 간 유사도가 큰 순으로 정렬한 인덱스를 추출하되 자기 자신은 제외\n",
        "sorted_index = similarity_pair.argsort()[:,::-1]\n",
        "sorted_index = sorted_index[:,1:]\n",
        "\n",
        "#유사도가 큰 순으로 hotel_indexes를 추출해 재정렬\n",
        "hotel_sorted_indexes = hotel_indexes[sorted_index.reshape(-1)]\n",
        "\n",
        "#유사도가 큰 순으로 유사도 값을 재정렬하되 자기 자신은 제외\n",
        "hotel_1_sim_value = np.sort(similarity_pair.reshape(-1))[::-1]\n",
        "hotel_1_sim_value = hotel_1_sim_value[1:]\n",
        "\n",
        "#유사도가 큰 순으로 정렬된 인덱스와 유사도 값을 이용해 파일명과 유사도 값을 막대 그래프로 시각화\n",
        "hotel_1_sim_df = pd.DataFrame()\n",
        "hotel_1_sim_df['filename'] = document_df.iloc[hotel_sorted_indexes]['filename']\n",
        "hotel_1_sim_df['similarity'] = hotel_1_sim_value\n",
        "\n",
        "sns.barplot(x='similarity', y='filename', data=hotel_1_sim_df)\n",
        "plt.title(comparison_docname)  #....??"
      ],
      "metadata": {
        "colab": {
          "base_uri": "https://localhost:8080/",
          "height": 313
        },
        "id": "eTMRcvyCXcjD",
        "outputId": "3f4b1d3a-db25-4598-86bb-af95bd14eb3f"
      },
      "execution_count": 21,
      "outputs": [
        {
          "output_type": "execute_result",
          "data": {
            "text/plain": [
              "Text(0.5, 1.0, '/content/gdrive/MyDrive/OpinosisDataset1')"
            ]
          },
          "metadata": {},
          "execution_count": 21
        },
        {
          "output_type": "display_data",
          "data": {
            "text/plain": [
              "<Figure size 432x288 with 1 Axes>"
            ],
            "image/png": "[encoded data removed]"
          },
          "metadata": {
            "needs_background": "light"
          }
        }
      ]
    },
    {
      "cell_type": "markdown",
      "source": [
        "### 09. 한글 텍스트 처리 - 네이버 영화 평점 감성 분석\n",
        "\n",
        "#### 한글 NLP 처리의 어려움\n",
        "\n",
        "띄어쓰기와 다양한 조사 때문\n",
        "\n",
        "#### KoNLPy 소개"
      ],
      "metadata": {
        "id": "LAQO-s3Mq5wN"
      }
    },
    {
      "cell_type": "code",
      "source": [
        "%%bash\n",
        "apt-get update\n",
        "apt-get install g++ openjdk-8-jdk python-dev python3-dev\n",
        "pip3 install JPype1\n",
        "pip3 install konlpy"
      ],
      "metadata": {
        "colab": {
          "base_uri": "https://localhost:8080/"
        },
        "id": "7208TEEjXcgi",
        "outputId": "6fe00062-f060-44f0-e1a6-ac011b083dc8"
      },
      "execution_count": 22,
      "outputs": [
        {
          "output_type": "stream",
          "name": "stdout",
          "text": [
            "Hit:1 http://security.ubuntu.com/ubuntu bionic-security InRelease\n",
            "Hit:2 https://cloud.r-project.org/bin/linux/ubuntu bionic-cran40/ InRelease\n",
            "Hit:3 https://developer.download.nvidia.com/compute/cuda/repos/ubuntu1804/x86_64  InRelease\n",
            "Ign:4 https://developer.download.nvidia.com/compute/machine-learning/repos/ubuntu1804/x86_64  InRelease\n",
            "Hit:5 http://ppa.launchpad.net/c2d4u.team/c2d4u4.0+/ubuntu bionic InRelease\n",
            "Hit:6 https://developer.download.nvidia.com/compute/machine-learning/repos/ubuntu1804/x86_64  Release\n",
            "Hit:7 http://archive.ubuntu.com/ubuntu bionic InRelease\n",
            "Hit:8 http://archive.ubuntu.com/ubuntu bionic-updates InRelease\n",
            "Hit:9 http://ppa.launchpad.net/cran/libgit2/ubuntu bionic InRelease\n",
            "Hit:10 http://archive.ubuntu.com/ubuntu bionic-backports InRelease\n",
            "Hit:11 http://ppa.launchpad.net/deadsnakes/ppa/ubuntu bionic InRelease\n",
            "Hit:12 http://ppa.launchpad.net/graphics-drivers/ppa/ubuntu bionic InRelease\n",
            "Reading package lists...\n",
            "Reading package lists...\n",
            "Building dependency tree...\n",
            "Reading state information...\n",
            "python-dev is already the newest version (2.7.15~rc1-1).\n",
            "g++ is already the newest version (4:7.4.0-1ubuntu2.3).\n",
            "python3-dev is already the newest version (3.6.7-1~18.04).\n",
            "openjdk-8-jdk is already the newest version (8u312-b07-0ubuntu1~18.04).\n",
            "The following packages were automatically installed and are no longer required:\n",
            "  libnvidia-common-460 nsight-compute-2020.2.0\n",
            "Use 'apt autoremove' to remove them.\n",
            "0 upgraded, 0 newly installed, 0 to remove and 50 not upgraded.\n",
            "Requirement already satisfied: JPype1 in /usr/local/lib/python3.7/dist-packages (1.3.0)\n",
            "Requirement already satisfied: typing-extensions in /usr/local/lib/python3.7/dist-packages (from JPype1) (4.2.0)\n",
            "Requirement already satisfied: konlpy in /usr/local/lib/python3.7/dist-packages (0.6.0)\n",
            "Requirement already satisfied: JPype1>=0.7.0 in /usr/local/lib/python3.7/dist-packages (from konlpy) (1.3.0)\n",
            "Requirement already satisfied: numpy>=1.6 in /usr/local/lib/python3.7/dist-packages (from konlpy) (1.21.6)\n",
            "Requirement already satisfied: lxml>=4.1.0 in /usr/local/lib/python3.7/dist-packages (from konlpy) (4.2.6)\n",
            "Requirement already satisfied: typing-extensions in /usr/local/lib/python3.7/dist-packages (from JPype1>=0.7.0->konlpy) (4.2.0)\n"
          ]
        }
      ]
    },
    {
      "cell_type": "code",
      "source": [
        "%env JAVA_HOME \"/usr/lib/jvm/java-8-openjdk-amd64\""
      ],
      "metadata": {
        "colab": {
          "base_uri": "https://localhost:8080/"
        },
        "id": "xWrCLxD0Xcd5",
        "outputId": "bf01c95c-0141-474c-d7a6-074e96c57850"
      },
      "execution_count": 23,
      "outputs": [
        {
          "output_type": "stream",
          "name": "stdout",
          "text": [
            "env: JAVA_HOME=\"/usr/lib/jvm/java-8-openjdk-amd64\"\n"
          ]
        }
      ]
    },
    {
      "cell_type": "code",
      "source": [
        "%%bash\n",
        "bash <(curl -s https://raw.githubusercontent.com/konlpy/konlpy/master/scripts/mecab.sh)\n",
        "pip3 install /tmp/mecab-python-0.996"
      ],
      "metadata": {
        "colab": {
          "base_uri": "https://localhost:8080/"
        },
        "id": "z5P5q8bbXcbW",
        "outputId": "eb4dfd6d-381b-415c-e8a7-39aeb1c940cc"
      },
      "execution_count": 24,
      "outputs": [
        {
          "output_type": "stream",
          "name": "stdout",
          "text": [
            "mecab-ko is already installed\n",
            "mecab-ko-dic is already installed\n",
            "mecab-python is already installed\n",
            "Done.\n",
            "Processing /tmp/mecab-python-0.996\n",
            "Building wheels for collected packages: mecab-python\n",
            "  Building wheel for mecab-python (setup.py): started\n",
            "  Building wheel for mecab-python (setup.py): finished with status 'done'\n",
            "  Created wheel for mecab-python: filename=mecab_python-0.996_ko_0.9.2-cp37-cp37m-linux_x86_64.whl size=141804 sha256=46cc9fd1486e17e61cc262cbe838a072b5d6af441b1d942f8177db84c20d5f5a\n",
            "  Stored in directory: /root/.cache/pip/wheels/40/7b/9f/2922869bef86c3354ae7034f7a3647c573ee1997c2dad0290a\n",
            "Failed to build mecab-python\n",
            "Installing collected packages: mecab-python\n",
            "  Attempting uninstall: mecab-python\n",
            "    Found existing installation: mecab-python 0.996-ko-0.9.2\n",
            "    Uninstalling mecab-python-0.996-ko-0.9.2:\n",
            "      Successfully uninstalled mecab-python-0.996-ko-0.9.2\n",
            "    Running setup.py install for mecab-python: started\n",
            "    Running setup.py install for mecab-python: finished with status 'done'\n",
            "Successfully installed mecab-python-0.996-ko-0.9.2\n"
          ]
        },
        {
          "output_type": "stream",
          "name": "stderr",
          "text": [
            "  DEPRECATION: A future pip version will change local packages to be built in-place without first copying to a temporary directory. We recommend you use --use-feature=in-tree-build to test your packages with this new behavior before it becomes the default.\n",
            "   pip 21.3 will remove support for this functionality. You can find discussion regarding this at https://github.com/pypa/pip/issues/7555.\n",
            "  WARNING: Built wheel for mecab-python is invalid: Metadata 1.2 mandates PEP 440 version, but '0.996-ko-0.9.2' is not\n",
            "  DEPRECATION: mecab-python was installed using the legacy 'setup.py install' method, because a wheel could not be built for it. A possible replacement is to fix the wheel build issue reported above. You can find discussion regarding this at https://github.com/pypa/pip/issues/8368.\n"
          ]
        }
      ]
    },
    {
      "cell_type": "code",
      "source": [
        "import konlpy\n",
        "from konlpy.tag import Kkma, Komoran, Hannanum, Okt\n",
        "from konlpy.utils import pprint\n",
        "from konlpy.tag import Mecab"
      ],
      "metadata": {
        "id": "4e_s8EP2XcX4"
      },
      "execution_count": 25,
      "outputs": []
    },
    {
      "cell_type": "code",
      "source": [
        "import pandas as pd\n",
        "train_df = pd.read_csv('/content/gdrive/MyDrive/Colab Notebooks/ratings_train.txt',sep='\\t')\n",
        "train_df.head(3)"
      ],
      "metadata": {
        "colab": {
          "base_uri": "https://localhost:8080/",
          "height": 143
        },
        "id": "kLeXc3f2XcVJ",
        "outputId": "95b4e501-f786-4e3d-8cb5-5c1f522cea69"
      },
      "execution_count": 26,
      "outputs": [
        {
          "output_type": "execute_result",
          "data": {
            "text/plain": [
              "         id                           document  label\n",
              "0   9976970                아 더빙.. 진짜 짜증나네요 목소리      0\n",
              "1   3819312  흠...포스터보고 초딩영화줄....오버연기조차 가볍지 않구나      1\n",
              "2  10265843                  너무재밓었다그래서보는것을추천한다      0"
            ],
            "text/html": [
              "\n",
              "  <div id=\"df-3a0105f3-8cc3-4a52-896d-d38e9dfdfe3c\">\n",
              "    <div class=\"colab-df-container\">\n",
              "      <div>\n",
              "<style scoped>\n",
              "    .dataframe tbody tr th:only-of-type {\n",
              "        vertical-align: middle;\n",
              "    }\n",
              "\n",
              "    .dataframe tbody tr th {\n",
              "        vertical-align: top;\n",
              "    }\n",
              "\n",
              "    .dataframe thead th {\n",
              "        text-align: right;\n",
              "    }\n",
              "</style>\n",
              "<table border=\"1\" class=\"dataframe\">\n",
              "  <thead>\n",
              "    <tr style=\"text-align: right;\">\n",
              "      <th></th>\n",
              "      <th>id</th>\n",
              "      <th>document</th>\n",
              "      <th>label</th>\n",
              "    </tr>\n",
              "  </thead>\n",
              "  <tbody>\n",
              "    <tr>\n",
              "      <th>0</th>\n",
              "      <td>9976970</td>\n",
              "      <td>아 더빙.. 진짜 짜증나네요 목소리</td>\n",
              "      <td>0</td>\n",
              "    </tr>\n",
              "    <tr>\n",
              "      <th>1</th>\n",
              "      <td>3819312</td>\n",
              "      <td>흠...포스터보고 초딩영화줄....오버연기조차 가볍지 않구나</td>\n",
              "      <td>1</td>\n",
              "    </tr>\n",
              "    <tr>\n",
              "      <th>2</th>\n",
              "      <td>10265843</td>\n",
              "      <td>너무재밓었다그래서보는것을추천한다</td>\n",
              "      <td>0</td>\n",
              "    </tr>\n",
              "  </tbody>\n",
              "</table>\n",
              "</div>\n",
              "      <button class=\"colab-df-convert\" onclick=\"convertToInteractive('df-3a0105f3-8cc3-4a52-896d-d38e9dfdfe3c')\"\n",
              "              title=\"Convert this dataframe to an interactive table.\"\n",
              "              style=\"display:none;\">\n",
              "        \n",
              "  <svg xmlns=\"http://www.w3.org/2000/svg\" height=\"24px\"viewBox=\"0 0 24 24\"\n",
              "       width=\"24px\">\n",
              "    <path d=\"M0 0h24v24H0V0z\" fill=\"none\"/>\n",
              "    <path d=\"M18.56 5.44l.94 2.06.94-2.06 2.06-.94-2.06-.94-.94-2.06-.94 2.06-2.06.94zm-11 1L8.5 8.5l.94-2.06 2.06-.94-2.06-.94L8.5 2.5l-.94 2.06-2.06.94zm10 10l.94 2.06.94-2.06 2.06-.94-2.06-.94-.94-2.06-.94 2.06-2.06.94z\"/><path d=\"M17.41 7.96l-1.37-1.37c-.4-.4-.92-.59-1.43-.59-.52 0-1.04.2-1.43.59L10.3 9.45l-7.72 7.72c-.78.78-.78 2.05 0 2.83L4 21.41c.39.39.9.59 1.41.59.51 0 1.02-.2 1.41-.59l7.78-7.78 2.81-2.81c.8-.78.8-2.07 0-2.86zM5.41 20L4 18.59l7.72-7.72 1.47 1.35L5.41 20z\"/>\n",
              "  </svg>\n",
              "      </button>\n",
              "      \n",
              "  <style>\n",
              "    .colab-df-container {\n",
              "      display:flex;\n",
              "      flex-wrap:wrap;\n",
              "      gap: 12px;\n",
              "    }\n",
              "\n",
              "    .colab-df-convert {\n",
              "      background-color: #E8F0FE;\n",
              "      border: none;\n",
              "      border-radius: 50%;\n",
              "      cursor: pointer;\n",
              "      display: none;\n",
              "      fill: #1967D2;\n",
              "      height: 32px;\n",
              "      padding: 0 0 0 0;\n",
              "      width: 32px;\n",
              "    }\n",
              "\n",
              "    .colab-df-convert:hover {\n",
              "      background-color: #E2EBFA;\n",
              "      box-shadow: 0px 1px 2px rgba(60, 64, 67, 0.3), 0px 1px 3px 1px rgba(60, 64, 67, 0.15);\n",
              "      fill: #174EA6;\n",
              "    }\n",
              "\n",
              "    [theme=dark] .colab-df-convert {\n",
              "      background-color: #3B4455;\n",
              "      fill: #D2E3FC;\n",
              "    }\n",
              "\n",
              "    [theme=dark] .colab-df-convert:hover {\n",
              "      background-color: #434B5C;\n",
              "      box-shadow: 0px 1px 3px 1px rgba(0, 0, 0, 0.15);\n",
              "      filter: drop-shadow(0px 1px 2px rgba(0, 0, 0, 0.3));\n",
              "      fill: #FFFFFF;\n",
              "    }\n",
              "  </style>\n",
              "\n",
              "      <script>\n",
              "        const buttonEl =\n",
              "          document.querySelector('#df-3a0105f3-8cc3-4a52-896d-d38e9dfdfe3c button.colab-df-convert');\n",
              "        buttonEl.style.display =\n",
              "          google.colab.kernel.accessAllowed ? 'block' : 'none';\n",
              "\n",
              "        async function convertToInteractive(key) {\n",
              "          const element = document.querySelector('#df-3a0105f3-8cc3-4a52-896d-d38e9dfdfe3c');\n",
              "          const dataTable =\n",
              "            await google.colab.kernel.invokeFunction('convertToInteractive',\n",
              "                                                     [key], {});\n",
              "          if (!dataTable) return;\n",
              "\n",
              "          const docLinkHtml = 'Like what you see? Visit the ' +\n",
              "            '<a target=\"_blank\" href=https://colab.research.google.com/notebooks/data_table.ipynb>data table notebook</a>'\n",
              "            + ' to learn more about interactive tables.';\n",
              "          element.innerHTML = '';\n",
              "          dataTable['output_type'] = 'display_data';\n",
              "          await google.colab.output.renderOutput(dataTable, element);\n",
              "          const docLink = document.createElement('div');\n",
              "          docLink.innerHTML = docLinkHtml;\n",
              "          element.appendChild(docLink);\n",
              "        }\n",
              "      </script>\n",
              "    </div>\n",
              "  </div>\n",
              "  "
            ]
          },
          "metadata": {},
          "execution_count": 26
        }
      ]
    },
    {
      "cell_type": "code",
      "source": [
        "train_df['label'].value_counts() #1이 긍정, 0이 부정"
      ],
      "metadata": {
        "id": "yFgMrH8AXcSe"
      },
      "execution_count": 26,
      "outputs": []
    },
    {
      "cell_type": "code",
      "source": [
        "import re\n",
        "\n",
        "train_df = train_df.fillna(' ')\n",
        "#정규 표현식을 이용해 숫자를 공백으로 변경\n",
        "train_df['document'] = train_df['document'].apply(lambda x : re.sub(r'\\d+',' ',x))\n",
        "\n",
        "#테스트 데이터 세트를 로딩하고 동일하게 Null 및 숙자를 공백으로 변환\n",
        "test_df = pd.read_csv('/content/gdrive/MyDrive/Colab Notebooks/ratings_test.txt',sep='\\t')\n",
        "test_df = test_df.fillna(' ')\n",
        "test_df['document'] = test_df['document'].apply(lambda x : re.sub(r'\\d+',' ',x))\n",
        "\n",
        "#id 칼럼 삭제 수행\n",
        "train_df.drop('id', axis=1, inplace=True)\n",
        "test_df.drop('id', axis=1, inplace=True)\n"
      ],
      "metadata": {
        "id": "fNVHz3FqOqv-"
      },
      "execution_count": 27,
      "outputs": []
    },
    {
      "cell_type": "code",
      "source": [
        "from konlpy.tag import Twitter\n",
        "twitter = Twitter()\n",
        "def tw_tokenizer(text):\n",
        "  #입력 인자로 들어온 텍스트를 형태소 단어로 토큰화해 리스트 형태로 반환\n",
        "  tokens_ko = twitter.morphs(text)\n",
        "  return tokens_ko"
      ],
      "metadata": {
        "colab": {
          "base_uri": "https://localhost:8080/"
        },
        "id": "orOwBpFPAutO",
        "outputId": "508f8ba6-f8e5-4696-d394-6a716c781045"
      },
      "execution_count": 28,
      "outputs": [
        {
          "output_type": "stream",
          "name": "stderr",
          "text": [
            "/usr/local/lib/python3.7/dist-packages/konlpy/tag/_okt.py:17: UserWarning: \"Twitter\" has changed to \"Okt\" since KoNLPy v0.4.5.\n",
            "  warn('\"Twitter\" has changed to \"Okt\" since KoNLPy v0.4.5.')\n"
          ]
        }
      ]
    },
    {
      "cell_type": "code",
      "source": [
        "#TF-IDF 피처 모델 생성\n",
        "from sklearn.feature_extraction.text import TfidfVectorizer\n",
        "from sklearn.linear_model import LogisticRegression\n",
        "from sklearn.model_selection import GridSearchCV\n",
        "\n",
        "#Twitter 객체의 morphs() 객체를 이용한 tokenizer를 사용. ngram_range는 (1,2)\n",
        "tfidf_vect = TfidfVectorizer(tokenizer= tw_tokenizer, ngram_range=(1,2), min_df=3, max_df=0.9)\n",
        "tfidf_vect.fit(train_df['document'])\n",
        "tfidf_matrix_train = tfidf_vect.transform(train_df['document'])"
      ],
      "metadata": {
        "colab": {
          "base_uri": "https://localhost:8080/"
        },
        "id": "YiwvYY9UAuqw",
        "outputId": "ef160e9f-642d-4331-8eb7-d24140f3b163"
      },
      "execution_count": 29,
      "outputs": [
        {
          "output_type": "stream",
          "name": "stderr",
          "text": [
            "/usr/local/lib/python3.7/dist-packages/sklearn/feature_extraction/text.py:517: UserWarning: The parameter 'token_pattern' will not be used since 'tokenizer' is not None'\n",
            "  \"The parameter 'token_pattern' will not be used\"\n"
          ]
        }
      ]
    },
    {
      "cell_type": "code",
      "source": [
        "#로지스틱 회귀를 이용해 감성 분석 분류 수행\n",
        "lg_clf = LogisticRegression(random_state=0)\n",
        "\n",
        "#파라미터 C 최적화를 위해 GridSearchCV를 이용\n",
        "params = {'C':[1, 3.5, 4.5, 5.5, 10]}\n",
        "grid_cv = GridSearchCV(lg_clf, param_grid=params, cv=3, scoring='accuracy',verbose=1)\n",
        "grid_cv.fit(tfidf_matrix_train, train_df['label'])\n",
        "print(grid_cv.best_params_, round(grid_cv.best_score_, 4))"
      ],
      "metadata": {
        "colab": {
          "base_uri": "https://localhost:8080/"
        },
        "id": "Ko4dpaDCAuns",
        "outputId": "2fd9adaa-2fba-49f1-c188-a7e2617fe3c8"
      },
      "execution_count": 30,
      "outputs": [
        {
          "output_type": "stream",
          "name": "stdout",
          "text": [
            "Fitting 3 folds for each of 5 candidates, totalling 15 fits\n"
          ]
        },
        {
          "output_type": "stream",
          "name": "stderr",
          "text": [
            "/usr/local/lib/python3.7/dist-packages/sklearn/linear_model/_logistic.py:818: ConvergenceWarning: lbfgs failed to converge (status=1):\n",
            "STOP: TOTAL NO. of ITERATIONS REACHED LIMIT.\n",
            "\n",
            "Increase the number of iterations (max_iter) or scale the data as shown in:\n",
            "    https://scikit-learn.org/stable/modules/preprocessing.html\n",
            "Please also refer to the documentation for alternative solver options:\n",
            "    https://scikit-learn.org/stable/modules/linear_model.html#logistic-regression\n",
            "  extra_warning_msg=_LOGISTIC_SOLVER_CONVERGENCE_MSG,\n",
            "/usr/local/lib/python3.7/dist-packages/sklearn/linear_model/_logistic.py:818: ConvergenceWarning: lbfgs failed to converge (status=1):\n",
            "STOP: TOTAL NO. of ITERATIONS REACHED LIMIT.\n",
            "\n",
            "Increase the number of iterations (max_iter) or scale the data as shown in:\n",
            "    https://scikit-learn.org/stable/modules/preprocessing.html\n",
            "Please also refer to the documentation for alternative solver options:\n",
            "    https://scikit-learn.org/stable/modules/linear_model.html#logistic-regression\n",
            "  extra_warning_msg=_LOGISTIC_SOLVER_CONVERGENCE_MSG,\n",
            "/usr/local/lib/python3.7/dist-packages/sklearn/linear_model/_logistic.py:818: ConvergenceWarning: lbfgs failed to converge (status=1):\n",
            "STOP: TOTAL NO. of ITERATIONS REACHED LIMIT.\n",
            "\n",
            "Increase the number of iterations (max_iter) or scale the data as shown in:\n",
            "    https://scikit-learn.org/stable/modules/preprocessing.html\n",
            "Please also refer to the documentation for alternative solver options:\n",
            "    https://scikit-learn.org/stable/modules/linear_model.html#logistic-regression\n",
            "  extra_warning_msg=_LOGISTIC_SOLVER_CONVERGENCE_MSG,\n",
            "/usr/local/lib/python3.7/dist-packages/sklearn/linear_model/_logistic.py:818: ConvergenceWarning: lbfgs failed to converge (status=1):\n",
            "STOP: TOTAL NO. of ITERATIONS REACHED LIMIT.\n",
            "\n",
            "Increase the number of iterations (max_iter) or scale the data as shown in:\n",
            "    https://scikit-learn.org/stable/modules/preprocessing.html\n",
            "Please also refer to the documentation for alternative solver options:\n",
            "    https://scikit-learn.org/stable/modules/linear_model.html#logistic-regression\n",
            "  extra_warning_msg=_LOGISTIC_SOLVER_CONVERGENCE_MSG,\n",
            "/usr/local/lib/python3.7/dist-packages/sklearn/linear_model/_logistic.py:818: ConvergenceWarning: lbfgs failed to converge (status=1):\n",
            "STOP: TOTAL NO. of ITERATIONS REACHED LIMIT.\n",
            "\n",
            "Increase the number of iterations (max_iter) or scale the data as shown in:\n",
            "    https://scikit-learn.org/stable/modules/preprocessing.html\n",
            "Please also refer to the documentation for alternative solver options:\n",
            "    https://scikit-learn.org/stable/modules/linear_model.html#logistic-regression\n",
            "  extra_warning_msg=_LOGISTIC_SOLVER_CONVERGENCE_MSG,\n",
            "/usr/local/lib/python3.7/dist-packages/sklearn/linear_model/_logistic.py:818: ConvergenceWarning: lbfgs failed to converge (status=1):\n",
            "STOP: TOTAL NO. of ITERATIONS REACHED LIMIT.\n",
            "\n",
            "Increase the number of iterations (max_iter) or scale the data as shown in:\n",
            "    https://scikit-learn.org/stable/modules/preprocessing.html\n",
            "Please also refer to the documentation for alternative solver options:\n",
            "    https://scikit-learn.org/stable/modules/linear_model.html#logistic-regression\n",
            "  extra_warning_msg=_LOGISTIC_SOLVER_CONVERGENCE_MSG,\n",
            "/usr/local/lib/python3.7/dist-packages/sklearn/linear_model/_logistic.py:818: ConvergenceWarning: lbfgs failed to converge (status=1):\n",
            "STOP: TOTAL NO. of ITERATIONS REACHED LIMIT.\n",
            "\n",
            "Increase the number of iterations (max_iter) or scale the data as shown in:\n",
            "    https://scikit-learn.org/stable/modules/preprocessing.html\n",
            "Please also refer to the documentation for alternative solver options:\n",
            "    https://scikit-learn.org/stable/modules/linear_model.html#logistic-regression\n",
            "  extra_warning_msg=_LOGISTIC_SOLVER_CONVERGENCE_MSG,\n",
            "/usr/local/lib/python3.7/dist-packages/sklearn/linear_model/_logistic.py:818: ConvergenceWarning: lbfgs failed to converge (status=1):\n",
            "STOP: TOTAL NO. of ITERATIONS REACHED LIMIT.\n",
            "\n",
            "Increase the number of iterations (max_iter) or scale the data as shown in:\n",
            "    https://scikit-learn.org/stable/modules/preprocessing.html\n",
            "Please also refer to the documentation for alternative solver options:\n",
            "    https://scikit-learn.org/stable/modules/linear_model.html#logistic-regression\n",
            "  extra_warning_msg=_LOGISTIC_SOLVER_CONVERGENCE_MSG,\n",
            "/usr/local/lib/python3.7/dist-packages/sklearn/linear_model/_logistic.py:818: ConvergenceWarning: lbfgs failed to converge (status=1):\n",
            "STOP: TOTAL NO. of ITERATIONS REACHED LIMIT.\n",
            "\n",
            "Increase the number of iterations (max_iter) or scale the data as shown in:\n",
            "    https://scikit-learn.org/stable/modules/preprocessing.html\n",
            "Please also refer to the documentation for alternative solver options:\n",
            "    https://scikit-learn.org/stable/modules/linear_model.html#logistic-regression\n",
            "  extra_warning_msg=_LOGISTIC_SOLVER_CONVERGENCE_MSG,\n",
            "/usr/local/lib/python3.7/dist-packages/sklearn/linear_model/_logistic.py:818: ConvergenceWarning: lbfgs failed to converge (status=1):\n",
            "STOP: TOTAL NO. of ITERATIONS REACHED LIMIT.\n",
            "\n",
            "Increase the number of iterations (max_iter) or scale the data as shown in:\n",
            "    https://scikit-learn.org/stable/modules/preprocessing.html\n",
            "Please also refer to the documentation for alternative solver options:\n",
            "    https://scikit-learn.org/stable/modules/linear_model.html#logistic-regression\n",
            "  extra_warning_msg=_LOGISTIC_SOLVER_CONVERGENCE_MSG,\n",
            "/usr/local/lib/python3.7/dist-packages/sklearn/linear_model/_logistic.py:818: ConvergenceWarning: lbfgs failed to converge (status=1):\n",
            "STOP: TOTAL NO. of ITERATIONS REACHED LIMIT.\n",
            "\n",
            "Increase the number of iterations (max_iter) or scale the data as shown in:\n",
            "    https://scikit-learn.org/stable/modules/preprocessing.html\n",
            "Please also refer to the documentation for alternative solver options:\n",
            "    https://scikit-learn.org/stable/modules/linear_model.html#logistic-regression\n",
            "  extra_warning_msg=_LOGISTIC_SOLVER_CONVERGENCE_MSG,\n",
            "/usr/local/lib/python3.7/dist-packages/sklearn/linear_model/_logistic.py:818: ConvergenceWarning: lbfgs failed to converge (status=1):\n",
            "STOP: TOTAL NO. of ITERATIONS REACHED LIMIT.\n",
            "\n",
            "Increase the number of iterations (max_iter) or scale the data as shown in:\n",
            "    https://scikit-learn.org/stable/modules/preprocessing.html\n",
            "Please also refer to the documentation for alternative solver options:\n",
            "    https://scikit-learn.org/stable/modules/linear_model.html#logistic-regression\n",
            "  extra_warning_msg=_LOGISTIC_SOLVER_CONVERGENCE_MSG,\n"
          ]
        },
        {
          "output_type": "stream",
          "name": "stdout",
          "text": [
            "{'C': 3.5} 0.8593\n"
          ]
        },
        {
          "output_type": "stream",
          "name": "stderr",
          "text": [
            "/usr/local/lib/python3.7/dist-packages/sklearn/linear_model/_logistic.py:818: ConvergenceWarning: lbfgs failed to converge (status=1):\n",
            "STOP: TOTAL NO. of ITERATIONS REACHED LIMIT.\n",
            "\n",
            "Increase the number of iterations (max_iter) or scale the data as shown in:\n",
            "    https://scikit-learn.org/stable/modules/preprocessing.html\n",
            "Please also refer to the documentation for alternative solver options:\n",
            "    https://scikit-learn.org/stable/modules/linear_model.html#logistic-regression\n",
            "  extra_warning_msg=_LOGISTIC_SOLVER_CONVERGENCE_MSG,\n"
          ]
        }
      ]
    },
    {
      "cell_type": "code",
      "source": [
        "from sklearn.metrics import accuracy_score\n",
        "\n",
        "#학습 데이터를 적용한 TfidfVectorizer를 이용해 테스트 데이터를 TF-IDF 값으로 피처 변환함\n",
        "tfidf_matrix_test = tfidf_vect.transform(test_df['document'])\n",
        "\n",
        "#classifier는 GridSearchCV에서 최적 파라미터로 학습된 classifier를 그대로 사용\n",
        "best_estimator = grid_cv.best_estimator_\n",
        "preds = best_estimator.predict(tfidf_matrix_test)\n",
        "\n",
        "print('Logistic Regression 정확도: ', accuracy_score(test_df['label'], preds) )"
      ],
      "metadata": {
        "colab": {
          "base_uri": "https://localhost:8080/"
        },
        "id": "g_jUBiF_AulI",
        "outputId": "55232922-9f8b-4f94-f9b5-35a88848d9c3"
      },
      "execution_count": 31,
      "outputs": [
        {
          "output_type": "stream",
          "name": "stdout",
          "text": [
            "Logistic Regression 정확도:  0.86186\n"
          ]
        }
      ]
    }
  ]
}