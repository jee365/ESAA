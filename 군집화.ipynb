{
 "cells": [
  {
   "cell_type": "markdown",
   "metadata": {
    "id": "c1FcvJ0YgJin"
   },
   "source": [
    "# **kMeans 알고리즘을 적용하여 확인적 군집분석을 수행하시오.**\n",
    ">변수 설명 ) tot_price : 총구매액, buy_count : 구매횟수, \n",
    "                   visit_count : 매장방문횟수, avg_price : 평균구매액"
   ]
  },
  {
   "cell_type": "code",
   "execution_count": 27,
   "metadata": {
    "id": "e0Bt7MHIgK_P"
   },
   "outputs": [],
   "source": [
    "#필요한 모듈 불러오기\n",
    "import pandas as pd\n",
    "from sklearn.cluster import KMeans \n",
    "import matplotlib.pyplot as plt\n",
    "from sklearn.decomposition import PCA\n",
    "from sklearn.metrics import silhouette_samples, silhouette_score"
   ]
  },
  {
   "cell_type": "markdown",
   "metadata": {
    "id": "CwK2SgWXgTO5"
   },
   "source": [
    "## 1) 데이터 불러오기 및 탐색"
   ]
  },
  {
   "cell_type": "code",
   "execution_count": 28,
   "metadata": {
    "executionInfo": {
     "elapsed": 19,
     "status": "ok",
     "timestamp": 1629652906963,
     "user": {
      "displayName": "­정서우(자연과학대학 통계학과)",
      "photoUrl": "",
      "userId": "08205341741282440459"
     },
     "user_tz": -540
    },
    "id": "QCwXOdIygPKf"
   },
   "outputs": [
    {
     "name": "stdout",
     "output_type": "stream",
     "text": [
      "<class 'pandas.core.frame.DataFrame'>\n",
      "RangeIndex: 150 entries, 0 to 149\n",
      "Data columns (total 4 columns):\n",
      " #   Column       Non-Null Count  Dtype  \n",
      "---  ------       --------------  -----  \n",
      " 0   tot_price    150 non-null    float64\n",
      " 1   visit_count  150 non-null    float64\n",
      " 2   buy_count    150 non-null    float64\n",
      " 3   avg_price    150 non-null    float64\n",
      "dtypes: float64(4)\n",
      "memory usage: 4.8 KB\n",
      "None\n"
     ]
    }
   ],
   "source": [
    "sales = pd.read_csv(\"product_sales.csv\")\n",
    "print(sales.info())"
   ]
  },
  {
   "cell_type": "code",
   "execution_count": 29,
   "metadata": {
    "executionInfo": {
     "elapsed": 17,
     "status": "ok",
     "timestamp": 1629652906967,
     "user": {
      "displayName": "­정서우(자연과학대학 통계학과)",
      "photoUrl": "",
      "userId": "08205341741282440459"
     },
     "user_tz": -540
    },
    "id": "PRs1pZdAgfcb"
   },
   "outputs": [
    {
     "name": "stdout",
     "output_type": "stream",
     "text": [
      "(150, 4)\n",
      "<class 'pandas.core.frame.DataFrame'>\n"
     ]
    }
   ],
   "source": [
    "print(sales.shape) \n",
    "print(type(sales))"
   ]
  },
  {
   "cell_type": "markdown",
   "metadata": {
    "id": "YfG1wuHTgpRG"
   },
   "source": [
    "# 2) KMeans 를 이용하여 3개의 군집으로 군집화"
   ]
  },
  {
   "cell_type": "markdown",
   "metadata": {
    "id": "lImpKmE_homZ"
   },
   "source": [
    "2-1) KMeans 모델을 생성하세요. 군집은 3개로 군집화하세요."
   ]
  },
  {
   "cell_type": "code",
   "execution_count": 30,
   "metadata": {
    "id": "icgsSQ3Zgi_9"
   },
   "outputs": [],
   "source": [
    "#모델 생성\n",
    "kmeans = KMeans(n_clusters=3, init = 'k-means++', random_state=1)"
   ]
  },
  {
   "cell_type": "markdown",
   "metadata": {
    "id": "2OIP8gnyhxia"
   },
   "source": [
    "2-2) 모델을 훈련하고 예측치 생성하고 이 결과를 pred라는 변수에 저장하세요."
   ]
  },
  {
   "cell_type": "code",
   "execution_count": 31,
   "metadata": {
    "executionInfo": {
     "elapsed": 461,
     "status": "ok",
     "timestamp": 1629652922398,
     "user": {
      "displayName": "­정서우(자연과학대학 통계학과)",
      "photoUrl": "",
      "userId": "08205341741282440459"
     },
     "user_tz": -540
    },
    "id": "ebGU3AJyhWCn"
   },
   "outputs": [],
   "source": [
    "pred = kmeans.fit_predict(sales)"
   ]
  },
  {
   "cell_type": "markdown",
   "metadata": {
    "id": "Vs2umEnah6MX"
   },
   "source": [
    "2-3) 원형 데이터(scale)에 예측치(변수명:cluster)를 추가하세요."
   ]
  },
  {
   "cell_type": "code",
   "execution_count": 32,
   "metadata": {
    "executionInfo": {
     "elapsed": 11,
     "status": "ok",
     "timestamp": 1629652923806,
     "user": {
      "displayName": "­정서우(자연과학대학 통계학과)",
      "photoUrl": "",
      "userId": "08205341741282440459"
     },
     "user_tz": -540
    },
    "id": "2qF-jLKahfPe"
   },
   "outputs": [],
   "source": [
    "sales['cluster']=pred"
   ]
  },
  {
   "cell_type": "markdown",
   "metadata": {
    "id": "_mmO5GpXiWPH"
   },
   "source": [
    "# 3) 군집화 시각화\n",
    ": 전체 데이터를 2차원으로 축소한 뒤 시각화하세요."
   ]
  },
  {
   "cell_type": "markdown",
   "metadata": {
    "id": "LysC2L9duAmP"
   },
   "source": [
    "3-1) cluster 변수를 제외한 sales 데이터를 salesDF라는 이름으로 변수에 저장하세요."
   ]
  },
  {
   "cell_type": "code",
   "execution_count": 33,
   "metadata": {
    "id": "aZ58gQTVuTcr"
   },
   "outputs": [
    {
     "data": {
      "text/html": [
       "<div>\n",
       "<style scoped>\n",
       "    .dataframe tbody tr th:only-of-type {\n",
       "        vertical-align: middle;\n",
       "    }\n",
       "\n",
       "    .dataframe tbody tr th {\n",
       "        vertical-align: top;\n",
       "    }\n",
       "\n",
       "    .dataframe thead th {\n",
       "        text-align: right;\n",
       "    }\n",
       "</style>\n",
       "<table border=\"1\" class=\"dataframe\">\n",
       "  <thead>\n",
       "    <tr style=\"text-align: right;\">\n",
       "      <th></th>\n",
       "      <th>tot_price</th>\n",
       "      <th>visit_count</th>\n",
       "      <th>buy_count</th>\n",
       "      <th>avg_price</th>\n",
       "    </tr>\n",
       "  </thead>\n",
       "  <tbody>\n",
       "    <tr>\n",
       "      <th>0</th>\n",
       "      <td>5.0</td>\n",
       "      <td>0.2</td>\n",
       "      <td>3.0</td>\n",
       "      <td>1.6</td>\n",
       "    </tr>\n",
       "    <tr>\n",
       "      <th>1</th>\n",
       "      <td>5.0</td>\n",
       "      <td>0.4</td>\n",
       "      <td>3.4</td>\n",
       "      <td>1.6</td>\n",
       "    </tr>\n",
       "    <tr>\n",
       "      <th>2</th>\n",
       "      <td>5.2</td>\n",
       "      <td>0.2</td>\n",
       "      <td>3.5</td>\n",
       "      <td>1.5</td>\n",
       "    </tr>\n",
       "    <tr>\n",
       "      <th>3</th>\n",
       "      <td>5.2</td>\n",
       "      <td>0.2</td>\n",
       "      <td>3.0</td>\n",
       "      <td>1.4</td>\n",
       "    </tr>\n",
       "    <tr>\n",
       "      <th>4</th>\n",
       "      <td>4.7</td>\n",
       "      <td>0.2</td>\n",
       "      <td>3.2</td>\n",
       "      <td>1.6</td>\n",
       "    </tr>\n",
       "    <tr>\n",
       "      <th>...</th>\n",
       "      <td>...</td>\n",
       "      <td>...</td>\n",
       "      <td>...</td>\n",
       "      <td>...</td>\n",
       "    </tr>\n",
       "    <tr>\n",
       "      <th>145</th>\n",
       "      <td>5.4</td>\n",
       "      <td>0.2</td>\n",
       "      <td>3.4</td>\n",
       "      <td>1.7</td>\n",
       "    </tr>\n",
       "    <tr>\n",
       "      <th>146</th>\n",
       "      <td>5.1</td>\n",
       "      <td>0.4</td>\n",
       "      <td>2.0</td>\n",
       "      <td>1.5</td>\n",
       "    </tr>\n",
       "    <tr>\n",
       "      <th>147</th>\n",
       "      <td>4.6</td>\n",
       "      <td>0.2</td>\n",
       "      <td>3.6</td>\n",
       "      <td>1.0</td>\n",
       "    </tr>\n",
       "    <tr>\n",
       "      <th>148</th>\n",
       "      <td>5.1</td>\n",
       "      <td>0.5</td>\n",
       "      <td>3.3</td>\n",
       "      <td>1.7</td>\n",
       "    </tr>\n",
       "    <tr>\n",
       "      <th>149</th>\n",
       "      <td>4.8</td>\n",
       "      <td>0.2</td>\n",
       "      <td>3.4</td>\n",
       "      <td>1.9</td>\n",
       "    </tr>\n",
       "  </tbody>\n",
       "</table>\n",
       "<p>150 rows × 4 columns</p>\n",
       "</div>"
      ],
      "text/plain": [
       "     tot_price  visit_count  buy_count  avg_price\n",
       "0          5.0          0.2        3.0        1.6\n",
       "1          5.0          0.4        3.4        1.6\n",
       "2          5.2          0.2        3.5        1.5\n",
       "3          5.2          0.2        3.0        1.4\n",
       "4          4.7          0.2        3.2        1.6\n",
       "..         ...          ...        ...        ...\n",
       "145        5.4          0.2        3.4        1.7\n",
       "146        5.1          0.4        2.0        1.5\n",
       "147        4.6          0.2        3.6        1.0\n",
       "148        5.1          0.5        3.3        1.7\n",
       "149        4.8          0.2        3.4        1.9\n",
       "\n",
       "[150 rows x 4 columns]"
      ]
     },
     "execution_count": 33,
     "metadata": {},
     "output_type": "execute_result"
    }
   ],
   "source": [
    "salesDF = sales.drop(columns='cluster')\n",
    "salesDF"
   ]
  },
  {
   "cell_type": "markdown",
   "metadata": {
    "id": "7Qx6EpFuvJMz"
   },
   "source": [
    "3-2) salesDF 데이터를 이용하여 2차원으로 차원축소 한 후 그 결과를 sales에 pca_x, pca_y 이름으로 저장하세요."
   ]
  },
  {
   "cell_type": "code",
   "execution_count": 34,
   "metadata": {
    "executionInfo": {
     "elapsed": 413,
     "status": "ok",
     "timestamp": 1629652927408,
     "user": {
      "displayName": "­정서우(자연과학대학 통계학과)",
      "photoUrl": "",
      "userId": "08205341741282440459"
     },
     "user_tz": -540
    },
    "id": "HbdaFWKnlVhF"
   },
   "outputs": [],
   "source": [
    "#차원 축소 한 후 변형된 값 임의의 변수에 저장\n",
    "pca = PCA(n_components=2)\n",
    "pca_transformed = pca.fit_transform(salesDF)\n",
    "\n",
    "#sales에 'pca_x', 'pca_y' 이름으로 열 만들어 저장\n",
    "sales['pca_x']= pca_transformed[:,0]\n",
    "sales['pca_y']= pca_transformed[:,1]"
   ]
  },
  {
   "cell_type": "markdown",
   "metadata": {
    "id": "uSA4KaVcjELK"
   },
   "source": [
    "3-3) pca_x를 x축, pca_y를 y축으로 하여 산점도를 그리세요. 색으로 각 점이 군집에 따라 구분되도록 하세요. (단, 각 군집별로 마커 모양 구분하지 않고 오직 색으로만 구분합니다.)"
   ]
  },
  {
   "cell_type": "code",
   "execution_count": 48,
   "metadata": {
    "executionInfo": {
     "elapsed": 365,
     "status": "ok",
     "timestamp": 1629652930395,
     "user": {
      "displayName": "­정서우(자연과학대학 통계학과)",
      "photoUrl": "",
      "userId": "08205341741282440459"
     },
     "user_tz": -540
    },
    "id": "zi42IlfRjCNP"
   },
   "outputs": [
    {
     "data": {
      "image/png": "[encoded data removed]",
      "text/plain": [
       "<Figure size 432x288 with 1 Axes>"
      ]
     },
     "metadata": {
      "needs_background": "light"
     },
     "output_type": "display_data"
    }
   ],
   "source": [
    "plt.scatter(x=sales['pca_x'],y=sales['pca_y'],c=sales['cluster'] )\n",
    "plt.xlabel('PCA_x')\n",
    "plt.ylabel('PCA_y')\n",
    "\n",
    "plt.show()"
   ]
  },
  {
   "cell_type": "markdown",
   "metadata": {
    "id": "ACFmY31zw701"
   },
   "source": [
    "# 4) 군집평가: 실루엣 계수 구하기"
   ]
  },
  {
   "cell_type": "code",
   "execution_count": 18,
   "metadata": {
    "id": "aOVy3VRgxxo3"
   },
   "outputs": [],
   "source": [
    "#시각화를 위하여 사용했던 차원 축소 관련 계수 삭제\n",
    "sales=sales.drop(['pca_x','pca_y'], axis=1)\n",
    "\n",
    "#cluster 행을 제외한 순수 데이터 sales_data로 저장\n",
    "sales_data=sales.drop('cluster', axis=1)"
   ]
  },
  {
   "cell_type": "markdown",
   "metadata": {
    "id": "MbRL_ERnxKG4"
   },
   "source": [
    "4-1) sales의 모든 데이터에 실루엣 계수를 구하고 실루엣 계수 칼럼을 추가하세요."
   ]
  },
  {
   "cell_type": "code",
   "execution_count": 20,
   "metadata": {
    "executionInfo": {
     "elapsed": 310,
     "status": "ok",
     "timestamp": 1629652934504,
     "user": {
      "displayName": "­정서우(자연과학대학 통계학과)",
      "photoUrl": "",
      "userId": "08205341741282440459"
     },
     "user_tz": -540
    },
    "id": "WguqFEIGnevN"
   },
   "outputs": [
    {
     "data": {
      "text/plain": [
       "array([0.79112928, 0.80339312, 0.80745367, 0.78880536, 0.80070215,\n",
       "       0.80228142, 0.74329723, 0.72294854, 0.68429035, 0.81317965,\n",
       "       0.8150492 , 0.76597452, 0.81317965, 0.76253896, 0.81967084,\n",
       "       0.81645784, 0.65979098, 0.77318707, 0.76810436, 0.70752222,\n",
       "       0.80201832, 0.77274376, 0.80322804, 0.78011482, 0.82756725,\n",
       "       0.03010966, 0.38588964, 0.03550432, 0.59090953, 0.37118045,\n",
       "       0.59218597, 0.36551714, 0.25291941, 0.34664988, 0.57771726,\n",
       "       0.35984201, 0.58908336, 0.54842372, 0.48526634, 0.56405686,\n",
       "       0.32785615, 0.55790518, 0.61041698, 0.49945776, 0.61027416,\n",
       "       0.3294748 , 0.59038923, 0.30806081, 0.47510801, 0.50262933,\n",
       "       0.38872071, 0.1263622 , 0.11662093, 0.55566018, 0.50304225,\n",
       "       0.59300633, 0.55485078, 0.61942931, 0.25930188, 0.54056538,\n",
       "       0.41885967, 0.17026149, 0.48518425, 0.60814469, 0.61300588,\n",
       "       0.59447333, 0.50822278, 0.62357199, 0.27942676, 0.62700595,\n",
       "       0.6078571 , 0.6228141 , 0.56045218, 0.05927744, 0.63081388,\n",
       "       0.49926839, 0.22885652, 0.61199229, 0.36134772, 0.55800894,\n",
       "       0.54386993, 0.46567071, 0.55930303, 0.44180737, 0.56109385,\n",
       "       0.2596976 , 0.23094505, 0.5551797 , 0.28235125, 0.02339345,\n",
       "       0.39824529, 0.42118797, 0.49444262, 0.48364811, 0.32557285,\n",
       "       0.60684346, 0.30612114, 0.5125223 , 0.20259521, 0.57977271,\n",
       "       0.57793868, 0.30988149, 0.2531452 , 0.4550765 , 0.51606389,\n",
       "       0.56041829, 0.48390986, 0.463266  , 0.13925983, 0.05491225,\n",
       "       0.55188901, 0.45535116, 0.38864536, 0.35180872, 0.53422246,\n",
       "       0.57025373, 0.40996241, 0.22885652, 0.61312272, 0.56687452,\n",
       "       0.42524024, 0.10179701, 0.3148994 , 0.35237949, 0.18381061,\n",
       "       0.81824621, 0.80797816, 0.81303999, 0.79339754, 0.60275825,\n",
       "       0.70801516, 0.79770145, 0.82374552, 0.74993586, 0.59719599,\n",
       "       0.76646228, 0.80847587, 0.80352997, 0.74099099, 0.67112373,\n",
       "       0.60587334, 0.73833647, 0.59366846, 0.67217183, 0.77896302,\n",
       "       0.75666542, 0.57584325, 0.76834231, 0.76956944, 0.74949466])"
      ]
     },
     "execution_count": 20,
     "metadata": {},
     "output_type": "execute_result"
    }
   ],
   "source": [
    "# sales의 모든 데이터에 실루엣 계수 구하기\n",
    "score = silhouette_samples(sales_data, sales['cluster'])\n",
    "score"
   ]
  },
  {
   "cell_type": "code",
   "execution_count": 21,
   "metadata": {
    "id": "UtKeaL-kxiiR"
   },
   "outputs": [],
   "source": [
    "#sales에 실루엣 계수 칼럼 추가\n",
    "sales['silhouette_coeff']=score"
   ]
  },
  {
   "cell_type": "markdown",
   "metadata": {
    "id": "Unt23NAhyl0W"
   },
   "source": [
    "4-2) 모든 데이터의 평균 실루엣 계수를 구하세요."
   ]
  },
  {
   "cell_type": "code",
   "execution_count": 22,
   "metadata": {
    "executionInfo": {
     "elapsed": 418,
     "status": "ok",
     "timestamp": 1629652936935,
     "user": {
      "displayName": "­정서우(자연과학대학 통계학과)",
      "photoUrl": "",
      "userId": "08205341741282440459"
     },
     "user_tz": -540
    },
    "id": "J51Ao9TiyjpN"
   },
   "outputs": [
    {
     "data": {
      "text/plain": [
       "0.538044239952023"
      ]
     },
     "execution_count": 22,
     "metadata": {},
     "output_type": "execute_result"
    }
   ],
   "source": [
    "#모든 데이터의 평균 실루엣 계수 값을 구하기\n",
    "average_score = silhouette_score(sales_data, sales['cluster'])\n",
    "average_score"
   ]
  },
  {
   "cell_type": "markdown",
   "metadata": {
    "id": "YovPBxuXyxUQ"
   },
   "source": [
    "4-3) 군집별 평균 실루엣 계수를 구하세요."
   ]
  },
  {
   "cell_type": "code",
   "execution_count": 23,
   "metadata": {
    "executionInfo": {
     "elapsed": 12,
     "status": "ok",
     "timestamp": 1629652938353,
     "user": {
      "displayName": "­정서우(자연과학대학 통계학과)",
      "photoUrl": "",
      "userId": "08205341741282440459"
     },
     "user_tz": -540
    },
    "id": "XW6o-x1YysJd"
   },
   "outputs": [
    {
     "data": {
      "text/plain": [
       "cluster\n",
       "0    0.755123\n",
       "1    0.450677\n",
       "2    0.416528\n",
       "Name: silhouette_coeff, dtype: float64"
      ]
     },
     "execution_count": 23,
     "metadata": {},
     "output_type": "execute_result"
    }
   ],
   "source": [
    "#군집별 평균 실루엣 계수 구하기\n",
    "sales.groupby('cluster')['silhouette_coeff'].mean()"
   ]
  }
 ],
 "metadata": {
  "colab": {
   "authorship_tag": "ABX9TyMVu21wDpJx1ooTVRI5nvFH",
   "collapsed_sections": [],
   "name": "군집화.ipynb",
   "provenance": []
  },
  "kernelspec": {
   "display_name": "Python 3",
   "language": "python",
   "name": "python3"
  },
  "language_info": {
   "codemirror_mode": {
    "name": "ipython",
    "version": 3
   },
   "file_extension": ".py",
   "mimetype": "text/x-python",
   "name": "python",
   "nbconvert_exporter": "python",
   "pygments_lexer": "ipython3",
   "version": "3.8.8"
  }
 },
 "nbformat": 4,
 "nbformat_minor": 1
}
