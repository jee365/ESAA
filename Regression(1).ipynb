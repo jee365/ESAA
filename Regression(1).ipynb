{
 "cells": [
  {
   "cell_type": "code",
   "execution_count": 11,
   "id": "69de13e9",
   "metadata": {},
   "outputs": [
    {
     "data": {
      "text/plain": [
       "<matplotlib.collections.PathCollection at 0x235e5a83d90>"
      ]
     },
     "execution_count": 11,
     "metadata": {},
     "output_type": "execute_result"
    },
    {
     "data": {
      "image/png": "[encoded data removed]",
      "text/plain": [
       "<Figure size 432x288 with 1 Axes>"
      ]
     },
     "metadata": {
      "needs_background": "light"
     },
     "output_type": "display_data"
    }
   ],
   "source": [
    "import numpy as np\n",
    "import matplotlib.pyplot as plt\n",
    "%matplotlib inline\n",
    "\n",
    "np.random.seed(0)\n",
    "#y=4x+6을 근사(w1=4, w0=6), 임의의 값은 노이즈를 위해 만듦\n",
    "X= 2*np.random.rand(100,1)\n",
    "y= 6+4*X+np.random.randn(100,1)\n",
    "\n",
    "plt.scatter(X,y)"
   ]
  },
  {
   "cell_type": "code",
   "execution_count": 12,
   "id": "c34c1511",
   "metadata": {},
   "outputs": [],
   "source": [
    "def get_cost(y,y_pred):\n",
    "    N = len(y)\n",
    "    cost = np.sum(np.square(y-y_pred))/N\n",
    "    return cost"
   ]
  },
  {
   "cell_type": "code",
   "execution_count": 21,
   "id": "2a99e1d2",
   "metadata": {},
   "outputs": [],
   "source": [
    "def get_weight_updates(w1,w0,X,y,learning_rate=0.01):\n",
    "    N=len(y)\n",
    "    #w1_update, w2_update를 각각 w1, w0와 동일한 shape을 가진 0값으로 초기화\n",
    "    w1_update = np.zeros_like(w1)\n",
    "    w0_update = np.zeros_like(w0)\n",
    "    #예측 배열 계산하고 예측과 실제 값의 차이 계산\n",
    "    y_pred = np.dot(X,w1.T)+w0\n",
    "    diff = y-y_pred\n",
    "    \n",
    "    #w0_update를 dot 행렬 연산으로 구하기 위해 모두 1값을 가진 행렬 생성\n",
    "    w0_factors = np.ones((N,1))\n",
    "    \n",
    "    w1_update = -(2/N)*learning_rate*(np.dot(X.T,diff))\n",
    "    w0_update = -(2/N)*learning_rate*(np.dot(w0_factors.T,diff))\n",
    "    \n",
    "    return w1_update, w0_update"
   ]
  },
  {
   "cell_type": "code",
   "execution_count": 22,
   "id": "a01d8d63",
   "metadata": {},
   "outputs": [],
   "source": [
    "def gradient_descent_steps(X,y,iters=10000):\n",
    "    w0= np.zeros((1,1))\n",
    "    w1= np.zeros((1,1))\n",
    "    \n",
    "    #인자로 주어진 iters만큼 반복적으로 get_weight_updates() 호출해 w1,w0 업데이트 수행\n",
    "    for ind in range(iters):\n",
    "        w1_update, w0_update = get_weight_updates(w1,w0,X,y,learning_rate=0.01)\n",
    "        w1 = w1-w1_update\n",
    "        w0 = w0-w0_update\n",
    "        \n",
    "    return w1, w0\n",
    "    \n",
    "    "
   ]
  },
  {
   "cell_type": "code",
   "execution_count": 24,
   "id": "ad83e9ac",
   "metadata": {},
   "outputs": [
    {
     "name": "stdout",
     "output_type": "stream",
     "text": [
      "w1:4.021813642697164 w0:6.162031224717461\n",
      "Gradient Descent Total Cost:0.9934784315632568\n"
     ]
    }
   ],
   "source": [
    "def get_cost(y,y_pred):\n",
    "    N = len(y)\n",
    "    cost = np.sum(np.square(y-y_pred))/N\n",
    "    return cost\n",
    "\n",
    "w1,w0 = gradient_descent_steps(X,y,iters=1000)\n",
    "print('w1:{} w0:{}'.format(w1[0,0],w0[0,0]))\n",
    "y_pred = w1[0,0]*X+w0\n",
    "print('Gradient Descent Total Cost:{}'.format(get_cost(y,y_pred)))"
   ]
  },
  {
   "cell_type": "code",
   "execution_count": 25,
   "id": "4adb2a64",
   "metadata": {},
   "outputs": [
    {
     "data": {
      "text/plain": [
       "[<matplotlib.lines.Line2D at 0x235e5aff160>]"
      ]
     },
     "execution_count": 25,
     "metadata": {},
     "output_type": "execute_result"
    },
    {
     "data": {
      "image/png": "[encoded data removed]",
      "text/plain": [
       "<Figure size 432x288 with 1 Axes>"
      ]
     },
     "metadata": {
      "needs_background": "light"
     },
     "output_type": "display_data"
    }
   ],
   "source": [
    "plt.scatter(X,y)\n",
    "plt.plot(X,y_pred)"
   ]
  },
  {
   "cell_type": "code",
   "execution_count": 26,
   "id": "5b2d54b4",
   "metadata": {},
   "outputs": [],
   "source": [
    "def stochastic_gradient_descent_steps(X,y,batch_size=10,iters=1000):\n",
    "    w0= np.zeros((1,1))\n",
    "    w1= np.zeros((1,1))\n",
    "    prev_cost= 100000\n",
    "    iter_index= 0\n",
    "    \n",
    "    for ind in range(iters):\n",
    "        np.random.seed(ind)\n",
    "        #전체 X, y 데이터에서 랜덤하게 batch_size만큼 추출해서 sample_x, sample_y에 저장\n",
    "        stochastic_random_index = np.random.permutation(X.shape[0])\n",
    "        sample_X = X[stochastic_random_index[0:batch_size]]\n",
    "        sample_y = y[stochastic_random_index[0:batch_size]]\n",
    "        \n",
    "        w1_update, w0_update = get_weight_updates(w1,w0,sample_X,sample_y,learning_rate=0.01)\n",
    "        w1 = w1-w1_update\n",
    "        w0 = w0-w0_update\n",
    "        \n",
    "    return w1, w0\n",
    "    "
   ]
  },
  {
   "cell_type": "code",
   "execution_count": 27,
   "id": "428f1cf0",
   "metadata": {},
   "outputs": [
    {
     "name": "stdout",
     "output_type": "stream",
     "text": [
      "w1:4.028 w0:6.156\n",
      "Stochastic Gradient Descent Total Cost:0.9937111256675345\n"
     ]
    }
   ],
   "source": [
    "w1,w0 = stochastic_gradient_descent_steps(X,y,iters=1000)\n",
    "print('w1:{} w0:{}'.format(round(w1[0,0],3),round(w0[0,0],3)))\n",
    "y_pred = w1[0,0]*X+w0\n",
    "print('Stochastic Gradient Descent Total Cost:{}'.format(get_cost(y,y_pred)))"
   ]
  },
  {
   "cell_type": "code",
   "execution_count": 29,
   "id": "c83beb82",
   "metadata": {},
   "outputs": [
    {
     "name": "stdout",
     "output_type": "stream",
     "text": [
      "[[0 1]\n",
      " [2 3]]\n",
      "변환된 2차 다항식 계수 피처:\n",
      " [[1. 0. 1. 0. 0. 1.]\n",
      " [1. 2. 3. 4. 6. 9.]]\n"
     ]
    }
   ],
   "source": [
    "from sklearn.preprocessing import PolynomialFeatures\n",
    "import numpy as np\n",
    "\n",
    "#다항식으로 변환한 단항식 생성, [[0,1],[2,3,]]의 2*2 행렬\n",
    "X= np.arange(4).reshape(2,2)\n",
    "print(X)\n",
    "\n",
    "#degree=2인 2차 다항식으로 변환하기 위해 PolynomialFeatures를 이용해 변환\n",
    "poly = PolynomialFeatures(degree=2)\n",
    "poly.fit(X)\n",
    "poly_ftr = poly.transform(X)\n",
    "print('변환된 2차 다항식 계수 피처:\\n',poly_ftr)"
   ]
  },
  {
   "cell_type": "code",
   "execution_count": 31,
   "id": "adc55fc9",
   "metadata": {},
   "outputs": [
    {
     "name": "stdout",
     "output_type": "stream",
     "text": [
      "[[0 1]\n",
      " [2 3]]\n",
      "삼차 다항식 결정값:\n",
      " [  5 125]\n"
     ]
    }
   ],
   "source": [
    "def polynomial_func(X):\n",
    "    y = 1+2*X[:,0]+3*X[:,0]**2+4*X[:,1]**3\n",
    "    return y\n",
    "\n",
    "X= np.arange(4).reshape(2,2)\n",
    "print(X)\n",
    "y= polynomial_func(X)\n",
    "print('삼차 다항식 결정값:\\n',y)"
   ]
  },
  {
   "cell_type": "code",
   "execution_count": 33,
   "id": "917a6778",
   "metadata": {},
   "outputs": [
    {
     "name": "stdout",
     "output_type": "stream",
     "text": [
      "삼차 다항식 계수 feature:\n",
      " [[ 1.  0.  1.  0.  0.  1.  0.  0.  0.  1.]\n",
      " [ 1.  2.  3.  4.  6.  9.  8. 12. 18. 27.]]\n",
      "Polynomial 회귀 계수\n",
      " [0.   0.18 0.18 0.36 0.54 0.72 0.72 1.08 1.62 2.34]\n",
      "Polynomial 회귀 Shape: (10,)\n"
     ]
    }
   ],
   "source": [
    "from sklearn.linear_model import LinearRegression\n",
    "\n",
    "poly_ftr = PolynomialFeatures(degree=3).fit_transform(X)\n",
    "print('삼차 다항식 계수 feature:\\n',poly_ftr)\n",
    "\n",
    "#Linear Regression에 3차 다항식 계수 feature와 3차 다항식 결정값으로 학습 후 회귀 계수 확인\n",
    "model = LinearRegression()\n",
    "model.fit(poly_ftr,y)\n",
    "print('Polynomial 회귀 계수\\n', np.round(model.coef_,2))\n",
    "print('Polynomial 회귀 Shape:', model.coef_.shape)"
   ]
  },
  {
   "cell_type": "code",
   "execution_count": 35,
   "id": "e0ecd0fb",
   "metadata": {},
   "outputs": [
    {
     "name": "stdout",
     "output_type": "stream",
     "text": [
      "Polynomial 회귀 계수\n",
      " [0.   0.18 0.18 0.36 0.54 0.72 0.72 1.08 1.62 2.34]\n"
     ]
    }
   ],
   "source": [
    "from sklearn.preprocessing import PolynomialFeatures\n",
    "from sklearn.linear_model import LinearRegression\n",
    "from sklearn.pipeline import Pipeline\n",
    "import numpy as np\n",
    "\n",
    "def polynomial_func(x):\n",
    "    y = 1+2*X[:,0]+3*X[:,0]**2+4*X[:,1]**3\n",
    "    return y\n",
    "\n",
    "#Pipeline 객체로 Streamline하게 Polynomial Feature 변환과 Linear Regression을 연결\n",
    "model = Pipeline([('poly',PolynomialFeatures(degree=3)),(('linear',LinearRegression()))])\n",
    "X = np.arange(4).reshape(2,2)\n",
    "y = polynomial_func(X)\n",
    "\n",
    "model = model.fit(X, y)\n",
    "print('Polynomial 회귀 계수\\n', np.round(model.named_steps['linear'].coef_, 2))"
   ]
  },
  {
   "cell_type": "code",
   "execution_count": 38,
   "id": "eaf7208d",
   "metadata": {},
   "outputs": [
    {
     "data": {
      "image/png": "[encoded data removed]",
      "text/plain": [
       "<Figure size 432x288 with 1 Axes>"
      ]
     },
     "metadata": {
      "needs_background": "light"
     },
     "output_type": "display_data"
    }
   ],
   "source": [
    "import numpy as np\n",
    "import matplotlib.pyplot as plt\n",
    "from sklearn.pipeline import Pipeline\n",
    "from sklearn.preprocessing import PolynomialFeatures\n",
    "from sklearn.linear_model import LinearRegression\n",
    "from sklearn.model_selection import cross_val_score\n",
    "%matplotlib inline\n",
    "\n",
    "#임의의 값으로 구성된 X 값에 대해 코사인 변환 값을 변환\n",
    "def true_fun(X):\n",
    "    return np.cos(1.5*np.pi*X)\n",
    "\n",
    "#X는 0부터 1까지 30개의 임의의 값을 순서대로 샘플링한 데이터입니다.\n",
    "np.random.seed(0)\n",
    "n_samples = 30\n",
    "X= np.sort(np.random.rand(n_samples))\n",
    "\n",
    "#y 값은 cosine 기반의 true_fun()에서 약간의 Noise 변동값을 더한 값입니다.\n",
    "y = true_fun(X)+np.random.randn(n_samples)*0.1\n",
    "plt.scatter(X,y)\n",
    "plt.show()"
   ]
  },
  {
   "cell_type": "code",
   "execution_count": 44,
   "id": "1e5994e4",
   "metadata": {},
   "outputs": [
    {
     "name": "stdout",
     "output_type": "stream",
     "text": [
      "\n",
      "Degree 1 회귀 계수는 [-2.] 입니다.\n",
      "Degree 1 MSE 는 0.41 입니다.\n",
      "\n",
      "Degree 4 회귀 계수는 [  0. -18.  24.  -7.] 입니다.\n",
      "Degree 4 MSE 는 0.41 입니다.\n",
      "\n",
      "Degree 15 회귀 계수는 [-2.98300000e+03  1.03900000e+05 -1.87417100e+06  2.03717220e+07\n",
      " -1.44873987e+08  7.09318780e+08 -2.47066977e+09  6.24564048e+09\n",
      " -1.15677067e+10  1.56895696e+10 -1.54006776e+10  1.06457788e+10\n",
      " -4.91379977e+09  1.35920330e+09 -1.70381654e+08] 입니다.\n",
      "Degree 15 MSE 는 0.41 입니다.\n"
     ]
    },
    {
     "data": {
      "image/png": "[encoded data removed]",
      "text/plain": [
       "<Figure size 1008x360 with 3 Axes>"
      ]
     },
     "metadata": {},
     "output_type": "display_data"
    }
   ],
   "source": [
    "plt.figure(figsize=(14,5))\n",
    "degrees= [1,4,15]\n",
    "\n",
    "#다항 회귀의 degree를 1,4,15로 각각 변화시키면서 비교합니다.\n",
    "for i in range(len(degrees)):\n",
    "    ax = plt.subplot(1,len(degrees),i+1)\n",
    "    plt.setp(ax, xticks=(), yticks=())\n",
    "    \n",
    "    #개별 degree별로 Polynomial 변환합니다.\n",
    "    polynomial_features = PolynomialFeatures(degree=degrees[i], include_bias=False)\n",
    "    linear_regression = LinearRegression()\n",
    "    pipeline = Pipeline([('polynomial_features',polynomial_features),('linear_regression',linear_regression)])\n",
    "    pipeline.fit(X.reshape(-1,1),y)\n",
    "    \n",
    "    #교차검증으로 다항회귀를 평가합니다.\n",
    "    scores = cross_val_score(pipline, X.reshape(-1,1),y, scoring='neg_mean_squared_error',cv=10)\n",
    "    #Pipeline을 구성하는 세부 객체를 접근하는 named_steps['객체명']을 이용해 회귀계수 추출\n",
    "    coefficients = pipeline.named_steps['linear_regression'].coef_\n",
    "    print('\\nDegree {0} 회귀 계수는 {1} 입니다.'.format(degrees[i], np.round(coefficients),2))\n",
    "    print('Degree {0} MSE 는 {1:.2f} 입니다.'.format(degrees[i] , -1*np.mean(scores)))\n",
    "    \n",
    "    # 0 부터 1까지 테스트 데이터 세트를 100개로 나눠 예측을 수행합니다. \n",
    "    # 테스트 데이터 세트에 회귀 예측을 수행하고 예측 곡선과 실제 곡선을 그려서 비교합니다. >\n",
    "    X_test = np.linspace(0, 1, 100)\n",
    "    # 예측값 곡선\n",
    "    plt.plot(X_test,pipeline.predict(X_test[:,np.newaxis]),label='Model')\n",
    "    # 실제 값 곡선\n",
    "    plt.plot(X_test, true_fun(X_test), '--', label=\"True function\")\n",
    "    plt.scatter(X, y, edgecolor='b', s=20, label=\"Samples\")\n",
    "    plt.xlabel(\"x\"); plt.ylabel(\"y\"); plt.xlim((0, 1)); plt.ylim((-2, 2)); plt.legend(loc=\"best\")\n",
    "    plt.title(\"Degree {}\\nMSE = {:.2e}(+/- {:.2e})\".format(degrees[i], -scores.mean(), scores.std()))\n",
    "plt.show()"
   ]
  }
 ],
 "metadata": {
  "kernelspec": {
   "display_name": "Python 3",
   "language": "python",
   "name": "python3"
  },
  "language_info": {
   "codemirror_mode": {
    "name": "ipython",
    "version": 3
   },
   "file_extension": ".py",
   "mimetype": "text/x-python",
   "name": "python",
   "nbconvert_exporter": "python",
   "pygments_lexer": "ipython3",
   "version": "3.8.8"
  }
 },
 "nbformat": 4,
 "nbformat_minor": 5
}
