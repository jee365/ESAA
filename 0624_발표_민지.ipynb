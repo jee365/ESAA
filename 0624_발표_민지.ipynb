{
  "nbformat": 4,
  "nbformat_minor": 0,
  "metadata": {
    "colab": {
      "name": "0624  발표 - 민지.ipynb",
      "provenance": [],
      "authorship_tag": "ABX9TyPOxxzX6Q8ypkbYAsfVBidW",
      "include_colab_link": true
    },
    "kernelspec": {
      "name": "python3",
      "display_name": "Python 3"
    },
    "language_info": {
      "name": "python"
    },
    "accelerator": "GPU",
    "gpuClass": "standard",
    "widgets": {
      "application/vnd.jupyter.widget-state+json": {
        "697c7c85c4d74f5c824ff2eeabe8defa": {
          "model_module": "@jupyter-widgets/controls",
          "model_name": "HBoxModel",
          "model_module_version": "1.5.0",
          "state": {
            "_dom_classes": [],
            "_model_module": "@jupyter-widgets/controls",
            "_model_module_version": "1.5.0",
            "_model_name": "HBoxModel",
            "_view_count": null,
            "_view_module": "@jupyter-widgets/controls",
            "_view_module_version": "1.5.0",
            "_view_name": "HBoxView",
            "box_style": "",
            "children": [
              "IPY_MODEL_0279395619d745f18cb96b3436b13dfb",
              "IPY_MODEL_877ed57498c14dbfa88d808adecb924f",
              "IPY_MODEL_6cbd5dc1fdb84c8ea828a3625c79804a"
            ],
            "layout": "IPY_MODEL_e16ac4d1332a4262bac62e7ad5b70f4b"
          }
        },
        "0279395619d745f18cb96b3436b13dfb": {
          "model_module": "@jupyter-widgets/controls",
          "model_name": "HTMLModel",
          "model_module_version": "1.5.0",
          "state": {
            "_dom_classes": [],
            "_model_module": "@jupyter-widgets/controls",
            "_model_module_version": "1.5.0",
            "_model_name": "HTMLModel",
            "_view_count": null,
            "_view_module": "@jupyter-widgets/controls",
            "_view_module_version": "1.5.0",
            "_view_name": "HTMLView",
            "description": "",
            "description_tooltip": null,
            "layout": "IPY_MODEL_2fdaf134078541feb15159c1bf4e9be4",
            "placeholder": "​",
            "style": "IPY_MODEL_d16d10355aef4e028361e08818824ac6",
            "value": ""
          }
        },
        "877ed57498c14dbfa88d808adecb924f": {
          "model_module": "@jupyter-widgets/controls",
          "model_name": "FloatProgressModel",
          "model_module_version": "1.5.0",
          "state": {
            "_dom_classes": [],
            "_model_module": "@jupyter-widgets/controls",
            "_model_module_version": "1.5.0",
            "_model_name": "FloatProgressModel",
            "_view_count": null,
            "_view_module": "@jupyter-widgets/controls",
            "_view_module_version": "1.5.0",
            "_view_name": "ProgressView",
            "bar_style": "success",
            "description": "",
            "description_tooltip": null,
            "layout": "IPY_MODEL_240e111d5511421594f3cf9098aafbe3",
            "max": 170498071,
            "min": 0,
            "orientation": "horizontal",
            "style": "IPY_MODEL_51ef1a4c8f4b4568814478c5e9e65c6e",
            "value": 170498071
          }
        },
        "6cbd5dc1fdb84c8ea828a3625c79804a": {
          "model_module": "@jupyter-widgets/controls",
          "model_name": "HTMLModel",
          "model_module_version": "1.5.0",
          "state": {
            "_dom_classes": [],
            "_model_module": "@jupyter-widgets/controls",
            "_model_module_version": "1.5.0",
            "_model_name": "HTMLModel",
            "_view_count": null,
            "_view_module": "@jupyter-widgets/controls",
            "_view_module_version": "1.5.0",
            "_view_name": "HTMLView",
            "description": "",
            "description_tooltip": null,
            "layout": "IPY_MODEL_9d59f779010d46dab15434aff7db0cee",
            "placeholder": "​",
            "style": "IPY_MODEL_019fe75780ba4242bd0fefd868dc5711",
            "value": " 170499072/? [00:01&lt;00:00, 105080081.73it/s]"
          }
        },
        "e16ac4d1332a4262bac62e7ad5b70f4b": {
          "model_module": "@jupyter-widgets/base",
          "model_name": "LayoutModel",
          "model_module_version": "1.2.0",
          "state": {
            "_model_module": "@jupyter-widgets/base",
            "_model_module_version": "1.2.0",
            "_model_name": "LayoutModel",
            "_view_count": null,
            "_view_module": "@jupyter-widgets/base",
            "_view_module_version": "1.2.0",
            "_view_name": "LayoutView",
            "align_content": null,
            "align_items": null,
            "align_self": null,
            "border": null,
            "bottom": null,
            "display": null,
            "flex": null,
            "flex_flow": null,
            "grid_area": null,
            "grid_auto_columns": null,
            "grid_auto_flow": null,
            "grid_auto_rows": null,
            "grid_column": null,
            "grid_gap": null,
            "grid_row": null,
            "grid_template_areas": null,
            "grid_template_columns": null,
            "grid_template_rows": null,
            "height": null,
            "justify_content": null,
            "justify_items": null,
            "left": null,
            "margin": null,
            "max_height": null,
            "max_width": null,
            "min_height": null,
            "min_width": null,
            "object_fit": null,
            "object_position": null,
            "order": null,
            "overflow": null,
            "overflow_x": null,
            "overflow_y": null,
            "padding": null,
            "right": null,
            "top": null,
            "visibility": null,
            "width": null
          }
        },
        "2fdaf134078541feb15159c1bf4e9be4": {
          "model_module": "@jupyter-widgets/base",
          "model_name": "LayoutModel",
          "model_module_version": "1.2.0",
          "state": {
            "_model_module": "@jupyter-widgets/base",
            "_model_module_version": "1.2.0",
            "_model_name": "LayoutModel",
            "_view_count": null,
            "_view_module": "@jupyter-widgets/base",
            "_view_module_version": "1.2.0",
            "_view_name": "LayoutView",
            "align_content": null,
            "align_items": null,
            "align_self": null,
            "border": null,
            "bottom": null,
            "display": null,
            "flex": null,
            "flex_flow": null,
            "grid_area": null,
            "grid_auto_columns": null,
            "grid_auto_flow": null,
            "grid_auto_rows": null,
            "grid_column": null,
            "grid_gap": null,
            "grid_row": null,
            "grid_template_areas": null,
            "grid_template_columns": null,
            "grid_template_rows": null,
            "height": null,
            "justify_content": null,
            "justify_items": null,
            "left": null,
            "margin": null,
            "max_height": null,
            "max_width": null,
            "min_height": null,
            "min_width": null,
            "object_fit": null,
            "object_position": null,
            "order": null,
            "overflow": null,
            "overflow_x": null,
            "overflow_y": null,
            "padding": null,
            "right": null,
            "top": null,
            "visibility": null,
            "width": null
          }
        },
        "d16d10355aef4e028361e08818824ac6": {
          "model_module": "@jupyter-widgets/controls",
          "model_name": "DescriptionStyleModel",
          "model_module_version": "1.5.0",
          "state": {
            "_model_module": "@jupyter-widgets/controls",
            "_model_module_version": "1.5.0",
            "_model_name": "DescriptionStyleModel",
            "_view_count": null,
            "_view_module": "@jupyter-widgets/base",
            "_view_module_version": "1.2.0",
            "_view_name": "StyleView",
            "description_width": ""
          }
        },
        "240e111d5511421594f3cf9098aafbe3": {
          "model_module": "@jupyter-widgets/base",
          "model_name": "LayoutModel",
          "model_module_version": "1.2.0",
          "state": {
            "_model_module": "@jupyter-widgets/base",
            "_model_module_version": "1.2.0",
            "_model_name": "LayoutModel",
            "_view_count": null,
            "_view_module": "@jupyter-widgets/base",
            "_view_module_version": "1.2.0",
            "_view_name": "LayoutView",
            "align_content": null,
            "align_items": null,
            "align_self": null,
            "border": null,
            "bottom": null,
            "display": null,
            "flex": null,
            "flex_flow": null,
            "grid_area": null,
            "grid_auto_columns": null,
            "grid_auto_flow": null,
            "grid_auto_rows": null,
            "grid_column": null,
            "grid_gap": null,
            "grid_row": null,
            "grid_template_areas": null,
            "grid_template_columns": null,
            "grid_template_rows": null,
            "height": null,
            "justify_content": null,
            "justify_items": null,
            "left": null,
            "margin": null,
            "max_height": null,
            "max_width": null,
            "min_height": null,
            "min_width": null,
            "object_fit": null,
            "object_position": null,
            "order": null,
            "overflow": null,
            "overflow_x": null,
            "overflow_y": null,
            "padding": null,
            "right": null,
            "top": null,
            "visibility": null,
            "width": null
          }
        },
        "51ef1a4c8f4b4568814478c5e9e65c6e": {
          "model_module": "@jupyter-widgets/controls",
          "model_name": "ProgressStyleModel",
          "model_module_version": "1.5.0",
          "state": {
            "_model_module": "@jupyter-widgets/controls",
            "_model_module_version": "1.5.0",
            "_model_name": "ProgressStyleModel",
            "_view_count": null,
            "_view_module": "@jupyter-widgets/base",
            "_view_module_version": "1.2.0",
            "_view_name": "StyleView",
            "bar_color": null,
            "description_width": ""
          }
        },
        "9d59f779010d46dab15434aff7db0cee": {
          "model_module": "@jupyter-widgets/base",
          "model_name": "LayoutModel",
          "model_module_version": "1.2.0",
          "state": {
            "_model_module": "@jupyter-widgets/base",
            "_model_module_version": "1.2.0",
            "_model_name": "LayoutModel",
            "_view_count": null,
            "_view_module": "@jupyter-widgets/base",
            "_view_module_version": "1.2.0",
            "_view_name": "LayoutView",
            "align_content": null,
            "align_items": null,
            "align_self": null,
            "border": null,
            "bottom": null,
            "display": null,
            "flex": null,
            "flex_flow": null,
            "grid_area": null,
            "grid_auto_columns": null,
            "grid_auto_flow": null,
            "grid_auto_rows": null,
            "grid_column": null,
            "grid_gap": null,
            "grid_row": null,
            "grid_template_areas": null,
            "grid_template_columns": null,
            "grid_template_rows": null,
            "height": null,
            "justify_content": null,
            "justify_items": null,
            "left": null,
            "margin": null,
            "max_height": null,
            "max_width": null,
            "min_height": null,
            "min_width": null,
            "object_fit": null,
            "object_position": null,
            "order": null,
            "overflow": null,
            "overflow_x": null,
            "overflow_y": null,
            "padding": null,
            "right": null,
            "top": null,
            "visibility": null,
            "width": null
          }
        },
        "019fe75780ba4242bd0fefd868dc5711": {
          "model_module": "@jupyter-widgets/controls",
          "model_name": "DescriptionStyleModel",
          "model_module_version": "1.5.0",
          "state": {
            "_model_module": "@jupyter-widgets/controls",
            "_model_module_version": "1.5.0",
            "_model_name": "DescriptionStyleModel",
            "_view_count": null,
            "_view_module": "@jupyter-widgets/base",
            "_view_module_version": "1.2.0",
            "_view_name": "StyleView",
            "description_width": ""
          }
        }
      }
    }
  },
  "cells": [
    {
      "cell_type": "markdown",
      "metadata": {
        "id": "view-in-github",
        "colab_type": "text"
      },
      "source": [
        "<a href=\"https://colab.research.google.com/github/jee365/ESAA/blob/main/0624_%EB%B0%9C%ED%91%9C_%EB%AF%BC%EC%A7%80.ipynb\" target=\"_parent\"><img src=\"https://colab.research.google.com/assets/colab-badge.svg\" alt=\"Open In Colab\"/></a>"
      ]
    },
    {
      "cell_type": "markdown",
      "source": [
        "# **사물이미지 분류 경진대회 베이스라인2**"
      ],
      "metadata": {
        "id": "mSyh1DiWkQuw"
      }
    },
    {
      "cell_type": "code",
      "execution_count": 1,
      "metadata": {
        "id": "S8dSEaKniG6N"
      },
      "outputs": [],
      "source": [
        "#필요한 library 들을 load\n",
        "import os \n",
        "os.environ[\"CUDA_VISIBLE_DEVICES\"]=\"0\" \n",
        "\n",
        "import random\n",
        "import numpy as np\n",
        "from tqdm import tqdm\n",
        "\n",
        "import torch\n",
        "from torchvision import datasets, models, transforms\n",
        "import torch.nn as nn\n",
        "from torch.nn import functional as F\n",
        "import torch.optim as optim\n",
        "import torchvision.transforms as transforms\n",
        "\n",
        "from multiprocessing import cpu_count\n",
        "from torch.utils.data import Dataset, DataLoader, SubsetRandomSampler\n",
        "from torch.nn import CrossEntropyLoss\n",
        "from torchvision.models import efficientnet_b3 as efficientnet\n",
        "from sklearn.model_selection import train_test_split"
      ]
    },
    {
      "cell_type": "markdown",
      "source": [
        "## **데이터 로드 및 전처리**"
      ],
      "metadata": {
        "id": "eR1nJAy-kYvj"
      }
    },
    {
      "cell_type": "code",
      "source": [
        "#기본적인 전처리 코드\n",
        "transform = transforms.Compose([\n",
        "                                transforms.ToTensor(), #이미지 데이터를 tensor 데이터 포맷으로 변환\n",
        "                                transforms.Resize([224,224]), #이미지의 크기를 통일\n",
        "                                transforms.Normalize(mean=(0.5,0.5,0.5), std=(0.5,0.5,0.5)) #픽셀 단위 데이터를 정규화\n",
        "])"
      ],
      "metadata": {
        "id": "roZvZvFbkdet"
      },
      "execution_count": 2,
      "outputs": []
    },
    {
      "cell_type": "code",
      "source": [
        "#데이터 로드 \n",
        "\n",
        "from keras.datasets import cifar10\n",
        "train_data = datasets.CIFAR10(root='./data', train=True, download=True, transform=transform)"
      ],
      "metadata": {
        "colab": {
          "base_uri": "https://localhost:8080/"
        },
        "id": "PVQCCdPokeQQ",
        "outputId": "e29e82ee-9718-44de-e387-1543c0fca609"
      },
      "execution_count": 3,
      "outputs": [
        {
          "output_type": "stream",
          "name": "stdout",
          "text": [
            "Files already downloaded and verified\n"
          ]
        }
      ]
    },
    {
      "cell_type": "code",
      "source": [
        "#train 데이터에서 validation 데이터를 나누어 줌\n",
        "train_idx, valid_idx = train_test_split(np.arange(len(train_data)), test_size=0.2, random_state=42, shuffle=True, stratify=train_data.targets)"
      ],
      "metadata": {
        "id": "IgT1xJkOkeOE"
      },
      "execution_count": 4,
      "outputs": []
    },
    {
      "cell_type": "markdown",
      "source": [
        "train_test_split에서 **stratify 값을 target으로 지정**해주면 각각의 class 비율을 **train / validation**로 유지 -> 성능 개선 (한 쪽에 쏠려서 분배되는 것을 방지)"
      ],
      "metadata": {
        "id": "v5eityrYDaoX"
      }
    },
    {
      "cell_type": "code",
      "source": [
        "batch_size = 32\n",
        "num_workers = int(cpu_count()/2) #cpu_count로 cpu 개수 확인"
      ],
      "metadata": {
        "id": "pBadwQLfkeLf"
      },
      "execution_count": 5,
      "outputs": []
    },
    {
      "cell_type": "code",
      "source": [
        "#data loader 생성\n",
        "#데이터 셋을 순회하며 모델에 데이터를 넣어주는 객체\n",
        "\n",
        "train_loader = DataLoader(train_data, batch_size=batch_size, sampler=SubsetRandomSampler(train_idx), num_workers=num_workers)\n",
        "valid_loader = DataLoader(train_data, batch_size=batch_size, sampler=SubsetRandomSampler(valid_idx), num_workers=num_workers)"
      ],
      "metadata": {
        "id": "uYY3k43kkeI-"
      },
      "execution_count": 6,
      "outputs": []
    },
    {
      "cell_type": "code",
      "source": [
        "#데이터 크기 확인\n",
        "train_total = len(train_idx)\n",
        "valid_total = len(valid_idx)\n",
        "\n",
        "train_batches = len(train_loader)\n",
        "valid_batches = len(valid_loader)"
      ],
      "metadata": {
        "id": "4ouKJeJTkeGq"
      },
      "execution_count": 7,
      "outputs": []
    },
    {
      "cell_type": "code",
      "source": [
        "print('total train imgs :',train_total,'/ total train batches :', train_batches)\n",
        "print('total valid imgs :',valid_total, '/ total valid batches :', valid_batches)"
      ],
      "metadata": {
        "colab": {
          "base_uri": "https://localhost:8080/"
        },
        "id": "D7Q-IYO7keD6",
        "outputId": "f53fd299-17e6-4bbc-f90f-d886b05e885a"
      },
      "execution_count": 8,
      "outputs": [
        {
          "output_type": "stream",
          "name": "stdout",
          "text": [
            "total train imgs : 40000 / total train batches : 1250\n",
            "total valid imgs : 10000 / total valid batches : 313\n"
          ]
        }
      ]
    },
    {
      "cell_type": "markdown",
      "source": [
        "## **Device 설정**\n",
        "\n",
        "Colab 런타임 > 런타임 유형변경에서 하드웨어 가속기를 **GPU**로 설정"
      ],
      "metadata": {
        "id": "IdPcSoZPFmuy"
      }
    },
    {
      "cell_type": "code",
      "source": [
        "device = 'cuda' if torch.cuda.is_available() else 'cpu'\n",
        "torch.cuda.is_available()"
      ],
      "metadata": {
        "colab": {
          "base_uri": "https://localhost:8080/"
        },
        "id": "6Sh6j0ZikeAr",
        "outputId": "7a6705f4-9f8e-4bfa-eada-8128f9c46f53"
      },
      "execution_count": 9,
      "outputs": [
        {
          "output_type": "execute_result",
          "data": {
            "text/plain": [
              "True"
            ]
          },
          "metadata": {},
          "execution_count": 9
        }
      ]
    },
    {
      "cell_type": "markdown",
      "source": [
        "## **모델 불러오기 / 파라미터 설정**\n",
        "\n",
        "**efficientnet_b3** 모델 사용\n",
        "\n",
        "**pretrained = False**로 설정해 사전 학습 모델 사용을 방지\n",
        "- pretrained = True 면 ImageNet이라는 데이터셋을 대상으로 학습된 모델이 load\n",
        "- pretrained = False 면 모델의 구조만 load 되고 모델의 가중치들은 load 되지 않음"
      ],
      "metadata": {
        "id": "B2pbpESoGhcq"
      }
    },
    {
      "cell_type": "code",
      "source": [
        "net = models.efficientnet_b3(pretrained=False)\n",
        "net.classifier"
      ],
      "metadata": {
        "colab": {
          "base_uri": "https://localhost:8080/"
        },
        "id": "hwNM_Us7kd91",
        "outputId": "23533878-5db7-4b5a-918a-778923022904"
      },
      "execution_count": 10,
      "outputs": [
        {
          "output_type": "execute_result",
          "data": {
            "text/plain": [
              "Sequential(\n",
              "  (0): Dropout(p=0.3, inplace=True)\n",
              "  (1): Linear(in_features=1536, out_features=1000, bias=True)\n",
              ")"
            ]
          },
          "metadata": {},
          "execution_count": 10
        }
      ]
    },
    {
      "cell_type": "code",
      "source": [
        "#모델의 마지막 layer의 output size와 분류할 라벨의 수를 입력\n",
        "net.fc = nn.Linear(1000,10)\n",
        "net = net.to(device)"
      ],
      "metadata": {
        "id": "iB_fRHcLkd7D"
      },
      "execution_count": 11,
      "outputs": []
    },
    {
      "cell_type": "code",
      "source": [
        "#모델 파라미터 설정\n",
        "criterion = CrossEntropyLoss() #loss 함수 지정\n",
        "optimizer = optim.Adam(params=net.parameters(), lr=0.001) #optimizer 지정\n",
        "epochs = 10"
      ],
      "metadata": {
        "id": "siqQX4AaITvQ"
      },
      "execution_count": 12,
      "outputs": []
    },
    {
      "cell_type": "markdown",
      "source": [
        "## **학습**"
      ],
      "metadata": {
        "id": "gmvCI0ecKASu"
      }
    },
    {
      "cell_type": "code",
      "source": [
        "#반복문을 이용한 학습\n",
        "for epoch in range(epochs):\n",
        "  net.train() #모델을 호출하여 학습모드로 설정\n",
        "\n",
        "  train_loss = 0\n",
        "  train_correct = 0\n",
        "  tqdm_dataset = tqdm(train_loader) #파이썬 작업 진행상황 표시\n",
        "  for x,y in tqdm_dataset:\n",
        "    x = x.to(device)\n",
        "    y = y.to(device)\n",
        "    outputs = net(x)\n",
        "    loss = criterion(outputs, y)\n",
        "\n",
        "    optimizer.zero_grad() #루프 한번 돌고나서 역전파를 하려면 zero_grad로 gradient 값들을 0으로 초기화\n",
        "    loss.backward() #오차를 역전파 계산\n",
        "    optimizer.step() #역전파 계산한 값으로 가중치를 수정\n",
        "\n",
        "    train_loss += loss.item() #train_loss의 loss를 더함\n",
        "    _, predicted = outputs.max(1) #언더바(_)를 이용해 해당 출력값은 저장하지 않음\n",
        "    #각 열(axis = 1)마다 최댓값의 위치를 예측값으로 사용(확률이 가장 높은 레이블 계산)\n",
        "    train_correct += predicted.eq(y).sum().item() #정답과 일치할 경우 train_correct를 증가\n",
        "\n",
        "    tqdm_dataset.set_postfix({ #진행 상태 바 업데이트\n",
        "        'Epoch': epoch+1,\n",
        "        'Loss':'{:06f}'.format(loss.item()),\n",
        "    })\n",
        "\n",
        "  train_loss = train_loss / train_batches\n",
        "  train_acc = train_correct / train_total\n",
        "\n",
        "  net.eval() #신경망 추론 모드로 전환\n",
        "\n",
        "  valid_loss = 0\n",
        "  valid_correct = 0\n",
        "\n",
        "  tqdm_dataset = tqdm(valid_loader)\n",
        "  with torch.no_grad(): #autograd engine를 꺼서 자동으로 gradient를 트래킹 하지 않음\n",
        "    for x,y in tqdm_dataset:\n",
        "      x = x.to(device)\n",
        "      y = y.to(device)\n",
        "\n",
        "      outputs = net(x)\n",
        "      loss = criterion(outputs, y)\n",
        "      valid_loss += loss.item()\n",
        "      _, predicted = outputs.max(1)\n",
        "      valid_correct += predicted.eq(y).sum().item()\n",
        "\n",
        "      tqdm_dataset.set_postfix({\n",
        "        'Epoch': epoch+1,\n",
        "        'Loss':'{:06f}'.format(loss.item()),\n",
        "      })\n",
        "      \n",
        "    valid_loss = valid_loss / valid_batches\n",
        "    valid_acc = valid_correct / valid_total\n",
        "    \n",
        "    print('epochs',epoch+1, 'train loss',train_loss,'train acc', train_acc, 'valid loss',valid_loss, 'valid acc',valid_acc)\n"
      ],
      "metadata": {
        "colab": {
          "base_uri": "https://localhost:8080/"
        },
        "id": "9ubmaUiDITst",
        "outputId": "b4045b96-39e9-4b8e-d7f5-cdfc176c8d38"
      },
      "execution_count": 13,
      "outputs": [
        {
          "output_type": "stream",
          "name": "stderr",
          "text": [
            "100%|██████████| 1250/1250 [07:35<00:00,  2.74it/s, Epoch=1, Loss=1.395686]\n",
            "100%|██████████| 313/313 [00:29<00:00, 10.56it/s, Epoch=1, Loss=1.193166]\n"
          ]
        },
        {
          "output_type": "stream",
          "name": "stdout",
          "text": [
            "epochs 1 train loss 1.6569146045684815 train acc 0.39385 valid loss 1.2219117373323287 valid acc 0.5663\n"
          ]
        },
        {
          "output_type": "stream",
          "name": "stderr",
          "text": [
            "100%|██████████| 1250/1250 [07:34<00:00,  2.75it/s, Epoch=2, Loss=0.638460]\n",
            "100%|██████████| 313/313 [00:29<00:00, 10.58it/s, Epoch=2, Loss=0.850322]\n"
          ]
        },
        {
          "output_type": "stream",
          "name": "stdout",
          "text": [
            "epochs 2 train loss 1.1189819053649903 train acc 0.6031 valid loss 0.946198442397407 valid acc 0.6658\n"
          ]
        },
        {
          "output_type": "stream",
          "name": "stderr",
          "text": [
            "100%|██████████| 1250/1250 [07:41<00:00,  2.71it/s, Epoch=3, Loss=0.787547]\n",
            "100%|██████████| 313/313 [00:29<00:00, 10.52it/s, Epoch=3, Loss=1.053598]\n"
          ]
        },
        {
          "output_type": "stream",
          "name": "stdout",
          "text": [
            "epochs 3 train loss 0.8573198866128922 train acc 0.70665 valid loss 0.697528100147034 valid acc 0.7587\n"
          ]
        },
        {
          "output_type": "stream",
          "name": "stderr",
          "text": [
            "100%|██████████| 1250/1250 [07:34<00:00,  2.75it/s, Epoch=4, Loss=0.391121]\n",
            "100%|██████████| 313/313 [00:29<00:00, 10.51it/s, Epoch=4, Loss=0.553822]\n"
          ]
        },
        {
          "output_type": "stream",
          "name": "stdout",
          "text": [
            "epochs 4 train loss 0.7006326461195945 train acc 0.75845 valid loss 0.6644519298983077 valid acc 0.7704\n"
          ]
        },
        {
          "output_type": "stream",
          "name": "stderr",
          "text": [
            "100%|██████████| 1250/1250 [07:34<00:00,  2.75it/s, Epoch=5, Loss=0.459912]\n",
            "100%|██████████| 313/313 [00:29<00:00, 10.46it/s, Epoch=5, Loss=0.357846]\n"
          ]
        },
        {
          "output_type": "stream",
          "name": "stdout",
          "text": [
            "epochs 5 train loss 0.5938315509259701 train acc 0.798475 valid loss 0.5243005737805138 valid acc 0.8225\n"
          ]
        },
        {
          "output_type": "stream",
          "name": "stderr",
          "text": [
            "100%|██████████| 1250/1250 [07:34<00:00,  2.75it/s, Epoch=6, Loss=0.491716]\n",
            "100%|██████████| 313/313 [00:29<00:00, 10.58it/s, Epoch=6, Loss=0.225701]\n"
          ]
        },
        {
          "output_type": "stream",
          "name": "stdout",
          "text": [
            "epochs 6 train loss 0.5113678819835186 train acc 0.8266 valid loss 0.5054182797289504 valid acc 0.8263\n"
          ]
        },
        {
          "output_type": "stream",
          "name": "stderr",
          "text": [
            "100%|██████████| 1250/1250 [07:35<00:00,  2.74it/s, Epoch=7, Loss=0.113933]\n",
            "100%|██████████| 313/313 [00:29<00:00, 10.55it/s, Epoch=7, Loss=0.340230]\n"
          ]
        },
        {
          "output_type": "stream",
          "name": "stdout",
          "text": [
            "epochs 7 train loss 0.43876717370152474 train acc 0.850775 valid loss 0.48414184926702575 valid acc 0.8392\n"
          ]
        },
        {
          "output_type": "stream",
          "name": "stderr",
          "text": [
            "100%|██████████| 1250/1250 [07:34<00:00,  2.75it/s, Epoch=8, Loss=0.497210]\n",
            "100%|██████████| 313/313 [00:29<00:00, 10.54it/s, Epoch=8, Loss=0.615363]\n"
          ]
        },
        {
          "output_type": "stream",
          "name": "stdout",
          "text": [
            "epochs 8 train loss 0.3858802217274904 train acc 0.866075 valid loss 0.4411900221063687 valid acc 0.8615\n"
          ]
        },
        {
          "output_type": "stream",
          "name": "stderr",
          "text": [
            "100%|██████████| 1250/1250 [07:34<00:00,  2.75it/s, Epoch=9, Loss=0.134051]\n",
            "100%|██████████| 313/313 [00:29<00:00, 10.52it/s, Epoch=9, Loss=0.504474]\n"
          ]
        },
        {
          "output_type": "stream",
          "name": "stdout",
          "text": [
            "epochs 9 train loss 0.33621820738315583 train acc 0.884825 valid loss 0.4093796618211384 valid acc 0.8635\n"
          ]
        },
        {
          "output_type": "stream",
          "name": "stderr",
          "text": [
            "100%|██████████| 1250/1250 [07:34<00:00,  2.75it/s, Epoch=10, Loss=0.127331]\n",
            "100%|██████████| 313/313 [00:29<00:00, 10.51it/s, Epoch=10, Loss=0.434060]"
          ]
        },
        {
          "output_type": "stream",
          "name": "stdout",
          "text": [
            "epochs 10 train loss 0.29624942491352557 train acc 0.896925 valid loss 0.4126770795343783 valid acc 0.8642\n"
          ]
        },
        {
          "output_type": "stream",
          "name": "stderr",
          "text": [
            "\n"
          ]
        }
      ]
    },
    {
      "cell_type": "markdown",
      "source": [
        "## **모델 저장 / 불러오기**"
      ],
      "metadata": {
        "id": "EKU8DzOPTciI"
      }
    },
    {
      "cell_type": "code",
      "source": [
        "#학습된 모델의 가중치를 저장\n",
        "path = './model.pth'\n",
        "torch.save(net.state_dict(),path) #state_dict는 각 계층을 매개변수 텐서로 매핑하는 Python 사전 객체"
      ],
      "metadata": {
        "id": "Iy86YPwyITqv"
      },
      "execution_count": 14,
      "outputs": []
    },
    {
      "cell_type": "code",
      "source": [
        "#저장된 모델을 불러오기\n",
        "path = './model.pth'\n",
        "net.load_state_dict(torch.load(path))"
      ],
      "metadata": {
        "colab": {
          "base_uri": "https://localhost:8080/"
        },
        "id": "ctUail-_IToJ",
        "outputId": "c1fd9809-ffd1-4e77-e9bc-9514937b59f2"
      },
      "execution_count": 15,
      "outputs": [
        {
          "output_type": "execute_result",
          "data": {
            "text/plain": [
              "<All keys matched successfully>"
            ]
          },
          "metadata": {},
          "execution_count": 15
        }
      ]
    },
    {
      "cell_type": "markdown",
      "source": [
        "## **추론**"
      ],
      "metadata": {
        "id": "Izt4x70tUP3_"
      }
    },
    {
      "cell_type": "code",
      "source": [
        "from glob import glob\n",
        "import PIL.Image\n",
        "import numpy as np\n",
        "\n",
        "from keras.datasets import cifar10\n",
        "test_images = datasets.CIFAR10(root='./data/test', train=False, download=True, transform=transform)\n",
        "test_images = np.array(test_images)"
      ],
      "metadata": {
        "colab": {
          "base_uri": "https://localhost:8080/",
          "height": 180,
          "referenced_widgets": [
            "697c7c85c4d74f5c824ff2eeabe8defa",
            "0279395619d745f18cb96b3436b13dfb",
            "877ed57498c14dbfa88d808adecb924f",
            "6cbd5dc1fdb84c8ea828a3625c79804a",
            "e16ac4d1332a4262bac62e7ad5b70f4b",
            "2fdaf134078541feb15159c1bf4e9be4",
            "d16d10355aef4e028361e08818824ac6",
            "240e111d5511421594f3cf9098aafbe3",
            "51ef1a4c8f4b4568814478c5e9e65c6e",
            "9d59f779010d46dab15434aff7db0cee",
            "019fe75780ba4242bd0fefd868dc5711"
          ]
        },
        "id": "KxUW3FABITlk",
        "outputId": "75e0ca2a-8e3a-48ed-b53e-ad9c992b5ae1"
      },
      "execution_count": 16,
      "outputs": [
        {
          "output_type": "stream",
          "name": "stdout",
          "text": [
            "Downloading https://www.cs.toronto.edu/~kriz/cifar-10-python.tar.gz to ./data/test/cifar-10-python.tar.gz\n"
          ]
        },
        {
          "output_type": "display_data",
          "data": {
            "text/plain": [
              "  0%|          | 0/170498071 [00:00<?, ?it/s]"
            ],
            "application/vnd.jupyter.widget-view+json": {
              "version_major": 2,
              "version_minor": 0,
              "model_id": "697c7c85c4d74f5c824ff2eeabe8defa"
            }
          },
          "metadata": {}
        },
        {
          "output_type": "stream",
          "name": "stdout",
          "text": [
            "Extracting ./data/test/cifar-10-python.tar.gz to ./data/test\n"
          ]
        },
        {
          "output_type": "stream",
          "name": "stderr",
          "text": [
            "/usr/local/lib/python3.7/dist-packages/ipykernel_launcher.py:7: FutureWarning: The input object of type 'Tensor' is an array-like implementing one of the corresponding protocols (`__array__`, `__array_interface__` or `__array_struct__`); but not a sequence (or 0-D). In the future, this object will be coerced as if it was first converted using `np.array(obj)`. To retain the old behaviour, you have to either modify the type 'Tensor', or assign to an empty array created with `np.empty(correct_shape, dtype=object)`.\n",
            "  import sys\n",
            "/usr/local/lib/python3.7/dist-packages/ipykernel_launcher.py:7: VisibleDeprecationWarning: Creating an ndarray from ragged nested sequences (which is a list-or-tuple of lists-or-tuples-or ndarrays with different lengths or shapes) is deprecated. If you meant to do this, you must specify 'dtype=object' when creating the ndarray.\n",
            "  import sys\n"
          ]
        }
      ]
    },
    {
      "cell_type": "code",
      "source": [
        "class CustomDataset(Dataset):\n",
        "  def __init__(self, transform):\n",
        "    self.transform = transform\n",
        "    self.img_list = test_images\n",
        "    self.img_labels = [0] * 10000\n",
        "\n",
        "  def __len__(self):\n",
        "    return len(self.img_list)\n",
        "\n",
        "  def __getitem__(self, idx):\n",
        "    return self.transform(self.img_list[idx]), self.img_labels[idx]"
      ],
      "metadata": {
        "id": "m6KfcGJZUTtR"
      },
      "execution_count": 17,
      "outputs": []
    },
    {
      "cell_type": "code",
      "source": [
        "test_set = CustomDataset(transform)"
      ],
      "metadata": {
        "id": "2DHABUk0UTrQ"
      },
      "execution_count": 17,
      "outputs": []
    },
    {
      "cell_type": "code",
      "source": [
        "test_loader = DataLoader(test_set, batch_size = batch_size, num_workers = num_workers)"
      ],
      "metadata": {
        "id": "8FMY0EHEUTpZ"
      },
      "execution_count": 17,
      "outputs": []
    },
    {
      "cell_type": "markdown",
      "source": [
        "현재 해당 대회의 데이터와 sample_submission 파일을 내려받을 수 없기에 sample_submission.csv를 채우는 코드는 생략"
      ],
      "metadata": {
        "id": "GBphvfknaX33"
      }
    },
    {
      "cell_type": "code",
      "source": [
        "import pandas as pd\n",
        "sample_submission = pd.read_csv('./data/sample_submission.csv')\n",
        "\n",
        "net.eval()\n",
        "\n",
        "batch_index = 0\n",
        "\n",
        "for i, (images, targets) in enumerate(test_loader):\n",
        "    images = images.to(device)\n",
        "    outputs = net(images)\n",
        "    batch_index = i * batch_size\n",
        "    max_vals, max_indices = torch.max(outputs, 1)\n",
        "    sample_submission.iloc[batch_index:batch_index + batch_size, 1:] = max_indices.long().cpu().numpy()[:,np.newaxis]"
      ],
      "metadata": {
        "id": "h5EmH7vBbPAd"
      },
      "execution_count": null,
      "outputs": []
    },
    {
      "cell_type": "code",
      "source": [
        "#예측된 데이터의 라벨을 숫자에서 딕셔너리 형태로 다시 복원\n",
        "labels = {0:'airplane', 1:'automobile', 2:'bird', 3:'cat', 4:'deer', 5:'dog', 6:'frog', 7:'horse', 8:'ship', 9:'truck'}\n",
        "\n",
        "sample_submission['target'] = sample_submission['target'].map(labels)"
      ],
      "metadata": {
        "id": "qBgWYQKWUTmb"
      },
      "execution_count": 17,
      "outputs": []
    },
    {
      "cell_type": "code",
      "source": [
        "sample_submission.head()"
      ],
      "metadata": {
        "id": "cmuM6YMWUTj2"
      },
      "execution_count": 17,
      "outputs": []
    },
    {
      "cell_type": "code",
      "source": [
        "sample_submission.to_csv('submit.csv',index=False)"
      ],
      "metadata": {
        "id": "UqAbqIuTUThL"
      },
      "execution_count": 17,
      "outputs": []
    }
  ]
}