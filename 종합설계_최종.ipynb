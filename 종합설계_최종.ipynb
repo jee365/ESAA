{
  "nbformat": 4,
  "nbformat_minor": 0,
  "metadata": {
    "colab": {
      "name": "종합설계 최종.ipynb",
      "provenance": [],
      "collapsed_sections": [],
      "authorship_tag": "ABX9TyMepfk9gDyX1mGsdDdRIKMw",
      "include_colab_link": true
    },
    "kernelspec": {
      "name": "python3",
      "display_name": "Python 3"
    },
    "language_info": {
      "name": "python"
    }
  },
  "cells": [
    {
      "cell_type": "markdown",
      "metadata": {
        "id": "view-in-github",
        "colab_type": "text"
      },
      "source": [
        "<a href=\"https://colab.research.google.com/github/jee365/ESAA/blob/main/%EC%A2%85%ED%95%A9%EC%84%A4%EA%B3%84_%EC%B5%9C%EC%A2%85.ipynb\" target=\"_parent\"><img src=\"https://colab.research.google.com/assets/colab-badge.svg\" alt=\"Open In Colab\"/></a>"
      ]
    },
    {
      "cell_type": "code",
      "execution_count": 1,
      "metadata": {
        "colab": {
          "base_uri": "https://localhost:8080/",
          "height": 0
        },
        "id": "JOCkalb_ZA9D",
        "outputId": "c8a37479-7d27-4e17-caf4-59333add2444"
      },
      "outputs": [
        {
          "output_type": "stream",
          "name": "stdout",
          "text": [
            "Drive already mounted at /content/gdrive; to attempt to forcibly remount, call drive.mount(\"/content/gdrive\", force_remount=True).\n"
          ]
        }
      ],
      "source": [
        "from google.colab import drive\n",
        "drive.mount('/content/gdrive')"
      ]
    },
    {
      "cell_type": "code",
      "source": [
        "!sudo apt-get install -y fonts-nanum\n",
        "!sudo fc-cache -fv\n",
        "!rm ~/.cache/matplotlib -rf"
      ],
      "metadata": {
        "colab": {
          "base_uri": "https://localhost:8080/",
          "height": 0
        },
        "id": "nUBqCyoTZRGs",
        "outputId": "696b30a8-a3d9-42af-b653-a2e77fb54cc7"
      },
      "execution_count": 2,
      "outputs": [
        {
          "output_type": "stream",
          "name": "stdout",
          "text": [
            "Reading package lists... Done\n",
            "Building dependency tree       \n",
            "Reading state information... Done\n",
            "fonts-nanum is already the newest version (20170925-1).\n",
            "The following package was automatically installed and is no longer required:\n",
            "  libnvidia-common-460\n",
            "Use 'sudo apt autoremove' to remove it.\n",
            "0 upgraded, 0 newly installed, 0 to remove and 45 not upgraded.\n",
            "/usr/share/fonts: caching, new cache contents: 0 fonts, 1 dirs\n",
            "/usr/share/fonts/truetype: caching, new cache contents: 0 fonts, 3 dirs\n",
            "/usr/share/fonts/truetype/humor-sans: caching, new cache contents: 1 fonts, 0 dirs\n",
            "/usr/share/fonts/truetype/liberation: caching, new cache contents: 16 fonts, 0 dirs\n",
            "/usr/share/fonts/truetype/nanum: caching, new cache contents: 10 fonts, 0 dirs\n",
            "/usr/local/share/fonts: caching, new cache contents: 0 fonts, 0 dirs\n",
            "/root/.local/share/fonts: skipping, no such directory\n",
            "/root/.fonts: skipping, no such directory\n",
            "/var/cache/fontconfig: cleaning cache directory\n",
            "/root/.cache/fontconfig: not cleaning non-existent cache directory\n",
            "/root/.fontconfig: not cleaning non-existent cache directory\n",
            "fc-cache: succeeded\n"
          ]
        }
      ]
    },
    {
      "cell_type": "code",
      "source": [
        "import matplotlib.pyplot as plt\n",
        "plt.rc('font', family='NanumBarunGothic') "
      ],
      "metadata": {
        "id": "4SahO-JtZREP"
      },
      "execution_count": 3,
      "outputs": []
    },
    {
      "cell_type": "code",
      "source": [
        "import numpy as np\n",
        "import pandas as pd\n",
        "\n",
        "mydata = pd.read_csv('/content/gdrive/MyDrive/Colab Notebooks/cement version4.csv')"
      ],
      "metadata": {
        "id": "ziyp7uMoZRCJ"
      },
      "execution_count": 4,
      "outputs": []
    },
    {
      "cell_type": "code",
      "source": [
        "mydata"
      ],
      "metadata": {
        "colab": {
          "base_uri": "https://localhost:8080/",
          "height": 624
        },
        "id": "ocnybyKsZQ_0",
        "outputId": "cd8cca23-62a1-4f1d-c6d7-d7dd0a2ab404"
      },
      "execution_count": 5,
      "outputs": [
        {
          "output_type": "execute_result",
          "data": {
            "text/plain": [
              "           Date   골재및석재  건설직종 평균임금현황      경유     전력    KOSPI  환율 (원/미국달러)  \\\n",
              "0    1985-01-01   20.92      39383.0   25.00  67.01   138.90       830.30   \n",
              "1    1985-02-01   20.92      39383.0   25.00  67.01   134.93       836.90   \n",
              "2    1985-03-01   21.96      39383.0   25.00  67.01   136.46       848.97   \n",
              "3    1985-04-01   21.96      39383.0   25.00  67.01   134.15       859.34   \n",
              "4    1985-05-01   21.96      39383.0   25.00  67.01   134.09       868.92   \n",
              "..          ...     ...          ...     ...    ...      ...          ...   \n",
              "443  2021-12-01  116.04     235815.0  141.97  98.94  2977.65      1183.70   \n",
              "444  2022-01-01  116.04     235815.0  156.89  98.94  2663.34      1194.01   \n",
              "445  2022-02-01  120.40     235815.0  174.21  98.94  2699.18      1198.34   \n",
              "446         NaN     NaN          NaN     NaN    NaN      NaN          NaN   \n",
              "447         NaN     NaN          NaN     NaN    NaN      NaN          NaN   \n",
              "\n",
              "     주택매매가격지수   시장금리  소비자물가등락률  아파트매매거래수     시멘트     레미콘  \n",
              "0       27.68  8.540       0.3       NaN   49.67   46.32  \n",
              "1       27.68  8.710       0.7       NaN   49.67   46.32  \n",
              "2       27.68  9.030       0.1       NaN   49.67   46.32  \n",
              "3       27.68  8.940       0.1       NaN   49.67   46.32  \n",
              "4       27.68  9.110       0.7       NaN   49.67   46.32  \n",
              "..        ...    ...       ...       ...     ...     ...  \n",
              "443     99.72  2.144       0.2   30484.0  110.52  104.22  \n",
              "444    100.00  2.416       0.6   24465.0  110.52  104.78  \n",
              "445    100.21  2.632       0.6   26232.0  114.28  104.22  \n",
              "446       NaN  2.733       0.7       NaN     NaN     NaN  \n",
              "447       NaN  3.222       0.7       NaN     NaN     NaN  \n",
              "\n",
              "[448 rows x 13 columns]"
            ],
            "text/html": [
              "\n",
              "  <div id=\"df-0bd42297-bda3-43ac-a2d6-f2b5a5ff671a\">\n",
              "    <div class=\"colab-df-container\">\n",
              "      <div>\n",
              "<style scoped>\n",
              "    .dataframe tbody tr th:only-of-type {\n",
              "        vertical-align: middle;\n",
              "    }\n",
              "\n",
              "    .dataframe tbody tr th {\n",
              "        vertical-align: top;\n",
              "    }\n",
              "\n",
              "    .dataframe thead th {\n",
              "        text-align: right;\n",
              "    }\n",
              "</style>\n",
              "<table border=\"1\" class=\"dataframe\">\n",
              "  <thead>\n",
              "    <tr style=\"text-align: right;\">\n",
              "      <th></th>\n",
              "      <th>Date</th>\n",
              "      <th>골재및석재</th>\n",
              "      <th>건설직종 평균임금현황</th>\n",
              "      <th>경유</th>\n",
              "      <th>전력</th>\n",
              "      <th>KOSPI</th>\n",
              "      <th>환율 (원/미국달러)</th>\n",
              "      <th>주택매매가격지수</th>\n",
              "      <th>시장금리</th>\n",
              "      <th>소비자물가등락률</th>\n",
              "      <th>아파트매매거래수</th>\n",
              "      <th>시멘트</th>\n",
              "      <th>레미콘</th>\n",
              "    </tr>\n",
              "  </thead>\n",
              "  <tbody>\n",
              "    <tr>\n",
              "      <th>0</th>\n",
              "      <td>1985-01-01</td>\n",
              "      <td>20.92</td>\n",
              "      <td>39383.0</td>\n",
              "      <td>25.00</td>\n",
              "      <td>67.01</td>\n",
              "      <td>138.90</td>\n",
              "      <td>830.30</td>\n",
              "      <td>27.68</td>\n",
              "      <td>8.540</td>\n",
              "      <td>0.3</td>\n",
              "      <td>NaN</td>\n",
              "      <td>49.67</td>\n",
              "      <td>46.32</td>\n",
              "    </tr>\n",
              "    <tr>\n",
              "      <th>1</th>\n",
              "      <td>1985-02-01</td>\n",
              "      <td>20.92</td>\n",
              "      <td>39383.0</td>\n",
              "      <td>25.00</td>\n",
              "      <td>67.01</td>\n",
              "      <td>134.93</td>\n",
              "      <td>836.90</td>\n",
              "      <td>27.68</td>\n",
              "      <td>8.710</td>\n",
              "      <td>0.7</td>\n",
              "      <td>NaN</td>\n",
              "      <td>49.67</td>\n",
              "      <td>46.32</td>\n",
              "    </tr>\n",
              "    <tr>\n",
              "      <th>2</th>\n",
              "      <td>1985-03-01</td>\n",
              "      <td>21.96</td>\n",
              "      <td>39383.0</td>\n",
              "      <td>25.00</td>\n",
              "      <td>67.01</td>\n",
              "      <td>136.46</td>\n",
              "      <td>848.97</td>\n",
              "      <td>27.68</td>\n",
              "      <td>9.030</td>\n",
              "      <td>0.1</td>\n",
              "      <td>NaN</td>\n",
              "      <td>49.67</td>\n",
              "      <td>46.32</td>\n",
              "    </tr>\n",
              "    <tr>\n",
              "      <th>3</th>\n",
              "      <td>1985-04-01</td>\n",
              "      <td>21.96</td>\n",
              "      <td>39383.0</td>\n",
              "      <td>25.00</td>\n",
              "      <td>67.01</td>\n",
              "      <td>134.15</td>\n",
              "      <td>859.34</td>\n",
              "      <td>27.68</td>\n",
              "      <td>8.940</td>\n",
              "      <td>0.1</td>\n",
              "      <td>NaN</td>\n",
              "      <td>49.67</td>\n",
              "      <td>46.32</td>\n",
              "    </tr>\n",
              "    <tr>\n",
              "      <th>4</th>\n",
              "      <td>1985-05-01</td>\n",
              "      <td>21.96</td>\n",
              "      <td>39383.0</td>\n",
              "      <td>25.00</td>\n",
              "      <td>67.01</td>\n",
              "      <td>134.09</td>\n",
              "      <td>868.92</td>\n",
              "      <td>27.68</td>\n",
              "      <td>9.110</td>\n",
              "      <td>0.7</td>\n",
              "      <td>NaN</td>\n",
              "      <td>49.67</td>\n",
              "      <td>46.32</td>\n",
              "    </tr>\n",
              "    <tr>\n",
              "      <th>...</th>\n",
              "      <td>...</td>\n",
              "      <td>...</td>\n",
              "      <td>...</td>\n",
              "      <td>...</td>\n",
              "      <td>...</td>\n",
              "      <td>...</td>\n",
              "      <td>...</td>\n",
              "      <td>...</td>\n",
              "      <td>...</td>\n",
              "      <td>...</td>\n",
              "      <td>...</td>\n",
              "      <td>...</td>\n",
              "      <td>...</td>\n",
              "    </tr>\n",
              "    <tr>\n",
              "      <th>443</th>\n",
              "      <td>2021-12-01</td>\n",
              "      <td>116.04</td>\n",
              "      <td>235815.0</td>\n",
              "      <td>141.97</td>\n",
              "      <td>98.94</td>\n",
              "      <td>2977.65</td>\n",
              "      <td>1183.70</td>\n",
              "      <td>99.72</td>\n",
              "      <td>2.144</td>\n",
              "      <td>0.2</td>\n",
              "      <td>30484.0</td>\n",
              "      <td>110.52</td>\n",
              "      <td>104.22</td>\n",
              "    </tr>\n",
              "    <tr>\n",
              "      <th>444</th>\n",
              "      <td>2022-01-01</td>\n",
              "      <td>116.04</td>\n",
              "      <td>235815.0</td>\n",
              "      <td>156.89</td>\n",
              "      <td>98.94</td>\n",
              "      <td>2663.34</td>\n",
              "      <td>1194.01</td>\n",
              "      <td>100.00</td>\n",
              "      <td>2.416</td>\n",
              "      <td>0.6</td>\n",
              "      <td>24465.0</td>\n",
              "      <td>110.52</td>\n",
              "      <td>104.78</td>\n",
              "    </tr>\n",
              "    <tr>\n",
              "      <th>445</th>\n",
              "      <td>2022-02-01</td>\n",
              "      <td>120.40</td>\n",
              "      <td>235815.0</td>\n",
              "      <td>174.21</td>\n",
              "      <td>98.94</td>\n",
              "      <td>2699.18</td>\n",
              "      <td>1198.34</td>\n",
              "      <td>100.21</td>\n",
              "      <td>2.632</td>\n",
              "      <td>0.6</td>\n",
              "      <td>26232.0</td>\n",
              "      <td>114.28</td>\n",
              "      <td>104.22</td>\n",
              "    </tr>\n",
              "    <tr>\n",
              "      <th>446</th>\n",
              "      <td>NaN</td>\n",
              "      <td>NaN</td>\n",
              "      <td>NaN</td>\n",
              "      <td>NaN</td>\n",
              "      <td>NaN</td>\n",
              "      <td>NaN</td>\n",
              "      <td>NaN</td>\n",
              "      <td>NaN</td>\n",
              "      <td>2.733</td>\n",
              "      <td>0.7</td>\n",
              "      <td>NaN</td>\n",
              "      <td>NaN</td>\n",
              "      <td>NaN</td>\n",
              "    </tr>\n",
              "    <tr>\n",
              "      <th>447</th>\n",
              "      <td>NaN</td>\n",
              "      <td>NaN</td>\n",
              "      <td>NaN</td>\n",
              "      <td>NaN</td>\n",
              "      <td>NaN</td>\n",
              "      <td>NaN</td>\n",
              "      <td>NaN</td>\n",
              "      <td>NaN</td>\n",
              "      <td>3.222</td>\n",
              "      <td>0.7</td>\n",
              "      <td>NaN</td>\n",
              "      <td>NaN</td>\n",
              "      <td>NaN</td>\n",
              "    </tr>\n",
              "  </tbody>\n",
              "</table>\n",
              "<p>448 rows × 13 columns</p>\n",
              "</div>\n",
              "      <button class=\"colab-df-convert\" onclick=\"convertToInteractive('df-0bd42297-bda3-43ac-a2d6-f2b5a5ff671a')\"\n",
              "              title=\"Convert this dataframe to an interactive table.\"\n",
              "              style=\"display:none;\">\n",
              "        \n",
              "  <svg xmlns=\"http://www.w3.org/2000/svg\" height=\"24px\"viewBox=\"0 0 24 24\"\n",
              "       width=\"24px\">\n",
              "    <path d=\"M0 0h24v24H0V0z\" fill=\"none\"/>\n",
              "    <path d=\"M18.56 5.44l.94 2.06.94-2.06 2.06-.94-2.06-.94-.94-2.06-.94 2.06-2.06.94zm-11 1L8.5 8.5l.94-2.06 2.06-.94-2.06-.94L8.5 2.5l-.94 2.06-2.06.94zm10 10l.94 2.06.94-2.06 2.06-.94-2.06-.94-.94-2.06-.94 2.06-2.06.94z\"/><path d=\"M17.41 7.96l-1.37-1.37c-.4-.4-.92-.59-1.43-.59-.52 0-1.04.2-1.43.59L10.3 9.45l-7.72 7.72c-.78.78-.78 2.05 0 2.83L4 21.41c.39.39.9.59 1.41.59.51 0 1.02-.2 1.41-.59l7.78-7.78 2.81-2.81c.8-.78.8-2.07 0-2.86zM5.41 20L4 18.59l7.72-7.72 1.47 1.35L5.41 20z\"/>\n",
              "  </svg>\n",
              "      </button>\n",
              "      \n",
              "  <style>\n",
              "    .colab-df-container {\n",
              "      display:flex;\n",
              "      flex-wrap:wrap;\n",
              "      gap: 12px;\n",
              "    }\n",
              "\n",
              "    .colab-df-convert {\n",
              "      background-color: #E8F0FE;\n",
              "      border: none;\n",
              "      border-radius: 50%;\n",
              "      cursor: pointer;\n",
              "      display: none;\n",
              "      fill: #1967D2;\n",
              "      height: 32px;\n",
              "      padding: 0 0 0 0;\n",
              "      width: 32px;\n",
              "    }\n",
              "\n",
              "    .colab-df-convert:hover {\n",
              "      background-color: #E2EBFA;\n",
              "      box-shadow: 0px 1px 2px rgba(60, 64, 67, 0.3), 0px 1px 3px 1px rgba(60, 64, 67, 0.15);\n",
              "      fill: #174EA6;\n",
              "    }\n",
              "\n",
              "    [theme=dark] .colab-df-convert {\n",
              "      background-color: #3B4455;\n",
              "      fill: #D2E3FC;\n",
              "    }\n",
              "\n",
              "    [theme=dark] .colab-df-convert:hover {\n",
              "      background-color: #434B5C;\n",
              "      box-shadow: 0px 1px 3px 1px rgba(0, 0, 0, 0.15);\n",
              "      filter: drop-shadow(0px 1px 2px rgba(0, 0, 0, 0.3));\n",
              "      fill: #FFFFFF;\n",
              "    }\n",
              "  </style>\n",
              "\n",
              "      <script>\n",
              "        const buttonEl =\n",
              "          document.querySelector('#df-0bd42297-bda3-43ac-a2d6-f2b5a5ff671a button.colab-df-convert');\n",
              "        buttonEl.style.display =\n",
              "          google.colab.kernel.accessAllowed ? 'block' : 'none';\n",
              "\n",
              "        async function convertToInteractive(key) {\n",
              "          const element = document.querySelector('#df-0bd42297-bda3-43ac-a2d6-f2b5a5ff671a');\n",
              "          const dataTable =\n",
              "            await google.colab.kernel.invokeFunction('convertToInteractive',\n",
              "                                                     [key], {});\n",
              "          if (!dataTable) return;\n",
              "\n",
              "          const docLinkHtml = 'Like what you see? Visit the ' +\n",
              "            '<a target=\"_blank\" href=https://colab.research.google.com/notebooks/data_table.ipynb>data table notebook</a>'\n",
              "            + ' to learn more about interactive tables.';\n",
              "          element.innerHTML = '';\n",
              "          dataTable['output_type'] = 'display_data';\n",
              "          await google.colab.output.renderOutput(dataTable, element);\n",
              "          const docLink = document.createElement('div');\n",
              "          docLink.innerHTML = docLinkHtml;\n",
              "          element.appendChild(docLink);\n",
              "        }\n",
              "      </script>\n",
              "    </div>\n",
              "  </div>\n",
              "  "
            ]
          },
          "metadata": {},
          "execution_count": 5
        }
      ]
    },
    {
      "cell_type": "code",
      "source": [
        "mydata['date_dt'] = pd.to_datetime(mydata['Date'])\n",
        "mydata['year']=mydata['date_dt'].dt.year\n",
        "mydata['month']=mydata['date_dt'].dt.month\n",
        "mydata = mydata[:446]\n",
        "\n",
        "mydata"
      ],
      "metadata": {
        "colab": {
          "base_uri": "https://localhost:8080/",
          "height": 658
        },
        "id": "_mKTdREtZQ9r",
        "outputId": "337e8013-7246-4a60-8e28-d28450424451"
      },
      "execution_count": 6,
      "outputs": [
        {
          "output_type": "execute_result",
          "data": {
            "text/plain": [
              "           Date   골재및석재  건설직종 평균임금현황      경유     전력    KOSPI  환율 (원/미국달러)  \\\n",
              "0    1985-01-01   20.92      39383.0   25.00  67.01   138.90       830.30   \n",
              "1    1985-02-01   20.92      39383.0   25.00  67.01   134.93       836.90   \n",
              "2    1985-03-01   21.96      39383.0   25.00  67.01   136.46       848.97   \n",
              "3    1985-04-01   21.96      39383.0   25.00  67.01   134.15       859.34   \n",
              "4    1985-05-01   21.96      39383.0   25.00  67.01   134.09       868.92   \n",
              "..          ...     ...          ...     ...    ...      ...          ...   \n",
              "441  2021-10-01  116.04     235815.0  152.76  98.94  2970.68      1182.82   \n",
              "442  2021-11-01  116.04     235815.0  157.56  98.94  2839.01      1182.91   \n",
              "443  2021-12-01  116.04     235815.0  141.97  98.94  2977.65      1183.70   \n",
              "444  2022-01-01  116.04     235815.0  156.89  98.94  2663.34      1194.01   \n",
              "445  2022-02-01  120.40     235815.0  174.21  98.94  2699.18      1198.34   \n",
              "\n",
              "     주택매매가격지수   시장금리  소비자물가등락률  아파트매매거래수     시멘트     레미콘    date_dt    year  \\\n",
              "0       27.68  8.540       0.3       NaN   49.67   46.32 1985-01-01  1985.0   \n",
              "1       27.68  8.710       0.7       NaN   49.67   46.32 1985-02-01  1985.0   \n",
              "2       27.68  9.030       0.1       NaN   49.67   46.32 1985-03-01  1985.0   \n",
              "3       27.68  8.940       0.1       NaN   49.67   46.32 1985-04-01  1985.0   \n",
              "4       27.68  9.110       0.7       NaN   49.67   46.32 1985-05-01  1985.0   \n",
              "..        ...    ...       ...       ...     ...     ...        ...     ...   \n",
              "441     98.14  2.256       0.2   48796.0  110.22  103.56 2021-10-01  2021.0   \n",
              "442     99.22  2.310       0.5   41141.0  110.22  103.96 2021-11-01  2021.0   \n",
              "443     99.72  2.144       0.2   30484.0  110.52  104.22 2021-12-01  2021.0   \n",
              "444    100.00  2.416       0.6   24465.0  110.52  104.78 2022-01-01  2022.0   \n",
              "445    100.21  2.632       0.6   26232.0  114.28  104.22 2022-02-01  2022.0   \n",
              "\n",
              "     month  \n",
              "0      1.0  \n",
              "1      2.0  \n",
              "2      3.0  \n",
              "3      4.0  \n",
              "4      5.0  \n",
              "..     ...  \n",
              "441   10.0  \n",
              "442   11.0  \n",
              "443   12.0  \n",
              "444    1.0  \n",
              "445    2.0  \n",
              "\n",
              "[446 rows x 16 columns]"
            ],
            "text/html": [
              "\n",
              "  <div id=\"df-0221483d-75cf-48e6-9511-f2fd25aa91bd\">\n",
              "    <div class=\"colab-df-container\">\n",
              "      <div>\n",
              "<style scoped>\n",
              "    .dataframe tbody tr th:only-of-type {\n",
              "        vertical-align: middle;\n",
              "    }\n",
              "\n",
              "    .dataframe tbody tr th {\n",
              "        vertical-align: top;\n",
              "    }\n",
              "\n",
              "    .dataframe thead th {\n",
              "        text-align: right;\n",
              "    }\n",
              "</style>\n",
              "<table border=\"1\" class=\"dataframe\">\n",
              "  <thead>\n",
              "    <tr style=\"text-align: right;\">\n",
              "      <th></th>\n",
              "      <th>Date</th>\n",
              "      <th>골재및석재</th>\n",
              "      <th>건설직종 평균임금현황</th>\n",
              "      <th>경유</th>\n",
              "      <th>전력</th>\n",
              "      <th>KOSPI</th>\n",
              "      <th>환율 (원/미국달러)</th>\n",
              "      <th>주택매매가격지수</th>\n",
              "      <th>시장금리</th>\n",
              "      <th>소비자물가등락률</th>\n",
              "      <th>아파트매매거래수</th>\n",
              "      <th>시멘트</th>\n",
              "      <th>레미콘</th>\n",
              "      <th>date_dt</th>\n",
              "      <th>year</th>\n",
              "      <th>month</th>\n",
              "    </tr>\n",
              "  </thead>\n",
              "  <tbody>\n",
              "    <tr>\n",
              "      <th>0</th>\n",
              "      <td>1985-01-01</td>\n",
              "      <td>20.92</td>\n",
              "      <td>39383.0</td>\n",
              "      <td>25.00</td>\n",
              "      <td>67.01</td>\n",
              "      <td>138.90</td>\n",
              "      <td>830.30</td>\n",
              "      <td>27.68</td>\n",
              "      <td>8.540</td>\n",
              "      <td>0.3</td>\n",
              "      <td>NaN</td>\n",
              "      <td>49.67</td>\n",
              "      <td>46.32</td>\n",
              "      <td>1985-01-01</td>\n",
              "      <td>1985.0</td>\n",
              "      <td>1.0</td>\n",
              "    </tr>\n",
              "    <tr>\n",
              "      <th>1</th>\n",
              "      <td>1985-02-01</td>\n",
              "      <td>20.92</td>\n",
              "      <td>39383.0</td>\n",
              "      <td>25.00</td>\n",
              "      <td>67.01</td>\n",
              "      <td>134.93</td>\n",
              "      <td>836.90</td>\n",
              "      <td>27.68</td>\n",
              "      <td>8.710</td>\n",
              "      <td>0.7</td>\n",
              "      <td>NaN</td>\n",
              "      <td>49.67</td>\n",
              "      <td>46.32</td>\n",
              "      <td>1985-02-01</td>\n",
              "      <td>1985.0</td>\n",
              "      <td>2.0</td>\n",
              "    </tr>\n",
              "    <tr>\n",
              "      <th>2</th>\n",
              "      <td>1985-03-01</td>\n",
              "      <td>21.96</td>\n",
              "      <td>39383.0</td>\n",
              "      <td>25.00</td>\n",
              "      <td>67.01</td>\n",
              "      <td>136.46</td>\n",
              "      <td>848.97</td>\n",
              "      <td>27.68</td>\n",
              "      <td>9.030</td>\n",
              "      <td>0.1</td>\n",
              "      <td>NaN</td>\n",
              "      <td>49.67</td>\n",
              "      <td>46.32</td>\n",
              "      <td>1985-03-01</td>\n",
              "      <td>1985.0</td>\n",
              "      <td>3.0</td>\n",
              "    </tr>\n",
              "    <tr>\n",
              "      <th>3</th>\n",
              "      <td>1985-04-01</td>\n",
              "      <td>21.96</td>\n",
              "      <td>39383.0</td>\n",
              "      <td>25.00</td>\n",
              "      <td>67.01</td>\n",
              "      <td>134.15</td>\n",
              "      <td>859.34</td>\n",
              "      <td>27.68</td>\n",
              "      <td>8.940</td>\n",
              "      <td>0.1</td>\n",
              "      <td>NaN</td>\n",
              "      <td>49.67</td>\n",
              "      <td>46.32</td>\n",
              "      <td>1985-04-01</td>\n",
              "      <td>1985.0</td>\n",
              "      <td>4.0</td>\n",
              "    </tr>\n",
              "    <tr>\n",
              "      <th>4</th>\n",
              "      <td>1985-05-01</td>\n",
              "      <td>21.96</td>\n",
              "      <td>39383.0</td>\n",
              "      <td>25.00</td>\n",
              "      <td>67.01</td>\n",
              "      <td>134.09</td>\n",
              "      <td>868.92</td>\n",
              "      <td>27.68</td>\n",
              "      <td>9.110</td>\n",
              "      <td>0.7</td>\n",
              "      <td>NaN</td>\n",
              "      <td>49.67</td>\n",
              "      <td>46.32</td>\n",
              "      <td>1985-05-01</td>\n",
              "      <td>1985.0</td>\n",
              "      <td>5.0</td>\n",
              "    </tr>\n",
              "    <tr>\n",
              "      <th>...</th>\n",
              "      <td>...</td>\n",
              "      <td>...</td>\n",
              "      <td>...</td>\n",
              "      <td>...</td>\n",
              "      <td>...</td>\n",
              "      <td>...</td>\n",
              "      <td>...</td>\n",
              "      <td>...</td>\n",
              "      <td>...</td>\n",
              "      <td>...</td>\n",
              "      <td>...</td>\n",
              "      <td>...</td>\n",
              "      <td>...</td>\n",
              "      <td>...</td>\n",
              "      <td>...</td>\n",
              "      <td>...</td>\n",
              "    </tr>\n",
              "    <tr>\n",
              "      <th>441</th>\n",
              "      <td>2021-10-01</td>\n",
              "      <td>116.04</td>\n",
              "      <td>235815.0</td>\n",
              "      <td>152.76</td>\n",
              "      <td>98.94</td>\n",
              "      <td>2970.68</td>\n",
              "      <td>1182.82</td>\n",
              "      <td>98.14</td>\n",
              "      <td>2.256</td>\n",
              "      <td>0.2</td>\n",
              "      <td>48796.0</td>\n",
              "      <td>110.22</td>\n",
              "      <td>103.56</td>\n",
              "      <td>2021-10-01</td>\n",
              "      <td>2021.0</td>\n",
              "      <td>10.0</td>\n",
              "    </tr>\n",
              "    <tr>\n",
              "      <th>442</th>\n",
              "      <td>2021-11-01</td>\n",
              "      <td>116.04</td>\n",
              "      <td>235815.0</td>\n",
              "      <td>157.56</td>\n",
              "      <td>98.94</td>\n",
              "      <td>2839.01</td>\n",
              "      <td>1182.91</td>\n",
              "      <td>99.22</td>\n",
              "      <td>2.310</td>\n",
              "      <td>0.5</td>\n",
              "      <td>41141.0</td>\n",
              "      <td>110.22</td>\n",
              "      <td>103.96</td>\n",
              "      <td>2021-11-01</td>\n",
              "      <td>2021.0</td>\n",
              "      <td>11.0</td>\n",
              "    </tr>\n",
              "    <tr>\n",
              "      <th>443</th>\n",
              "      <td>2021-12-01</td>\n",
              "      <td>116.04</td>\n",
              "      <td>235815.0</td>\n",
              "      <td>141.97</td>\n",
              "      <td>98.94</td>\n",
              "      <td>2977.65</td>\n",
              "      <td>1183.70</td>\n",
              "      <td>99.72</td>\n",
              "      <td>2.144</td>\n",
              "      <td>0.2</td>\n",
              "      <td>30484.0</td>\n",
              "      <td>110.52</td>\n",
              "      <td>104.22</td>\n",
              "      <td>2021-12-01</td>\n",
              "      <td>2021.0</td>\n",
              "      <td>12.0</td>\n",
              "    </tr>\n",
              "    <tr>\n",
              "      <th>444</th>\n",
              "      <td>2022-01-01</td>\n",
              "      <td>116.04</td>\n",
              "      <td>235815.0</td>\n",
              "      <td>156.89</td>\n",
              "      <td>98.94</td>\n",
              "      <td>2663.34</td>\n",
              "      <td>1194.01</td>\n",
              "      <td>100.00</td>\n",
              "      <td>2.416</td>\n",
              "      <td>0.6</td>\n",
              "      <td>24465.0</td>\n",
              "      <td>110.52</td>\n",
              "      <td>104.78</td>\n",
              "      <td>2022-01-01</td>\n",
              "      <td>2022.0</td>\n",
              "      <td>1.0</td>\n",
              "    </tr>\n",
              "    <tr>\n",
              "      <th>445</th>\n",
              "      <td>2022-02-01</td>\n",
              "      <td>120.40</td>\n",
              "      <td>235815.0</td>\n",
              "      <td>174.21</td>\n",
              "      <td>98.94</td>\n",
              "      <td>2699.18</td>\n",
              "      <td>1198.34</td>\n",
              "      <td>100.21</td>\n",
              "      <td>2.632</td>\n",
              "      <td>0.6</td>\n",
              "      <td>26232.0</td>\n",
              "      <td>114.28</td>\n",
              "      <td>104.22</td>\n",
              "      <td>2022-02-01</td>\n",
              "      <td>2022.0</td>\n",
              "      <td>2.0</td>\n",
              "    </tr>\n",
              "  </tbody>\n",
              "</table>\n",
              "<p>446 rows × 16 columns</p>\n",
              "</div>\n",
              "      <button class=\"colab-df-convert\" onclick=\"convertToInteractive('df-0221483d-75cf-48e6-9511-f2fd25aa91bd')\"\n",
              "              title=\"Convert this dataframe to an interactive table.\"\n",
              "              style=\"display:none;\">\n",
              "        \n",
              "  <svg xmlns=\"http://www.w3.org/2000/svg\" height=\"24px\"viewBox=\"0 0 24 24\"\n",
              "       width=\"24px\">\n",
              "    <path d=\"M0 0h24v24H0V0z\" fill=\"none\"/>\n",
              "    <path d=\"M18.56 5.44l.94 2.06.94-2.06 2.06-.94-2.06-.94-.94-2.06-.94 2.06-2.06.94zm-11 1L8.5 8.5l.94-2.06 2.06-.94-2.06-.94L8.5 2.5l-.94 2.06-2.06.94zm10 10l.94 2.06.94-2.06 2.06-.94-2.06-.94-.94-2.06-.94 2.06-2.06.94z\"/><path d=\"M17.41 7.96l-1.37-1.37c-.4-.4-.92-.59-1.43-.59-.52 0-1.04.2-1.43.59L10.3 9.45l-7.72 7.72c-.78.78-.78 2.05 0 2.83L4 21.41c.39.39.9.59 1.41.59.51 0 1.02-.2 1.41-.59l7.78-7.78 2.81-2.81c.8-.78.8-2.07 0-2.86zM5.41 20L4 18.59l7.72-7.72 1.47 1.35L5.41 20z\"/>\n",
              "  </svg>\n",
              "      </button>\n",
              "      \n",
              "  <style>\n",
              "    .colab-df-container {\n",
              "      display:flex;\n",
              "      flex-wrap:wrap;\n",
              "      gap: 12px;\n",
              "    }\n",
              "\n",
              "    .colab-df-convert {\n",
              "      background-color: #E8F0FE;\n",
              "      border: none;\n",
              "      border-radius: 50%;\n",
              "      cursor: pointer;\n",
              "      display: none;\n",
              "      fill: #1967D2;\n",
              "      height: 32px;\n",
              "      padding: 0 0 0 0;\n",
              "      width: 32px;\n",
              "    }\n",
              "\n",
              "    .colab-df-convert:hover {\n",
              "      background-color: #E2EBFA;\n",
              "      box-shadow: 0px 1px 2px rgba(60, 64, 67, 0.3), 0px 1px 3px 1px rgba(60, 64, 67, 0.15);\n",
              "      fill: #174EA6;\n",
              "    }\n",
              "\n",
              "    [theme=dark] .colab-df-convert {\n",
              "      background-color: #3B4455;\n",
              "      fill: #D2E3FC;\n",
              "    }\n",
              "\n",
              "    [theme=dark] .colab-df-convert:hover {\n",
              "      background-color: #434B5C;\n",
              "      box-shadow: 0px 1px 3px 1px rgba(0, 0, 0, 0.15);\n",
              "      filter: drop-shadow(0px 1px 2px rgba(0, 0, 0, 0.3));\n",
              "      fill: #FFFFFF;\n",
              "    }\n",
              "  </style>\n",
              "\n",
              "      <script>\n",
              "        const buttonEl =\n",
              "          document.querySelector('#df-0221483d-75cf-48e6-9511-f2fd25aa91bd button.colab-df-convert');\n",
              "        buttonEl.style.display =\n",
              "          google.colab.kernel.accessAllowed ? 'block' : 'none';\n",
              "\n",
              "        async function convertToInteractive(key) {\n",
              "          const element = document.querySelector('#df-0221483d-75cf-48e6-9511-f2fd25aa91bd');\n",
              "          const dataTable =\n",
              "            await google.colab.kernel.invokeFunction('convertToInteractive',\n",
              "                                                     [key], {});\n",
              "          if (!dataTable) return;\n",
              "\n",
              "          const docLinkHtml = 'Like what you see? Visit the ' +\n",
              "            '<a target=\"_blank\" href=https://colab.research.google.com/notebooks/data_table.ipynb>data table notebook</a>'\n",
              "            + ' to learn more about interactive tables.';\n",
              "          element.innerHTML = '';\n",
              "          dataTable['output_type'] = 'display_data';\n",
              "          await google.colab.output.renderOutput(dataTable, element);\n",
              "          const docLink = document.createElement('div');\n",
              "          docLink.innerHTML = docLinkHtml;\n",
              "          element.appendChild(docLink);\n",
              "        }\n",
              "      </script>\n",
              "    </div>\n",
              "  </div>\n",
              "  "
            ]
          },
          "metadata": {},
          "execution_count": 6
        }
      ]
    },
    {
      "cell_type": "code",
      "source": [
        "mydata.info()"
      ],
      "metadata": {
        "colab": {
          "base_uri": "https://localhost:8080/",
          "height": 0
        },
        "id": "T4mYSgy0ZQ7M",
        "outputId": "6f3449e3-db08-4723-b5e5-9dfda4883550"
      },
      "execution_count": 7,
      "outputs": [
        {
          "output_type": "stream",
          "name": "stdout",
          "text": [
            "<class 'pandas.core.frame.DataFrame'>\n",
            "RangeIndex: 446 entries, 0 to 445\n",
            "Data columns (total 16 columns):\n",
            " #   Column       Non-Null Count  Dtype         \n",
            "---  ------       --------------  -----         \n",
            " 0   Date         446 non-null    object        \n",
            " 1   골재및석재        446 non-null    float64       \n",
            " 2   건설직종 평균임금현황  446 non-null    float64       \n",
            " 3   경유           446 non-null    float64       \n",
            " 4   전력           446 non-null    float64       \n",
            " 5   KOSPI        446 non-null    float64       \n",
            " 6   환율 (원/미국달러)  446 non-null    float64       \n",
            " 7   주택매매가격지수     446 non-null    float64       \n",
            " 8   시장금리         446 non-null    float64       \n",
            " 9   소비자물가등락률     446 non-null    float64       \n",
            " 10  아파트매매거래수     194 non-null    float64       \n",
            " 11  시멘트          446 non-null    float64       \n",
            " 12  레미콘          446 non-null    float64       \n",
            " 13  date_dt      446 non-null    datetime64[ns]\n",
            " 14  year         446 non-null    float64       \n",
            " 15  month        446 non-null    float64       \n",
            "dtypes: datetime64[ns](1), float64(14), object(1)\n",
            "memory usage: 55.9+ KB\n"
          ]
        }
      ]
    },
    {
      "cell_type": "code",
      "source": [
        "import matplotlib.pyplot as plt\n",
        "import seaborn as sns\n",
        "\n",
        "plt.figure(figsize=(20,5))\n",
        "plt.plot(mydata['date_dt'], mydata['시멘트'], color='grey')\n",
        "plt.xlabel('Date')\n",
        "plt.ylabel('시멘트 가격')\n",
        "plt.title('시멘트 가격 변동')\n",
        "\n",
        "plt.grid()\n",
        "plt.show()"
      ],
      "metadata": {
        "colab": {
          "base_uri": "https://localhost:8080/",
          "height": 349
        },
        "id": "tLUQY_CeZQ5G",
        "outputId": "1fc2f5b4-eceb-47d4-fe41-4039738aaca0"
      },
      "execution_count": 8,
      "outputs": [
        {
          "output_type": "display_data",
          "data": {
            "text/plain": [
              "<Figure size 1440x360 with 1 Axes>"
            ],
            "image/png": "[encoded data removed]"
          },
          "metadata": {
            "needs_background": "light"
          }
        }
      ]
    },
    {
      "cell_type": "code",
      "source": [
        "import matplotlib.pyplot as plt\n",
        "import seaborn as sns\n",
        "\n",
        "plt.figure(figsize=(20,5))\n",
        "plt.plot(mydata['date_dt'], mydata['레미콘'], color='grey')\n",
        "plt.xlabel('Date')\n",
        "plt.ylabel('레미콘 가격')\n",
        "plt.title('레미콘 가격 변동')\n",
        "\n",
        "plt.grid()\n",
        "plt.show()"
      ],
      "metadata": {
        "colab": {
          "base_uri": "https://localhost:8080/",
          "height": 349
        },
        "id": "MX8ZJUyzZQ2t",
        "outputId": "186f66ee-ba00-446b-9c53-fd92f2a9ed8f"
      },
      "execution_count": 9,
      "outputs": [
        {
          "output_type": "display_data",
          "data": {
            "text/plain": [
              "<Figure size 1440x360 with 1 Axes>"
            ],
            "image/png": "[encoded data removed]"
          },
          "metadata": {
            "needs_background": "light"
          }
        }
      ]
    },
    {
      "cell_type": "code",
      "source": [
        "mydata.columns"
      ],
      "metadata": {
        "colab": {
          "base_uri": "https://localhost:8080/",
          "height": 0
        },
        "id": "NLW7TQ8eaE1V",
        "outputId": "630c5771-a83b-490f-cbc2-36e180e496a0"
      },
      "execution_count": 10,
      "outputs": [
        {
          "output_type": "execute_result",
          "data": {
            "text/plain": [
              "Index(['Date', '골재및석재', '건설직종 평균임금현황', '경유', '전력', 'KOSPI', '환율 (원/미국달러)',\n",
              "       '주택매매가격지수', '시장금리', '소비자물가등락률', '아파트매매거래수', '시멘트', '레미콘', 'date_dt',\n",
              "       'year', 'month'],\n",
              "      dtype='object')"
            ]
          },
          "metadata": {},
          "execution_count": 10
        }
      ]
    },
    {
      "cell_type": "markdown",
      "source": [
        "#시멘트 가격 분석\n",
        "\n",
        "### 전체 데이터로 Multiple Linear Regression"
      ],
      "metadata": {
        "id": "fnwxWqkpbVM7"
      }
    },
    {
      "cell_type": "code",
      "source": [
        "X = mydata[['골재및석재', '건설직종 평균임금현황', '경유', '전력', 'KOSPI', '환율 (원/미국달러)', '주택매매가격지수', '시장금리']]\n",
        "y1 = mydata[['시멘트']]\n",
        "y2 = mydata[['레미콘']]"
      ],
      "metadata": {
        "id": "RHe7sVhHaCS9"
      },
      "execution_count": 11,
      "outputs": []
    },
    {
      "cell_type": "code",
      "source": [
        "from sklearn.linear_model import LinearRegression\n",
        "lr_reg = LinearRegression()\n",
        "lr_reg.fit(X,y1)\n",
        "lr_pred = lr_reg.predict(X)"
      ],
      "metadata": {
        "id": "SYkO884aaCQh"
      },
      "execution_count": 12,
      "outputs": []
    },
    {
      "cell_type": "code",
      "source": [
        "import statsmodels.api as sm\n",
        "X = sm.add_constant(X)\n",
        "model = sm.OLS(y1,X).fit()\n",
        "model.summary()"
      ],
      "metadata": {
        "colab": {
          "base_uri": "https://localhost:8080/",
          "height": 706
        },
        "id": "Uq6mbvBsaCN8",
        "outputId": "ce3834d3-87bf-4c4c-8d79-b9404f5b69e5"
      },
      "execution_count": 13,
      "outputs": [
        {
          "output_type": "stream",
          "name": "stderr",
          "text": [
            "/usr/local/lib/python3.7/dist-packages/statsmodels/tools/_testing.py:19: FutureWarning: pandas.util.testing is deprecated. Use the functions in the public API at pandas.testing instead.\n",
            "  import pandas.util.testing as tm\n",
            "/usr/local/lib/python3.7/dist-packages/statsmodels/tsa/tsatools.py:117: FutureWarning: In a future version of pandas all arguments of concat except for the argument 'objs' will be keyword-only\n",
            "  x = pd.concat(x[::order], 1)\n"
          ]
        },
        {
          "output_type": "execute_result",
          "data": {
            "text/plain": [
              "<class 'statsmodels.iolib.summary.Summary'>\n",
              "\"\"\"\n",
              "                            OLS Regression Results                            \n",
              "==============================================================================\n",
              "Dep. Variable:                    시멘트   R-squared:                       0.971\n",
              "Model:                            OLS   Adj. R-squared:                  0.970\n",
              "Method:                 Least Squares   F-statistic:                     1803.\n",
              "Date:                Fri, 03 Jun 2022   Prob (F-statistic):               0.00\n",
              "Time:                        05:51:27   Log-Likelihood:                -1174.3\n",
              "No. Observations:                 446   AIC:                             2367.\n",
              "Df Residuals:                     437   BIC:                             2404.\n",
              "Df Model:                           8                                         \n",
              "Covariance Type:            nonrobust                                         \n",
              "===============================================================================\n",
              "                  coef    std err          t      P>|t|      [0.025      0.975]\n",
              "-------------------------------------------------------------------------------\n",
              "const          -0.3360      3.189     -0.105      0.916      -6.605       5.933\n",
              "골재및석재          -0.0394      0.027     -1.475      0.141      -0.092       0.013\n",
              "건설직종 평균임금현황 -7.244e-05   1.77e-05     -4.101      0.000      -0.000   -3.77e-05\n",
              "경유              0.0074      0.008      0.988      0.324      -0.007       0.022\n",
              "전력              0.4904      0.035     14.094      0.000       0.422       0.559\n",
              "KOSPI          -0.0005      0.001     -0.568      0.570      -0.002       0.001\n",
              "환율 (원/미국달러)     0.0149      0.001     10.821      0.000       0.012       0.018\n",
              "주택매매가격지수        0.6954      0.050     14.027      0.000       0.598       0.793\n",
              "시장금리           -0.6839      0.093     -7.344      0.000      -0.867      -0.501\n",
              "==============================================================================\n",
              "Omnibus:                       23.314   Durbin-Watson:                   0.146\n",
              "Prob(Omnibus):                  0.000   Jarque-Bera (JB):               29.234\n",
              "Skew:                          -0.466   Prob(JB):                     4.49e-07\n",
              "Kurtosis:                       3.839   Cond. No.                     2.32e+06\n",
              "==============================================================================\n",
              "\n",
              "Warnings:\n",
              "[1] Standard Errors assume that the covariance matrix of the errors is correctly specified.\n",
              "[2] The condition number is large, 2.32e+06. This might indicate that there are\n",
              "strong multicollinearity or other numerical problems.\n",
              "\"\"\""
            ],
            "text/html": [
              "<table class=\"simpletable\">\n",
              "<caption>OLS Regression Results</caption>\n",
              "<tr>\n",
              "  <th>Dep. Variable:</th>           <td>시멘트</td>       <th>  R-squared:         </th> <td>   0.971</td>\n",
              "</tr>\n",
              "<tr>\n",
              "  <th>Model:</th>                   <td>OLS</td>       <th>  Adj. R-squared:    </th> <td>   0.970</td>\n",
              "</tr>\n",
              "<tr>\n",
              "  <th>Method:</th>             <td>Least Squares</td>  <th>  F-statistic:       </th> <td>   1803.</td>\n",
              "</tr>\n",
              "<tr>\n",
              "  <th>Date:</th>             <td>Fri, 03 Jun 2022</td> <th>  Prob (F-statistic):</th>  <td>  0.00</td> \n",
              "</tr>\n",
              "<tr>\n",
              "  <th>Time:</th>                 <td>05:51:27</td>     <th>  Log-Likelihood:    </th> <td> -1174.3</td>\n",
              "</tr>\n",
              "<tr>\n",
              "  <th>No. Observations:</th>      <td>   446</td>      <th>  AIC:               </th> <td>   2367.</td>\n",
              "</tr>\n",
              "<tr>\n",
              "  <th>Df Residuals:</th>          <td>   437</td>      <th>  BIC:               </th> <td>   2404.</td>\n",
              "</tr>\n",
              "<tr>\n",
              "  <th>Df Model:</th>              <td>     8</td>      <th>                     </th>     <td> </td>   \n",
              "</tr>\n",
              "<tr>\n",
              "  <th>Covariance Type:</th>      <td>nonrobust</td>    <th>                     </th>     <td> </td>   \n",
              "</tr>\n",
              "</table>\n",
              "<table class=\"simpletable\">\n",
              "<tr>\n",
              "       <td></td>          <th>coef</th>     <th>std err</th>      <th>t</th>      <th>P>|t|</th>  <th>[0.025</th>    <th>0.975]</th>  \n",
              "</tr>\n",
              "<tr>\n",
              "  <th>const</th>       <td>   -0.3360</td> <td>    3.189</td> <td>   -0.105</td> <td> 0.916</td> <td>   -6.605</td> <td>    5.933</td>\n",
              "</tr>\n",
              "<tr>\n",
              "  <th>골재및석재</th>       <td>   -0.0394</td> <td>    0.027</td> <td>   -1.475</td> <td> 0.141</td> <td>   -0.092</td> <td>    0.013</td>\n",
              "</tr>\n",
              "<tr>\n",
              "  <th>건설직종 평균임금현황</th> <td>-7.244e-05</td> <td> 1.77e-05</td> <td>   -4.101</td> <td> 0.000</td> <td>   -0.000</td> <td>-3.77e-05</td>\n",
              "</tr>\n",
              "<tr>\n",
              "  <th>경유</th>          <td>    0.0074</td> <td>    0.008</td> <td>    0.988</td> <td> 0.324</td> <td>   -0.007</td> <td>    0.022</td>\n",
              "</tr>\n",
              "<tr>\n",
              "  <th>전력</th>          <td>    0.4904</td> <td>    0.035</td> <td>   14.094</td> <td> 0.000</td> <td>    0.422</td> <td>    0.559</td>\n",
              "</tr>\n",
              "<tr>\n",
              "  <th>KOSPI</th>       <td>   -0.0005</td> <td>    0.001</td> <td>   -0.568</td> <td> 0.570</td> <td>   -0.002</td> <td>    0.001</td>\n",
              "</tr>\n",
              "<tr>\n",
              "  <th>환율 (원/미국달러)</th> <td>    0.0149</td> <td>    0.001</td> <td>   10.821</td> <td> 0.000</td> <td>    0.012</td> <td>    0.018</td>\n",
              "</tr>\n",
              "<tr>\n",
              "  <th>주택매매가격지수</th>    <td>    0.6954</td> <td>    0.050</td> <td>   14.027</td> <td> 0.000</td> <td>    0.598</td> <td>    0.793</td>\n",
              "</tr>\n",
              "<tr>\n",
              "  <th>시장금리</th>        <td>   -0.6839</td> <td>    0.093</td> <td>   -7.344</td> <td> 0.000</td> <td>   -0.867</td> <td>   -0.501</td>\n",
              "</tr>\n",
              "</table>\n",
              "<table class=\"simpletable\">\n",
              "<tr>\n",
              "  <th>Omnibus:</th>       <td>23.314</td> <th>  Durbin-Watson:     </th> <td>   0.146</td>\n",
              "</tr>\n",
              "<tr>\n",
              "  <th>Prob(Omnibus):</th> <td> 0.000</td> <th>  Jarque-Bera (JB):  </th> <td>  29.234</td>\n",
              "</tr>\n",
              "<tr>\n",
              "  <th>Skew:</th>          <td>-0.466</td> <th>  Prob(JB):          </th> <td>4.49e-07</td>\n",
              "</tr>\n",
              "<tr>\n",
              "  <th>Kurtosis:</th>      <td> 3.839</td> <th>  Cond. No.          </th> <td>2.32e+06</td>\n",
              "</tr>\n",
              "</table><br/><br/>Warnings:<br/>[1] Standard Errors assume that the covariance matrix of the errors is correctly specified.<br/>[2] The condition number is large, 2.32e+06. This might indicate that there are<br/>strong multicollinearity or other numerical problems."
            ]
          },
          "metadata": {},
          "execution_count": 13
        }
      ]
    },
    {
      "cell_type": "code",
      "source": [
        "plt.scatter(y1, lr_pred, color='lightsteelblue')\n",
        "plt.plot(y1, y1,label='y=x', color='midnightblue')\n",
        "plt.xlabel('observed y1')\n",
        "plt.ylabel('fitted y1')\n",
        "plt.legend()\n",
        "plt.show()"
      ],
      "metadata": {
        "colab": {
          "base_uri": "https://localhost:8080/",
          "height": 279
        },
        "id": "GJZZLcQVaCLR",
        "outputId": "7a2e9811-7a38-45c8-b973-5e53be8f74fa"
      },
      "execution_count": 14,
      "outputs": [
        {
          "output_type": "display_data",
          "data": {
            "text/plain": [
              "<Figure size 432x288 with 1 Axes>"
            ],
            "image/png": "[encoded data removed]"
          },
          "metadata": {
            "needs_background": "light"
          }
        }
      ]
    },
    {
      "cell_type": "code",
      "source": [
        "#rmse\n",
        "from sklearn.metrics import mean_squared_error\n",
        "mse = mean_squared_error(y1, lr_pred)\n",
        "np.sqrt(mse)"
      ],
      "metadata": {
        "id": "y4RpN5Kz8E4j",
        "colab": {
          "base_uri": "https://localhost:8080/",
          "height": 0
        },
        "outputId": "20013b3b-216e-4b88-e524-8dc44321b34f"
      },
      "execution_count": 15,
      "outputs": [
        {
          "output_type": "execute_result",
          "data": {
            "text/plain": [
              "3.3673292502746435"
            ]
          },
          "metadata": {},
          "execution_count": 15
        }
      ]
    },
    {
      "cell_type": "code",
      "source": [
        "#r2 score\n",
        "from sklearn.metrics import r2_score\n",
        "r2_score(y1, lr_pred)"
      ],
      "metadata": {
        "colab": {
          "base_uri": "https://localhost:8080/",
          "height": 0
        },
        "id": "GGBEGUEJBt3Y",
        "outputId": "4faa0b9c-9d32-4927-90a9-cfed45a0dad9"
      },
      "execution_count": 16,
      "outputs": [
        {
          "output_type": "execute_result",
          "data": {
            "text/plain": [
              "0.9705974233286463"
            ]
          },
          "metadata": {},
          "execution_count": 16
        }
      ]
    },
    {
      "cell_type": "markdown",
      "source": [
        "### 상관계수 낮은 데이터 제외 MLR"
      ],
      "metadata": {
        "id": "fmT4MupxtDLC"
      }
    },
    {
      "cell_type": "code",
      "source": [
        "X_m = mydata[['골재및석재', '건설직종 평균임금현황', '경유', '전력', 'KOSPI', '환율 (원/미국달러)','주택매매가격지수']]"
      ],
      "metadata": {
        "id": "-ziIZelyaCFa"
      },
      "execution_count": 17,
      "outputs": []
    },
    {
      "cell_type": "code",
      "source": [
        "from sklearn.linear_model import LinearRegression\n",
        "lr_reg = LinearRegression()\n",
        "lr_reg.fit(X_m,y1)\n",
        "lr_pred = lr_reg.predict(X_m)"
      ],
      "metadata": {
        "id": "Xr8KnXSDtYbf"
      },
      "execution_count": 18,
      "outputs": []
    },
    {
      "cell_type": "code",
      "source": [
        "import statsmodels.api as sm\n",
        "X = sm.add_constant(X_m)\n",
        "model = sm.OLS(y1,X).fit()\n",
        "model.summary()"
      ],
      "metadata": {
        "colab": {
          "base_uri": "https://localhost:8080/",
          "height": 648
        },
        "outputId": "b4458fda-c0d1-4139-9d3e-28c3877ae513",
        "id": "RXemyI7CtYbg"
      },
      "execution_count": 19,
      "outputs": [
        {
          "output_type": "stream",
          "name": "stderr",
          "text": [
            "/usr/local/lib/python3.7/dist-packages/statsmodels/tsa/tsatools.py:117: FutureWarning: In a future version of pandas all arguments of concat except for the argument 'objs' will be keyword-only\n",
            "  x = pd.concat(x[::order], 1)\n"
          ]
        },
        {
          "output_type": "execute_result",
          "data": {
            "text/plain": [
              "<class 'statsmodels.iolib.summary.Summary'>\n",
              "\"\"\"\n",
              "                            OLS Regression Results                            \n",
              "==============================================================================\n",
              "Dep. Variable:                    시멘트   R-squared:                       0.967\n",
              "Model:                            OLS   Adj. R-squared:                  0.966\n",
              "Method:                 Least Squares   F-statistic:                     1832.\n",
              "Date:                Fri, 03 Jun 2022   Prob (F-statistic):          8.83e-320\n",
              "Time:                        05:51:27   Log-Likelihood:                -1200.3\n",
              "No. Observations:                 446   AIC:                             2417.\n",
              "Df Residuals:                     438   BIC:                             2449.\n",
              "Df Model:                           7                                         \n",
              "Covariance Type:            nonrobust                                         \n",
              "===============================================================================\n",
              "                  coef    std err          t      P>|t|      [0.025      0.975]\n",
              "-------------------------------------------------------------------------------\n",
              "const         -14.8462      2.651     -5.601      0.000     -20.056      -9.637\n",
              "골재및석재          -0.0653      0.028     -2.330      0.020      -0.120      -0.010\n",
              "건설직종 평균임금현황 -4.005e-05   1.81e-05     -2.211      0.028   -7.56e-05   -4.46e-06\n",
              "경유              0.0292      0.007      3.988      0.000       0.015       0.044\n",
              "전력              0.5817      0.034     16.903      0.000       0.514       0.649\n",
              "KOSPI          -0.0012      0.001     -1.300      0.194      -0.003       0.001\n",
              "환율 (원/미국달러)     0.0161      0.001     11.110      0.000       0.013       0.019\n",
              "주택매매가격지수        0.6795      0.052     12.959      0.000       0.576       0.783\n",
              "==============================================================================\n",
              "Omnibus:                       15.069   Durbin-Watson:                   0.143\n",
              "Prob(Omnibus):                  0.001   Jarque-Bera (JB):               21.338\n",
              "Skew:                          -0.285   Prob(JB):                     2.33e-05\n",
              "Kurtosis:                       3.907   Cond. No.                     1.82e+06\n",
              "==============================================================================\n",
              "\n",
              "Warnings:\n",
              "[1] Standard Errors assume that the covariance matrix of the errors is correctly specified.\n",
              "[2] The condition number is large, 1.82e+06. This might indicate that there are\n",
              "strong multicollinearity or other numerical problems.\n",
              "\"\"\""
            ],
            "text/html": [
              "<table class=\"simpletable\">\n",
              "<caption>OLS Regression Results</caption>\n",
              "<tr>\n",
              "  <th>Dep. Variable:</th>           <td>시멘트</td>       <th>  R-squared:         </th> <td>   0.967</td> \n",
              "</tr>\n",
              "<tr>\n",
              "  <th>Model:</th>                   <td>OLS</td>       <th>  Adj. R-squared:    </th> <td>   0.966</td> \n",
              "</tr>\n",
              "<tr>\n",
              "  <th>Method:</th>             <td>Least Squares</td>  <th>  F-statistic:       </th> <td>   1832.</td> \n",
              "</tr>\n",
              "<tr>\n",
              "  <th>Date:</th>             <td>Fri, 03 Jun 2022</td> <th>  Prob (F-statistic):</th> <td>8.83e-320</td>\n",
              "</tr>\n",
              "<tr>\n",
              "  <th>Time:</th>                 <td>05:51:27</td>     <th>  Log-Likelihood:    </th> <td> -1200.3</td> \n",
              "</tr>\n",
              "<tr>\n",
              "  <th>No. Observations:</th>      <td>   446</td>      <th>  AIC:               </th> <td>   2417.</td> \n",
              "</tr>\n",
              "<tr>\n",
              "  <th>Df Residuals:</th>          <td>   438</td>      <th>  BIC:               </th> <td>   2449.</td> \n",
              "</tr>\n",
              "<tr>\n",
              "  <th>Df Model:</th>              <td>     7</td>      <th>                     </th>     <td> </td>    \n",
              "</tr>\n",
              "<tr>\n",
              "  <th>Covariance Type:</th>      <td>nonrobust</td>    <th>                     </th>     <td> </td>    \n",
              "</tr>\n",
              "</table>\n",
              "<table class=\"simpletable\">\n",
              "<tr>\n",
              "       <td></td>          <th>coef</th>     <th>std err</th>      <th>t</th>      <th>P>|t|</th>  <th>[0.025</th>    <th>0.975]</th>  \n",
              "</tr>\n",
              "<tr>\n",
              "  <th>const</th>       <td>  -14.8462</td> <td>    2.651</td> <td>   -5.601</td> <td> 0.000</td> <td>  -20.056</td> <td>   -9.637</td>\n",
              "</tr>\n",
              "<tr>\n",
              "  <th>골재및석재</th>       <td>   -0.0653</td> <td>    0.028</td> <td>   -2.330</td> <td> 0.020</td> <td>   -0.120</td> <td>   -0.010</td>\n",
              "</tr>\n",
              "<tr>\n",
              "  <th>건설직종 평균임금현황</th> <td>-4.005e-05</td> <td> 1.81e-05</td> <td>   -2.211</td> <td> 0.028</td> <td>-7.56e-05</td> <td>-4.46e-06</td>\n",
              "</tr>\n",
              "<tr>\n",
              "  <th>경유</th>          <td>    0.0292</td> <td>    0.007</td> <td>    3.988</td> <td> 0.000</td> <td>    0.015</td> <td>    0.044</td>\n",
              "</tr>\n",
              "<tr>\n",
              "  <th>전력</th>          <td>    0.5817</td> <td>    0.034</td> <td>   16.903</td> <td> 0.000</td> <td>    0.514</td> <td>    0.649</td>\n",
              "</tr>\n",
              "<tr>\n",
              "  <th>KOSPI</th>       <td>   -0.0012</td> <td>    0.001</td> <td>   -1.300</td> <td> 0.194</td> <td>   -0.003</td> <td>    0.001</td>\n",
              "</tr>\n",
              "<tr>\n",
              "  <th>환율 (원/미국달러)</th> <td>    0.0161</td> <td>    0.001</td> <td>   11.110</td> <td> 0.000</td> <td>    0.013</td> <td>    0.019</td>\n",
              "</tr>\n",
              "<tr>\n",
              "  <th>주택매매가격지수</th>    <td>    0.6795</td> <td>    0.052</td> <td>   12.959</td> <td> 0.000</td> <td>    0.576</td> <td>    0.783</td>\n",
              "</tr>\n",
              "</table>\n",
              "<table class=\"simpletable\">\n",
              "<tr>\n",
              "  <th>Omnibus:</th>       <td>15.069</td> <th>  Durbin-Watson:     </th> <td>   0.143</td>\n",
              "</tr>\n",
              "<tr>\n",
              "  <th>Prob(Omnibus):</th> <td> 0.001</td> <th>  Jarque-Bera (JB):  </th> <td>  21.338</td>\n",
              "</tr>\n",
              "<tr>\n",
              "  <th>Skew:</th>          <td>-0.285</td> <th>  Prob(JB):          </th> <td>2.33e-05</td>\n",
              "</tr>\n",
              "<tr>\n",
              "  <th>Kurtosis:</th>      <td> 3.907</td> <th>  Cond. No.          </th> <td>1.82e+06</td>\n",
              "</tr>\n",
              "</table><br/><br/>Warnings:<br/>[1] Standard Errors assume that the covariance matrix of the errors is correctly specified.<br/>[2] The condition number is large, 1.82e+06. This might indicate that there are<br/>strong multicollinearity or other numerical problems."
            ]
          },
          "metadata": {},
          "execution_count": 19
        }
      ]
    },
    {
      "cell_type": "code",
      "source": [
        "plt.scatter(y1, lr_pred, color='lightsteelblue')\n",
        "plt.plot(y1, y1,label='y=x', color='midnightblue')\n",
        "plt.xlabel('observed y1')\n",
        "plt.ylabel('fitted y1')\n",
        "plt.legend()\n",
        "plt.show()"
      ],
      "metadata": {
        "colab": {
          "base_uri": "https://localhost:8080/",
          "height": 279
        },
        "outputId": "5df259ed-1c8e-4823-fc3e-03cec8a2c59c",
        "id": "zXEZsaTKtYbg"
      },
      "execution_count": 20,
      "outputs": [
        {
          "output_type": "display_data",
          "data": {
            "text/plain": [
              "<Figure size 432x288 with 1 Axes>"
            ],
            "image/png": "[encoded data removed]"
          },
          "metadata": {
            "needs_background": "light"
          }
        }
      ]
    },
    {
      "cell_type": "code",
      "source": [
        "#rmse\n",
        "from sklearn.metrics import mean_squared_error\n",
        "mse = mean_squared_error(y1, lr_pred)\n",
        "np.sqrt(mse)"
      ],
      "metadata": {
        "colab": {
          "base_uri": "https://localhost:8080/",
          "height": 0
        },
        "outputId": "35a36733-f7e2-40dd-bdc7-b19a053cf644",
        "id": "fx2tfrARtYbg"
      },
      "execution_count": 21,
      "outputs": [
        {
          "output_type": "execute_result",
          "data": {
            "text/plain": [
              "3.5690617826630335"
            ]
          },
          "metadata": {},
          "execution_count": 21
        }
      ]
    },
    {
      "cell_type": "code",
      "source": [
        "#r2 score\n",
        "from sklearn.metrics import r2_score\n",
        "r2_score(y1, lr_pred)"
      ],
      "metadata": {
        "colab": {
          "base_uri": "https://localhost:8080/",
          "height": 0
        },
        "outputId": "1e7ab985-cdbd-44ba-92f7-d005b8f79c44",
        "id": "BOJ6nM5GtYbh"
      },
      "execution_count": 22,
      "outputs": [
        {
          "output_type": "execute_result",
          "data": {
            "text/plain": [
              "0.966968951681185"
            ]
          },
          "metadata": {},
          "execution_count": 22
        }
      ]
    },
    {
      "cell_type": "markdown",
      "source": [
        "###상관계수 낮은 데이터 제외 엘라스틱 넷"
      ],
      "metadata": {
        "id": "Jl7B2ytIzdPI"
      }
    },
    {
      "cell_type": "code",
      "source": [
        "from sklearn.linear_model import ElasticNet\n",
        "en_reg = ElasticNet(alpha=0.0005, l1_ratio=.9, random_state=3)\n",
        "en_reg.fit(X_m, y1)\n",
        "en_pred = en_reg.predict(X_m)"
      ],
      "metadata": {
        "id": "WvLemgxEZQwG"
      },
      "execution_count": 23,
      "outputs": []
    },
    {
      "cell_type": "code",
      "source": [
        "#rmse\n",
        "from sklearn.metrics import mean_squared_error\n",
        "mse = mean_squared_error(y1, en_pred)\n",
        "np.sqrt(mse)"
      ],
      "metadata": {
        "colab": {
          "base_uri": "https://localhost:8080/",
          "height": 0
        },
        "outputId": "d51e1398-a801-4285-a7e0-d85a003403ca",
        "id": "blLJX5WYz5C2"
      },
      "execution_count": 24,
      "outputs": [
        {
          "output_type": "execute_result",
          "data": {
            "text/plain": [
              "3.569061791321186"
            ]
          },
          "metadata": {},
          "execution_count": 24
        }
      ]
    },
    {
      "cell_type": "code",
      "source": [
        "#r2 score\n",
        "from sklearn.metrics import r2_score\n",
        "r2_score(y1, en_pred) #큰 차이 없음"
      ],
      "metadata": {
        "colab": {
          "base_uri": "https://localhost:8080/",
          "height": 0
        },
        "outputId": "2376226d-f44c-436f-b41c-70ef797b5dce",
        "id": "usBgQcJRz5C3"
      },
      "execution_count": 25,
      "outputs": [
        {
          "output_type": "execute_result",
          "data": {
            "text/plain": [
              "0.9669689515209257"
            ]
          },
          "metadata": {},
          "execution_count": 25
        }
      ]
    },
    {
      "cell_type": "markdown",
      "source": [
        "### 직접경제지표 Multiple Linear Regression"
      ],
      "metadata": {
        "id": "CwOsFMEE0c9e"
      }
    },
    {
      "cell_type": "code",
      "source": [
        "X_dir = mydata[['골재및석재', '건설직종 평균임금현황', '경유', '전력']]"
      ],
      "metadata": {
        "id": "yfawvWpHzx5f"
      },
      "execution_count": 26,
      "outputs": []
    },
    {
      "cell_type": "code",
      "source": [
        "from sklearn.linear_model import LinearRegression\n",
        "lr_reg = LinearRegression()\n",
        "lr_reg.fit(X_dir,y1)\n",
        "lr_pred2 = lr_reg.predict(X_dir)"
      ],
      "metadata": {
        "id": "RyN9_97Z125b"
      },
      "execution_count": 27,
      "outputs": []
    },
    {
      "cell_type": "code",
      "source": [
        "import statsmodels.api as sm\n",
        "X = sm.add_constant(X_m)\n",
        "model = sm.OLS(y1,X_dir).fit()\n",
        "model.summary()"
      ],
      "metadata": {
        "colab": {
          "base_uri": "https://localhost:8080/",
          "height": 566
        },
        "outputId": "5889b3ef-e0ac-4471-b0b5-d00b36366060",
        "id": "kR4vungU125c"
      },
      "execution_count": 28,
      "outputs": [
        {
          "output_type": "stream",
          "name": "stderr",
          "text": [
            "/usr/local/lib/python3.7/dist-packages/statsmodels/tsa/tsatools.py:117: FutureWarning: In a future version of pandas all arguments of concat except for the argument 'objs' will be keyword-only\n",
            "  x = pd.concat(x[::order], 1)\n"
          ]
        },
        {
          "output_type": "execute_result",
          "data": {
            "text/plain": [
              "<class 'statsmodels.iolib.summary.Summary'>\n",
              "\"\"\"\n",
              "                                 OLS Regression Results                                \n",
              "=======================================================================================\n",
              "Dep. Variable:                    시멘트   R-squared (uncentered):                   0.995\n",
              "Model:                            OLS   Adj. R-squared (uncentered):              0.995\n",
              "Method:                 Least Squares   F-statistic:                          2.219e+04\n",
              "Date:                Fri, 03 Jun 2022   Prob (F-statistic):                        0.00\n",
              "Time:                        05:51:29   Log-Likelihood:                         -1381.4\n",
              "No. Observations:                 446   AIC:                                      2771.\n",
              "Df Residuals:                     442   BIC:                                      2787.\n",
              "Df Model:                           4                                                  \n",
              "Covariance Type:            nonrobust                                                  \n",
              "===============================================================================\n",
              "                  coef    std err          t      P>|t|      [0.025      0.975]\n",
              "-------------------------------------------------------------------------------\n",
              "골재및석재           0.0467      0.037      1.270      0.205      -0.026       0.119\n",
              "건설직종 평균임금현황  2.355e-05   1.88e-05      1.254      0.211   -1.34e-05    6.05e-05\n",
              "경유              0.0712      0.007      9.564      0.000       0.057       0.086\n",
              "전력              0.8531      0.013     67.422      0.000       0.828       0.878\n",
              "==============================================================================\n",
              "Omnibus:                       10.213   Durbin-Watson:                   0.062\n",
              "Prob(Omnibus):                  0.006   Jarque-Bera (JB):                5.707\n",
              "Skew:                          -0.029   Prob(JB):                       0.0576\n",
              "Kurtosis:                       2.449   Cond. No.                     1.72e+04\n",
              "==============================================================================\n",
              "\n",
              "Warnings:\n",
              "[1] Standard Errors assume that the covariance matrix of the errors is correctly specified.\n",
              "[2] The condition number is large, 1.72e+04. This might indicate that there are\n",
              "strong multicollinearity or other numerical problems.\n",
              "\"\"\""
            ],
            "text/html": [
              "<table class=\"simpletable\">\n",
              "<caption>OLS Regression Results</caption>\n",
              "<tr>\n",
              "  <th>Dep. Variable:</th>           <td>시멘트</td>       <th>  R-squared (uncentered):</th>      <td>   0.995</td> \n",
              "</tr>\n",
              "<tr>\n",
              "  <th>Model:</th>                   <td>OLS</td>       <th>  Adj. R-squared (uncentered):</th> <td>   0.995</td> \n",
              "</tr>\n",
              "<tr>\n",
              "  <th>Method:</th>             <td>Least Squares</td>  <th>  F-statistic:       </th>          <td>2.219e+04</td>\n",
              "</tr>\n",
              "<tr>\n",
              "  <th>Date:</th>             <td>Fri, 03 Jun 2022</td> <th>  Prob (F-statistic):</th>           <td>  0.00</td>  \n",
              "</tr>\n",
              "<tr>\n",
              "  <th>Time:</th>                 <td>05:51:29</td>     <th>  Log-Likelihood:    </th>          <td> -1381.4</td> \n",
              "</tr>\n",
              "<tr>\n",
              "  <th>No. Observations:</th>      <td>   446</td>      <th>  AIC:               </th>          <td>   2771.</td> \n",
              "</tr>\n",
              "<tr>\n",
              "  <th>Df Residuals:</th>          <td>   442</td>      <th>  BIC:               </th>          <td>   2787.</td> \n",
              "</tr>\n",
              "<tr>\n",
              "  <th>Df Model:</th>              <td>     4</td>      <th>                     </th>              <td> </td>    \n",
              "</tr>\n",
              "<tr>\n",
              "  <th>Covariance Type:</th>      <td>nonrobust</td>    <th>                     </th>              <td> </td>    \n",
              "</tr>\n",
              "</table>\n",
              "<table class=\"simpletable\">\n",
              "<tr>\n",
              "       <td></td>          <th>coef</th>     <th>std err</th>      <th>t</th>      <th>P>|t|</th>  <th>[0.025</th>    <th>0.975]</th>  \n",
              "</tr>\n",
              "<tr>\n",
              "  <th>골재및석재</th>       <td>    0.0467</td> <td>    0.037</td> <td>    1.270</td> <td> 0.205</td> <td>   -0.026</td> <td>    0.119</td>\n",
              "</tr>\n",
              "<tr>\n",
              "  <th>건설직종 평균임금현황</th> <td> 2.355e-05</td> <td> 1.88e-05</td> <td>    1.254</td> <td> 0.211</td> <td>-1.34e-05</td> <td> 6.05e-05</td>\n",
              "</tr>\n",
              "<tr>\n",
              "  <th>경유</th>          <td>    0.0712</td> <td>    0.007</td> <td>    9.564</td> <td> 0.000</td> <td>    0.057</td> <td>    0.086</td>\n",
              "</tr>\n",
              "<tr>\n",
              "  <th>전력</th>          <td>    0.8531</td> <td>    0.013</td> <td>   67.422</td> <td> 0.000</td> <td>    0.828</td> <td>    0.878</td>\n",
              "</tr>\n",
              "</table>\n",
              "<table class=\"simpletable\">\n",
              "<tr>\n",
              "  <th>Omnibus:</th>       <td>10.213</td> <th>  Durbin-Watson:     </th> <td>   0.062</td>\n",
              "</tr>\n",
              "<tr>\n",
              "  <th>Prob(Omnibus):</th> <td> 0.006</td> <th>  Jarque-Bera (JB):  </th> <td>   5.707</td>\n",
              "</tr>\n",
              "<tr>\n",
              "  <th>Skew:</th>          <td>-0.029</td> <th>  Prob(JB):          </th> <td>  0.0576</td>\n",
              "</tr>\n",
              "<tr>\n",
              "  <th>Kurtosis:</th>      <td> 2.449</td> <th>  Cond. No.          </th> <td>1.72e+04</td>\n",
              "</tr>\n",
              "</table><br/><br/>Warnings:<br/>[1] Standard Errors assume that the covariance matrix of the errors is correctly specified.<br/>[2] The condition number is large, 1.72e+04. This might indicate that there are<br/>strong multicollinearity or other numerical problems."
            ]
          },
          "metadata": {},
          "execution_count": 28
        }
      ]
    },
    {
      "cell_type": "code",
      "source": [
        "plt.scatter(y1, lr_pred2, color='lightsteelblue')\n",
        "plt.plot(y1, y1,label='y=x', color='midnightblue')\n",
        "plt.xlabel('observed y1')\n",
        "plt.ylabel('fitted y1')\n",
        "plt.legend()\n",
        "plt.show()"
      ],
      "metadata": {
        "colab": {
          "base_uri": "https://localhost:8080/",
          "height": 279
        },
        "outputId": "13e47c16-d39e-4c07-953d-13a827302347",
        "id": "YtzdxdT_125c"
      },
      "execution_count": 29,
      "outputs": [
        {
          "output_type": "display_data",
          "data": {
            "text/plain": [
              "<Figure size 432x288 with 1 Axes>"
            ],
            "image/png": "[encoded data removed]"
          },
          "metadata": {
            "needs_background": "light"
          }
        }
      ]
    },
    {
      "cell_type": "code",
      "source": [
        "#rmse\n",
        "from sklearn.metrics import mean_squared_error\n",
        "mse = mean_squared_error(y1, lr_pred2)\n",
        "np.sqrt(mse)"
      ],
      "metadata": {
        "colab": {
          "base_uri": "https://localhost:8080/",
          "height": 0
        },
        "outputId": "cf132f15-65ca-4f16-dd10-4519911ea2f4",
        "id": "STg40-FV125d"
      },
      "execution_count": 30,
      "outputs": [
        {
          "output_type": "execute_result",
          "data": {
            "text/plain": [
              "4.636723835641694"
            ]
          },
          "metadata": {},
          "execution_count": 30
        }
      ]
    },
    {
      "cell_type": "code",
      "source": [
        "#r2 score\n",
        "from sklearn.metrics import r2_score\n",
        "r2_score(y1, lr_pred2)"
      ],
      "metadata": {
        "colab": {
          "base_uri": "https://localhost:8080/",
          "height": 0
        },
        "outputId": "e3c75c48-b181-485d-939b-5e4965032be9",
        "id": "Fgr03pQ9125d"
      },
      "execution_count": 31,
      "outputs": [
        {
          "output_type": "execute_result",
          "data": {
            "text/plain": [
              "0.9442510508614704"
            ]
          },
          "metadata": {},
          "execution_count": 31
        }
      ]
    },
    {
      "cell_type": "markdown",
      "source": [
        "### 간접경제지표 Multiple Linear Regression"
      ],
      "metadata": {
        "id": "QftxcT6z2Mdy"
      }
    },
    {
      "cell_type": "code",
      "source": [
        "X_ind = mydata[[ 'KOSPI', '환율 (원/미국달러)','주택매매가격지수','시장금리']]"
      ],
      "metadata": {
        "id": "QBw2REcB2Udl"
      },
      "execution_count": 32,
      "outputs": []
    },
    {
      "cell_type": "code",
      "source": [
        "from sklearn.linear_model import LinearRegression\n",
        "lr_reg = LinearRegression()\n",
        "lr_reg.fit(X_ind,y1)\n",
        "lr_pred3 = lr_reg.predict(X_ind)"
      ],
      "metadata": {
        "id": "E5gVxboN2Q_E"
      },
      "execution_count": 33,
      "outputs": []
    },
    {
      "cell_type": "code",
      "source": [
        "import statsmodels.api as sm\n",
        "X = sm.add_constant(X_ind)\n",
        "model = sm.OLS(y1,X).fit()\n",
        "model.summary()"
      ],
      "metadata": {
        "colab": {
          "base_uri": "https://localhost:8080/",
          "height": 587
        },
        "outputId": "922f5f9e-32df-496d-962d-990067b334e5",
        "id": "h871DP0i2Q_F"
      },
      "execution_count": 34,
      "outputs": [
        {
          "output_type": "stream",
          "name": "stderr",
          "text": [
            "/usr/local/lib/python3.7/dist-packages/statsmodels/tsa/tsatools.py:117: FutureWarning: In a future version of pandas all arguments of concat except for the argument 'objs' will be keyword-only\n",
            "  x = pd.concat(x[::order], 1)\n"
          ]
        },
        {
          "output_type": "execute_result",
          "data": {
            "text/plain": [
              "<class 'statsmodels.iolib.summary.Summary'>\n",
              "\"\"\"\n",
              "                            OLS Regression Results                            \n",
              "==============================================================================\n",
              "Dep. Variable:                    시멘트   R-squared:                       0.954\n",
              "Model:                            OLS   Adj. R-squared:                  0.954\n",
              "Method:                 Least Squares   F-statistic:                     2302.\n",
              "Date:                Fri, 03 Jun 2022   Prob (F-statistic):          6.99e-294\n",
              "Time:                        05:51:29   Log-Likelihood:                -1272.7\n",
              "No. Observations:                 446   AIC:                             2555.\n",
              "Df Residuals:                     441   BIC:                             2576.\n",
              "Df Model:                           4                                         \n",
              "Covariance Type:            nonrobust                                         \n",
              "===============================================================================\n",
              "                  coef    std err          t      P>|t|      [0.025      0.975]\n",
              "-------------------------------------------------------------------------------\n",
              "const          33.4064      2.352     14.205      0.000      28.784      38.028\n",
              "KOSPI           0.0020      0.001      2.037      0.042    6.91e-05       0.004\n",
              "환율 (원/미국달러)     0.0171      0.002     11.341      0.000       0.014       0.020\n",
              "주택매매가격지수        0.5626      0.042     13.419      0.000       0.480       0.645\n",
              "시장금리           -1.4128      0.088    -16.144      0.000      -1.585      -1.241\n",
              "==============================================================================\n",
              "Omnibus:                       13.442   Durbin-Watson:                   0.091\n",
              "Prob(Omnibus):                  0.001   Jarque-Bera (JB):               27.283\n",
              "Skew:                          -0.056   Prob(JB):                     1.19e-06\n",
              "Kurtosis:                       4.206   Cond. No.                     2.05e+04\n",
              "==============================================================================\n",
              "\n",
              "Warnings:\n",
              "[1] Standard Errors assume that the covariance matrix of the errors is correctly specified.\n",
              "[2] The condition number is large, 2.05e+04. This might indicate that there are\n",
              "strong multicollinearity or other numerical problems.\n",
              "\"\"\""
            ],
            "text/html": [
              "<table class=\"simpletable\">\n",
              "<caption>OLS Regression Results</caption>\n",
              "<tr>\n",
              "  <th>Dep. Variable:</th>           <td>시멘트</td>       <th>  R-squared:         </th> <td>   0.954</td> \n",
              "</tr>\n",
              "<tr>\n",
              "  <th>Model:</th>                   <td>OLS</td>       <th>  Adj. R-squared:    </th> <td>   0.954</td> \n",
              "</tr>\n",
              "<tr>\n",
              "  <th>Method:</th>             <td>Least Squares</td>  <th>  F-statistic:       </th> <td>   2302.</td> \n",
              "</tr>\n",
              "<tr>\n",
              "  <th>Date:</th>             <td>Fri, 03 Jun 2022</td> <th>  Prob (F-statistic):</th> <td>6.99e-294</td>\n",
              "</tr>\n",
              "<tr>\n",
              "  <th>Time:</th>                 <td>05:51:29</td>     <th>  Log-Likelihood:    </th> <td> -1272.7</td> \n",
              "</tr>\n",
              "<tr>\n",
              "  <th>No. Observations:</th>      <td>   446</td>      <th>  AIC:               </th> <td>   2555.</td> \n",
              "</tr>\n",
              "<tr>\n",
              "  <th>Df Residuals:</th>          <td>   441</td>      <th>  BIC:               </th> <td>   2576.</td> \n",
              "</tr>\n",
              "<tr>\n",
              "  <th>Df Model:</th>              <td>     4</td>      <th>                     </th>     <td> </td>    \n",
              "</tr>\n",
              "<tr>\n",
              "  <th>Covariance Type:</th>      <td>nonrobust</td>    <th>                     </th>     <td> </td>    \n",
              "</tr>\n",
              "</table>\n",
              "<table class=\"simpletable\">\n",
              "<tr>\n",
              "       <td></td>          <th>coef</th>     <th>std err</th>      <th>t</th>      <th>P>|t|</th>  <th>[0.025</th>    <th>0.975]</th>  \n",
              "</tr>\n",
              "<tr>\n",
              "  <th>const</th>       <td>   33.4064</td> <td>    2.352</td> <td>   14.205</td> <td> 0.000</td> <td>   28.784</td> <td>   38.028</td>\n",
              "</tr>\n",
              "<tr>\n",
              "  <th>KOSPI</th>       <td>    0.0020</td> <td>    0.001</td> <td>    2.037</td> <td> 0.042</td> <td> 6.91e-05</td> <td>    0.004</td>\n",
              "</tr>\n",
              "<tr>\n",
              "  <th>환율 (원/미국달러)</th> <td>    0.0171</td> <td>    0.002</td> <td>   11.341</td> <td> 0.000</td> <td>    0.014</td> <td>    0.020</td>\n",
              "</tr>\n",
              "<tr>\n",
              "  <th>주택매매가격지수</th>    <td>    0.5626</td> <td>    0.042</td> <td>   13.419</td> <td> 0.000</td> <td>    0.480</td> <td>    0.645</td>\n",
              "</tr>\n",
              "<tr>\n",
              "  <th>시장금리</th>        <td>   -1.4128</td> <td>    0.088</td> <td>  -16.144</td> <td> 0.000</td> <td>   -1.585</td> <td>   -1.241</td>\n",
              "</tr>\n",
              "</table>\n",
              "<table class=\"simpletable\">\n",
              "<tr>\n",
              "  <th>Omnibus:</th>       <td>13.442</td> <th>  Durbin-Watson:     </th> <td>   0.091</td>\n",
              "</tr>\n",
              "<tr>\n",
              "  <th>Prob(Omnibus):</th> <td> 0.001</td> <th>  Jarque-Bera (JB):  </th> <td>  27.283</td>\n",
              "</tr>\n",
              "<tr>\n",
              "  <th>Skew:</th>          <td>-0.056</td> <th>  Prob(JB):          </th> <td>1.19e-06</td>\n",
              "</tr>\n",
              "<tr>\n",
              "  <th>Kurtosis:</th>      <td> 4.206</td> <th>  Cond. No.          </th> <td>2.05e+04</td>\n",
              "</tr>\n",
              "</table><br/><br/>Warnings:<br/>[1] Standard Errors assume that the covariance matrix of the errors is correctly specified.<br/>[2] The condition number is large, 2.05e+04. This might indicate that there are<br/>strong multicollinearity or other numerical problems."
            ]
          },
          "metadata": {},
          "execution_count": 34
        }
      ]
    },
    {
      "cell_type": "code",
      "source": [
        "plt.scatter(y1, lr_pred3, color='lightsteelblue')\n",
        "plt.plot(y1, y1,label='y=x', color='midnightblue')\n",
        "plt.xlabel('observed y1')\n",
        "plt.ylabel('fitted y1')\n",
        "plt.legend()\n",
        "plt.show()"
      ],
      "metadata": {
        "colab": {
          "base_uri": "https://localhost:8080/",
          "height": 279
        },
        "outputId": "202f1694-67ab-464d-fdea-ba937c379c19",
        "id": "HP_SgdX-2Q_G"
      },
      "execution_count": 35,
      "outputs": [
        {
          "output_type": "display_data",
          "data": {
            "text/plain": [
              "<Figure size 432x288 with 1 Axes>"
            ],
            "image/png": "[encoded data removed]"
          },
          "metadata": {
            "needs_background": "light"
          }
        }
      ]
    },
    {
      "cell_type": "code",
      "source": [
        "#rmse\n",
        "from sklearn.metrics import mean_squared_error\n",
        "mse = mean_squared_error(y1, lr_pred3)\n",
        "np.sqrt(mse)"
      ],
      "metadata": {
        "colab": {
          "base_uri": "https://localhost:8080/",
          "height": 0
        },
        "outputId": "cbe0ca0c-3690-4df7-dc91-938fe4ec4cd8",
        "id": "VkyL0EmQ2Q_H"
      },
      "execution_count": 36,
      "outputs": [
        {
          "output_type": "execute_result",
          "data": {
            "text/plain": [
              "4.198249378009686"
            ]
          },
          "metadata": {},
          "execution_count": 36
        }
      ]
    },
    {
      "cell_type": "code",
      "source": [
        "#r2 score\n",
        "from sklearn.metrics import r2_score\n",
        "r2_score(y1, lr_pred3)"
      ],
      "metadata": {
        "colab": {
          "base_uri": "https://localhost:8080/",
          "height": 0
        },
        "outputId": "3debb9d8-18fc-4d8f-972d-a33cc5e5de89",
        "id": "JCTGpf1e2Q_H"
      },
      "execution_count": 37,
      "outputs": [
        {
          "output_type": "execute_result",
          "data": {
            "text/plain": [
              "0.9542963705397149"
            ]
          },
          "metadata": {},
          "execution_count": 37
        }
      ]
    },
    {
      "cell_type": "markdown",
      "source": [
        "### 아파트매매거래수 Simple Linear Regression"
      ],
      "metadata": {
        "id": "H9h6dFTC4MTM"
      }
    },
    {
      "cell_type": "code",
      "source": [
        "X_apt = mydata['아파트매매거래수'].iloc[252:].values.reshape(-1,1)\n",
        "y1_apt = mydata['시멘트'].iloc[252:].values"
      ],
      "metadata": {
        "id": "60qqPTgqzxy0"
      },
      "execution_count": 38,
      "outputs": []
    },
    {
      "cell_type": "code",
      "source": [
        "from sklearn.linear_model import LinearRegression\n",
        "lr_reg = LinearRegression()\n",
        "lr_reg.fit(X_apt,y1_apt)\n",
        "lr_pred4 = lr_reg.predict(X_apt)"
      ],
      "metadata": {
        "id": "6VlpS7u5zxwh"
      },
      "execution_count": 39,
      "outputs": []
    },
    {
      "cell_type": "code",
      "source": [
        "lr_reg.intercept_"
      ],
      "metadata": {
        "colab": {
          "base_uri": "https://localhost:8080/",
          "height": 0
        },
        "id": "FJVvnteK5uFe",
        "outputId": "fbeaee29-2a16-48e4-8fd7-9eb980d492e1"
      },
      "execution_count": 40,
      "outputs": [
        {
          "output_type": "execute_result",
          "data": {
            "text/plain": [
              "89.80922385845358"
            ]
          },
          "metadata": {},
          "execution_count": 40
        }
      ]
    },
    {
      "cell_type": "code",
      "source": [
        "lr_reg.coef_"
      ],
      "metadata": {
        "colab": {
          "base_uri": "https://localhost:8080/",
          "height": 0
        },
        "id": "If7ekah9zxuE",
        "outputId": "327b3e62-f263-4a49-8b60-09ac7c0b2269"
      },
      "execution_count": 41,
      "outputs": [
        {
          "output_type": "execute_result",
          "data": {
            "text/plain": [
              "array([4.12294203e-05])"
            ]
          },
          "metadata": {},
          "execution_count": 41
        }
      ]
    },
    {
      "cell_type": "code",
      "source": [
        "#rmse\n",
        "from sklearn.metrics import mean_squared_error\n",
        "mse = mean_squared_error(y1_apt, lr_pred4)\n",
        "np.sqrt(mse)"
      ],
      "metadata": {
        "colab": {
          "base_uri": "https://localhost:8080/",
          "height": 0
        },
        "outputId": "c510a6de-8aab-44a0-9429-507a7a4bcf8c",
        "id": "MnfBtmdc8McK"
      },
      "execution_count": 42,
      "outputs": [
        {
          "output_type": "execute_result",
          "data": {
            "text/plain": [
              "11.315535917224281"
            ]
          },
          "metadata": {},
          "execution_count": 42
        }
      ]
    },
    {
      "cell_type": "code",
      "source": [
        "#r2 score\n",
        "from sklearn.metrics import r2_score\n",
        "r2_score(y1_apt, lr_pred4)"
      ],
      "metadata": {
        "colab": {
          "base_uri": "https://localhost:8080/",
          "height": 0
        },
        "outputId": "14d0701a-13c5-4672-b0e9-edb79b6f388a",
        "id": "_bX3oD_S8McL"
      },
      "execution_count": 43,
      "outputs": [
        {
          "output_type": "execute_result",
          "data": {
            "text/plain": [
              "0.0036439839772636207"
            ]
          },
          "metadata": {},
          "execution_count": 43
        }
      ]
    },
    {
      "cell_type": "markdown",
      "source": [
        "#레미콘 가격 분석\n",
        "\n",
        "### 전체 데이터로 Multiple Linear Regression"
      ],
      "metadata": {
        "id": "H0OVkR2g9Rbp"
      }
    },
    {
      "cell_type": "code",
      "source": [
        "X = mydata[['골재및석재', '건설직종 평균임금현황', '경유', '전력', 'KOSPI', '환율 (원/미국달러)', '주택매매가격지수', '시장금리']]\n",
        "y1 = mydata[['시멘트']]\n",
        "y2 = mydata[['레미콘']]"
      ],
      "metadata": {
        "id": "wwT5yf1d9lqg"
      },
      "execution_count": 44,
      "outputs": []
    },
    {
      "cell_type": "code",
      "source": [
        "from sklearn.linear_model import LinearRegression\n",
        "lr_reg = LinearRegression()\n",
        "lr_reg.fit(X,y2)\n",
        "lr_pred = lr_reg.predict(X)"
      ],
      "metadata": {
        "id": "zHAhjKwm9Rbq"
      },
      "execution_count": 45,
      "outputs": []
    },
    {
      "cell_type": "code",
      "source": [
        "import statsmodels.api as sm\n",
        "X = sm.add_constant(X)\n",
        "model = sm.OLS(y2,X).fit()\n",
        "model.summary()"
      ],
      "metadata": {
        "colab": {
          "base_uri": "https://localhost:8080/",
          "height": 669
        },
        "outputId": "a023fb9e-9153-49cf-8f4d-234dd1561e8f",
        "id": "ZeuHZ3Yb9Rbr"
      },
      "execution_count": 46,
      "outputs": [
        {
          "output_type": "stream",
          "name": "stderr",
          "text": [
            "/usr/local/lib/python3.7/dist-packages/statsmodels/tsa/tsatools.py:117: FutureWarning: In a future version of pandas all arguments of concat except for the argument 'objs' will be keyword-only\n",
            "  x = pd.concat(x[::order], 1)\n"
          ]
        },
        {
          "output_type": "execute_result",
          "data": {
            "text/plain": [
              "<class 'statsmodels.iolib.summary.Summary'>\n",
              "\"\"\"\n",
              "                            OLS Regression Results                            \n",
              "==============================================================================\n",
              "Dep. Variable:                    레미콘   R-squared:                       0.948\n",
              "Model:                            OLS   Adj. R-squared:                  0.947\n",
              "Method:                 Least Squares   F-statistic:                     992.5\n",
              "Date:                Fri, 03 Jun 2022   Prob (F-statistic):          8.55e-275\n",
              "Time:                        05:51:30   Log-Likelihood:                -1268.5\n",
              "No. Observations:                 446   AIC:                             2555.\n",
              "Df Residuals:                     437   BIC:                             2592.\n",
              "Df Model:                           8                                         \n",
              "Covariance Type:            nonrobust                                         \n",
              "===============================================================================\n",
              "                  coef    std err          t      P>|t|      [0.025      0.975]\n",
              "-------------------------------------------------------------------------------\n",
              "const          14.2149      3.939      3.609      0.000       6.474      21.956\n",
              "골재및석재           0.4274      0.033     12.957      0.000       0.363       0.492\n",
              "건설직종 평균임금현황    -0.0001   2.18e-05     -6.549      0.000      -0.000     -0.0001\n",
              "경유             -0.0288      0.009     -3.095      0.002      -0.047      -0.010\n",
              "전력              0.0719      0.043      1.673      0.095      -0.013       0.156\n",
              "KOSPI          -0.0094      0.001     -8.762      0.000      -0.012      -0.007\n",
              "환율 (원/미국달러)     0.0100      0.002      5.853      0.000       0.007       0.013\n",
              "주택매매가격지수        0.9024      0.061     14.740      0.000       0.782       1.023\n",
              "시장금리           -0.2731      0.115     -2.374      0.018      -0.499      -0.047\n",
              "==============================================================================\n",
              "Omnibus:                        2.674   Durbin-Watson:                   0.120\n",
              "Prob(Omnibus):                  0.263   Jarque-Bera (JB):                2.531\n",
              "Skew:                           0.183   Prob(JB):                        0.282\n",
              "Kurtosis:                       3.051   Cond. No.                     2.32e+06\n",
              "==============================================================================\n",
              "\n",
              "Warnings:\n",
              "[1] Standard Errors assume that the covariance matrix of the errors is correctly specified.\n",
              "[2] The condition number is large, 2.32e+06. This might indicate that there are\n",
              "strong multicollinearity or other numerical problems.\n",
              "\"\"\""
            ],
            "text/html": [
              "<table class=\"simpletable\">\n",
              "<caption>OLS Regression Results</caption>\n",
              "<tr>\n",
              "  <th>Dep. Variable:</th>           <td>레미콘</td>       <th>  R-squared:         </th> <td>   0.948</td> \n",
              "</tr>\n",
              "<tr>\n",
              "  <th>Model:</th>                   <td>OLS</td>       <th>  Adj. R-squared:    </th> <td>   0.947</td> \n",
              "</tr>\n",
              "<tr>\n",
              "  <th>Method:</th>             <td>Least Squares</td>  <th>  F-statistic:       </th> <td>   992.5</td> \n",
              "</tr>\n",
              "<tr>\n",
              "  <th>Date:</th>             <td>Fri, 03 Jun 2022</td> <th>  Prob (F-statistic):</th> <td>8.55e-275</td>\n",
              "</tr>\n",
              "<tr>\n",
              "  <th>Time:</th>                 <td>05:51:30</td>     <th>  Log-Likelihood:    </th> <td> -1268.5</td> \n",
              "</tr>\n",
              "<tr>\n",
              "  <th>No. Observations:</th>      <td>   446</td>      <th>  AIC:               </th> <td>   2555.</td> \n",
              "</tr>\n",
              "<tr>\n",
              "  <th>Df Residuals:</th>          <td>   437</td>      <th>  BIC:               </th> <td>   2592.</td> \n",
              "</tr>\n",
              "<tr>\n",
              "  <th>Df Model:</th>              <td>     8</td>      <th>                     </th>     <td> </td>    \n",
              "</tr>\n",
              "<tr>\n",
              "  <th>Covariance Type:</th>      <td>nonrobust</td>    <th>                     </th>     <td> </td>    \n",
              "</tr>\n",
              "</table>\n",
              "<table class=\"simpletable\">\n",
              "<tr>\n",
              "       <td></td>          <th>coef</th>     <th>std err</th>      <th>t</th>      <th>P>|t|</th>  <th>[0.025</th>    <th>0.975]</th>  \n",
              "</tr>\n",
              "<tr>\n",
              "  <th>const</th>       <td>   14.2149</td> <td>    3.939</td> <td>    3.609</td> <td> 0.000</td> <td>    6.474</td> <td>   21.956</td>\n",
              "</tr>\n",
              "<tr>\n",
              "  <th>골재및석재</th>       <td>    0.4274</td> <td>    0.033</td> <td>   12.957</td> <td> 0.000</td> <td>    0.363</td> <td>    0.492</td>\n",
              "</tr>\n",
              "<tr>\n",
              "  <th>건설직종 평균임금현황</th> <td>   -0.0001</td> <td> 2.18e-05</td> <td>   -6.549</td> <td> 0.000</td> <td>   -0.000</td> <td>  -0.0001</td>\n",
              "</tr>\n",
              "<tr>\n",
              "  <th>경유</th>          <td>   -0.0288</td> <td>    0.009</td> <td>   -3.095</td> <td> 0.002</td> <td>   -0.047</td> <td>   -0.010</td>\n",
              "</tr>\n",
              "<tr>\n",
              "  <th>전력</th>          <td>    0.0719</td> <td>    0.043</td> <td>    1.673</td> <td> 0.095</td> <td>   -0.013</td> <td>    0.156</td>\n",
              "</tr>\n",
              "<tr>\n",
              "  <th>KOSPI</th>       <td>   -0.0094</td> <td>    0.001</td> <td>   -8.762</td> <td> 0.000</td> <td>   -0.012</td> <td>   -0.007</td>\n",
              "</tr>\n",
              "<tr>\n",
              "  <th>환율 (원/미국달러)</th> <td>    0.0100</td> <td>    0.002</td> <td>    5.853</td> <td> 0.000</td> <td>    0.007</td> <td>    0.013</td>\n",
              "</tr>\n",
              "<tr>\n",
              "  <th>주택매매가격지수</th>    <td>    0.9024</td> <td>    0.061</td> <td>   14.740</td> <td> 0.000</td> <td>    0.782</td> <td>    1.023</td>\n",
              "</tr>\n",
              "<tr>\n",
              "  <th>시장금리</th>        <td>   -0.2731</td> <td>    0.115</td> <td>   -2.374</td> <td> 0.018</td> <td>   -0.499</td> <td>   -0.047</td>\n",
              "</tr>\n",
              "</table>\n",
              "<table class=\"simpletable\">\n",
              "<tr>\n",
              "  <th>Omnibus:</th>       <td> 2.674</td> <th>  Durbin-Watson:     </th> <td>   0.120</td>\n",
              "</tr>\n",
              "<tr>\n",
              "  <th>Prob(Omnibus):</th> <td> 0.263</td> <th>  Jarque-Bera (JB):  </th> <td>   2.531</td>\n",
              "</tr>\n",
              "<tr>\n",
              "  <th>Skew:</th>          <td> 0.183</td> <th>  Prob(JB):          </th> <td>   0.282</td>\n",
              "</tr>\n",
              "<tr>\n",
              "  <th>Kurtosis:</th>      <td> 3.051</td> <th>  Cond. No.          </th> <td>2.32e+06</td>\n",
              "</tr>\n",
              "</table><br/><br/>Warnings:<br/>[1] Standard Errors assume that the covariance matrix of the errors is correctly specified.<br/>[2] The condition number is large, 2.32e+06. This might indicate that there are<br/>strong multicollinearity or other numerical problems."
            ]
          },
          "metadata": {},
          "execution_count": 46
        }
      ]
    },
    {
      "cell_type": "code",
      "source": [
        "plt.scatter(y2, lr_pred, color='lightsteelblue')\n",
        "plt.plot(y2, y2,label='y=x', color='midnightblue')\n",
        "plt.xlabel('observed y2')\n",
        "plt.ylabel('fitted y2')\n",
        "plt.legend()\n",
        "plt.show()"
      ],
      "metadata": {
        "colab": {
          "base_uri": "https://localhost:8080/",
          "height": 279
        },
        "outputId": "d0558da8-2489-4029-b2ae-63a459257c12",
        "id": "5jCNjp1M9Rbs"
      },
      "execution_count": 47,
      "outputs": [
        {
          "output_type": "display_data",
          "data": {
            "text/plain": [
              "<Figure size 432x288 with 1 Axes>"
            ],
            "image/png": "[encoded data removed]"
          },
          "metadata": {
            "needs_background": "light"
          }
        }
      ]
    },
    {
      "cell_type": "code",
      "source": [
        "#rmse\n",
        "from sklearn.metrics import mean_squared_error\n",
        "mse = mean_squared_error(y2, lr_pred)\n",
        "np.sqrt(mse)"
      ],
      "metadata": {
        "colab": {
          "base_uri": "https://localhost:8080/",
          "height": 0
        },
        "outputId": "74ea908a-e553-4f29-c163-5b08dc4b54e4",
        "id": "tAnXkLog9Rbs"
      },
      "execution_count": 48,
      "outputs": [
        {
          "output_type": "execute_result",
          "data": {
            "text/plain": [
              "4.158388662934022"
            ]
          },
          "metadata": {},
          "execution_count": 48
        }
      ]
    },
    {
      "cell_type": "code",
      "source": [
        "#r2 score\n",
        "from sklearn.metrics import r2_score\n",
        "r2_score(y2, lr_pred)"
      ],
      "metadata": {
        "colab": {
          "base_uri": "https://localhost:8080/",
          "height": 0
        },
        "outputId": "198fcdbb-9e43-460b-a0f2-9f76f2ea320c",
        "id": "L57SdyLd9Rbt"
      },
      "execution_count": 49,
      "outputs": [
        {
          "output_type": "execute_result",
          "data": {
            "text/plain": [
              "0.9478339903497944"
            ]
          },
          "metadata": {},
          "execution_count": 49
        }
      ]
    },
    {
      "cell_type": "markdown",
      "source": [
        "### 상관계수 낮은 데이터 제외 MLR"
      ],
      "metadata": {
        "id": "0FHhQSM89Rbu"
      }
    },
    {
      "cell_type": "code",
      "source": [
        "X_m = mydata[['골재및석재', '건설직종 평균임금현황', '경유', '전력', 'KOSPI', '환율 (원/미국달러)','주택매매가격지수']]"
      ],
      "metadata": {
        "id": "80nfOV9F9Rbu"
      },
      "execution_count": 50,
      "outputs": []
    },
    {
      "cell_type": "code",
      "source": [
        "from sklearn.linear_model import LinearRegression\n",
        "lr_reg = LinearRegression()\n",
        "lr_reg.fit(X_m,y2)\n",
        "lr_pred = lr_reg.predict(X_m)"
      ],
      "metadata": {
        "id": "DKfVwE_j9Rbu"
      },
      "execution_count": 51,
      "outputs": []
    },
    {
      "cell_type": "code",
      "source": [
        "import statsmodels.api as sm\n",
        "X = sm.add_constant(X_m)\n",
        "model = sm.OLS(y2,X).fit()\n",
        "model.summary()"
      ],
      "metadata": {
        "colab": {
          "base_uri": "https://localhost:8080/",
          "height": 648
        },
        "outputId": "fe5c5b39-2b25-460f-d4c3-faebcbdc89d7",
        "id": "-_h5JLiq9Rbv"
      },
      "execution_count": 52,
      "outputs": [
        {
          "output_type": "stream",
          "name": "stderr",
          "text": [
            "/usr/local/lib/python3.7/dist-packages/statsmodels/tsa/tsatools.py:117: FutureWarning: In a future version of pandas all arguments of concat except for the argument 'objs' will be keyword-only\n",
            "  x = pd.concat(x[::order], 1)\n"
          ]
        },
        {
          "output_type": "execute_result",
          "data": {
            "text/plain": [
              "<class 'statsmodels.iolib.summary.Summary'>\n",
              "\"\"\"\n",
              "                            OLS Regression Results                            \n",
              "==============================================================================\n",
              "Dep. Variable:                    레미콘   R-squared:                       0.947\n",
              "Model:                            OLS   Adj. R-squared:                  0.946\n",
              "Method:                 Least Squares   F-statistic:                     1122.\n",
              "Date:                Fri, 03 Jun 2022   Prob (F-statistic):          4.04e-275\n",
              "Time:                        05:51:31   Log-Likelihood:                -1271.3\n",
              "No. Observations:                 446   AIC:                             2559.\n",
              "Df Residuals:                     438   BIC:                             2591.\n",
              "Df Model:                           7                                         \n",
              "Covariance Type:            nonrobust                                         \n",
              "===============================================================================\n",
              "                  coef    std err          t      P>|t|      [0.025      0.975]\n",
              "-------------------------------------------------------------------------------\n",
              "const           8.4214      3.108      2.709      0.007       2.313      14.530\n",
              "골재및석재           0.4171      0.033     12.689      0.000       0.352       0.482\n",
              "건설직종 평균임금현황    -0.0001   2.12e-05     -6.118      0.000      -0.000   -8.82e-05\n",
              "경유             -0.0201      0.009     -2.337      0.020      -0.037      -0.003\n",
              "전력              0.1083      0.040      2.684      0.008       0.029       0.188\n",
              "KOSPI          -0.0097      0.001     -9.027      0.000      -0.012      -0.008\n",
              "환율 (원/미국달러)     0.0104      0.002      6.141      0.000       0.007       0.014\n",
              "주택매매가격지수        0.8960      0.061     14.573      0.000       0.775       1.017\n",
              "==============================================================================\n",
              "Omnibus:                        1.627   Durbin-Watson:                   0.121\n",
              "Prob(Omnibus):                  0.443   Jarque-Bera (JB):                1.676\n",
              "Skew:                           0.144   Prob(JB):                        0.433\n",
              "Kurtosis:                       2.916   Cond. No.                     1.82e+06\n",
              "==============================================================================\n",
              "\n",
              "Warnings:\n",
              "[1] Standard Errors assume that the covariance matrix of the errors is correctly specified.\n",
              "[2] The condition number is large, 1.82e+06. This might indicate that there are\n",
              "strong multicollinearity or other numerical problems.\n",
              "\"\"\""
            ],
            "text/html": [
              "<table class=\"simpletable\">\n",
              "<caption>OLS Regression Results</caption>\n",
              "<tr>\n",
              "  <th>Dep. Variable:</th>           <td>레미콘</td>       <th>  R-squared:         </th> <td>   0.947</td> \n",
              "</tr>\n",
              "<tr>\n",
              "  <th>Model:</th>                   <td>OLS</td>       <th>  Adj. R-squared:    </th> <td>   0.946</td> \n",
              "</tr>\n",
              "<tr>\n",
              "  <th>Method:</th>             <td>Least Squares</td>  <th>  F-statistic:       </th> <td>   1122.</td> \n",
              "</tr>\n",
              "<tr>\n",
              "  <th>Date:</th>             <td>Fri, 03 Jun 2022</td> <th>  Prob (F-statistic):</th> <td>4.04e-275</td>\n",
              "</tr>\n",
              "<tr>\n",
              "  <th>Time:</th>                 <td>05:51:31</td>     <th>  Log-Likelihood:    </th> <td> -1271.3</td> \n",
              "</tr>\n",
              "<tr>\n",
              "  <th>No. Observations:</th>      <td>   446</td>      <th>  AIC:               </th> <td>   2559.</td> \n",
              "</tr>\n",
              "<tr>\n",
              "  <th>Df Residuals:</th>          <td>   438</td>      <th>  BIC:               </th> <td>   2591.</td> \n",
              "</tr>\n",
              "<tr>\n",
              "  <th>Df Model:</th>              <td>     7</td>      <th>                     </th>     <td> </td>    \n",
              "</tr>\n",
              "<tr>\n",
              "  <th>Covariance Type:</th>      <td>nonrobust</td>    <th>                     </th>     <td> </td>    \n",
              "</tr>\n",
              "</table>\n",
              "<table class=\"simpletable\">\n",
              "<tr>\n",
              "       <td></td>          <th>coef</th>     <th>std err</th>      <th>t</th>      <th>P>|t|</th>  <th>[0.025</th>    <th>0.975]</th>  \n",
              "</tr>\n",
              "<tr>\n",
              "  <th>const</th>       <td>    8.4214</td> <td>    3.108</td> <td>    2.709</td> <td> 0.007</td> <td>    2.313</td> <td>   14.530</td>\n",
              "</tr>\n",
              "<tr>\n",
              "  <th>골재및석재</th>       <td>    0.4171</td> <td>    0.033</td> <td>   12.689</td> <td> 0.000</td> <td>    0.352</td> <td>    0.482</td>\n",
              "</tr>\n",
              "<tr>\n",
              "  <th>건설직종 평균임금현황</th> <td>   -0.0001</td> <td> 2.12e-05</td> <td>   -6.118</td> <td> 0.000</td> <td>   -0.000</td> <td>-8.82e-05</td>\n",
              "</tr>\n",
              "<tr>\n",
              "  <th>경유</th>          <td>   -0.0201</td> <td>    0.009</td> <td>   -2.337</td> <td> 0.020</td> <td>   -0.037</td> <td>   -0.003</td>\n",
              "</tr>\n",
              "<tr>\n",
              "  <th>전력</th>          <td>    0.1083</td> <td>    0.040</td> <td>    2.684</td> <td> 0.008</td> <td>    0.029</td> <td>    0.188</td>\n",
              "</tr>\n",
              "<tr>\n",
              "  <th>KOSPI</th>       <td>   -0.0097</td> <td>    0.001</td> <td>   -9.027</td> <td> 0.000</td> <td>   -0.012</td> <td>   -0.008</td>\n",
              "</tr>\n",
              "<tr>\n",
              "  <th>환율 (원/미국달러)</th> <td>    0.0104</td> <td>    0.002</td> <td>    6.141</td> <td> 0.000</td> <td>    0.007</td> <td>    0.014</td>\n",
              "</tr>\n",
              "<tr>\n",
              "  <th>주택매매가격지수</th>    <td>    0.8960</td> <td>    0.061</td> <td>   14.573</td> <td> 0.000</td> <td>    0.775</td> <td>    1.017</td>\n",
              "</tr>\n",
              "</table>\n",
              "<table class=\"simpletable\">\n",
              "<tr>\n",
              "  <th>Omnibus:</th>       <td> 1.627</td> <th>  Durbin-Watson:     </th> <td>   0.121</td>\n",
              "</tr>\n",
              "<tr>\n",
              "  <th>Prob(Omnibus):</th> <td> 0.443</td> <th>  Jarque-Bera (JB):  </th> <td>   1.676</td>\n",
              "</tr>\n",
              "<tr>\n",
              "  <th>Skew:</th>          <td> 0.144</td> <th>  Prob(JB):          </th> <td>   0.433</td>\n",
              "</tr>\n",
              "<tr>\n",
              "  <th>Kurtosis:</th>      <td> 2.916</td> <th>  Cond. No.          </th> <td>1.82e+06</td>\n",
              "</tr>\n",
              "</table><br/><br/>Warnings:<br/>[1] Standard Errors assume that the covariance matrix of the errors is correctly specified.<br/>[2] The condition number is large, 1.82e+06. This might indicate that there are<br/>strong multicollinearity or other numerical problems."
            ]
          },
          "metadata": {},
          "execution_count": 52
        }
      ]
    },
    {
      "cell_type": "code",
      "source": [
        "plt.scatter(y2, lr_pred, color='lightsteelblue')\n",
        "plt.plot(y2, y2,label='y=x', color='midnightblue')\n",
        "plt.xlabel('observed y2')\n",
        "plt.ylabel('fitted y2')\n",
        "plt.legend()\n",
        "plt.show()"
      ],
      "metadata": {
        "colab": {
          "base_uri": "https://localhost:8080/",
          "height": 279
        },
        "outputId": "8e8768ee-5d46-49fe-eb8c-3cf04ba71662",
        "id": "kwvADAev9Rbv"
      },
      "execution_count": 53,
      "outputs": [
        {
          "output_type": "display_data",
          "data": {
            "text/plain": [
              "<Figure size 432x288 with 1 Axes>"
            ],
            "image/png": "[encoded data removed]"
          },
          "metadata": {
            "needs_background": "light"
          }
        }
      ]
    },
    {
      "cell_type": "code",
      "source": [
        "#rmse\n",
        "from sklearn.metrics import mean_squared_error\n",
        "mse = mean_squared_error(y2, lr_pred)\n",
        "np.sqrt(mse)"
      ],
      "metadata": {
        "colab": {
          "base_uri": "https://localhost:8080/",
          "height": 0
        },
        "outputId": "c4bacc66-89e0-4334-b58b-d4df40f290f0",
        "id": "sFfqwFJc9Rbv"
      },
      "execution_count": 54,
      "outputs": [
        {
          "output_type": "execute_result",
          "data": {
            "text/plain": [
              "4.18512431056359"
            ]
          },
          "metadata": {},
          "execution_count": 54
        }
      ]
    },
    {
      "cell_type": "code",
      "source": [
        "#r2 score\n",
        "from sklearn.metrics import r2_score\n",
        "r2_score(y2, lr_pred)"
      ],
      "metadata": {
        "colab": {
          "base_uri": "https://localhost:8080/",
          "height": 0
        },
        "outputId": "bd11d2b7-f871-4339-cd47-545ae065474a",
        "id": "PuD4QTzJ9Rbw"
      },
      "execution_count": 55,
      "outputs": [
        {
          "output_type": "execute_result",
          "data": {
            "text/plain": [
              "0.9471610491543028"
            ]
          },
          "metadata": {},
          "execution_count": 55
        }
      ]
    },
    {
      "cell_type": "markdown",
      "source": [
        "###상관계수 낮은 데이터 제외 엘라스틱 넷"
      ],
      "metadata": {
        "id": "vUMKmJKY9Rbw"
      }
    },
    {
      "cell_type": "code",
      "source": [
        "from sklearn.linear_model import ElasticNet\n",
        "en_reg = ElasticNet(alpha=0.0005, l1_ratio=.9, random_state=3)\n",
        "en_reg.fit(X_m, y2)\n",
        "en_pred = en_reg.predict(X_m)"
      ],
      "metadata": {
        "id": "AhgVuqXD9Rbw"
      },
      "execution_count": 56,
      "outputs": []
    },
    {
      "cell_type": "code",
      "source": [
        "#rmse\n",
        "from sklearn.metrics import mean_squared_error\n",
        "mse = mean_squared_error(y2, en_pred)\n",
        "np.sqrt(mse)"
      ],
      "metadata": {
        "colab": {
          "base_uri": "https://localhost:8080/",
          "height": 0
        },
        "outputId": "649f159a-b190-4312-e6f1-c457430ed092",
        "id": "rYr8Q6BP9Rbx"
      },
      "execution_count": 57,
      "outputs": [
        {
          "output_type": "execute_result",
          "data": {
            "text/plain": [
              "4.18512431545205"
            ]
          },
          "metadata": {},
          "execution_count": 57
        }
      ]
    },
    {
      "cell_type": "code",
      "source": [
        "#r2 score\n",
        "from sklearn.metrics import r2_score\n",
        "r2_score(y2, en_pred) #큰 차이 없음"
      ],
      "metadata": {
        "colab": {
          "base_uri": "https://localhost:8080/",
          "height": 0
        },
        "outputId": "c7c8318e-f0ed-46c8-af5a-c4107e7f988d",
        "id": "Zc0DRdQK9Rbx"
      },
      "execution_count": 58,
      "outputs": [
        {
          "output_type": "execute_result",
          "data": {
            "text/plain": [
              "0.947161049030865"
            ]
          },
          "metadata": {},
          "execution_count": 58
        }
      ]
    },
    {
      "cell_type": "markdown",
      "source": [
        "### 직접경제지표 Multiple Linear Regression"
      ],
      "metadata": {
        "id": "8kzdEiWG9Rbx"
      }
    },
    {
      "cell_type": "code",
      "source": [
        "X_dir = mydata[['골재및석재', '건설직종 평균임금현황', '경유', '전력']]"
      ],
      "metadata": {
        "id": "F3iD1EO99Rby"
      },
      "execution_count": 59,
      "outputs": []
    },
    {
      "cell_type": "code",
      "source": [
        "from sklearn.linear_model import LinearRegression\n",
        "lr_reg = LinearRegression()\n",
        "lr_reg.fit(X_dir,y2)\n",
        "lr_pred2 = lr_reg.predict(X_dir)"
      ],
      "metadata": {
        "id": "0VY1LGwf9Rby"
      },
      "execution_count": 60,
      "outputs": []
    },
    {
      "cell_type": "code",
      "source": [
        "import statsmodels.api as sm\n",
        "X = sm.add_constant(X_dir)\n",
        "model = sm.OLS(y2,X).fit()\n",
        "model.summary()"
      ],
      "metadata": {
        "colab": {
          "base_uri": "https://localhost:8080/",
          "height": 587
        },
        "outputId": "e8c14de7-b6bf-4ae0-f283-41f8386cc75e",
        "id": "Gjjyq_sn9Rby"
      },
      "execution_count": 61,
      "outputs": [
        {
          "output_type": "stream",
          "name": "stderr",
          "text": [
            "/usr/local/lib/python3.7/dist-packages/statsmodels/tsa/tsatools.py:117: FutureWarning: In a future version of pandas all arguments of concat except for the argument 'objs' will be keyword-only\n",
            "  x = pd.concat(x[::order], 1)\n"
          ]
        },
        {
          "output_type": "execute_result",
          "data": {
            "text/plain": [
              "<class 'statsmodels.iolib.summary.Summary'>\n",
              "\"\"\"\n",
              "                            OLS Regression Results                            \n",
              "==============================================================================\n",
              "Dep. Variable:                    레미콘   R-squared:                       0.905\n",
              "Model:                            OLS   Adj. R-squared:                  0.904\n",
              "Method:                 Least Squares   F-statistic:                     1049.\n",
              "Date:                Fri, 03 Jun 2022   Prob (F-statistic):          1.05e-223\n",
              "Time:                        05:51:32   Log-Likelihood:                -1402.4\n",
              "No. Observations:                 446   AIC:                             2815.\n",
              "Df Residuals:                     441   BIC:                             2835.\n",
              "Df Model:                           4                                         \n",
              "Covariance Type:            nonrobust                                         \n",
              "===============================================================================\n",
              "                  coef    std err          t      P>|t|      [0.025      0.975]\n",
              "-------------------------------------------------------------------------------\n",
              "const          45.0864      2.110     21.373      0.000      40.940      49.232\n",
              "골재및석재           0.5291      0.039     13.712      0.000       0.453       0.605\n",
              "건설직종 평균임금현황 -6.117e-06   2.17e-05     -0.281      0.778   -4.88e-05    3.66e-05\n",
              "경유              0.0317      0.008      3.849      0.000       0.016       0.048\n",
              "전력             -0.0730      0.046     -1.584      0.114      -0.164       0.018\n",
              "==============================================================================\n",
              "Omnibus:                       38.133   Durbin-Watson:                   0.047\n",
              "Prob(Omnibus):                  0.000   Jarque-Bera (JB):               17.281\n",
              "Skew:                           0.278   Prob(JB):                     0.000177\n",
              "Kurtosis:                       2.212   Cond. No.                     9.25e+05\n",
              "==============================================================================\n",
              "\n",
              "Warnings:\n",
              "[1] Standard Errors assume that the covariance matrix of the errors is correctly specified.\n",
              "[2] The condition number is large, 9.25e+05. This might indicate that there are\n",
              "strong multicollinearity or other numerical problems.\n",
              "\"\"\""
            ],
            "text/html": [
              "<table class=\"simpletable\">\n",
              "<caption>OLS Regression Results</caption>\n",
              "<tr>\n",
              "  <th>Dep. Variable:</th>           <td>레미콘</td>       <th>  R-squared:         </th> <td>   0.905</td> \n",
              "</tr>\n",
              "<tr>\n",
              "  <th>Model:</th>                   <td>OLS</td>       <th>  Adj. R-squared:    </th> <td>   0.904</td> \n",
              "</tr>\n",
              "<tr>\n",
              "  <th>Method:</th>             <td>Least Squares</td>  <th>  F-statistic:       </th> <td>   1049.</td> \n",
              "</tr>\n",
              "<tr>\n",
              "  <th>Date:</th>             <td>Fri, 03 Jun 2022</td> <th>  Prob (F-statistic):</th> <td>1.05e-223</td>\n",
              "</tr>\n",
              "<tr>\n",
              "  <th>Time:</th>                 <td>05:51:32</td>     <th>  Log-Likelihood:    </th> <td> -1402.4</td> \n",
              "</tr>\n",
              "<tr>\n",
              "  <th>No. Observations:</th>      <td>   446</td>      <th>  AIC:               </th> <td>   2815.</td> \n",
              "</tr>\n",
              "<tr>\n",
              "  <th>Df Residuals:</th>          <td>   441</td>      <th>  BIC:               </th> <td>   2835.</td> \n",
              "</tr>\n",
              "<tr>\n",
              "  <th>Df Model:</th>              <td>     4</td>      <th>                     </th>     <td> </td>    \n",
              "</tr>\n",
              "<tr>\n",
              "  <th>Covariance Type:</th>      <td>nonrobust</td>    <th>                     </th>     <td> </td>    \n",
              "</tr>\n",
              "</table>\n",
              "<table class=\"simpletable\">\n",
              "<tr>\n",
              "       <td></td>          <th>coef</th>     <th>std err</th>      <th>t</th>      <th>P>|t|</th>  <th>[0.025</th>    <th>0.975]</th>  \n",
              "</tr>\n",
              "<tr>\n",
              "  <th>const</th>       <td>   45.0864</td> <td>    2.110</td> <td>   21.373</td> <td> 0.000</td> <td>   40.940</td> <td>   49.232</td>\n",
              "</tr>\n",
              "<tr>\n",
              "  <th>골재및석재</th>       <td>    0.5291</td> <td>    0.039</td> <td>   13.712</td> <td> 0.000</td> <td>    0.453</td> <td>    0.605</td>\n",
              "</tr>\n",
              "<tr>\n",
              "  <th>건설직종 평균임금현황</th> <td>-6.117e-06</td> <td> 2.17e-05</td> <td>   -0.281</td> <td> 0.778</td> <td>-4.88e-05</td> <td> 3.66e-05</td>\n",
              "</tr>\n",
              "<tr>\n",
              "  <th>경유</th>          <td>    0.0317</td> <td>    0.008</td> <td>    3.849</td> <td> 0.000</td> <td>    0.016</td> <td>    0.048</td>\n",
              "</tr>\n",
              "<tr>\n",
              "  <th>전력</th>          <td>   -0.0730</td> <td>    0.046</td> <td>   -1.584</td> <td> 0.114</td> <td>   -0.164</td> <td>    0.018</td>\n",
              "</tr>\n",
              "</table>\n",
              "<table class=\"simpletable\">\n",
              "<tr>\n",
              "  <th>Omnibus:</th>       <td>38.133</td> <th>  Durbin-Watson:     </th> <td>   0.047</td>\n",
              "</tr>\n",
              "<tr>\n",
              "  <th>Prob(Omnibus):</th> <td> 0.000</td> <th>  Jarque-Bera (JB):  </th> <td>  17.281</td>\n",
              "</tr>\n",
              "<tr>\n",
              "  <th>Skew:</th>          <td> 0.278</td> <th>  Prob(JB):          </th> <td>0.000177</td>\n",
              "</tr>\n",
              "<tr>\n",
              "  <th>Kurtosis:</th>      <td> 2.212</td> <th>  Cond. No.          </th> <td>9.25e+05</td>\n",
              "</tr>\n",
              "</table><br/><br/>Warnings:<br/>[1] Standard Errors assume that the covariance matrix of the errors is correctly specified.<br/>[2] The condition number is large, 9.25e+05. This might indicate that there are<br/>strong multicollinearity or other numerical problems."
            ]
          },
          "metadata": {},
          "execution_count": 61
        }
      ]
    },
    {
      "cell_type": "code",
      "source": [
        "plt.scatter(y2, lr_pred2, color='lightsteelblue')\n",
        "plt.plot(y2, y2,label='y=x', color='midnightblue')\n",
        "plt.xlabel('observed y2')\n",
        "plt.ylabel('fitted y2')\n",
        "plt.legend()\n",
        "plt.show()"
      ],
      "metadata": {
        "colab": {
          "base_uri": "https://localhost:8080/",
          "height": 279
        },
        "outputId": "1e07315f-7f16-47c2-b111-c8496e82742f",
        "id": "E3VrgrV29Rbz"
      },
      "execution_count": 62,
      "outputs": [
        {
          "output_type": "display_data",
          "data": {
            "text/plain": [
              "<Figure size 432x288 with 1 Axes>"
            ],
            "image/png": "[encoded data removed]"
          },
          "metadata": {
            "needs_background": "light"
          }
        }
      ]
    },
    {
      "cell_type": "code",
      "source": [
        "#rmse\n",
        "from sklearn.metrics import mean_squared_error\n",
        "mse = mean_squared_error(y2, lr_pred2)\n",
        "np.sqrt(mse)"
      ],
      "metadata": {
        "colab": {
          "base_uri": "https://localhost:8080/",
          "height": 0
        },
        "outputId": "be470729-aa4d-4717-cd3c-59241c17fc90",
        "id": "X1Kbw-2G9Rbz"
      },
      "execution_count": 63,
      "outputs": [
        {
          "output_type": "execute_result",
          "data": {
            "text/plain": [
              "5.61558105515297"
            ]
          },
          "metadata": {},
          "execution_count": 63
        }
      ]
    },
    {
      "cell_type": "code",
      "source": [
        "#r2 score\n",
        "from sklearn.metrics import r2_score\n",
        "r2_score(y2, lr_pred2)"
      ],
      "metadata": {
        "colab": {
          "base_uri": "https://localhost:8080/",
          "height": 0
        },
        "outputId": "bd632cfa-729f-4844-e2c4-54a52979b67d",
        "id": "yMZDIm3E9Rbz"
      },
      "execution_count": 64,
      "outputs": [
        {
          "output_type": "execute_result",
          "data": {
            "text/plain": [
              "0.9048679486653836"
            ]
          },
          "metadata": {},
          "execution_count": 64
        }
      ]
    },
    {
      "cell_type": "markdown",
      "source": [
        "### 간접경제지표 Multiple Linear Regression"
      ],
      "metadata": {
        "id": "-920K-mQ9Rb0"
      }
    },
    {
      "cell_type": "code",
      "source": [
        "X_ind = mydata[[ 'KOSPI', '환율 (원/미국달러)','주택매매가격지수','시장금리']]"
      ],
      "metadata": {
        "id": "4IZm4p1C9Rb0"
      },
      "execution_count": 65,
      "outputs": []
    },
    {
      "cell_type": "code",
      "source": [
        "from sklearn.linear_model import LinearRegression\n",
        "lr_reg = LinearRegression()\n",
        "lr_reg.fit(X_ind,y2)\n",
        "lr_pred3 = lr_reg.predict(X_ind)"
      ],
      "metadata": {
        "id": "VSGa4Ex89Rb0"
      },
      "execution_count": 66,
      "outputs": []
    },
    {
      "cell_type": "code",
      "source": [
        "import statsmodels.api as sm\n",
        "X = sm.add_constant(X_ind)\n",
        "model = sm.OLS(y2,X).fit()\n",
        "model.summary()"
      ],
      "metadata": {
        "colab": {
          "base_uri": "https://localhost:8080/",
          "height": 587
        },
        "outputId": "975a302f-f1e6-495e-9e80-1fc65349a6f2",
        "id": "PaEefLmt9Rb0"
      },
      "execution_count": 67,
      "outputs": [
        {
          "output_type": "stream",
          "name": "stderr",
          "text": [
            "/usr/local/lib/python3.7/dist-packages/statsmodels/tsa/tsatools.py:117: FutureWarning: In a future version of pandas all arguments of concat except for the argument 'objs' will be keyword-only\n",
            "  x = pd.concat(x[::order], 1)\n"
          ]
        },
        {
          "output_type": "execute_result",
          "data": {
            "text/plain": [
              "<class 'statsmodels.iolib.summary.Summary'>\n",
              "\"\"\"\n",
              "                            OLS Regression Results                            \n",
              "==============================================================================\n",
              "Dep. Variable:                    레미콘   R-squared:                       0.921\n",
              "Model:                            OLS   Adj. R-squared:                  0.921\n",
              "Method:                 Least Squares   F-statistic:                     1289.\n",
              "Date:                Fri, 03 Jun 2022   Prob (F-statistic):          9.15e-242\n",
              "Time:                        05:51:32   Log-Likelihood:                -1360.4\n",
              "No. Observations:                 446   AIC:                             2731.\n",
              "Df Residuals:                     441   BIC:                             2751.\n",
              "Df Model:                           4                                         \n",
              "Covariance Type:            nonrobust                                         \n",
              "===============================================================================\n",
              "                  coef    std err          t      P>|t|      [0.025      0.975]\n",
              "-------------------------------------------------------------------------------\n",
              "const          15.8116      2.862      5.524      0.000      10.186      21.437\n",
              "KOSPI          -0.0084      0.001     -7.184      0.000      -0.011      -0.006\n",
              "환율 (원/미국달러)     0.0104      0.002      5.655      0.000       0.007       0.014\n",
              "주택매매가격지수        1.1528      0.051     22.589      0.000       1.052       1.253\n",
              "시장금리           -0.3844      0.107     -3.609      0.000      -0.594      -0.175\n",
              "==============================================================================\n",
              "Omnibus:                        0.368   Durbin-Watson:                   0.069\n",
              "Prob(Omnibus):                  0.832   Jarque-Bera (JB):                0.336\n",
              "Skew:                          -0.067   Prob(JB):                        0.845\n",
              "Kurtosis:                       2.996   Cond. No.                     2.05e+04\n",
              "==============================================================================\n",
              "\n",
              "Warnings:\n",
              "[1] Standard Errors assume that the covariance matrix of the errors is correctly specified.\n",
              "[2] The condition number is large, 2.05e+04. This might indicate that there are\n",
              "strong multicollinearity or other numerical problems.\n",
              "\"\"\""
            ],
            "text/html": [
              "<table class=\"simpletable\">\n",
              "<caption>OLS Regression Results</caption>\n",
              "<tr>\n",
              "  <th>Dep. Variable:</th>           <td>레미콘</td>       <th>  R-squared:         </th> <td>   0.921</td> \n",
              "</tr>\n",
              "<tr>\n",
              "  <th>Model:</th>                   <td>OLS</td>       <th>  Adj. R-squared:    </th> <td>   0.921</td> \n",
              "</tr>\n",
              "<tr>\n",
              "  <th>Method:</th>             <td>Least Squares</td>  <th>  F-statistic:       </th> <td>   1289.</td> \n",
              "</tr>\n",
              "<tr>\n",
              "  <th>Date:</th>             <td>Fri, 03 Jun 2022</td> <th>  Prob (F-statistic):</th> <td>9.15e-242</td>\n",
              "</tr>\n",
              "<tr>\n",
              "  <th>Time:</th>                 <td>05:51:32</td>     <th>  Log-Likelihood:    </th> <td> -1360.4</td> \n",
              "</tr>\n",
              "<tr>\n",
              "  <th>No. Observations:</th>      <td>   446</td>      <th>  AIC:               </th> <td>   2731.</td> \n",
              "</tr>\n",
              "<tr>\n",
              "  <th>Df Residuals:</th>          <td>   441</td>      <th>  BIC:               </th> <td>   2751.</td> \n",
              "</tr>\n",
              "<tr>\n",
              "  <th>Df Model:</th>              <td>     4</td>      <th>                     </th>     <td> </td>    \n",
              "</tr>\n",
              "<tr>\n",
              "  <th>Covariance Type:</th>      <td>nonrobust</td>    <th>                     </th>     <td> </td>    \n",
              "</tr>\n",
              "</table>\n",
              "<table class=\"simpletable\">\n",
              "<tr>\n",
              "       <td></td>          <th>coef</th>     <th>std err</th>      <th>t</th>      <th>P>|t|</th>  <th>[0.025</th>    <th>0.975]</th>  \n",
              "</tr>\n",
              "<tr>\n",
              "  <th>const</th>       <td>   15.8116</td> <td>    2.862</td> <td>    5.524</td> <td> 0.000</td> <td>   10.186</td> <td>   21.437</td>\n",
              "</tr>\n",
              "<tr>\n",
              "  <th>KOSPI</th>       <td>   -0.0084</td> <td>    0.001</td> <td>   -7.184</td> <td> 0.000</td> <td>   -0.011</td> <td>   -0.006</td>\n",
              "</tr>\n",
              "<tr>\n",
              "  <th>환율 (원/미국달러)</th> <td>    0.0104</td> <td>    0.002</td> <td>    5.655</td> <td> 0.000</td> <td>    0.007</td> <td>    0.014</td>\n",
              "</tr>\n",
              "<tr>\n",
              "  <th>주택매매가격지수</th>    <td>    1.1528</td> <td>    0.051</td> <td>   22.589</td> <td> 0.000</td> <td>    1.052</td> <td>    1.253</td>\n",
              "</tr>\n",
              "<tr>\n",
              "  <th>시장금리</th>        <td>   -0.3844</td> <td>    0.107</td> <td>   -3.609</td> <td> 0.000</td> <td>   -0.594</td> <td>   -0.175</td>\n",
              "</tr>\n",
              "</table>\n",
              "<table class=\"simpletable\">\n",
              "<tr>\n",
              "  <th>Omnibus:</th>       <td> 0.368</td> <th>  Durbin-Watson:     </th> <td>   0.069</td>\n",
              "</tr>\n",
              "<tr>\n",
              "  <th>Prob(Omnibus):</th> <td> 0.832</td> <th>  Jarque-Bera (JB):  </th> <td>   0.336</td>\n",
              "</tr>\n",
              "<tr>\n",
              "  <th>Skew:</th>          <td>-0.067</td> <th>  Prob(JB):          </th> <td>   0.845</td>\n",
              "</tr>\n",
              "<tr>\n",
              "  <th>Kurtosis:</th>      <td> 2.996</td> <th>  Cond. No.          </th> <td>2.05e+04</td>\n",
              "</tr>\n",
              "</table><br/><br/>Warnings:<br/>[1] Standard Errors assume that the covariance matrix of the errors is correctly specified.<br/>[2] The condition number is large, 2.05e+04. This might indicate that there are<br/>strong multicollinearity or other numerical problems."
            ]
          },
          "metadata": {},
          "execution_count": 67
        }
      ]
    },
    {
      "cell_type": "code",
      "source": [
        "plt.scatter(y2, lr_pred3, color='lightsteelblue')\n",
        "plt.plot(y2, y2,label='y=x', color='midnightblue')\n",
        "plt.xlabel('observed y2')\n",
        "plt.ylabel('fitted y2')\n",
        "plt.legend()\n",
        "plt.show()"
      ],
      "metadata": {
        "colab": {
          "base_uri": "https://localhost:8080/",
          "height": 279
        },
        "outputId": "0ed64c65-a750-4514-c2d8-22ff5a673297",
        "id": "Q06xW5JJ9Rb1"
      },
      "execution_count": 68,
      "outputs": [
        {
          "output_type": "display_data",
          "data": {
            "text/plain": [
              "<Figure size 432x288 with 1 Axes>"
            ],
            "image/png": "[encoded data removed]"
          },
          "metadata": {
            "needs_background": "light"
          }
        }
      ]
    },
    {
      "cell_type": "code",
      "source": [
        "#rmse\n",
        "from sklearn.metrics import mean_squared_error\n",
        "mse = mean_squared_error(y2, lr_pred3)\n",
        "np.sqrt(mse)"
      ],
      "metadata": {
        "colab": {
          "base_uri": "https://localhost:8080/",
          "height": 0
        },
        "outputId": "e0566909-ccaf-4cf4-e12a-fe6997f1471f",
        "id": "qWaPY9WF9Rb1"
      },
      "execution_count": 69,
      "outputs": [
        {
          "output_type": "execute_result",
          "data": {
            "text/plain": [
              "5.109993115221974"
            ]
          },
          "metadata": {},
          "execution_count": 69
        }
      ]
    },
    {
      "cell_type": "code",
      "source": [
        "#r2 score\n",
        "from sklearn.metrics import r2_score\n",
        "r2_score(y2, lr_pred3)"
      ],
      "metadata": {
        "colab": {
          "base_uri": "https://localhost:8080/",
          "height": 0
        },
        "outputId": "b3538d14-9167-4ea3-cc93-832e921d4d38",
        "id": "LPvTylx79Rb2"
      },
      "execution_count": 70,
      "outputs": [
        {
          "output_type": "execute_result",
          "data": {
            "text/plain": [
              "0.9212268720158733"
            ]
          },
          "metadata": {},
          "execution_count": 70
        }
      ]
    },
    {
      "cell_type": "markdown",
      "source": [
        "### 아파트매매거래수 Simple Linear Regression"
      ],
      "metadata": {
        "id": "ib9fyHkh9Rb4"
      }
    },
    {
      "cell_type": "code",
      "source": [
        "X_apt = mydata['아파트매매거래수'].iloc[252:].values.reshape(-1,1)\n",
        "y2_apt = mydata['레미콘'].iloc[252:].values"
      ],
      "metadata": {
        "id": "23L7lCEa9Rb4"
      },
      "execution_count": 71,
      "outputs": []
    },
    {
      "cell_type": "code",
      "source": [
        "from sklearn.linear_model import LinearRegression\n",
        "lr_reg = LinearRegression()\n",
        "lr_reg.fit(X_apt,y2_apt)\n",
        "lr_pred4 = lr_reg.predict(X_apt)"
      ],
      "metadata": {
        "id": "kjF5wo4W9Rb5"
      },
      "execution_count": 72,
      "outputs": []
    },
    {
      "cell_type": "code",
      "source": [
        "lr_reg.intercept_"
      ],
      "metadata": {
        "colab": {
          "base_uri": "https://localhost:8080/",
          "height": 0
        },
        "outputId": "1dcbf830-5225-436d-a8c4-632d60b85b0f",
        "id": "xFPpsbhc9Rb6"
      },
      "execution_count": 73,
      "outputs": [
        {
          "output_type": "execute_result",
          "data": {
            "text/plain": [
              "89.40917694055778"
            ]
          },
          "metadata": {},
          "execution_count": 73
        }
      ]
    },
    {
      "cell_type": "code",
      "source": [
        "lr_reg.coef_"
      ],
      "metadata": {
        "colab": {
          "base_uri": "https://localhost:8080/",
          "height": 0
        },
        "outputId": "816cff5a-d242-4602-a1f8-faccfc36cb1a",
        "id": "Cp69bJJW9Rb7"
      },
      "execution_count": 74,
      "outputs": [
        {
          "output_type": "execute_result",
          "data": {
            "text/plain": [
              "array([5.27875655e-05])"
            ]
          },
          "metadata": {},
          "execution_count": 74
        }
      ]
    },
    {
      "cell_type": "code",
      "source": [
        "#rmse\n",
        "from sklearn.metrics import mean_squared_error\n",
        "mse = mean_squared_error(y2_apt, lr_pred4)\n",
        "np.sqrt(mse)"
      ],
      "metadata": {
        "colab": {
          "base_uri": "https://localhost:8080/",
          "height": 0
        },
        "outputId": "67a8c9da-5c83-46ff-f799-e22c62cb2a1d",
        "id": "XLtv0gWm9Rb7"
      },
      "execution_count": 75,
      "outputs": [
        {
          "output_type": "execute_result",
          "data": {
            "text/plain": [
              "10.438151418726616"
            ]
          },
          "metadata": {},
          "execution_count": 75
        }
      ]
    },
    {
      "cell_type": "code",
      "source": [
        "#r2 score\n",
        "from sklearn.metrics import r2_score\n",
        "r2_score(y2_apt, lr_pred4)"
      ],
      "metadata": {
        "colab": {
          "base_uri": "https://localhost:8080/",
          "height": 0
        },
        "outputId": "3fe2120c-42c8-494b-bcaf-2bfc4abc6347",
        "id": "2yv9_US69Rb8"
      },
      "execution_count": 76,
      "outputs": [
        {
          "output_type": "execute_result",
          "data": {
            "text/plain": [
              "0.006996239770185486"
            ]
          },
          "metadata": {},
          "execution_count": 76
        }
      ]
    }
  ]
}